{
 "cells": [
  {
   "cell_type": "markdown",
   "id": "924c30fd",
   "metadata": {},
   "source": [
    "# Пятая версия."
   ]
  },
  {
   "cell_type": "markdown",
   "id": "450324d6",
   "metadata": {},
   "source": [
    " - Входные данные, пары: `BTC/USDT, ETH/USDT, BNB/USDT`,\n",
    " - Создание целевой функции по окну усреднения, с определением локальных максимумов и минимумов,\n",
    " - Устранены двойные сделки за один такт, оставлена сделка с наибольшим профитом,\n",
    " - Устранены подряд идущие одинаковые сделки в паре (выбраны сделки с максимумом для продажи и минимумом для покупки)\n",
    " - для целевой функции максимумы и минимумы выставлены в верхние и нижние точки тренда\n",
    " - созданы признаки при помощи MinMaxScaler или StandardScaler на BASE.\n",
    " - добавлен признак DeltaMaxMin - определяющий размах в Scalere,  для различения отмасштабированных Scalerom рядов с разным размахом.\n",
    " - создан загрузчик данных (признаки при обучении подаются последовательно),\n",
    " - созданы две нейросети на свёртках и макспулинг (отличие в размере ядра и паддинга)\n",
    " - при добавлении fee (комиссии сделки) в тесте, кошелёк быстро тает пир большом количестве сделок.\n",
    " - создаются две модели отличающиеся по структуре, также две одинаковые проверки на тестовых данных для сравнения моделей. В дальнейшем оставить модель с лучшими показателями, а с худшими изменить, повторно сравнить, так при каждой итерации подбирать лучшую модель,\n",
    " - первая функция проверки сохраняет статистику в DataFrame для удобства анализа.\n",
    " - для каждой валюты создан словарь, содержащий основные параметры кошелька \n",
    " - создана функция выполнения сделки, с сохранением последней сделки для валюты\n",
    " - создана функция проверки соотнишения валют в кошельке, работает плохо, приводит к блокировке торгов\n",
    " - Если при продаже выбирать только прибыльные сделки для компенсиции fee, то система приближается к какому то уровню кошелька и перестаёт торговать (вероятно сделки идут по продаже одной валюты, количество валюты уменьшается и системе нечем торговать).\n"
   ]
  },
  {
   "cell_type": "markdown",
   "id": "2691e855",
   "metadata": {},
   "source": [
    "## Импорты"
   ]
  },
  {
   "cell_type": "code",
   "execution_count": 1,
   "id": "aee27c47",
   "metadata": {},
   "outputs": [],
   "source": [
    "import pandas as pd\n",
    "import numpy as np\n",
    "import matplotlib.pyplot as plt\n",
    "import plotly.express as px\n",
    "import time\n",
    "from datetime import datetime\n",
    "\n",
    "from tqdm import tqdm\n",
    "\n",
    "from statsmodels.tsa.seasonal import seasonal_decompose\n",
    "\n",
    "from sklearn.preprocessing import StandardScaler, MinMaxScaler\n",
    "from sklearn.model_selection import train_test_split\n",
    "from sklearn.utils import shuffle\n",
    "\n",
    "import phik\n",
    "from phik.report import plot_correlation_matrix\n",
    "from phik import report\n",
    "\n",
    "import seaborn as sns\n",
    "\n",
    "import torch\n",
    "import torchvision\n",
    "import torchvision.transforms as transforms\n",
    "import torch.nn as nn\n",
    "import torch.nn.functional as F\n",
    "import torch.utils.data as data_utils\n",
    "import torch.optim as optim\n",
    "\n",
    "pd.set_option(\"display.max_columns\", None)\n",
    "RANDOM = 1111\n",
    "PERIOD = 120 # Период усреднения при подготовке признаков (360 = 30 минут с периодом 5 сек)\n",
    "FEATURES_LENGHT = 224 # 1440 = 2 часа с периодом 5 сек\n",
    "BATCH_SIZE = 512\n",
    "EPOCH = 500\n",
    "FEE = 0.001"
   ]
  },
  {
   "cell_type": "markdown",
   "id": "819ba178",
   "metadata": {},
   "source": [
    "# Создание признаков"
   ]
  },
  {
   "cell_type": "markdown",
   "id": "65a05235",
   "metadata": {},
   "source": [
    "## Считывание данных из файла"
   ]
  },
  {
   "cell_type": "code",
   "execution_count": 2,
   "id": "938b7685",
   "metadata": {},
   "outputs": [],
   "source": [
    "trend = pd.read_csv('binance_features/BTC_ETH_BNB_train_5.csv', sep=';', names=['BTC/USTD','ETH/USTD','BNB/USTD', 'server_time'])\n",
    "trend['server_time'] = trend['server_time'].apply(lambda x: datetime.utcfromtimestamp(int(str(x)[:10])).strftime('%Y-%m-%d %H:%M:%S'))\n",
    "trend['server_time'] = pd.to_datetime(trend['server_time'])\n",
    "trend = trend.set_index('server_time')\n",
    "trend['numeric_index'] = range(trend.shape[0])"
   ]
  },
  {
   "cell_type": "markdown",
   "id": "76443d7c",
   "metadata": {},
   "source": [
    "## Получение среза по датам"
   ]
  },
  {
   "cell_type": "code",
   "execution_count": 3,
   "id": "a9b782e3",
   "metadata": {},
   "outputs": [],
   "source": [
    "#trend = trend[(trend.index >= datetime(2022, 7, 17)) & (trend.index < datetime(2022, 7, 18))]\n",
    "#trend = trend[47000:51000]"
   ]
  },
  {
   "cell_type": "markdown",
   "id": "92521973",
   "metadata": {},
   "source": [
    "## Создание признаков"
   ]
  },
  {
   "cell_type": "markdown",
   "id": "d4247b32",
   "metadata": {},
   "source": [
    "### 'BTC/BNB', 'BTC/ETH', 'ETH/BNB'"
   ]
  },
  {
   "cell_type": "code",
   "execution_count": 4,
   "id": "ffbe4b1d",
   "metadata": {},
   "outputs": [],
   "source": [
    "trend['BTC/BNB'] = trend['BTC/USTD']/trend['BNB/USTD']\n",
    "trend['BTC/ETH'] = trend['BTC/USTD']/trend['ETH/USTD']\n",
    "trend['ETH/BNB'] = trend['ETH/USTD']/trend['BNB/USTD']"
   ]
  },
  {
   "cell_type": "markdown",
   "id": "2e229e3e",
   "metadata": {},
   "source": [
    "#### delta BASE"
   ]
  },
  {
   "cell_type": "code",
   "execution_count": 5,
   "id": "002ba082",
   "metadata": {},
   "outputs": [],
   "source": [
    "trend['BTC/ETH_delta'] = trend['BTC/ETH'] - trend['BTC/ETH'].shift(1)\n",
    "trend['BTC/BNB_delta'] = trend['BTC/BNB'] - trend['BTC/BNB'].shift(1)\n",
    "trend['ETH/BNB_delta'] = trend['ETH/BNB'] - trend['ETH/BNB'].shift(1)"
   ]
  },
  {
   "cell_type": "markdown",
   "id": "7d265fa4",
   "metadata": {},
   "source": [
    "### ratio"
   ]
  },
  {
   "cell_type": "code",
   "execution_count": 6,
   "id": "9ada5f64",
   "metadata": {},
   "outputs": [],
   "source": [
    "trend['btc_bnb_ratio'] = trend['BTC/BNB']/trend['BTC/BNB'][0]\n",
    "trend['btc_eth_ratio'] = trend['BTC/ETH']/trend['BTC/ETH'][0]\n",
    "trend['eth_bnb_ratio'] = trend['ETH/BNB']/trend['ETH/BNB'][0]"
   ]
  },
  {
   "cell_type": "markdown",
   "id": "58fdd633",
   "metadata": {},
   "source": [
    "### mean\n",
    " Среднее по количеству стобцов PERIOD * 2 + 1"
   ]
  },
  {
   "cell_type": "code",
   "execution_count": 7,
   "id": "a4b52355",
   "metadata": {},
   "outputs": [
    {
     "name": "stderr",
     "output_type": "stream",
     "text": [
      "C:\\Users\\denis\\AppData\\Local\\Temp\\ipykernel_16276\\2594479708.py:4: PerformanceWarning: DataFrame is highly fragmented.  This is usually the result of calling `frame.insert` many times, which has poor performance.  Consider joining all columns at once using pd.concat(axis=1) instead. To get a de-fragmented frame, use `newframe = frame.copy()`\n",
      "  trend[column + '_' + str(period)] = trend[column].shift(period)\n",
      "C:\\Users\\denis\\AppData\\Local\\Temp\\ipykernel_16276\\2594479708.py:4: PerformanceWarning: DataFrame is highly fragmented.  This is usually the result of calling `frame.insert` many times, which has poor performance.  Consider joining all columns at once using pd.concat(axis=1) instead. To get a de-fragmented frame, use `newframe = frame.copy()`\n",
      "  trend[column + '_' + str(period)] = trend[column].shift(period)\n",
      "C:\\Users\\denis\\AppData\\Local\\Temp\\ipykernel_16276\\2594479708.py:4: PerformanceWarning: DataFrame is highly fragmented.  This is usually the result of calling `frame.insert` many times, which has poor performance.  Consider joining all columns at once using pd.concat(axis=1) instead. To get a de-fragmented frame, use `newframe = frame.copy()`\n",
      "  trend[column + '_' + str(period)] = trend[column].shift(period)\n",
      "C:\\Users\\denis\\AppData\\Local\\Temp\\ipykernel_16276\\2594479708.py:4: PerformanceWarning: DataFrame is highly fragmented.  This is usually the result of calling `frame.insert` many times, which has poor performance.  Consider joining all columns at once using pd.concat(axis=1) instead. To get a de-fragmented frame, use `newframe = frame.copy()`\n",
      "  trend[column + '_' + str(period)] = trend[column].shift(period)\n",
      "C:\\Users\\denis\\AppData\\Local\\Temp\\ipykernel_16276\\2594479708.py:4: PerformanceWarning: DataFrame is highly fragmented.  This is usually the result of calling `frame.insert` many times, which has poor performance.  Consider joining all columns at once using pd.concat(axis=1) instead. To get a de-fragmented frame, use `newframe = frame.copy()`\n",
      "  trend[column + '_' + str(period)] = trend[column].shift(period)\n",
      "C:\\Users\\denis\\AppData\\Local\\Temp\\ipykernel_16276\\2594479708.py:4: PerformanceWarning: DataFrame is highly fragmented.  This is usually the result of calling `frame.insert` many times, which has poor performance.  Consider joining all columns at once using pd.concat(axis=1) instead. To get a de-fragmented frame, use `newframe = frame.copy()`\n",
      "  trend[column + '_' + str(period)] = trend[column].shift(period)\n",
      "C:\\Users\\denis\\AppData\\Local\\Temp\\ipykernel_16276\\2594479708.py:4: PerformanceWarning: DataFrame is highly fragmented.  This is usually the result of calling `frame.insert` many times, which has poor performance.  Consider joining all columns at once using pd.concat(axis=1) instead. To get a de-fragmented frame, use `newframe = frame.copy()`\n",
      "  trend[column + '_' + str(period)] = trend[column].shift(period)\n",
      "C:\\Users\\denis\\AppData\\Local\\Temp\\ipykernel_16276\\2594479708.py:4: PerformanceWarning: DataFrame is highly fragmented.  This is usually the result of calling `frame.insert` many times, which has poor performance.  Consider joining all columns at once using pd.concat(axis=1) instead. To get a de-fragmented frame, use `newframe = frame.copy()`\n",
      "  trend[column + '_' + str(period)] = trend[column].shift(period)\n",
      "C:\\Users\\denis\\AppData\\Local\\Temp\\ipykernel_16276\\2594479708.py:4: PerformanceWarning: DataFrame is highly fragmented.  This is usually the result of calling `frame.insert` many times, which has poor performance.  Consider joining all columns at once using pd.concat(axis=1) instead. To get a de-fragmented frame, use `newframe = frame.copy()`\n",
      "  trend[column + '_' + str(period)] = trend[column].shift(period)\n",
      "C:\\Users\\denis\\AppData\\Local\\Temp\\ipykernel_16276\\2594479708.py:4: PerformanceWarning: DataFrame is highly fragmented.  This is usually the result of calling `frame.insert` many times, which has poor performance.  Consider joining all columns at once using pd.concat(axis=1) instead. To get a de-fragmented frame, use `newframe = frame.copy()`\n",
      "  trend[column + '_' + str(period)] = trend[column].shift(period)\n",
      "C:\\Users\\denis\\AppData\\Local\\Temp\\ipykernel_16276\\2594479708.py:4: PerformanceWarning: DataFrame is highly fragmented.  This is usually the result of calling `frame.insert` many times, which has poor performance.  Consider joining all columns at once using pd.concat(axis=1) instead. To get a de-fragmented frame, use `newframe = frame.copy()`\n",
      "  trend[column + '_' + str(period)] = trend[column].shift(period)\n",
      "C:\\Users\\denis\\AppData\\Local\\Temp\\ipykernel_16276\\2594479708.py:4: PerformanceWarning: DataFrame is highly fragmented.  This is usually the result of calling `frame.insert` many times, which has poor performance.  Consider joining all columns at once using pd.concat(axis=1) instead. To get a de-fragmented frame, use `newframe = frame.copy()`\n",
      "  trend[column + '_' + str(period)] = trend[column].shift(period)\n",
      "C:\\Users\\denis\\AppData\\Local\\Temp\\ipykernel_16276\\2594479708.py:4: PerformanceWarning: DataFrame is highly fragmented.  This is usually the result of calling `frame.insert` many times, which has poor performance.  Consider joining all columns at once using pd.concat(axis=1) instead. To get a de-fragmented frame, use `newframe = frame.copy()`\n",
      "  trend[column + '_' + str(period)] = trend[column].shift(period)\n",
      "C:\\Users\\denis\\AppData\\Local\\Temp\\ipykernel_16276\\2594479708.py:4: PerformanceWarning: DataFrame is highly fragmented.  This is usually the result of calling `frame.insert` many times, which has poor performance.  Consider joining all columns at once using pd.concat(axis=1) instead. To get a de-fragmented frame, use `newframe = frame.copy()`\n",
      "  trend[column + '_' + str(period)] = trend[column].shift(period)\n",
      "C:\\Users\\denis\\AppData\\Local\\Temp\\ipykernel_16276\\2594479708.py:4: PerformanceWarning: DataFrame is highly fragmented.  This is usually the result of calling `frame.insert` many times, which has poor performance.  Consider joining all columns at once using pd.concat(axis=1) instead. To get a de-fragmented frame, use `newframe = frame.copy()`\n",
      "  trend[column + '_' + str(period)] = trend[column].shift(period)\n",
      "C:\\Users\\denis\\AppData\\Local\\Temp\\ipykernel_16276\\2594479708.py:4: PerformanceWarning: DataFrame is highly fragmented.  This is usually the result of calling `frame.insert` many times, which has poor performance.  Consider joining all columns at once using pd.concat(axis=1) instead. To get a de-fragmented frame, use `newframe = frame.copy()`\n",
      "  trend[column + '_' + str(period)] = trend[column].shift(period)\n",
      "C:\\Users\\denis\\AppData\\Local\\Temp\\ipykernel_16276\\2594479708.py:4: PerformanceWarning: DataFrame is highly fragmented.  This is usually the result of calling `frame.insert` many times, which has poor performance.  Consider joining all columns at once using pd.concat(axis=1) instead. To get a de-fragmented frame, use `newframe = frame.copy()`\n",
      "  trend[column + '_' + str(period)] = trend[column].shift(period)\n",
      "C:\\Users\\denis\\AppData\\Local\\Temp\\ipykernel_16276\\2594479708.py:4: PerformanceWarning: DataFrame is highly fragmented.  This is usually the result of calling `frame.insert` many times, which has poor performance.  Consider joining all columns at once using pd.concat(axis=1) instead. To get a de-fragmented frame, use `newframe = frame.copy()`\n",
      "  trend[column + '_' + str(period)] = trend[column].shift(period)\n",
      "C:\\Users\\denis\\AppData\\Local\\Temp\\ipykernel_16276\\2594479708.py:4: PerformanceWarning: DataFrame is highly fragmented.  This is usually the result of calling `frame.insert` many times, which has poor performance.  Consider joining all columns at once using pd.concat(axis=1) instead. To get a de-fragmented frame, use `newframe = frame.copy()`\n",
      "  trend[column + '_' + str(period)] = trend[column].shift(period)\n",
      "C:\\Users\\denis\\AppData\\Local\\Temp\\ipykernel_16276\\2594479708.py:4: PerformanceWarning: DataFrame is highly fragmented.  This is usually the result of calling `frame.insert` many times, which has poor performance.  Consider joining all columns at once using pd.concat(axis=1) instead. To get a de-fragmented frame, use `newframe = frame.copy()`\n",
      "  trend[column + '_' + str(period)] = trend[column].shift(period)\n",
      "C:\\Users\\denis\\AppData\\Local\\Temp\\ipykernel_16276\\2594479708.py:4: PerformanceWarning: DataFrame is highly fragmented.  This is usually the result of calling `frame.insert` many times, which has poor performance.  Consider joining all columns at once using pd.concat(axis=1) instead. To get a de-fragmented frame, use `newframe = frame.copy()`\n",
      "  trend[column + '_' + str(period)] = trend[column].shift(period)\n",
      "C:\\Users\\denis\\AppData\\Local\\Temp\\ipykernel_16276\\2594479708.py:4: PerformanceWarning: DataFrame is highly fragmented.  This is usually the result of calling `frame.insert` many times, which has poor performance.  Consider joining all columns at once using pd.concat(axis=1) instead. To get a de-fragmented frame, use `newframe = frame.copy()`\n",
      "  trend[column + '_' + str(period)] = trend[column].shift(period)\n",
      "C:\\Users\\denis\\AppData\\Local\\Temp\\ipykernel_16276\\2594479708.py:4: PerformanceWarning: DataFrame is highly fragmented.  This is usually the result of calling `frame.insert` many times, which has poor performance.  Consider joining all columns at once using pd.concat(axis=1) instead. To get a de-fragmented frame, use `newframe = frame.copy()`\n",
      "  trend[column + '_' + str(period)] = trend[column].shift(period)\n",
      "C:\\Users\\denis\\AppData\\Local\\Temp\\ipykernel_16276\\2594479708.py:4: PerformanceWarning: DataFrame is highly fragmented.  This is usually the result of calling `frame.insert` many times, which has poor performance.  Consider joining all columns at once using pd.concat(axis=1) instead. To get a de-fragmented frame, use `newframe = frame.copy()`\n",
      "  trend[column + '_' + str(period)] = trend[column].shift(period)\n",
      "C:\\Users\\denis\\AppData\\Local\\Temp\\ipykernel_16276\\2594479708.py:4: PerformanceWarning: DataFrame is highly fragmented.  This is usually the result of calling `frame.insert` many times, which has poor performance.  Consider joining all columns at once using pd.concat(axis=1) instead. To get a de-fragmented frame, use `newframe = frame.copy()`\n",
      "  trend[column + '_' + str(period)] = trend[column].shift(period)\n",
      "C:\\Users\\denis\\AppData\\Local\\Temp\\ipykernel_16276\\2594479708.py:4: PerformanceWarning: DataFrame is highly fragmented.  This is usually the result of calling `frame.insert` many times, which has poor performance.  Consider joining all columns at once using pd.concat(axis=1) instead. To get a de-fragmented frame, use `newframe = frame.copy()`\n",
      "  trend[column + '_' + str(period)] = trend[column].shift(period)\n",
      "C:\\Users\\denis\\AppData\\Local\\Temp\\ipykernel_16276\\2594479708.py:4: PerformanceWarning: DataFrame is highly fragmented.  This is usually the result of calling `frame.insert` many times, which has poor performance.  Consider joining all columns at once using pd.concat(axis=1) instead. To get a de-fragmented frame, use `newframe = frame.copy()`\n",
      "  trend[column + '_' + str(period)] = trend[column].shift(period)\n",
      "C:\\Users\\denis\\AppData\\Local\\Temp\\ipykernel_16276\\2594479708.py:4: PerformanceWarning: DataFrame is highly fragmented.  This is usually the result of calling `frame.insert` many times, which has poor performance.  Consider joining all columns at once using pd.concat(axis=1) instead. To get a de-fragmented frame, use `newframe = frame.copy()`\n",
      "  trend[column + '_' + str(period)] = trend[column].shift(period)\n",
      "C:\\Users\\denis\\AppData\\Local\\Temp\\ipykernel_16276\\2594479708.py:4: PerformanceWarning: DataFrame is highly fragmented.  This is usually the result of calling `frame.insert` many times, which has poor performance.  Consider joining all columns at once using pd.concat(axis=1) instead. To get a de-fragmented frame, use `newframe = frame.copy()`\n",
      "  trend[column + '_' + str(period)] = trend[column].shift(period)\n",
      "C:\\Users\\denis\\AppData\\Local\\Temp\\ipykernel_16276\\2594479708.py:4: PerformanceWarning: DataFrame is highly fragmented.  This is usually the result of calling `frame.insert` many times, which has poor performance.  Consider joining all columns at once using pd.concat(axis=1) instead. To get a de-fragmented frame, use `newframe = frame.copy()`\n",
      "  trend[column + '_' + str(period)] = trend[column].shift(period)\n",
      "C:\\Users\\denis\\AppData\\Local\\Temp\\ipykernel_16276\\2594479708.py:4: PerformanceWarning: DataFrame is highly fragmented.  This is usually the result of calling `frame.insert` many times, which has poor performance.  Consider joining all columns at once using pd.concat(axis=1) instead. To get a de-fragmented frame, use `newframe = frame.copy()`\n",
      "  trend[column + '_' + str(period)] = trend[column].shift(period)\n",
      "C:\\Users\\denis\\AppData\\Local\\Temp\\ipykernel_16276\\2594479708.py:4: PerformanceWarning: DataFrame is highly fragmented.  This is usually the result of calling `frame.insert` many times, which has poor performance.  Consider joining all columns at once using pd.concat(axis=1) instead. To get a de-fragmented frame, use `newframe = frame.copy()`\n",
      "  trend[column + '_' + str(period)] = trend[column].shift(period)\n",
      "C:\\Users\\denis\\AppData\\Local\\Temp\\ipykernel_16276\\2594479708.py:4: PerformanceWarning: DataFrame is highly fragmented.  This is usually the result of calling `frame.insert` many times, which has poor performance.  Consider joining all columns at once using pd.concat(axis=1) instead. To get a de-fragmented frame, use `newframe = frame.copy()`\n",
      "  trend[column + '_' + str(period)] = trend[column].shift(period)\n",
      "C:\\Users\\denis\\AppData\\Local\\Temp\\ipykernel_16276\\2594479708.py:4: PerformanceWarning: DataFrame is highly fragmented.  This is usually the result of calling `frame.insert` many times, which has poor performance.  Consider joining all columns at once using pd.concat(axis=1) instead. To get a de-fragmented frame, use `newframe = frame.copy()`\n",
      "  trend[column + '_' + str(period)] = trend[column].shift(period)\n",
      "C:\\Users\\denis\\AppData\\Local\\Temp\\ipykernel_16276\\2594479708.py:4: PerformanceWarning: DataFrame is highly fragmented.  This is usually the result of calling `frame.insert` many times, which has poor performance.  Consider joining all columns at once using pd.concat(axis=1) instead. To get a de-fragmented frame, use `newframe = frame.copy()`\n",
      "  trend[column + '_' + str(period)] = trend[column].shift(period)\n",
      "C:\\Users\\denis\\AppData\\Local\\Temp\\ipykernel_16276\\2594479708.py:4: PerformanceWarning: DataFrame is highly fragmented.  This is usually the result of calling `frame.insert` many times, which has poor performance.  Consider joining all columns at once using pd.concat(axis=1) instead. To get a de-fragmented frame, use `newframe = frame.copy()`\n",
      "  trend[column + '_' + str(period)] = trend[column].shift(period)\n",
      "C:\\Users\\denis\\AppData\\Local\\Temp\\ipykernel_16276\\2594479708.py:4: PerformanceWarning: DataFrame is highly fragmented.  This is usually the result of calling `frame.insert` many times, which has poor performance.  Consider joining all columns at once using pd.concat(axis=1) instead. To get a de-fragmented frame, use `newframe = frame.copy()`\n",
      "  trend[column + '_' + str(period)] = trend[column].shift(period)\n",
      "C:\\Users\\denis\\AppData\\Local\\Temp\\ipykernel_16276\\2594479708.py:4: PerformanceWarning: DataFrame is highly fragmented.  This is usually the result of calling `frame.insert` many times, which has poor performance.  Consider joining all columns at once using pd.concat(axis=1) instead. To get a de-fragmented frame, use `newframe = frame.copy()`\n",
      "  trend[column + '_' + str(period)] = trend[column].shift(period)\n",
      "C:\\Users\\denis\\AppData\\Local\\Temp\\ipykernel_16276\\2594479708.py:4: PerformanceWarning: DataFrame is highly fragmented.  This is usually the result of calling `frame.insert` many times, which has poor performance.  Consider joining all columns at once using pd.concat(axis=1) instead. To get a de-fragmented frame, use `newframe = frame.copy()`\n",
      "  trend[column + '_' + str(period)] = trend[column].shift(period)\n",
      "C:\\Users\\denis\\AppData\\Local\\Temp\\ipykernel_16276\\2594479708.py:4: PerformanceWarning: DataFrame is highly fragmented.  This is usually the result of calling `frame.insert` many times, which has poor performance.  Consider joining all columns at once using pd.concat(axis=1) instead. To get a de-fragmented frame, use `newframe = frame.copy()`\n",
      "  trend[column + '_' + str(period)] = trend[column].shift(period)\n",
      "C:\\Users\\denis\\AppData\\Local\\Temp\\ipykernel_16276\\2594479708.py:4: PerformanceWarning: DataFrame is highly fragmented.  This is usually the result of calling `frame.insert` many times, which has poor performance.  Consider joining all columns at once using pd.concat(axis=1) instead. To get a de-fragmented frame, use `newframe = frame.copy()`\n",
      "  trend[column + '_' + str(period)] = trend[column].shift(period)\n",
      "C:\\Users\\denis\\AppData\\Local\\Temp\\ipykernel_16276\\2594479708.py:4: PerformanceWarning: DataFrame is highly fragmented.  This is usually the result of calling `frame.insert` many times, which has poor performance.  Consider joining all columns at once using pd.concat(axis=1) instead. To get a de-fragmented frame, use `newframe = frame.copy()`\n",
      "  trend[column + '_' + str(period)] = trend[column].shift(period)\n",
      "C:\\Users\\denis\\AppData\\Local\\Temp\\ipykernel_16276\\2594479708.py:4: PerformanceWarning: DataFrame is highly fragmented.  This is usually the result of calling `frame.insert` many times, which has poor performance.  Consider joining all columns at once using pd.concat(axis=1) instead. To get a de-fragmented frame, use `newframe = frame.copy()`\n",
      "  trend[column + '_' + str(period)] = trend[column].shift(period)\n",
      "C:\\Users\\denis\\AppData\\Local\\Temp\\ipykernel_16276\\2594479708.py:4: PerformanceWarning: DataFrame is highly fragmented.  This is usually the result of calling `frame.insert` many times, which has poor performance.  Consider joining all columns at once using pd.concat(axis=1) instead. To get a de-fragmented frame, use `newframe = frame.copy()`\n",
      "  trend[column + '_' + str(period)] = trend[column].shift(period)\n",
      "C:\\Users\\denis\\AppData\\Local\\Temp\\ipykernel_16276\\2594479708.py:4: PerformanceWarning: DataFrame is highly fragmented.  This is usually the result of calling `frame.insert` many times, which has poor performance.  Consider joining all columns at once using pd.concat(axis=1) instead. To get a de-fragmented frame, use `newframe = frame.copy()`\n",
      "  trend[column + '_' + str(period)] = trend[column].shift(period)\n",
      "C:\\Users\\denis\\AppData\\Local\\Temp\\ipykernel_16276\\2594479708.py:4: PerformanceWarning: DataFrame is highly fragmented.  This is usually the result of calling `frame.insert` many times, which has poor performance.  Consider joining all columns at once using pd.concat(axis=1) instead. To get a de-fragmented frame, use `newframe = frame.copy()`\n",
      "  trend[column + '_' + str(period)] = trend[column].shift(period)\n",
      "C:\\Users\\denis\\AppData\\Local\\Temp\\ipykernel_16276\\2594479708.py:4: PerformanceWarning: DataFrame is highly fragmented.  This is usually the result of calling `frame.insert` many times, which has poor performance.  Consider joining all columns at once using pd.concat(axis=1) instead. To get a de-fragmented frame, use `newframe = frame.copy()`\n",
      "  trend[column + '_' + str(period)] = trend[column].shift(period)\n",
      "C:\\Users\\denis\\AppData\\Local\\Temp\\ipykernel_16276\\2594479708.py:4: PerformanceWarning: DataFrame is highly fragmented.  This is usually the result of calling `frame.insert` many times, which has poor performance.  Consider joining all columns at once using pd.concat(axis=1) instead. To get a de-fragmented frame, use `newframe = frame.copy()`\n",
      "  trend[column + '_' + str(period)] = trend[column].shift(period)\n",
      "C:\\Users\\denis\\AppData\\Local\\Temp\\ipykernel_16276\\2594479708.py:4: PerformanceWarning: DataFrame is highly fragmented.  This is usually the result of calling `frame.insert` many times, which has poor performance.  Consider joining all columns at once using pd.concat(axis=1) instead. To get a de-fragmented frame, use `newframe = frame.copy()`\n",
      "  trend[column + '_' + str(period)] = trend[column].shift(period)\n",
      "C:\\Users\\denis\\AppData\\Local\\Temp\\ipykernel_16276\\2594479708.py:4: PerformanceWarning: DataFrame is highly fragmented.  This is usually the result of calling `frame.insert` many times, which has poor performance.  Consider joining all columns at once using pd.concat(axis=1) instead. To get a de-fragmented frame, use `newframe = frame.copy()`\n",
      "  trend[column + '_' + str(period)] = trend[column].shift(period)\n",
      "C:\\Users\\denis\\AppData\\Local\\Temp\\ipykernel_16276\\2594479708.py:4: PerformanceWarning: DataFrame is highly fragmented.  This is usually the result of calling `frame.insert` many times, which has poor performance.  Consider joining all columns at once using pd.concat(axis=1) instead. To get a de-fragmented frame, use `newframe = frame.copy()`\n",
      "  trend[column + '_' + str(period)] = trend[column].shift(period)\n",
      "C:\\Users\\denis\\AppData\\Local\\Temp\\ipykernel_16276\\2594479708.py:4: PerformanceWarning: DataFrame is highly fragmented.  This is usually the result of calling `frame.insert` many times, which has poor performance.  Consider joining all columns at once using pd.concat(axis=1) instead. To get a de-fragmented frame, use `newframe = frame.copy()`\n",
      "  trend[column + '_' + str(period)] = trend[column].shift(period)\n",
      "C:\\Users\\denis\\AppData\\Local\\Temp\\ipykernel_16276\\2594479708.py:4: PerformanceWarning: DataFrame is highly fragmented.  This is usually the result of calling `frame.insert` many times, which has poor performance.  Consider joining all columns at once using pd.concat(axis=1) instead. To get a de-fragmented frame, use `newframe = frame.copy()`\n",
      "  trend[column + '_' + str(period)] = trend[column].shift(period)\n",
      "C:\\Users\\denis\\AppData\\Local\\Temp\\ipykernel_16276\\2594479708.py:4: PerformanceWarning: DataFrame is highly fragmented.  This is usually the result of calling `frame.insert` many times, which has poor performance.  Consider joining all columns at once using pd.concat(axis=1) instead. To get a de-fragmented frame, use `newframe = frame.copy()`\n",
      "  trend[column + '_' + str(period)] = trend[column].shift(period)\n",
      "C:\\Users\\denis\\AppData\\Local\\Temp\\ipykernel_16276\\2594479708.py:4: PerformanceWarning: DataFrame is highly fragmented.  This is usually the result of calling `frame.insert` many times, which has poor performance.  Consider joining all columns at once using pd.concat(axis=1) instead. To get a de-fragmented frame, use `newframe = frame.copy()`\n",
      "  trend[column + '_' + str(period)] = trend[column].shift(period)\n",
      "C:\\Users\\denis\\AppData\\Local\\Temp\\ipykernel_16276\\2594479708.py:4: PerformanceWarning: DataFrame is highly fragmented.  This is usually the result of calling `frame.insert` many times, which has poor performance.  Consider joining all columns at once using pd.concat(axis=1) instead. To get a de-fragmented frame, use `newframe = frame.copy()`\n",
      "  trend[column + '_' + str(period)] = trend[column].shift(period)\n",
      "C:\\Users\\denis\\AppData\\Local\\Temp\\ipykernel_16276\\2594479708.py:4: PerformanceWarning: DataFrame is highly fragmented.  This is usually the result of calling `frame.insert` many times, which has poor performance.  Consider joining all columns at once using pd.concat(axis=1) instead. To get a de-fragmented frame, use `newframe = frame.copy()`\n",
      "  trend[column + '_' + str(period)] = trend[column].shift(period)\n",
      "C:\\Users\\denis\\AppData\\Local\\Temp\\ipykernel_16276\\2594479708.py:4: PerformanceWarning: DataFrame is highly fragmented.  This is usually the result of calling `frame.insert` many times, which has poor performance.  Consider joining all columns at once using pd.concat(axis=1) instead. To get a de-fragmented frame, use `newframe = frame.copy()`\n",
      "  trend[column + '_' + str(period)] = trend[column].shift(period)\n",
      "C:\\Users\\denis\\AppData\\Local\\Temp\\ipykernel_16276\\2594479708.py:4: PerformanceWarning: DataFrame is highly fragmented.  This is usually the result of calling `frame.insert` many times, which has poor performance.  Consider joining all columns at once using pd.concat(axis=1) instead. To get a de-fragmented frame, use `newframe = frame.copy()`\n",
      "  trend[column + '_' + str(period)] = trend[column].shift(period)\n",
      "C:\\Users\\denis\\AppData\\Local\\Temp\\ipykernel_16276\\2594479708.py:4: PerformanceWarning: DataFrame is highly fragmented.  This is usually the result of calling `frame.insert` many times, which has poor performance.  Consider joining all columns at once using pd.concat(axis=1) instead. To get a de-fragmented frame, use `newframe = frame.copy()`\n",
      "  trend[column + '_' + str(period)] = trend[column].shift(period)\n",
      "C:\\Users\\denis\\AppData\\Local\\Temp\\ipykernel_16276\\2594479708.py:4: PerformanceWarning: DataFrame is highly fragmented.  This is usually the result of calling `frame.insert` many times, which has poor performance.  Consider joining all columns at once using pd.concat(axis=1) instead. To get a de-fragmented frame, use `newframe = frame.copy()`\n",
      "  trend[column + '_' + str(period)] = trend[column].shift(period)\n",
      "C:\\Users\\denis\\AppData\\Local\\Temp\\ipykernel_16276\\2594479708.py:4: PerformanceWarning: DataFrame is highly fragmented.  This is usually the result of calling `frame.insert` many times, which has poor performance.  Consider joining all columns at once using pd.concat(axis=1) instead. To get a de-fragmented frame, use `newframe = frame.copy()`\n",
      "  trend[column + '_' + str(period)] = trend[column].shift(period)\n",
      "C:\\Users\\denis\\AppData\\Local\\Temp\\ipykernel_16276\\2594479708.py:4: PerformanceWarning: DataFrame is highly fragmented.  This is usually the result of calling `frame.insert` many times, which has poor performance.  Consider joining all columns at once using pd.concat(axis=1) instead. To get a de-fragmented frame, use `newframe = frame.copy()`\n",
      "  trend[column + '_' + str(period)] = trend[column].shift(period)\n",
      "C:\\Users\\denis\\AppData\\Local\\Temp\\ipykernel_16276\\2594479708.py:4: PerformanceWarning: DataFrame is highly fragmented.  This is usually the result of calling `frame.insert` many times, which has poor performance.  Consider joining all columns at once using pd.concat(axis=1) instead. To get a de-fragmented frame, use `newframe = frame.copy()`\n",
      "  trend[column + '_' + str(period)] = trend[column].shift(period)\n",
      "C:\\Users\\denis\\AppData\\Local\\Temp\\ipykernel_16276\\2594479708.py:4: PerformanceWarning: DataFrame is highly fragmented.  This is usually the result of calling `frame.insert` many times, which has poor performance.  Consider joining all columns at once using pd.concat(axis=1) instead. To get a de-fragmented frame, use `newframe = frame.copy()`\n",
      "  trend[column + '_' + str(period)] = trend[column].shift(period)\n",
      "C:\\Users\\denis\\AppData\\Local\\Temp\\ipykernel_16276\\2594479708.py:4: PerformanceWarning: DataFrame is highly fragmented.  This is usually the result of calling `frame.insert` many times, which has poor performance.  Consider joining all columns at once using pd.concat(axis=1) instead. To get a de-fragmented frame, use `newframe = frame.copy()`\n",
      "  trend[column + '_' + str(period)] = trend[column].shift(period)\n",
      "C:\\Users\\denis\\AppData\\Local\\Temp\\ipykernel_16276\\2594479708.py:4: PerformanceWarning: DataFrame is highly fragmented.  This is usually the result of calling `frame.insert` many times, which has poor performance.  Consider joining all columns at once using pd.concat(axis=1) instead. To get a de-fragmented frame, use `newframe = frame.copy()`\n",
      "  trend[column + '_' + str(period)] = trend[column].shift(period)\n",
      "C:\\Users\\denis\\AppData\\Local\\Temp\\ipykernel_16276\\2594479708.py:4: PerformanceWarning: DataFrame is highly fragmented.  This is usually the result of calling `frame.insert` many times, which has poor performance.  Consider joining all columns at once using pd.concat(axis=1) instead. To get a de-fragmented frame, use `newframe = frame.copy()`\n",
      "  trend[column + '_' + str(period)] = trend[column].shift(period)\n",
      "C:\\Users\\denis\\AppData\\Local\\Temp\\ipykernel_16276\\2594479708.py:4: PerformanceWarning: DataFrame is highly fragmented.  This is usually the result of calling `frame.insert` many times, which has poor performance.  Consider joining all columns at once using pd.concat(axis=1) instead. To get a de-fragmented frame, use `newframe = frame.copy()`\n",
      "  trend[column + '_' + str(period)] = trend[column].shift(period)\n",
      "C:\\Users\\denis\\AppData\\Local\\Temp\\ipykernel_16276\\2594479708.py:4: PerformanceWarning: DataFrame is highly fragmented.  This is usually the result of calling `frame.insert` many times, which has poor performance.  Consider joining all columns at once using pd.concat(axis=1) instead. To get a de-fragmented frame, use `newframe = frame.copy()`\n",
      "  trend[column + '_' + str(period)] = trend[column].shift(period)\n",
      "C:\\Users\\denis\\AppData\\Local\\Temp\\ipykernel_16276\\2594479708.py:4: PerformanceWarning: DataFrame is highly fragmented.  This is usually the result of calling `frame.insert` many times, which has poor performance.  Consider joining all columns at once using pd.concat(axis=1) instead. To get a de-fragmented frame, use `newframe = frame.copy()`\n",
      "  trend[column + '_' + str(period)] = trend[column].shift(period)\n",
      "C:\\Users\\denis\\AppData\\Local\\Temp\\ipykernel_16276\\2594479708.py:4: PerformanceWarning: DataFrame is highly fragmented.  This is usually the result of calling `frame.insert` many times, which has poor performance.  Consider joining all columns at once using pd.concat(axis=1) instead. To get a de-fragmented frame, use `newframe = frame.copy()`\n",
      "  trend[column + '_' + str(period)] = trend[column].shift(period)\n",
      "C:\\Users\\denis\\AppData\\Local\\Temp\\ipykernel_16276\\2594479708.py:4: PerformanceWarning: DataFrame is highly fragmented.  This is usually the result of calling `frame.insert` many times, which has poor performance.  Consider joining all columns at once using pd.concat(axis=1) instead. To get a de-fragmented frame, use `newframe = frame.copy()`\n",
      "  trend[column + '_' + str(period)] = trend[column].shift(period)\n",
      "C:\\Users\\denis\\AppData\\Local\\Temp\\ipykernel_16276\\2594479708.py:4: PerformanceWarning: DataFrame is highly fragmented.  This is usually the result of calling `frame.insert` many times, which has poor performance.  Consider joining all columns at once using pd.concat(axis=1) instead. To get a de-fragmented frame, use `newframe = frame.copy()`\n",
      "  trend[column + '_' + str(period)] = trend[column].shift(period)\n",
      "C:\\Users\\denis\\AppData\\Local\\Temp\\ipykernel_16276\\2594479708.py:4: PerformanceWarning: DataFrame is highly fragmented.  This is usually the result of calling `frame.insert` many times, which has poor performance.  Consider joining all columns at once using pd.concat(axis=1) instead. To get a de-fragmented frame, use `newframe = frame.copy()`\n",
      "  trend[column + '_' + str(period)] = trend[column].shift(period)\n",
      "C:\\Users\\denis\\AppData\\Local\\Temp\\ipykernel_16276\\2594479708.py:4: PerformanceWarning: DataFrame is highly fragmented.  This is usually the result of calling `frame.insert` many times, which has poor performance.  Consider joining all columns at once using pd.concat(axis=1) instead. To get a de-fragmented frame, use `newframe = frame.copy()`\n",
      "  trend[column + '_' + str(period)] = trend[column].shift(period)\n",
      "C:\\Users\\denis\\AppData\\Local\\Temp\\ipykernel_16276\\2594479708.py:4: PerformanceWarning: DataFrame is highly fragmented.  This is usually the result of calling `frame.insert` many times, which has poor performance.  Consider joining all columns at once using pd.concat(axis=1) instead. To get a de-fragmented frame, use `newframe = frame.copy()`\n",
      "  trend[column + '_' + str(period)] = trend[column].shift(period)\n",
      "C:\\Users\\denis\\AppData\\Local\\Temp\\ipykernel_16276\\2594479708.py:4: PerformanceWarning: DataFrame is highly fragmented.  This is usually the result of calling `frame.insert` many times, which has poor performance.  Consider joining all columns at once using pd.concat(axis=1) instead. To get a de-fragmented frame, use `newframe = frame.copy()`\n",
      "  trend[column + '_' + str(period)] = trend[column].shift(period)\n",
      "C:\\Users\\denis\\AppData\\Local\\Temp\\ipykernel_16276\\2594479708.py:4: PerformanceWarning: DataFrame is highly fragmented.  This is usually the result of calling `frame.insert` many times, which has poor performance.  Consider joining all columns at once using pd.concat(axis=1) instead. To get a de-fragmented frame, use `newframe = frame.copy()`\n",
      "  trend[column + '_' + str(period)] = trend[column].shift(period)\n",
      "C:\\Users\\denis\\AppData\\Local\\Temp\\ipykernel_16276\\2594479708.py:4: PerformanceWarning: DataFrame is highly fragmented.  This is usually the result of calling `frame.insert` many times, which has poor performance.  Consider joining all columns at once using pd.concat(axis=1) instead. To get a de-fragmented frame, use `newframe = frame.copy()`\n",
      "  trend[column + '_' + str(period)] = trend[column].shift(period)\n",
      "C:\\Users\\denis\\AppData\\Local\\Temp\\ipykernel_16276\\2594479708.py:4: PerformanceWarning: DataFrame is highly fragmented.  This is usually the result of calling `frame.insert` many times, which has poor performance.  Consider joining all columns at once using pd.concat(axis=1) instead. To get a de-fragmented frame, use `newframe = frame.copy()`\n",
      "  trend[column + '_' + str(period)] = trend[column].shift(period)\n",
      "C:\\Users\\denis\\AppData\\Local\\Temp\\ipykernel_16276\\2594479708.py:4: PerformanceWarning: DataFrame is highly fragmented.  This is usually the result of calling `frame.insert` many times, which has poor performance.  Consider joining all columns at once using pd.concat(axis=1) instead. To get a de-fragmented frame, use `newframe = frame.copy()`\n",
      "  trend[column + '_' + str(period)] = trend[column].shift(period)\n",
      "C:\\Users\\denis\\AppData\\Local\\Temp\\ipykernel_16276\\2594479708.py:4: PerformanceWarning: DataFrame is highly fragmented.  This is usually the result of calling `frame.insert` many times, which has poor performance.  Consider joining all columns at once using pd.concat(axis=1) instead. To get a de-fragmented frame, use `newframe = frame.copy()`\n",
      "  trend[column + '_' + str(period)] = trend[column].shift(period)\n",
      "C:\\Users\\denis\\AppData\\Local\\Temp\\ipykernel_16276\\2594479708.py:4: PerformanceWarning: DataFrame is highly fragmented.  This is usually the result of calling `frame.insert` many times, which has poor performance.  Consider joining all columns at once using pd.concat(axis=1) instead. To get a de-fragmented frame, use `newframe = frame.copy()`\n",
      "  trend[column + '_' + str(period)] = trend[column].shift(period)\n",
      "C:\\Users\\denis\\AppData\\Local\\Temp\\ipykernel_16276\\2594479708.py:4: PerformanceWarning: DataFrame is highly fragmented.  This is usually the result of calling `frame.insert` many times, which has poor performance.  Consider joining all columns at once using pd.concat(axis=1) instead. To get a de-fragmented frame, use `newframe = frame.copy()`\n",
      "  trend[column + '_' + str(period)] = trend[column].shift(period)\n",
      "C:\\Users\\denis\\AppData\\Local\\Temp\\ipykernel_16276\\2594479708.py:4: PerformanceWarning: DataFrame is highly fragmented.  This is usually the result of calling `frame.insert` many times, which has poor performance.  Consider joining all columns at once using pd.concat(axis=1) instead. To get a de-fragmented frame, use `newframe = frame.copy()`\n",
      "  trend[column + '_' + str(period)] = trend[column].shift(period)\n",
      "C:\\Users\\denis\\AppData\\Local\\Temp\\ipykernel_16276\\2594479708.py:4: PerformanceWarning: DataFrame is highly fragmented.  This is usually the result of calling `frame.insert` many times, which has poor performance.  Consider joining all columns at once using pd.concat(axis=1) instead. To get a de-fragmented frame, use `newframe = frame.copy()`\n",
      "  trend[column + '_' + str(period)] = trend[column].shift(period)\n",
      "C:\\Users\\denis\\AppData\\Local\\Temp\\ipykernel_16276\\2594479708.py:4: PerformanceWarning: DataFrame is highly fragmented.  This is usually the result of calling `frame.insert` many times, which has poor performance.  Consider joining all columns at once using pd.concat(axis=1) instead. To get a de-fragmented frame, use `newframe = frame.copy()`\n",
      "  trend[column + '_' + str(period)] = trend[column].shift(period)\n",
      "C:\\Users\\denis\\AppData\\Local\\Temp\\ipykernel_16276\\2594479708.py:4: PerformanceWarning: DataFrame is highly fragmented.  This is usually the result of calling `frame.insert` many times, which has poor performance.  Consider joining all columns at once using pd.concat(axis=1) instead. To get a de-fragmented frame, use `newframe = frame.copy()`\n",
      "  trend[column + '_' + str(period)] = trend[column].shift(period)\n",
      "C:\\Users\\denis\\AppData\\Local\\Temp\\ipykernel_16276\\2594479708.py:4: PerformanceWarning: DataFrame is highly fragmented.  This is usually the result of calling `frame.insert` many times, which has poor performance.  Consider joining all columns at once using pd.concat(axis=1) instead. To get a de-fragmented frame, use `newframe = frame.copy()`\n",
      "  trend[column + '_' + str(period)] = trend[column].shift(period)\n",
      "C:\\Users\\denis\\AppData\\Local\\Temp\\ipykernel_16276\\2594479708.py:4: PerformanceWarning: DataFrame is highly fragmented.  This is usually the result of calling `frame.insert` many times, which has poor performance.  Consider joining all columns at once using pd.concat(axis=1) instead. To get a de-fragmented frame, use `newframe = frame.copy()`\n",
      "  trend[column + '_' + str(period)] = trend[column].shift(period)\n",
      "C:\\Users\\denis\\AppData\\Local\\Temp\\ipykernel_16276\\2594479708.py:4: PerformanceWarning: DataFrame is highly fragmented.  This is usually the result of calling `frame.insert` many times, which has poor performance.  Consider joining all columns at once using pd.concat(axis=1) instead. To get a de-fragmented frame, use `newframe = frame.copy()`\n",
      "  trend[column + '_' + str(period)] = trend[column].shift(period)\n",
      "C:\\Users\\denis\\AppData\\Local\\Temp\\ipykernel_16276\\2594479708.py:4: PerformanceWarning: DataFrame is highly fragmented.  This is usually the result of calling `frame.insert` many times, which has poor performance.  Consider joining all columns at once using pd.concat(axis=1) instead. To get a de-fragmented frame, use `newframe = frame.copy()`\n",
      "  trend[column + '_' + str(period)] = trend[column].shift(period)\n",
      "C:\\Users\\denis\\AppData\\Local\\Temp\\ipykernel_16276\\2594479708.py:4: PerformanceWarning: DataFrame is highly fragmented.  This is usually the result of calling `frame.insert` many times, which has poor performance.  Consider joining all columns at once using pd.concat(axis=1) instead. To get a de-fragmented frame, use `newframe = frame.copy()`\n",
      "  trend[column + '_' + str(period)] = trend[column].shift(period)\n",
      "C:\\Users\\denis\\AppData\\Local\\Temp\\ipykernel_16276\\2594479708.py:4: PerformanceWarning: DataFrame is highly fragmented.  This is usually the result of calling `frame.insert` many times, which has poor performance.  Consider joining all columns at once using pd.concat(axis=1) instead. To get a de-fragmented frame, use `newframe = frame.copy()`\n",
      "  trend[column + '_' + str(period)] = trend[column].shift(period)\n",
      "C:\\Users\\denis\\AppData\\Local\\Temp\\ipykernel_16276\\2594479708.py:4: PerformanceWarning: DataFrame is highly fragmented.  This is usually the result of calling `frame.insert` many times, which has poor performance.  Consider joining all columns at once using pd.concat(axis=1) instead. To get a de-fragmented frame, use `newframe = frame.copy()`\n",
      "  trend[column + '_' + str(period)] = trend[column].shift(period)\n",
      "C:\\Users\\denis\\AppData\\Local\\Temp\\ipykernel_16276\\2594479708.py:4: PerformanceWarning: DataFrame is highly fragmented.  This is usually the result of calling `frame.insert` many times, which has poor performance.  Consider joining all columns at once using pd.concat(axis=1) instead. To get a de-fragmented frame, use `newframe = frame.copy()`\n",
      "  trend[column + '_' + str(period)] = trend[column].shift(period)\n",
      "C:\\Users\\denis\\AppData\\Local\\Temp\\ipykernel_16276\\2594479708.py:4: PerformanceWarning: DataFrame is highly fragmented.  This is usually the result of calling `frame.insert` many times, which has poor performance.  Consider joining all columns at once using pd.concat(axis=1) instead. To get a de-fragmented frame, use `newframe = frame.copy()`\n",
      "  trend[column + '_' + str(period)] = trend[column].shift(period)\n",
      "C:\\Users\\denis\\AppData\\Local\\Temp\\ipykernel_16276\\2594479708.py:4: PerformanceWarning: DataFrame is highly fragmented.  This is usually the result of calling `frame.insert` many times, which has poor performance.  Consider joining all columns at once using pd.concat(axis=1) instead. To get a de-fragmented frame, use `newframe = frame.copy()`\n",
      "  trend[column + '_' + str(period)] = trend[column].shift(period)\n",
      "C:\\Users\\denis\\AppData\\Local\\Temp\\ipykernel_16276\\2594479708.py:4: PerformanceWarning: DataFrame is highly fragmented.  This is usually the result of calling `frame.insert` many times, which has poor performance.  Consider joining all columns at once using pd.concat(axis=1) instead. To get a de-fragmented frame, use `newframe = frame.copy()`\n",
      "  trend[column + '_' + str(period)] = trend[column].shift(period)\n",
      "C:\\Users\\denis\\AppData\\Local\\Temp\\ipykernel_16276\\2594479708.py:4: PerformanceWarning: DataFrame is highly fragmented.  This is usually the result of calling `frame.insert` many times, which has poor performance.  Consider joining all columns at once using pd.concat(axis=1) instead. To get a de-fragmented frame, use `newframe = frame.copy()`\n",
      "  trend[column + '_' + str(period)] = trend[column].shift(period)\n",
      "C:\\Users\\denis\\AppData\\Local\\Temp\\ipykernel_16276\\2594479708.py:4: PerformanceWarning: DataFrame is highly fragmented.  This is usually the result of calling `frame.insert` many times, which has poor performance.  Consider joining all columns at once using pd.concat(axis=1) instead. To get a de-fragmented frame, use `newframe = frame.copy()`\n",
      "  trend[column + '_' + str(period)] = trend[column].shift(period)\n",
      "C:\\Users\\denis\\AppData\\Local\\Temp\\ipykernel_16276\\2594479708.py:4: PerformanceWarning: DataFrame is highly fragmented.  This is usually the result of calling `frame.insert` many times, which has poor performance.  Consider joining all columns at once using pd.concat(axis=1) instead. To get a de-fragmented frame, use `newframe = frame.copy()`\n",
      "  trend[column + '_' + str(period)] = trend[column].shift(period)\n",
      "C:\\Users\\denis\\AppData\\Local\\Temp\\ipykernel_16276\\2594479708.py:4: PerformanceWarning: DataFrame is highly fragmented.  This is usually the result of calling `frame.insert` many times, which has poor performance.  Consider joining all columns at once using pd.concat(axis=1) instead. To get a de-fragmented frame, use `newframe = frame.copy()`\n",
      "  trend[column + '_' + str(period)] = trend[column].shift(period)\n",
      "C:\\Users\\denis\\AppData\\Local\\Temp\\ipykernel_16276\\2594479708.py:4: PerformanceWarning: DataFrame is highly fragmented.  This is usually the result of calling `frame.insert` many times, which has poor performance.  Consider joining all columns at once using pd.concat(axis=1) instead. To get a de-fragmented frame, use `newframe = frame.copy()`\n",
      "  trend[column + '_' + str(period)] = trend[column].shift(period)\n",
      "C:\\Users\\denis\\AppData\\Local\\Temp\\ipykernel_16276\\2594479708.py:4: PerformanceWarning: DataFrame is highly fragmented.  This is usually the result of calling `frame.insert` many times, which has poor performance.  Consider joining all columns at once using pd.concat(axis=1) instead. To get a de-fragmented frame, use `newframe = frame.copy()`\n",
      "  trend[column + '_' + str(period)] = trend[column].shift(period)\n",
      "C:\\Users\\denis\\AppData\\Local\\Temp\\ipykernel_16276\\2594479708.py:4: PerformanceWarning: DataFrame is highly fragmented.  This is usually the result of calling `frame.insert` many times, which has poor performance.  Consider joining all columns at once using pd.concat(axis=1) instead. To get a de-fragmented frame, use `newframe = frame.copy()`\n",
      "  trend[column + '_' + str(period)] = trend[column].shift(period)\n",
      "C:\\Users\\denis\\AppData\\Local\\Temp\\ipykernel_16276\\2594479708.py:4: PerformanceWarning: DataFrame is highly fragmented.  This is usually the result of calling `frame.insert` many times, which has poor performance.  Consider joining all columns at once using pd.concat(axis=1) instead. To get a de-fragmented frame, use `newframe = frame.copy()`\n",
      "  trend[column + '_' + str(period)] = trend[column].shift(period)\n",
      "C:\\Users\\denis\\AppData\\Local\\Temp\\ipykernel_16276\\2594479708.py:4: PerformanceWarning: DataFrame is highly fragmented.  This is usually the result of calling `frame.insert` many times, which has poor performance.  Consider joining all columns at once using pd.concat(axis=1) instead. To get a de-fragmented frame, use `newframe = frame.copy()`\n",
      "  trend[column + '_' + str(period)] = trend[column].shift(period)\n",
      "C:\\Users\\denis\\AppData\\Local\\Temp\\ipykernel_16276\\2594479708.py:4: PerformanceWarning: DataFrame is highly fragmented.  This is usually the result of calling `frame.insert` many times, which has poor performance.  Consider joining all columns at once using pd.concat(axis=1) instead. To get a de-fragmented frame, use `newframe = frame.copy()`\n",
      "  trend[column + '_' + str(period)] = trend[column].shift(period)\n",
      "C:\\Users\\denis\\AppData\\Local\\Temp\\ipykernel_16276\\2594479708.py:4: PerformanceWarning: DataFrame is highly fragmented.  This is usually the result of calling `frame.insert` many times, which has poor performance.  Consider joining all columns at once using pd.concat(axis=1) instead. To get a de-fragmented frame, use `newframe = frame.copy()`\n",
      "  trend[column + '_' + str(period)] = trend[column].shift(period)\n",
      "C:\\Users\\denis\\AppData\\Local\\Temp\\ipykernel_16276\\2594479708.py:4: PerformanceWarning: DataFrame is highly fragmented.  This is usually the result of calling `frame.insert` many times, which has poor performance.  Consider joining all columns at once using pd.concat(axis=1) instead. To get a de-fragmented frame, use `newframe = frame.copy()`\n",
      "  trend[column + '_' + str(period)] = trend[column].shift(period)\n",
      "C:\\Users\\denis\\AppData\\Local\\Temp\\ipykernel_16276\\2594479708.py:4: PerformanceWarning: DataFrame is highly fragmented.  This is usually the result of calling `frame.insert` many times, which has poor performance.  Consider joining all columns at once using pd.concat(axis=1) instead. To get a de-fragmented frame, use `newframe = frame.copy()`\n",
      "  trend[column + '_' + str(period)] = trend[column].shift(period)\n",
      "C:\\Users\\denis\\AppData\\Local\\Temp\\ipykernel_16276\\2594479708.py:4: PerformanceWarning: DataFrame is highly fragmented.  This is usually the result of calling `frame.insert` many times, which has poor performance.  Consider joining all columns at once using pd.concat(axis=1) instead. To get a de-fragmented frame, use `newframe = frame.copy()`\n",
      "  trend[column + '_' + str(period)] = trend[column].shift(period)\n",
      "C:\\Users\\denis\\AppData\\Local\\Temp\\ipykernel_16276\\2594479708.py:4: PerformanceWarning: DataFrame is highly fragmented.  This is usually the result of calling `frame.insert` many times, which has poor performance.  Consider joining all columns at once using pd.concat(axis=1) instead. To get a de-fragmented frame, use `newframe = frame.copy()`\n",
      "  trend[column + '_' + str(period)] = trend[column].shift(period)\n",
      "C:\\Users\\denis\\AppData\\Local\\Temp\\ipykernel_16276\\2594479708.py:4: PerformanceWarning: DataFrame is highly fragmented.  This is usually the result of calling `frame.insert` many times, which has poor performance.  Consider joining all columns at once using pd.concat(axis=1) instead. To get a de-fragmented frame, use `newframe = frame.copy()`\n",
      "  trend[column + '_' + str(period)] = trend[column].shift(period)\n",
      "C:\\Users\\denis\\AppData\\Local\\Temp\\ipykernel_16276\\2594479708.py:4: PerformanceWarning: DataFrame is highly fragmented.  This is usually the result of calling `frame.insert` many times, which has poor performance.  Consider joining all columns at once using pd.concat(axis=1) instead. To get a de-fragmented frame, use `newframe = frame.copy()`\n",
      "  trend[column + '_' + str(period)] = trend[column].shift(period)\n",
      "C:\\Users\\denis\\AppData\\Local\\Temp\\ipykernel_16276\\2594479708.py:4: PerformanceWarning: DataFrame is highly fragmented.  This is usually the result of calling `frame.insert` many times, which has poor performance.  Consider joining all columns at once using pd.concat(axis=1) instead. To get a de-fragmented frame, use `newframe = frame.copy()`\n",
      "  trend[column + '_' + str(period)] = trend[column].shift(period)\n",
      "C:\\Users\\denis\\AppData\\Local\\Temp\\ipykernel_16276\\2594479708.py:4: PerformanceWarning: DataFrame is highly fragmented.  This is usually the result of calling `frame.insert` many times, which has poor performance.  Consider joining all columns at once using pd.concat(axis=1) instead. To get a de-fragmented frame, use `newframe = frame.copy()`\n",
      "  trend[column + '_' + str(period)] = trend[column].shift(period)\n",
      "C:\\Users\\denis\\AppData\\Local\\Temp\\ipykernel_16276\\2594479708.py:4: PerformanceWarning: DataFrame is highly fragmented.  This is usually the result of calling `frame.insert` many times, which has poor performance.  Consider joining all columns at once using pd.concat(axis=1) instead. To get a de-fragmented frame, use `newframe = frame.copy()`\n",
      "  trend[column + '_' + str(period)] = trend[column].shift(period)\n",
      "C:\\Users\\denis\\AppData\\Local\\Temp\\ipykernel_16276\\2594479708.py:4: PerformanceWarning: DataFrame is highly fragmented.  This is usually the result of calling `frame.insert` many times, which has poor performance.  Consider joining all columns at once using pd.concat(axis=1) instead. To get a de-fragmented frame, use `newframe = frame.copy()`\n",
      "  trend[column + '_' + str(period)] = trend[column].shift(period)\n",
      "C:\\Users\\denis\\AppData\\Local\\Temp\\ipykernel_16276\\2594479708.py:4: PerformanceWarning: DataFrame is highly fragmented.  This is usually the result of calling `frame.insert` many times, which has poor performance.  Consider joining all columns at once using pd.concat(axis=1) instead. To get a de-fragmented frame, use `newframe = frame.copy()`\n",
      "  trend[column + '_' + str(period)] = trend[column].shift(period)\n",
      "C:\\Users\\denis\\AppData\\Local\\Temp\\ipykernel_16276\\2594479708.py:4: PerformanceWarning: DataFrame is highly fragmented.  This is usually the result of calling `frame.insert` many times, which has poor performance.  Consider joining all columns at once using pd.concat(axis=1) instead. To get a de-fragmented frame, use `newframe = frame.copy()`\n",
      "  trend[column + '_' + str(period)] = trend[column].shift(period)\n",
      "C:\\Users\\denis\\AppData\\Local\\Temp\\ipykernel_16276\\2594479708.py:4: PerformanceWarning: DataFrame is highly fragmented.  This is usually the result of calling `frame.insert` many times, which has poor performance.  Consider joining all columns at once using pd.concat(axis=1) instead. To get a de-fragmented frame, use `newframe = frame.copy()`\n",
      "  trend[column + '_' + str(period)] = trend[column].shift(period)\n",
      "C:\\Users\\denis\\AppData\\Local\\Temp\\ipykernel_16276\\2594479708.py:4: PerformanceWarning: DataFrame is highly fragmented.  This is usually the result of calling `frame.insert` many times, which has poor performance.  Consider joining all columns at once using pd.concat(axis=1) instead. To get a de-fragmented frame, use `newframe = frame.copy()`\n",
      "  trend[column + '_' + str(period)] = trend[column].shift(period)\n",
      "C:\\Users\\denis\\AppData\\Local\\Temp\\ipykernel_16276\\2594479708.py:4: PerformanceWarning: DataFrame is highly fragmented.  This is usually the result of calling `frame.insert` many times, which has poor performance.  Consider joining all columns at once using pd.concat(axis=1) instead. To get a de-fragmented frame, use `newframe = frame.copy()`\n",
      "  trend[column + '_' + str(period)] = trend[column].shift(period)\n",
      "C:\\Users\\denis\\AppData\\Local\\Temp\\ipykernel_16276\\2594479708.py:4: PerformanceWarning: DataFrame is highly fragmented.  This is usually the result of calling `frame.insert` many times, which has poor performance.  Consider joining all columns at once using pd.concat(axis=1) instead. To get a de-fragmented frame, use `newframe = frame.copy()`\n",
      "  trend[column + '_' + str(period)] = trend[column].shift(period)\n",
      "C:\\Users\\denis\\AppData\\Local\\Temp\\ipykernel_16276\\2594479708.py:4: PerformanceWarning: DataFrame is highly fragmented.  This is usually the result of calling `frame.insert` many times, which has poor performance.  Consider joining all columns at once using pd.concat(axis=1) instead. To get a de-fragmented frame, use `newframe = frame.copy()`\n",
      "  trend[column + '_' + str(period)] = trend[column].shift(period)\n",
      "C:\\Users\\denis\\AppData\\Local\\Temp\\ipykernel_16276\\2594479708.py:4: PerformanceWarning: DataFrame is highly fragmented.  This is usually the result of calling `frame.insert` many times, which has poor performance.  Consider joining all columns at once using pd.concat(axis=1) instead. To get a de-fragmented frame, use `newframe = frame.copy()`\n",
      "  trend[column + '_' + str(period)] = trend[column].shift(period)\n",
      "C:\\Users\\denis\\AppData\\Local\\Temp\\ipykernel_16276\\2594479708.py:4: PerformanceWarning: DataFrame is highly fragmented.  This is usually the result of calling `frame.insert` many times, which has poor performance.  Consider joining all columns at once using pd.concat(axis=1) instead. To get a de-fragmented frame, use `newframe = frame.copy()`\n",
      "  trend[column + '_' + str(period)] = trend[column].shift(period)\n",
      "C:\\Users\\denis\\AppData\\Local\\Temp\\ipykernel_16276\\2594479708.py:4: PerformanceWarning: DataFrame is highly fragmented.  This is usually the result of calling `frame.insert` many times, which has poor performance.  Consider joining all columns at once using pd.concat(axis=1) instead. To get a de-fragmented frame, use `newframe = frame.copy()`\n",
      "  trend[column + '_' + str(period)] = trend[column].shift(period)\n",
      "C:\\Users\\denis\\AppData\\Local\\Temp\\ipykernel_16276\\2594479708.py:4: PerformanceWarning: DataFrame is highly fragmented.  This is usually the result of calling `frame.insert` many times, which has poor performance.  Consider joining all columns at once using pd.concat(axis=1) instead. To get a de-fragmented frame, use `newframe = frame.copy()`\n",
      "  trend[column + '_' + str(period)] = trend[column].shift(period)\n",
      "C:\\Users\\denis\\AppData\\Local\\Temp\\ipykernel_16276\\2594479708.py:4: PerformanceWarning: DataFrame is highly fragmented.  This is usually the result of calling `frame.insert` many times, which has poor performance.  Consider joining all columns at once using pd.concat(axis=1) instead. To get a de-fragmented frame, use `newframe = frame.copy()`\n",
      "  trend[column + '_' + str(period)] = trend[column].shift(period)\n",
      "C:\\Users\\denis\\AppData\\Local\\Temp\\ipykernel_16276\\2594479708.py:4: PerformanceWarning: DataFrame is highly fragmented.  This is usually the result of calling `frame.insert` many times, which has poor performance.  Consider joining all columns at once using pd.concat(axis=1) instead. To get a de-fragmented frame, use `newframe = frame.copy()`\n",
      "  trend[column + '_' + str(period)] = trend[column].shift(period)\n",
      "C:\\Users\\denis\\AppData\\Local\\Temp\\ipykernel_16276\\2594479708.py:4: PerformanceWarning: DataFrame is highly fragmented.  This is usually the result of calling `frame.insert` many times, which has poor performance.  Consider joining all columns at once using pd.concat(axis=1) instead. To get a de-fragmented frame, use `newframe = frame.copy()`\n",
      "  trend[column + '_' + str(period)] = trend[column].shift(period)\n",
      "C:\\Users\\denis\\AppData\\Local\\Temp\\ipykernel_16276\\2594479708.py:4: PerformanceWarning: DataFrame is highly fragmented.  This is usually the result of calling `frame.insert` many times, which has poor performance.  Consider joining all columns at once using pd.concat(axis=1) instead. To get a de-fragmented frame, use `newframe = frame.copy()`\n",
      "  trend[column + '_' + str(period)] = trend[column].shift(period)\n",
      "C:\\Users\\denis\\AppData\\Local\\Temp\\ipykernel_16276\\2594479708.py:4: PerformanceWarning: DataFrame is highly fragmented.  This is usually the result of calling `frame.insert` many times, which has poor performance.  Consider joining all columns at once using pd.concat(axis=1) instead. To get a de-fragmented frame, use `newframe = frame.copy()`\n",
      "  trend[column + '_' + str(period)] = trend[column].shift(period)\n",
      "C:\\Users\\denis\\AppData\\Local\\Temp\\ipykernel_16276\\2594479708.py:4: PerformanceWarning: DataFrame is highly fragmented.  This is usually the result of calling `frame.insert` many times, which has poor performance.  Consider joining all columns at once using pd.concat(axis=1) instead. To get a de-fragmented frame, use `newframe = frame.copy()`\n",
      "  trend[column + '_' + str(period)] = trend[column].shift(period)\n",
      "C:\\Users\\denis\\AppData\\Local\\Temp\\ipykernel_16276\\2594479708.py:4: PerformanceWarning: DataFrame is highly fragmented.  This is usually the result of calling `frame.insert` many times, which has poor performance.  Consider joining all columns at once using pd.concat(axis=1) instead. To get a de-fragmented frame, use `newframe = frame.copy()`\n",
      "  trend[column + '_' + str(period)] = trend[column].shift(period)\n",
      "C:\\Users\\denis\\AppData\\Local\\Temp\\ipykernel_16276\\2594479708.py:4: PerformanceWarning: DataFrame is highly fragmented.  This is usually the result of calling `frame.insert` many times, which has poor performance.  Consider joining all columns at once using pd.concat(axis=1) instead. To get a de-fragmented frame, use `newframe = frame.copy()`\n",
      "  trend[column + '_' + str(period)] = trend[column].shift(period)\n",
      "C:\\Users\\denis\\AppData\\Local\\Temp\\ipykernel_16276\\2594479708.py:4: PerformanceWarning: DataFrame is highly fragmented.  This is usually the result of calling `frame.insert` many times, which has poor performance.  Consider joining all columns at once using pd.concat(axis=1) instead. To get a de-fragmented frame, use `newframe = frame.copy()`\n",
      "  trend[column + '_' + str(period)] = trend[column].shift(period)\n",
      "C:\\Users\\denis\\AppData\\Local\\Temp\\ipykernel_16276\\2594479708.py:4: PerformanceWarning: DataFrame is highly fragmented.  This is usually the result of calling `frame.insert` many times, which has poor performance.  Consider joining all columns at once using pd.concat(axis=1) instead. To get a de-fragmented frame, use `newframe = frame.copy()`\n",
      "  trend[column + '_' + str(period)] = trend[column].shift(period)\n",
      "C:\\Users\\denis\\AppData\\Local\\Temp\\ipykernel_16276\\2594479708.py:4: PerformanceWarning: DataFrame is highly fragmented.  This is usually the result of calling `frame.insert` many times, which has poor performance.  Consider joining all columns at once using pd.concat(axis=1) instead. To get a de-fragmented frame, use `newframe = frame.copy()`\n",
      "  trend[column + '_' + str(period)] = trend[column].shift(period)\n",
      "C:\\Users\\denis\\AppData\\Local\\Temp\\ipykernel_16276\\2594479708.py:4: PerformanceWarning: DataFrame is highly fragmented.  This is usually the result of calling `frame.insert` many times, which has poor performance.  Consider joining all columns at once using pd.concat(axis=1) instead. To get a de-fragmented frame, use `newframe = frame.copy()`\n",
      "  trend[column + '_' + str(period)] = trend[column].shift(period)\n",
      "C:\\Users\\denis\\AppData\\Local\\Temp\\ipykernel_16276\\2594479708.py:4: PerformanceWarning: DataFrame is highly fragmented.  This is usually the result of calling `frame.insert` many times, which has poor performance.  Consider joining all columns at once using pd.concat(axis=1) instead. To get a de-fragmented frame, use `newframe = frame.copy()`\n",
      "  trend[column + '_' + str(period)] = trend[column].shift(period)\n",
      "C:\\Users\\denis\\AppData\\Local\\Temp\\ipykernel_16276\\2594479708.py:4: PerformanceWarning: DataFrame is highly fragmented.  This is usually the result of calling `frame.insert` many times, which has poor performance.  Consider joining all columns at once using pd.concat(axis=1) instead. To get a de-fragmented frame, use `newframe = frame.copy()`\n",
      "  trend[column + '_' + str(period)] = trend[column].shift(period)\n",
      "C:\\Users\\denis\\AppData\\Local\\Temp\\ipykernel_16276\\2594479708.py:4: PerformanceWarning: DataFrame is highly fragmented.  This is usually the result of calling `frame.insert` many times, which has poor performance.  Consider joining all columns at once using pd.concat(axis=1) instead. To get a de-fragmented frame, use `newframe = frame.copy()`\n",
      "  trend[column + '_' + str(period)] = trend[column].shift(period)\n",
      "C:\\Users\\denis\\AppData\\Local\\Temp\\ipykernel_16276\\2594479708.py:4: PerformanceWarning: DataFrame is highly fragmented.  This is usually the result of calling `frame.insert` many times, which has poor performance.  Consider joining all columns at once using pd.concat(axis=1) instead. To get a de-fragmented frame, use `newframe = frame.copy()`\n",
      "  trend[column + '_' + str(period)] = trend[column].shift(period)\n",
      "C:\\Users\\denis\\AppData\\Local\\Temp\\ipykernel_16276\\2594479708.py:4: PerformanceWarning: DataFrame is highly fragmented.  This is usually the result of calling `frame.insert` many times, which has poor performance.  Consider joining all columns at once using pd.concat(axis=1) instead. To get a de-fragmented frame, use `newframe = frame.copy()`\n",
      "  trend[column + '_' + str(period)] = trend[column].shift(period)\n",
      "C:\\Users\\denis\\AppData\\Local\\Temp\\ipykernel_16276\\2594479708.py:4: PerformanceWarning: DataFrame is highly fragmented.  This is usually the result of calling `frame.insert` many times, which has poor performance.  Consider joining all columns at once using pd.concat(axis=1) instead. To get a de-fragmented frame, use `newframe = frame.copy()`\n",
      "  trend[column + '_' + str(period)] = trend[column].shift(period)\n",
      "C:\\Users\\denis\\AppData\\Local\\Temp\\ipykernel_16276\\2594479708.py:4: PerformanceWarning: DataFrame is highly fragmented.  This is usually the result of calling `frame.insert` many times, which has poor performance.  Consider joining all columns at once using pd.concat(axis=1) instead. To get a de-fragmented frame, use `newframe = frame.copy()`\n",
      "  trend[column + '_' + str(period)] = trend[column].shift(period)\n",
      "C:\\Users\\denis\\AppData\\Local\\Temp\\ipykernel_16276\\2594479708.py:4: PerformanceWarning: DataFrame is highly fragmented.  This is usually the result of calling `frame.insert` many times, which has poor performance.  Consider joining all columns at once using pd.concat(axis=1) instead. To get a de-fragmented frame, use `newframe = frame.copy()`\n",
      "  trend[column + '_' + str(period)] = trend[column].shift(period)\n"
     ]
    },
    {
     "name": "stderr",
     "output_type": "stream",
     "text": [
      "C:\\Users\\denis\\AppData\\Local\\Temp\\ipykernel_16276\\2594479708.py:4: PerformanceWarning: DataFrame is highly fragmented.  This is usually the result of calling `frame.insert` many times, which has poor performance.  Consider joining all columns at once using pd.concat(axis=1) instead. To get a de-fragmented frame, use `newframe = frame.copy()`\n",
      "  trend[column + '_' + str(period)] = trend[column].shift(period)\n",
      "C:\\Users\\denis\\AppData\\Local\\Temp\\ipykernel_16276\\2594479708.py:4: PerformanceWarning: DataFrame is highly fragmented.  This is usually the result of calling `frame.insert` many times, which has poor performance.  Consider joining all columns at once using pd.concat(axis=1) instead. To get a de-fragmented frame, use `newframe = frame.copy()`\n",
      "  trend[column + '_' + str(period)] = trend[column].shift(period)\n",
      "C:\\Users\\denis\\AppData\\Local\\Temp\\ipykernel_16276\\2594479708.py:4: PerformanceWarning: DataFrame is highly fragmented.  This is usually the result of calling `frame.insert` many times, which has poor performance.  Consider joining all columns at once using pd.concat(axis=1) instead. To get a de-fragmented frame, use `newframe = frame.copy()`\n",
      "  trend[column + '_' + str(period)] = trend[column].shift(period)\n",
      "C:\\Users\\denis\\AppData\\Local\\Temp\\ipykernel_16276\\2594479708.py:4: PerformanceWarning: DataFrame is highly fragmented.  This is usually the result of calling `frame.insert` many times, which has poor performance.  Consider joining all columns at once using pd.concat(axis=1) instead. To get a de-fragmented frame, use `newframe = frame.copy()`\n",
      "  trend[column + '_' + str(period)] = trend[column].shift(period)\n",
      "C:\\Users\\denis\\AppData\\Local\\Temp\\ipykernel_16276\\2594479708.py:4: PerformanceWarning: DataFrame is highly fragmented.  This is usually the result of calling `frame.insert` many times, which has poor performance.  Consider joining all columns at once using pd.concat(axis=1) instead. To get a de-fragmented frame, use `newframe = frame.copy()`\n",
      "  trend[column + '_' + str(period)] = trend[column].shift(period)\n",
      "C:\\Users\\denis\\AppData\\Local\\Temp\\ipykernel_16276\\2594479708.py:4: PerformanceWarning: DataFrame is highly fragmented.  This is usually the result of calling `frame.insert` many times, which has poor performance.  Consider joining all columns at once using pd.concat(axis=1) instead. To get a de-fragmented frame, use `newframe = frame.copy()`\n",
      "  trend[column + '_' + str(period)] = trend[column].shift(period)\n",
      "C:\\Users\\denis\\AppData\\Local\\Temp\\ipykernel_16276\\2594479708.py:4: PerformanceWarning: DataFrame is highly fragmented.  This is usually the result of calling `frame.insert` many times, which has poor performance.  Consider joining all columns at once using pd.concat(axis=1) instead. To get a de-fragmented frame, use `newframe = frame.copy()`\n",
      "  trend[column + '_' + str(period)] = trend[column].shift(period)\n",
      "C:\\Users\\denis\\AppData\\Local\\Temp\\ipykernel_16276\\2594479708.py:4: PerformanceWarning: DataFrame is highly fragmented.  This is usually the result of calling `frame.insert` many times, which has poor performance.  Consider joining all columns at once using pd.concat(axis=1) instead. To get a de-fragmented frame, use `newframe = frame.copy()`\n",
      "  trend[column + '_' + str(period)] = trend[column].shift(period)\n",
      "C:\\Users\\denis\\AppData\\Local\\Temp\\ipykernel_16276\\2594479708.py:4: PerformanceWarning: DataFrame is highly fragmented.  This is usually the result of calling `frame.insert` many times, which has poor performance.  Consider joining all columns at once using pd.concat(axis=1) instead. To get a de-fragmented frame, use `newframe = frame.copy()`\n",
      "  trend[column + '_' + str(period)] = trend[column].shift(period)\n",
      "C:\\Users\\denis\\AppData\\Local\\Temp\\ipykernel_16276\\2594479708.py:4: PerformanceWarning: DataFrame is highly fragmented.  This is usually the result of calling `frame.insert` many times, which has poor performance.  Consider joining all columns at once using pd.concat(axis=1) instead. To get a de-fragmented frame, use `newframe = frame.copy()`\n",
      "  trend[column + '_' + str(period)] = trend[column].shift(period)\n",
      "C:\\Users\\denis\\AppData\\Local\\Temp\\ipykernel_16276\\2594479708.py:4: PerformanceWarning: DataFrame is highly fragmented.  This is usually the result of calling `frame.insert` many times, which has poor performance.  Consider joining all columns at once using pd.concat(axis=1) instead. To get a de-fragmented frame, use `newframe = frame.copy()`\n",
      "  trend[column + '_' + str(period)] = trend[column].shift(period)\n",
      "C:\\Users\\denis\\AppData\\Local\\Temp\\ipykernel_16276\\2594479708.py:4: PerformanceWarning: DataFrame is highly fragmented.  This is usually the result of calling `frame.insert` many times, which has poor performance.  Consider joining all columns at once using pd.concat(axis=1) instead. To get a de-fragmented frame, use `newframe = frame.copy()`\n",
      "  trend[column + '_' + str(period)] = trend[column].shift(period)\n",
      "C:\\Users\\denis\\AppData\\Local\\Temp\\ipykernel_16276\\2594479708.py:4: PerformanceWarning: DataFrame is highly fragmented.  This is usually the result of calling `frame.insert` many times, which has poor performance.  Consider joining all columns at once using pd.concat(axis=1) instead. To get a de-fragmented frame, use `newframe = frame.copy()`\n",
      "  trend[column + '_' + str(period)] = trend[column].shift(period)\n",
      "C:\\Users\\denis\\AppData\\Local\\Temp\\ipykernel_16276\\2594479708.py:4: PerformanceWarning: DataFrame is highly fragmented.  This is usually the result of calling `frame.insert` many times, which has poor performance.  Consider joining all columns at once using pd.concat(axis=1) instead. To get a de-fragmented frame, use `newframe = frame.copy()`\n",
      "  trend[column + '_' + str(period)] = trend[column].shift(period)\n",
      "C:\\Users\\denis\\AppData\\Local\\Temp\\ipykernel_16276\\2594479708.py:4: PerformanceWarning: DataFrame is highly fragmented.  This is usually the result of calling `frame.insert` many times, which has poor performance.  Consider joining all columns at once using pd.concat(axis=1) instead. To get a de-fragmented frame, use `newframe = frame.copy()`\n",
      "  trend[column + '_' + str(period)] = trend[column].shift(period)\n",
      "C:\\Users\\denis\\AppData\\Local\\Temp\\ipykernel_16276\\2594479708.py:4: PerformanceWarning: DataFrame is highly fragmented.  This is usually the result of calling `frame.insert` many times, which has poor performance.  Consider joining all columns at once using pd.concat(axis=1) instead. To get a de-fragmented frame, use `newframe = frame.copy()`\n",
      "  trend[column + '_' + str(period)] = trend[column].shift(period)\n",
      "C:\\Users\\denis\\AppData\\Local\\Temp\\ipykernel_16276\\2594479708.py:4: PerformanceWarning: DataFrame is highly fragmented.  This is usually the result of calling `frame.insert` many times, which has poor performance.  Consider joining all columns at once using pd.concat(axis=1) instead. To get a de-fragmented frame, use `newframe = frame.copy()`\n",
      "  trend[column + '_' + str(period)] = trend[column].shift(period)\n",
      "C:\\Users\\denis\\AppData\\Local\\Temp\\ipykernel_16276\\2594479708.py:4: PerformanceWarning: DataFrame is highly fragmented.  This is usually the result of calling `frame.insert` many times, which has poor performance.  Consider joining all columns at once using pd.concat(axis=1) instead. To get a de-fragmented frame, use `newframe = frame.copy()`\n",
      "  trend[column + '_' + str(period)] = trend[column].shift(period)\n",
      "C:\\Users\\denis\\AppData\\Local\\Temp\\ipykernel_16276\\2594479708.py:4: PerformanceWarning: DataFrame is highly fragmented.  This is usually the result of calling `frame.insert` many times, which has poor performance.  Consider joining all columns at once using pd.concat(axis=1) instead. To get a de-fragmented frame, use `newframe = frame.copy()`\n",
      "  trend[column + '_' + str(period)] = trend[column].shift(period)\n",
      "C:\\Users\\denis\\AppData\\Local\\Temp\\ipykernel_16276\\2594479708.py:4: PerformanceWarning: DataFrame is highly fragmented.  This is usually the result of calling `frame.insert` many times, which has poor performance.  Consider joining all columns at once using pd.concat(axis=1) instead. To get a de-fragmented frame, use `newframe = frame.copy()`\n",
      "  trend[column + '_' + str(period)] = trend[column].shift(period)\n",
      "C:\\Users\\denis\\AppData\\Local\\Temp\\ipykernel_16276\\2594479708.py:4: PerformanceWarning: DataFrame is highly fragmented.  This is usually the result of calling `frame.insert` many times, which has poor performance.  Consider joining all columns at once using pd.concat(axis=1) instead. To get a de-fragmented frame, use `newframe = frame.copy()`\n",
      "  trend[column + '_' + str(period)] = trend[column].shift(period)\n",
      "C:\\Users\\denis\\AppData\\Local\\Temp\\ipykernel_16276\\2594479708.py:4: PerformanceWarning: DataFrame is highly fragmented.  This is usually the result of calling `frame.insert` many times, which has poor performance.  Consider joining all columns at once using pd.concat(axis=1) instead. To get a de-fragmented frame, use `newframe = frame.copy()`\n",
      "  trend[column + '_' + str(period)] = trend[column].shift(period)\n",
      "C:\\Users\\denis\\AppData\\Local\\Temp\\ipykernel_16276\\2594479708.py:4: PerformanceWarning: DataFrame is highly fragmented.  This is usually the result of calling `frame.insert` many times, which has poor performance.  Consider joining all columns at once using pd.concat(axis=1) instead. To get a de-fragmented frame, use `newframe = frame.copy()`\n",
      "  trend[column + '_' + str(period)] = trend[column].shift(period)\n",
      "C:\\Users\\denis\\AppData\\Local\\Temp\\ipykernel_16276\\2594479708.py:4: PerformanceWarning: DataFrame is highly fragmented.  This is usually the result of calling `frame.insert` many times, which has poor performance.  Consider joining all columns at once using pd.concat(axis=1) instead. To get a de-fragmented frame, use `newframe = frame.copy()`\n",
      "  trend[column + '_' + str(period)] = trend[column].shift(period)\n",
      "C:\\Users\\denis\\AppData\\Local\\Temp\\ipykernel_16276\\2594479708.py:4: PerformanceWarning: DataFrame is highly fragmented.  This is usually the result of calling `frame.insert` many times, which has poor performance.  Consider joining all columns at once using pd.concat(axis=1) instead. To get a de-fragmented frame, use `newframe = frame.copy()`\n",
      "  trend[column + '_' + str(period)] = trend[column].shift(period)\n",
      "C:\\Users\\denis\\AppData\\Local\\Temp\\ipykernel_16276\\2594479708.py:4: PerformanceWarning: DataFrame is highly fragmented.  This is usually the result of calling `frame.insert` many times, which has poor performance.  Consider joining all columns at once using pd.concat(axis=1) instead. To get a de-fragmented frame, use `newframe = frame.copy()`\n",
      "  trend[column + '_' + str(period)] = trend[column].shift(period)\n",
      "C:\\Users\\denis\\AppData\\Local\\Temp\\ipykernel_16276\\2594479708.py:4: PerformanceWarning: DataFrame is highly fragmented.  This is usually the result of calling `frame.insert` many times, which has poor performance.  Consider joining all columns at once using pd.concat(axis=1) instead. To get a de-fragmented frame, use `newframe = frame.copy()`\n",
      "  trend[column + '_' + str(period)] = trend[column].shift(period)\n",
      "C:\\Users\\denis\\AppData\\Local\\Temp\\ipykernel_16276\\2594479708.py:4: PerformanceWarning: DataFrame is highly fragmented.  This is usually the result of calling `frame.insert` many times, which has poor performance.  Consider joining all columns at once using pd.concat(axis=1) instead. To get a de-fragmented frame, use `newframe = frame.copy()`\n",
      "  trend[column + '_' + str(period)] = trend[column].shift(period)\n",
      "C:\\Users\\denis\\AppData\\Local\\Temp\\ipykernel_16276\\2594479708.py:4: PerformanceWarning: DataFrame is highly fragmented.  This is usually the result of calling `frame.insert` many times, which has poor performance.  Consider joining all columns at once using pd.concat(axis=1) instead. To get a de-fragmented frame, use `newframe = frame.copy()`\n",
      "  trend[column + '_' + str(period)] = trend[column].shift(period)\n",
      "C:\\Users\\denis\\AppData\\Local\\Temp\\ipykernel_16276\\2594479708.py:4: PerformanceWarning: DataFrame is highly fragmented.  This is usually the result of calling `frame.insert` many times, which has poor performance.  Consider joining all columns at once using pd.concat(axis=1) instead. To get a de-fragmented frame, use `newframe = frame.copy()`\n",
      "  trend[column + '_' + str(period)] = trend[column].shift(period)\n",
      "C:\\Users\\denis\\AppData\\Local\\Temp\\ipykernel_16276\\2594479708.py:4: PerformanceWarning: DataFrame is highly fragmented.  This is usually the result of calling `frame.insert` many times, which has poor performance.  Consider joining all columns at once using pd.concat(axis=1) instead. To get a de-fragmented frame, use `newframe = frame.copy()`\n",
      "  trend[column + '_' + str(period)] = trend[column].shift(period)\n",
      "C:\\Users\\denis\\AppData\\Local\\Temp\\ipykernel_16276\\2594479708.py:4: PerformanceWarning: DataFrame is highly fragmented.  This is usually the result of calling `frame.insert` many times, which has poor performance.  Consider joining all columns at once using pd.concat(axis=1) instead. To get a de-fragmented frame, use `newframe = frame.copy()`\n",
      "  trend[column + '_' + str(period)] = trend[column].shift(period)\n",
      "C:\\Users\\denis\\AppData\\Local\\Temp\\ipykernel_16276\\2594479708.py:4: PerformanceWarning: DataFrame is highly fragmented.  This is usually the result of calling `frame.insert` many times, which has poor performance.  Consider joining all columns at once using pd.concat(axis=1) instead. To get a de-fragmented frame, use `newframe = frame.copy()`\n",
      "  trend[column + '_' + str(period)] = trend[column].shift(period)\n",
      "C:\\Users\\denis\\AppData\\Local\\Temp\\ipykernel_16276\\2594479708.py:4: PerformanceWarning: DataFrame is highly fragmented.  This is usually the result of calling `frame.insert` many times, which has poor performance.  Consider joining all columns at once using pd.concat(axis=1) instead. To get a de-fragmented frame, use `newframe = frame.copy()`\n",
      "  trend[column + '_' + str(period)] = trend[column].shift(period)\n",
      "C:\\Users\\denis\\AppData\\Local\\Temp\\ipykernel_16276\\2594479708.py:4: PerformanceWarning: DataFrame is highly fragmented.  This is usually the result of calling `frame.insert` many times, which has poor performance.  Consider joining all columns at once using pd.concat(axis=1) instead. To get a de-fragmented frame, use `newframe = frame.copy()`\n",
      "  trend[column + '_' + str(period)] = trend[column].shift(period)\n",
      "C:\\Users\\denis\\AppData\\Local\\Temp\\ipykernel_16276\\2594479708.py:4: PerformanceWarning: DataFrame is highly fragmented.  This is usually the result of calling `frame.insert` many times, which has poor performance.  Consider joining all columns at once using pd.concat(axis=1) instead. To get a de-fragmented frame, use `newframe = frame.copy()`\n",
      "  trend[column + '_' + str(period)] = trend[column].shift(period)\n",
      "C:\\Users\\denis\\AppData\\Local\\Temp\\ipykernel_16276\\2594479708.py:4: PerformanceWarning: DataFrame is highly fragmented.  This is usually the result of calling `frame.insert` many times, which has poor performance.  Consider joining all columns at once using pd.concat(axis=1) instead. To get a de-fragmented frame, use `newframe = frame.copy()`\n",
      "  trend[column + '_' + str(period)] = trend[column].shift(period)\n",
      "C:\\Users\\denis\\AppData\\Local\\Temp\\ipykernel_16276\\2594479708.py:4: PerformanceWarning: DataFrame is highly fragmented.  This is usually the result of calling `frame.insert` many times, which has poor performance.  Consider joining all columns at once using pd.concat(axis=1) instead. To get a de-fragmented frame, use `newframe = frame.copy()`\n",
      "  trend[column + '_' + str(period)] = trend[column].shift(period)\n",
      "C:\\Users\\denis\\AppData\\Local\\Temp\\ipykernel_16276\\2594479708.py:4: PerformanceWarning: DataFrame is highly fragmented.  This is usually the result of calling `frame.insert` many times, which has poor performance.  Consider joining all columns at once using pd.concat(axis=1) instead. To get a de-fragmented frame, use `newframe = frame.copy()`\n",
      "  trend[column + '_' + str(period)] = trend[column].shift(period)\n",
      "C:\\Users\\denis\\AppData\\Local\\Temp\\ipykernel_16276\\2594479708.py:4: PerformanceWarning: DataFrame is highly fragmented.  This is usually the result of calling `frame.insert` many times, which has poor performance.  Consider joining all columns at once using pd.concat(axis=1) instead. To get a de-fragmented frame, use `newframe = frame.copy()`\n",
      "  trend[column + '_' + str(period)] = trend[column].shift(period)\n",
      "C:\\Users\\denis\\AppData\\Local\\Temp\\ipykernel_16276\\2594479708.py:4: PerformanceWarning: DataFrame is highly fragmented.  This is usually the result of calling `frame.insert` many times, which has poor performance.  Consider joining all columns at once using pd.concat(axis=1) instead. To get a de-fragmented frame, use `newframe = frame.copy()`\n",
      "  trend[column + '_' + str(period)] = trend[column].shift(period)\n",
      "C:\\Users\\denis\\AppData\\Local\\Temp\\ipykernel_16276\\2594479708.py:4: PerformanceWarning: DataFrame is highly fragmented.  This is usually the result of calling `frame.insert` many times, which has poor performance.  Consider joining all columns at once using pd.concat(axis=1) instead. To get a de-fragmented frame, use `newframe = frame.copy()`\n",
      "  trend[column + '_' + str(period)] = trend[column].shift(period)\n",
      "C:\\Users\\denis\\AppData\\Local\\Temp\\ipykernel_16276\\2594479708.py:4: PerformanceWarning: DataFrame is highly fragmented.  This is usually the result of calling `frame.insert` many times, which has poor performance.  Consider joining all columns at once using pd.concat(axis=1) instead. To get a de-fragmented frame, use `newframe = frame.copy()`\n",
      "  trend[column + '_' + str(period)] = trend[column].shift(period)\n",
      "C:\\Users\\denis\\AppData\\Local\\Temp\\ipykernel_16276\\2594479708.py:4: PerformanceWarning: DataFrame is highly fragmented.  This is usually the result of calling `frame.insert` many times, which has poor performance.  Consider joining all columns at once using pd.concat(axis=1) instead. To get a de-fragmented frame, use `newframe = frame.copy()`\n",
      "  trend[column + '_' + str(period)] = trend[column].shift(period)\n",
      "C:\\Users\\denis\\AppData\\Local\\Temp\\ipykernel_16276\\2594479708.py:4: PerformanceWarning: DataFrame is highly fragmented.  This is usually the result of calling `frame.insert` many times, which has poor performance.  Consider joining all columns at once using pd.concat(axis=1) instead. To get a de-fragmented frame, use `newframe = frame.copy()`\n",
      "  trend[column + '_' + str(period)] = trend[column].shift(period)\n",
      "C:\\Users\\denis\\AppData\\Local\\Temp\\ipykernel_16276\\2594479708.py:4: PerformanceWarning: DataFrame is highly fragmented.  This is usually the result of calling `frame.insert` many times, which has poor performance.  Consider joining all columns at once using pd.concat(axis=1) instead. To get a de-fragmented frame, use `newframe = frame.copy()`\n",
      "  trend[column + '_' + str(period)] = trend[column].shift(period)\n",
      "C:\\Users\\denis\\AppData\\Local\\Temp\\ipykernel_16276\\2594479708.py:4: PerformanceWarning: DataFrame is highly fragmented.  This is usually the result of calling `frame.insert` many times, which has poor performance.  Consider joining all columns at once using pd.concat(axis=1) instead. To get a de-fragmented frame, use `newframe = frame.copy()`\n",
      "  trend[column + '_' + str(period)] = trend[column].shift(period)\n",
      "C:\\Users\\denis\\AppData\\Local\\Temp\\ipykernel_16276\\2594479708.py:4: PerformanceWarning: DataFrame is highly fragmented.  This is usually the result of calling `frame.insert` many times, which has poor performance.  Consider joining all columns at once using pd.concat(axis=1) instead. To get a de-fragmented frame, use `newframe = frame.copy()`\n",
      "  trend[column + '_' + str(period)] = trend[column].shift(period)\n",
      "C:\\Users\\denis\\AppData\\Local\\Temp\\ipykernel_16276\\2594479708.py:4: PerformanceWarning: DataFrame is highly fragmented.  This is usually the result of calling `frame.insert` many times, which has poor performance.  Consider joining all columns at once using pd.concat(axis=1) instead. To get a de-fragmented frame, use `newframe = frame.copy()`\n",
      "  trend[column + '_' + str(period)] = trend[column].shift(period)\n",
      "C:\\Users\\denis\\AppData\\Local\\Temp\\ipykernel_16276\\2594479708.py:4: PerformanceWarning: DataFrame is highly fragmented.  This is usually the result of calling `frame.insert` many times, which has poor performance.  Consider joining all columns at once using pd.concat(axis=1) instead. To get a de-fragmented frame, use `newframe = frame.copy()`\n",
      "  trend[column + '_' + str(period)] = trend[column].shift(period)\n",
      "C:\\Users\\denis\\AppData\\Local\\Temp\\ipykernel_16276\\2594479708.py:4: PerformanceWarning: DataFrame is highly fragmented.  This is usually the result of calling `frame.insert` many times, which has poor performance.  Consider joining all columns at once using pd.concat(axis=1) instead. To get a de-fragmented frame, use `newframe = frame.copy()`\n",
      "  trend[column + '_' + str(period)] = trend[column].shift(period)\n",
      "C:\\Users\\denis\\AppData\\Local\\Temp\\ipykernel_16276\\2594479708.py:4: PerformanceWarning: DataFrame is highly fragmented.  This is usually the result of calling `frame.insert` many times, which has poor performance.  Consider joining all columns at once using pd.concat(axis=1) instead. To get a de-fragmented frame, use `newframe = frame.copy()`\n",
      "  trend[column + '_' + str(period)] = trend[column].shift(period)\n",
      "C:\\Users\\denis\\AppData\\Local\\Temp\\ipykernel_16276\\2594479708.py:4: PerformanceWarning: DataFrame is highly fragmented.  This is usually the result of calling `frame.insert` many times, which has poor performance.  Consider joining all columns at once using pd.concat(axis=1) instead. To get a de-fragmented frame, use `newframe = frame.copy()`\n",
      "  trend[column + '_' + str(period)] = trend[column].shift(period)\n",
      "C:\\Users\\denis\\AppData\\Local\\Temp\\ipykernel_16276\\2594479708.py:4: PerformanceWarning: DataFrame is highly fragmented.  This is usually the result of calling `frame.insert` many times, which has poor performance.  Consider joining all columns at once using pd.concat(axis=1) instead. To get a de-fragmented frame, use `newframe = frame.copy()`\n",
      "  trend[column + '_' + str(period)] = trend[column].shift(period)\n",
      "C:\\Users\\denis\\AppData\\Local\\Temp\\ipykernel_16276\\2594479708.py:4: PerformanceWarning: DataFrame is highly fragmented.  This is usually the result of calling `frame.insert` many times, which has poor performance.  Consider joining all columns at once using pd.concat(axis=1) instead. To get a de-fragmented frame, use `newframe = frame.copy()`\n",
      "  trend[column + '_' + str(period)] = trend[column].shift(period)\n",
      "C:\\Users\\denis\\AppData\\Local\\Temp\\ipykernel_16276\\2594479708.py:4: PerformanceWarning: DataFrame is highly fragmented.  This is usually the result of calling `frame.insert` many times, which has poor performance.  Consider joining all columns at once using pd.concat(axis=1) instead. To get a de-fragmented frame, use `newframe = frame.copy()`\n",
      "  trend[column + '_' + str(period)] = trend[column].shift(period)\n",
      "C:\\Users\\denis\\AppData\\Local\\Temp\\ipykernel_16276\\2594479708.py:4: PerformanceWarning: DataFrame is highly fragmented.  This is usually the result of calling `frame.insert` many times, which has poor performance.  Consider joining all columns at once using pd.concat(axis=1) instead. To get a de-fragmented frame, use `newframe = frame.copy()`\n",
      "  trend[column + '_' + str(period)] = trend[column].shift(period)\n",
      "C:\\Users\\denis\\AppData\\Local\\Temp\\ipykernel_16276\\2594479708.py:4: PerformanceWarning: DataFrame is highly fragmented.  This is usually the result of calling `frame.insert` many times, which has poor performance.  Consider joining all columns at once using pd.concat(axis=1) instead. To get a de-fragmented frame, use `newframe = frame.copy()`\n",
      "  trend[column + '_' + str(period)] = trend[column].shift(period)\n",
      "C:\\Users\\denis\\AppData\\Local\\Temp\\ipykernel_16276\\2594479708.py:4: PerformanceWarning: DataFrame is highly fragmented.  This is usually the result of calling `frame.insert` many times, which has poor performance.  Consider joining all columns at once using pd.concat(axis=1) instead. To get a de-fragmented frame, use `newframe = frame.copy()`\n",
      "  trend[column + '_' + str(period)] = trend[column].shift(period)\n",
      "C:\\Users\\denis\\AppData\\Local\\Temp\\ipykernel_16276\\2594479708.py:4: PerformanceWarning: DataFrame is highly fragmented.  This is usually the result of calling `frame.insert` many times, which has poor performance.  Consider joining all columns at once using pd.concat(axis=1) instead. To get a de-fragmented frame, use `newframe = frame.copy()`\n",
      "  trend[column + '_' + str(period)] = trend[column].shift(period)\n",
      "C:\\Users\\denis\\AppData\\Local\\Temp\\ipykernel_16276\\2594479708.py:4: PerformanceWarning: DataFrame is highly fragmented.  This is usually the result of calling `frame.insert` many times, which has poor performance.  Consider joining all columns at once using pd.concat(axis=1) instead. To get a de-fragmented frame, use `newframe = frame.copy()`\n",
      "  trend[column + '_' + str(period)] = trend[column].shift(period)\n",
      "C:\\Users\\denis\\AppData\\Local\\Temp\\ipykernel_16276\\2594479708.py:4: PerformanceWarning: DataFrame is highly fragmented.  This is usually the result of calling `frame.insert` many times, which has poor performance.  Consider joining all columns at once using pd.concat(axis=1) instead. To get a de-fragmented frame, use `newframe = frame.copy()`\n",
      "  trend[column + '_' + str(period)] = trend[column].shift(period)\n",
      "C:\\Users\\denis\\AppData\\Local\\Temp\\ipykernel_16276\\2594479708.py:4: PerformanceWarning: DataFrame is highly fragmented.  This is usually the result of calling `frame.insert` many times, which has poor performance.  Consider joining all columns at once using pd.concat(axis=1) instead. To get a de-fragmented frame, use `newframe = frame.copy()`\n",
      "  trend[column + '_' + str(period)] = trend[column].shift(period)\n",
      "C:\\Users\\denis\\AppData\\Local\\Temp\\ipykernel_16276\\2594479708.py:4: PerformanceWarning: DataFrame is highly fragmented.  This is usually the result of calling `frame.insert` many times, which has poor performance.  Consider joining all columns at once using pd.concat(axis=1) instead. To get a de-fragmented frame, use `newframe = frame.copy()`\n",
      "  trend[column + '_' + str(period)] = trend[column].shift(period)\n",
      "C:\\Users\\denis\\AppData\\Local\\Temp\\ipykernel_16276\\2594479708.py:4: PerformanceWarning: DataFrame is highly fragmented.  This is usually the result of calling `frame.insert` many times, which has poor performance.  Consider joining all columns at once using pd.concat(axis=1) instead. To get a de-fragmented frame, use `newframe = frame.copy()`\n",
      "  trend[column + '_' + str(period)] = trend[column].shift(period)\n",
      "C:\\Users\\denis\\AppData\\Local\\Temp\\ipykernel_16276\\2594479708.py:4: PerformanceWarning: DataFrame is highly fragmented.  This is usually the result of calling `frame.insert` many times, which has poor performance.  Consider joining all columns at once using pd.concat(axis=1) instead. To get a de-fragmented frame, use `newframe = frame.copy()`\n",
      "  trend[column + '_' + str(period)] = trend[column].shift(period)\n",
      "C:\\Users\\denis\\AppData\\Local\\Temp\\ipykernel_16276\\2594479708.py:4: PerformanceWarning: DataFrame is highly fragmented.  This is usually the result of calling `frame.insert` many times, which has poor performance.  Consider joining all columns at once using pd.concat(axis=1) instead. To get a de-fragmented frame, use `newframe = frame.copy()`\n",
      "  trend[column + '_' + str(period)] = trend[column].shift(period)\n",
      "C:\\Users\\denis\\AppData\\Local\\Temp\\ipykernel_16276\\2594479708.py:4: PerformanceWarning: DataFrame is highly fragmented.  This is usually the result of calling `frame.insert` many times, which has poor performance.  Consider joining all columns at once using pd.concat(axis=1) instead. To get a de-fragmented frame, use `newframe = frame.copy()`\n",
      "  trend[column + '_' + str(period)] = trend[column].shift(period)\n",
      "C:\\Users\\denis\\AppData\\Local\\Temp\\ipykernel_16276\\2594479708.py:4: PerformanceWarning: DataFrame is highly fragmented.  This is usually the result of calling `frame.insert` many times, which has poor performance.  Consider joining all columns at once using pd.concat(axis=1) instead. To get a de-fragmented frame, use `newframe = frame.copy()`\n",
      "  trend[column + '_' + str(period)] = trend[column].shift(period)\n",
      "C:\\Users\\denis\\AppData\\Local\\Temp\\ipykernel_16276\\2594479708.py:4: PerformanceWarning: DataFrame is highly fragmented.  This is usually the result of calling `frame.insert` many times, which has poor performance.  Consider joining all columns at once using pd.concat(axis=1) instead. To get a de-fragmented frame, use `newframe = frame.copy()`\n",
      "  trend[column + '_' + str(period)] = trend[column].shift(period)\n",
      "C:\\Users\\denis\\AppData\\Local\\Temp\\ipykernel_16276\\2594479708.py:4: PerformanceWarning: DataFrame is highly fragmented.  This is usually the result of calling `frame.insert` many times, which has poor performance.  Consider joining all columns at once using pd.concat(axis=1) instead. To get a de-fragmented frame, use `newframe = frame.copy()`\n",
      "  trend[column + '_' + str(period)] = trend[column].shift(period)\n",
      "C:\\Users\\denis\\AppData\\Local\\Temp\\ipykernel_16276\\2594479708.py:4: PerformanceWarning: DataFrame is highly fragmented.  This is usually the result of calling `frame.insert` many times, which has poor performance.  Consider joining all columns at once using pd.concat(axis=1) instead. To get a de-fragmented frame, use `newframe = frame.copy()`\n",
      "  trend[column + '_' + str(period)] = trend[column].shift(period)\n",
      "C:\\Users\\denis\\AppData\\Local\\Temp\\ipykernel_16276\\2594479708.py:4: PerformanceWarning: DataFrame is highly fragmented.  This is usually the result of calling `frame.insert` many times, which has poor performance.  Consider joining all columns at once using pd.concat(axis=1) instead. To get a de-fragmented frame, use `newframe = frame.copy()`\n",
      "  trend[column + '_' + str(period)] = trend[column].shift(period)\n",
      "C:\\Users\\denis\\AppData\\Local\\Temp\\ipykernel_16276\\2594479708.py:4: PerformanceWarning: DataFrame is highly fragmented.  This is usually the result of calling `frame.insert` many times, which has poor performance.  Consider joining all columns at once using pd.concat(axis=1) instead. To get a de-fragmented frame, use `newframe = frame.copy()`\n",
      "  trend[column + '_' + str(period)] = trend[column].shift(period)\n",
      "C:\\Users\\denis\\AppData\\Local\\Temp\\ipykernel_16276\\2594479708.py:4: PerformanceWarning: DataFrame is highly fragmented.  This is usually the result of calling `frame.insert` many times, which has poor performance.  Consider joining all columns at once using pd.concat(axis=1) instead. To get a de-fragmented frame, use `newframe = frame.copy()`\n",
      "  trend[column + '_' + str(period)] = trend[column].shift(period)\n",
      "C:\\Users\\denis\\AppData\\Local\\Temp\\ipykernel_16276\\2594479708.py:4: PerformanceWarning: DataFrame is highly fragmented.  This is usually the result of calling `frame.insert` many times, which has poor performance.  Consider joining all columns at once using pd.concat(axis=1) instead. To get a de-fragmented frame, use `newframe = frame.copy()`\n",
      "  trend[column + '_' + str(period)] = trend[column].shift(period)\n",
      "C:\\Users\\denis\\AppData\\Local\\Temp\\ipykernel_16276\\2594479708.py:4: PerformanceWarning: DataFrame is highly fragmented.  This is usually the result of calling `frame.insert` many times, which has poor performance.  Consider joining all columns at once using pd.concat(axis=1) instead. To get a de-fragmented frame, use `newframe = frame.copy()`\n",
      "  trend[column + '_' + str(period)] = trend[column].shift(period)\n",
      "C:\\Users\\denis\\AppData\\Local\\Temp\\ipykernel_16276\\2594479708.py:4: PerformanceWarning: DataFrame is highly fragmented.  This is usually the result of calling `frame.insert` many times, which has poor performance.  Consider joining all columns at once using pd.concat(axis=1) instead. To get a de-fragmented frame, use `newframe = frame.copy()`\n",
      "  trend[column + '_' + str(period)] = trend[column].shift(period)\n",
      "C:\\Users\\denis\\AppData\\Local\\Temp\\ipykernel_16276\\2594479708.py:4: PerformanceWarning: DataFrame is highly fragmented.  This is usually the result of calling `frame.insert` many times, which has poor performance.  Consider joining all columns at once using pd.concat(axis=1) instead. To get a de-fragmented frame, use `newframe = frame.copy()`\n",
      "  trend[column + '_' + str(period)] = trend[column].shift(period)\n",
      "C:\\Users\\denis\\AppData\\Local\\Temp\\ipykernel_16276\\2594479708.py:4: PerformanceWarning: DataFrame is highly fragmented.  This is usually the result of calling `frame.insert` many times, which has poor performance.  Consider joining all columns at once using pd.concat(axis=1) instead. To get a de-fragmented frame, use `newframe = frame.copy()`\n",
      "  trend[column + '_' + str(period)] = trend[column].shift(period)\n",
      "C:\\Users\\denis\\AppData\\Local\\Temp\\ipykernel_16276\\2594479708.py:4: PerformanceWarning: DataFrame is highly fragmented.  This is usually the result of calling `frame.insert` many times, which has poor performance.  Consider joining all columns at once using pd.concat(axis=1) instead. To get a de-fragmented frame, use `newframe = frame.copy()`\n",
      "  trend[column + '_' + str(period)] = trend[column].shift(period)\n",
      "C:\\Users\\denis\\AppData\\Local\\Temp\\ipykernel_16276\\2594479708.py:4: PerformanceWarning: DataFrame is highly fragmented.  This is usually the result of calling `frame.insert` many times, which has poor performance.  Consider joining all columns at once using pd.concat(axis=1) instead. To get a de-fragmented frame, use `newframe = frame.copy()`\n",
      "  trend[column + '_' + str(period)] = trend[column].shift(period)\n",
      "C:\\Users\\denis\\AppData\\Local\\Temp\\ipykernel_16276\\2594479708.py:4: PerformanceWarning: DataFrame is highly fragmented.  This is usually the result of calling `frame.insert` many times, which has poor performance.  Consider joining all columns at once using pd.concat(axis=1) instead. To get a de-fragmented frame, use `newframe = frame.copy()`\n",
      "  trend[column + '_' + str(period)] = trend[column].shift(period)\n",
      "C:\\Users\\denis\\AppData\\Local\\Temp\\ipykernel_16276\\2594479708.py:4: PerformanceWarning: DataFrame is highly fragmented.  This is usually the result of calling `frame.insert` many times, which has poor performance.  Consider joining all columns at once using pd.concat(axis=1) instead. To get a de-fragmented frame, use `newframe = frame.copy()`\n",
      "  trend[column + '_' + str(period)] = trend[column].shift(period)\n",
      "C:\\Users\\denis\\AppData\\Local\\Temp\\ipykernel_16276\\2594479708.py:4: PerformanceWarning: DataFrame is highly fragmented.  This is usually the result of calling `frame.insert` many times, which has poor performance.  Consider joining all columns at once using pd.concat(axis=1) instead. To get a de-fragmented frame, use `newframe = frame.copy()`\n",
      "  trend[column + '_' + str(period)] = trend[column].shift(period)\n",
      "C:\\Users\\denis\\AppData\\Local\\Temp\\ipykernel_16276\\2594479708.py:4: PerformanceWarning: DataFrame is highly fragmented.  This is usually the result of calling `frame.insert` many times, which has poor performance.  Consider joining all columns at once using pd.concat(axis=1) instead. To get a de-fragmented frame, use `newframe = frame.copy()`\n",
      "  trend[column + '_' + str(period)] = trend[column].shift(period)\n",
      "C:\\Users\\denis\\AppData\\Local\\Temp\\ipykernel_16276\\2594479708.py:4: PerformanceWarning: DataFrame is highly fragmented.  This is usually the result of calling `frame.insert` many times, which has poor performance.  Consider joining all columns at once using pd.concat(axis=1) instead. To get a de-fragmented frame, use `newframe = frame.copy()`\n",
      "  trend[column + '_' + str(period)] = trend[column].shift(period)\n",
      "C:\\Users\\denis\\AppData\\Local\\Temp\\ipykernel_16276\\2594479708.py:4: PerformanceWarning: DataFrame is highly fragmented.  This is usually the result of calling `frame.insert` many times, which has poor performance.  Consider joining all columns at once using pd.concat(axis=1) instead. To get a de-fragmented frame, use `newframe = frame.copy()`\n",
      "  trend[column + '_' + str(period)] = trend[column].shift(period)\n",
      "C:\\Users\\denis\\AppData\\Local\\Temp\\ipykernel_16276\\2594479708.py:4: PerformanceWarning: DataFrame is highly fragmented.  This is usually the result of calling `frame.insert` many times, which has poor performance.  Consider joining all columns at once using pd.concat(axis=1) instead. To get a de-fragmented frame, use `newframe = frame.copy()`\n",
      "  trend[column + '_' + str(period)] = trend[column].shift(period)\n",
      "C:\\Users\\denis\\AppData\\Local\\Temp\\ipykernel_16276\\2594479708.py:4: PerformanceWarning: DataFrame is highly fragmented.  This is usually the result of calling `frame.insert` many times, which has poor performance.  Consider joining all columns at once using pd.concat(axis=1) instead. To get a de-fragmented frame, use `newframe = frame.copy()`\n",
      "  trend[column + '_' + str(period)] = trend[column].shift(period)\n",
      "C:\\Users\\denis\\AppData\\Local\\Temp\\ipykernel_16276\\2594479708.py:4: PerformanceWarning: DataFrame is highly fragmented.  This is usually the result of calling `frame.insert` many times, which has poor performance.  Consider joining all columns at once using pd.concat(axis=1) instead. To get a de-fragmented frame, use `newframe = frame.copy()`\n",
      "  trend[column + '_' + str(period)] = trend[column].shift(period)\n",
      "C:\\Users\\denis\\AppData\\Local\\Temp\\ipykernel_16276\\2594479708.py:4: PerformanceWarning: DataFrame is highly fragmented.  This is usually the result of calling `frame.insert` many times, which has poor performance.  Consider joining all columns at once using pd.concat(axis=1) instead. To get a de-fragmented frame, use `newframe = frame.copy()`\n",
      "  trend[column + '_' + str(period)] = trend[column].shift(period)\n",
      "C:\\Users\\denis\\AppData\\Local\\Temp\\ipykernel_16276\\2594479708.py:4: PerformanceWarning: DataFrame is highly fragmented.  This is usually the result of calling `frame.insert` many times, which has poor performance.  Consider joining all columns at once using pd.concat(axis=1) instead. To get a de-fragmented frame, use `newframe = frame.copy()`\n",
      "  trend[column + '_' + str(period)] = trend[column].shift(period)\n",
      "C:\\Users\\denis\\AppData\\Local\\Temp\\ipykernel_16276\\2594479708.py:4: PerformanceWarning: DataFrame is highly fragmented.  This is usually the result of calling `frame.insert` many times, which has poor performance.  Consider joining all columns at once using pd.concat(axis=1) instead. To get a de-fragmented frame, use `newframe = frame.copy()`\n",
      "  trend[column + '_' + str(period)] = trend[column].shift(period)\n",
      "C:\\Users\\denis\\AppData\\Local\\Temp\\ipykernel_16276\\2594479708.py:4: PerformanceWarning: DataFrame is highly fragmented.  This is usually the result of calling `frame.insert` many times, which has poor performance.  Consider joining all columns at once using pd.concat(axis=1) instead. To get a de-fragmented frame, use `newframe = frame.copy()`\n",
      "  trend[column + '_' + str(period)] = trend[column].shift(period)\n",
      "C:\\Users\\denis\\AppData\\Local\\Temp\\ipykernel_16276\\2594479708.py:4: PerformanceWarning: DataFrame is highly fragmented.  This is usually the result of calling `frame.insert` many times, which has poor performance.  Consider joining all columns at once using pd.concat(axis=1) instead. To get a de-fragmented frame, use `newframe = frame.copy()`\n",
      "  trend[column + '_' + str(period)] = trend[column].shift(period)\n",
      "C:\\Users\\denis\\AppData\\Local\\Temp\\ipykernel_16276\\2594479708.py:4: PerformanceWarning: DataFrame is highly fragmented.  This is usually the result of calling `frame.insert` many times, which has poor performance.  Consider joining all columns at once using pd.concat(axis=1) instead. To get a de-fragmented frame, use `newframe = frame.copy()`\n",
      "  trend[column + '_' + str(period)] = trend[column].shift(period)\n",
      "C:\\Users\\denis\\AppData\\Local\\Temp\\ipykernel_16276\\2594479708.py:4: PerformanceWarning: DataFrame is highly fragmented.  This is usually the result of calling `frame.insert` many times, which has poor performance.  Consider joining all columns at once using pd.concat(axis=1) instead. To get a de-fragmented frame, use `newframe = frame.copy()`\n",
      "  trend[column + '_' + str(period)] = trend[column].shift(period)\n",
      "C:\\Users\\denis\\AppData\\Local\\Temp\\ipykernel_16276\\2594479708.py:4: PerformanceWarning: DataFrame is highly fragmented.  This is usually the result of calling `frame.insert` many times, which has poor performance.  Consider joining all columns at once using pd.concat(axis=1) instead. To get a de-fragmented frame, use `newframe = frame.copy()`\n",
      "  trend[column + '_' + str(period)] = trend[column].shift(period)\n",
      "C:\\Users\\denis\\AppData\\Local\\Temp\\ipykernel_16276\\2594479708.py:4: PerformanceWarning: DataFrame is highly fragmented.  This is usually the result of calling `frame.insert` many times, which has poor performance.  Consider joining all columns at once using pd.concat(axis=1) instead. To get a de-fragmented frame, use `newframe = frame.copy()`\n",
      "  trend[column + '_' + str(period)] = trend[column].shift(period)\n",
      "C:\\Users\\denis\\AppData\\Local\\Temp\\ipykernel_16276\\2594479708.py:4: PerformanceWarning: DataFrame is highly fragmented.  This is usually the result of calling `frame.insert` many times, which has poor performance.  Consider joining all columns at once using pd.concat(axis=1) instead. To get a de-fragmented frame, use `newframe = frame.copy()`\n",
      "  trend[column + '_' + str(period)] = trend[column].shift(period)\n",
      "C:\\Users\\denis\\AppData\\Local\\Temp\\ipykernel_16276\\2594479708.py:4: PerformanceWarning: DataFrame is highly fragmented.  This is usually the result of calling `frame.insert` many times, which has poor performance.  Consider joining all columns at once using pd.concat(axis=1) instead. To get a de-fragmented frame, use `newframe = frame.copy()`\n",
      "  trend[column + '_' + str(period)] = trend[column].shift(period)\n",
      "C:\\Users\\denis\\AppData\\Local\\Temp\\ipykernel_16276\\2594479708.py:4: PerformanceWarning: DataFrame is highly fragmented.  This is usually the result of calling `frame.insert` many times, which has poor performance.  Consider joining all columns at once using pd.concat(axis=1) instead. To get a de-fragmented frame, use `newframe = frame.copy()`\n",
      "  trend[column + '_' + str(period)] = trend[column].shift(period)\n",
      "C:\\Users\\denis\\AppData\\Local\\Temp\\ipykernel_16276\\2594479708.py:4: PerformanceWarning: DataFrame is highly fragmented.  This is usually the result of calling `frame.insert` many times, which has poor performance.  Consider joining all columns at once using pd.concat(axis=1) instead. To get a de-fragmented frame, use `newframe = frame.copy()`\n",
      "  trend[column + '_' + str(period)] = trend[column].shift(period)\n",
      "C:\\Users\\denis\\AppData\\Local\\Temp\\ipykernel_16276\\2594479708.py:4: PerformanceWarning: DataFrame is highly fragmented.  This is usually the result of calling `frame.insert` many times, which has poor performance.  Consider joining all columns at once using pd.concat(axis=1) instead. To get a de-fragmented frame, use `newframe = frame.copy()`\n",
      "  trend[column + '_' + str(period)] = trend[column].shift(period)\n",
      "C:\\Users\\denis\\AppData\\Local\\Temp\\ipykernel_16276\\2594479708.py:4: PerformanceWarning: DataFrame is highly fragmented.  This is usually the result of calling `frame.insert` many times, which has poor performance.  Consider joining all columns at once using pd.concat(axis=1) instead. To get a de-fragmented frame, use `newframe = frame.copy()`\n",
      "  trend[column + '_' + str(period)] = trend[column].shift(period)\n",
      "C:\\Users\\denis\\AppData\\Local\\Temp\\ipykernel_16276\\2594479708.py:4: PerformanceWarning: DataFrame is highly fragmented.  This is usually the result of calling `frame.insert` many times, which has poor performance.  Consider joining all columns at once using pd.concat(axis=1) instead. To get a de-fragmented frame, use `newframe = frame.copy()`\n",
      "  trend[column + '_' + str(period)] = trend[column].shift(period)\n",
      "C:\\Users\\denis\\AppData\\Local\\Temp\\ipykernel_16276\\2594479708.py:4: PerformanceWarning: DataFrame is highly fragmented.  This is usually the result of calling `frame.insert` many times, which has poor performance.  Consider joining all columns at once using pd.concat(axis=1) instead. To get a de-fragmented frame, use `newframe = frame.copy()`\n",
      "  trend[column + '_' + str(period)] = trend[column].shift(period)\n",
      "C:\\Users\\denis\\AppData\\Local\\Temp\\ipykernel_16276\\2594479708.py:4: PerformanceWarning: DataFrame is highly fragmented.  This is usually the result of calling `frame.insert` many times, which has poor performance.  Consider joining all columns at once using pd.concat(axis=1) instead. To get a de-fragmented frame, use `newframe = frame.copy()`\n",
      "  trend[column + '_' + str(period)] = trend[column].shift(period)\n",
      "C:\\Users\\denis\\AppData\\Local\\Temp\\ipykernel_16276\\2594479708.py:4: PerformanceWarning: DataFrame is highly fragmented.  This is usually the result of calling `frame.insert` many times, which has poor performance.  Consider joining all columns at once using pd.concat(axis=1) instead. To get a de-fragmented frame, use `newframe = frame.copy()`\n",
      "  trend[column + '_' + str(period)] = trend[column].shift(period)\n",
      "C:\\Users\\denis\\AppData\\Local\\Temp\\ipykernel_16276\\2594479708.py:4: PerformanceWarning: DataFrame is highly fragmented.  This is usually the result of calling `frame.insert` many times, which has poor performance.  Consider joining all columns at once using pd.concat(axis=1) instead. To get a de-fragmented frame, use `newframe = frame.copy()`\n",
      "  trend[column + '_' + str(period)] = trend[column].shift(period)\n",
      "C:\\Users\\denis\\AppData\\Local\\Temp\\ipykernel_16276\\2594479708.py:4: PerformanceWarning: DataFrame is highly fragmented.  This is usually the result of calling `frame.insert` many times, which has poor performance.  Consider joining all columns at once using pd.concat(axis=1) instead. To get a de-fragmented frame, use `newframe = frame.copy()`\n",
      "  trend[column + '_' + str(period)] = trend[column].shift(period)\n",
      "C:\\Users\\denis\\AppData\\Local\\Temp\\ipykernel_16276\\2594479708.py:4: PerformanceWarning: DataFrame is highly fragmented.  This is usually the result of calling `frame.insert` many times, which has poor performance.  Consider joining all columns at once using pd.concat(axis=1) instead. To get a de-fragmented frame, use `newframe = frame.copy()`\n",
      "  trend[column + '_' + str(period)] = trend[column].shift(period)\n",
      "C:\\Users\\denis\\AppData\\Local\\Temp\\ipykernel_16276\\2594479708.py:4: PerformanceWarning: DataFrame is highly fragmented.  This is usually the result of calling `frame.insert` many times, which has poor performance.  Consider joining all columns at once using pd.concat(axis=1) instead. To get a de-fragmented frame, use `newframe = frame.copy()`\n",
      "  trend[column + '_' + str(period)] = trend[column].shift(period)\n",
      "C:\\Users\\denis\\AppData\\Local\\Temp\\ipykernel_16276\\2594479708.py:4: PerformanceWarning: DataFrame is highly fragmented.  This is usually the result of calling `frame.insert` many times, which has poor performance.  Consider joining all columns at once using pd.concat(axis=1) instead. To get a de-fragmented frame, use `newframe = frame.copy()`\n",
      "  trend[column + '_' + str(period)] = trend[column].shift(period)\n",
      "C:\\Users\\denis\\AppData\\Local\\Temp\\ipykernel_16276\\2594479708.py:4: PerformanceWarning: DataFrame is highly fragmented.  This is usually the result of calling `frame.insert` many times, which has poor performance.  Consider joining all columns at once using pd.concat(axis=1) instead. To get a de-fragmented frame, use `newframe = frame.copy()`\n",
      "  trend[column + '_' + str(period)] = trend[column].shift(period)\n",
      "C:\\Users\\denis\\AppData\\Local\\Temp\\ipykernel_16276\\2594479708.py:4: PerformanceWarning: DataFrame is highly fragmented.  This is usually the result of calling `frame.insert` many times, which has poor performance.  Consider joining all columns at once using pd.concat(axis=1) instead. To get a de-fragmented frame, use `newframe = frame.copy()`\n",
      "  trend[column + '_' + str(period)] = trend[column].shift(period)\n",
      "C:\\Users\\denis\\AppData\\Local\\Temp\\ipykernel_16276\\2594479708.py:4: PerformanceWarning: DataFrame is highly fragmented.  This is usually the result of calling `frame.insert` many times, which has poor performance.  Consider joining all columns at once using pd.concat(axis=1) instead. To get a de-fragmented frame, use `newframe = frame.copy()`\n",
      "  trend[column + '_' + str(period)] = trend[column].shift(period)\n",
      "C:\\Users\\denis\\AppData\\Local\\Temp\\ipykernel_16276\\2594479708.py:4: PerformanceWarning: DataFrame is highly fragmented.  This is usually the result of calling `frame.insert` many times, which has poor performance.  Consider joining all columns at once using pd.concat(axis=1) instead. To get a de-fragmented frame, use `newframe = frame.copy()`\n",
      "  trend[column + '_' + str(period)] = trend[column].shift(period)\n",
      "C:\\Users\\denis\\AppData\\Local\\Temp\\ipykernel_16276\\2594479708.py:4: PerformanceWarning: DataFrame is highly fragmented.  This is usually the result of calling `frame.insert` many times, which has poor performance.  Consider joining all columns at once using pd.concat(axis=1) instead. To get a de-fragmented frame, use `newframe = frame.copy()`\n",
      "  trend[column + '_' + str(period)] = trend[column].shift(period)\n",
      "C:\\Users\\denis\\AppData\\Local\\Temp\\ipykernel_16276\\2594479708.py:4: PerformanceWarning: DataFrame is highly fragmented.  This is usually the result of calling `frame.insert` many times, which has poor performance.  Consider joining all columns at once using pd.concat(axis=1) instead. To get a de-fragmented frame, use `newframe = frame.copy()`\n",
      "  trend[column + '_' + str(period)] = trend[column].shift(period)\n",
      "C:\\Users\\denis\\AppData\\Local\\Temp\\ipykernel_16276\\2594479708.py:4: PerformanceWarning: DataFrame is highly fragmented.  This is usually the result of calling `frame.insert` many times, which has poor performance.  Consider joining all columns at once using pd.concat(axis=1) instead. To get a de-fragmented frame, use `newframe = frame.copy()`\n",
      "  trend[column + '_' + str(period)] = trend[column].shift(period)\n",
      "C:\\Users\\denis\\AppData\\Local\\Temp\\ipykernel_16276\\2594479708.py:4: PerformanceWarning: DataFrame is highly fragmented.  This is usually the result of calling `frame.insert` many times, which has poor performance.  Consider joining all columns at once using pd.concat(axis=1) instead. To get a de-fragmented frame, use `newframe = frame.copy()`\n",
      "  trend[column + '_' + str(period)] = trend[column].shift(period)\n",
      "C:\\Users\\denis\\AppData\\Local\\Temp\\ipykernel_16276\\2594479708.py:4: PerformanceWarning: DataFrame is highly fragmented.  This is usually the result of calling `frame.insert` many times, which has poor performance.  Consider joining all columns at once using pd.concat(axis=1) instead. To get a de-fragmented frame, use `newframe = frame.copy()`\n",
      "  trend[column + '_' + str(period)] = trend[column].shift(period)\n",
      "C:\\Users\\denis\\AppData\\Local\\Temp\\ipykernel_16276\\2594479708.py:4: PerformanceWarning: DataFrame is highly fragmented.  This is usually the result of calling `frame.insert` many times, which has poor performance.  Consider joining all columns at once using pd.concat(axis=1) instead. To get a de-fragmented frame, use `newframe = frame.copy()`\n",
      "  trend[column + '_' + str(period)] = trend[column].shift(period)\n",
      "C:\\Users\\denis\\AppData\\Local\\Temp\\ipykernel_16276\\2594479708.py:4: PerformanceWarning: DataFrame is highly fragmented.  This is usually the result of calling `frame.insert` many times, which has poor performance.  Consider joining all columns at once using pd.concat(axis=1) instead. To get a de-fragmented frame, use `newframe = frame.copy()`\n",
      "  trend[column + '_' + str(period)] = trend[column].shift(period)\n",
      "C:\\Users\\denis\\AppData\\Local\\Temp\\ipykernel_16276\\2594479708.py:4: PerformanceWarning: DataFrame is highly fragmented.  This is usually the result of calling `frame.insert` many times, which has poor performance.  Consider joining all columns at once using pd.concat(axis=1) instead. To get a de-fragmented frame, use `newframe = frame.copy()`\n",
      "  trend[column + '_' + str(period)] = trend[column].shift(period)\n",
      "C:\\Users\\denis\\AppData\\Local\\Temp\\ipykernel_16276\\2594479708.py:4: PerformanceWarning: DataFrame is highly fragmented.  This is usually the result of calling `frame.insert` many times, which has poor performance.  Consider joining all columns at once using pd.concat(axis=1) instead. To get a de-fragmented frame, use `newframe = frame.copy()`\n",
      "  trend[column + '_' + str(period)] = trend[column].shift(period)\n",
      "C:\\Users\\denis\\AppData\\Local\\Temp\\ipykernel_16276\\2594479708.py:4: PerformanceWarning: DataFrame is highly fragmented.  This is usually the result of calling `frame.insert` many times, which has poor performance.  Consider joining all columns at once using pd.concat(axis=1) instead. To get a de-fragmented frame, use `newframe = frame.copy()`\n",
      "  trend[column + '_' + str(period)] = trend[column].shift(period)\n",
      "C:\\Users\\denis\\AppData\\Local\\Temp\\ipykernel_16276\\2594479708.py:4: PerformanceWarning: DataFrame is highly fragmented.  This is usually the result of calling `frame.insert` many times, which has poor performance.  Consider joining all columns at once using pd.concat(axis=1) instead. To get a de-fragmented frame, use `newframe = frame.copy()`\n",
      "  trend[column + '_' + str(period)] = trend[column].shift(period)\n",
      "C:\\Users\\denis\\AppData\\Local\\Temp\\ipykernel_16276\\2594479708.py:4: PerformanceWarning: DataFrame is highly fragmented.  This is usually the result of calling `frame.insert` many times, which has poor performance.  Consider joining all columns at once using pd.concat(axis=1) instead. To get a de-fragmented frame, use `newframe = frame.copy()`\n",
      "  trend[column + '_' + str(period)] = trend[column].shift(period)\n",
      "C:\\Users\\denis\\AppData\\Local\\Temp\\ipykernel_16276\\2594479708.py:4: PerformanceWarning: DataFrame is highly fragmented.  This is usually the result of calling `frame.insert` many times, which has poor performance.  Consider joining all columns at once using pd.concat(axis=1) instead. To get a de-fragmented frame, use `newframe = frame.copy()`\n",
      "  trend[column + '_' + str(period)] = trend[column].shift(period)\n",
      "C:\\Users\\denis\\AppData\\Local\\Temp\\ipykernel_16276\\2594479708.py:4: PerformanceWarning: DataFrame is highly fragmented.  This is usually the result of calling `frame.insert` many times, which has poor performance.  Consider joining all columns at once using pd.concat(axis=1) instead. To get a de-fragmented frame, use `newframe = frame.copy()`\n",
      "  trend[column + '_' + str(period)] = trend[column].shift(period)\n",
      "C:\\Users\\denis\\AppData\\Local\\Temp\\ipykernel_16276\\2594479708.py:4: PerformanceWarning: DataFrame is highly fragmented.  This is usually the result of calling `frame.insert` many times, which has poor performance.  Consider joining all columns at once using pd.concat(axis=1) instead. To get a de-fragmented frame, use `newframe = frame.copy()`\n",
      "  trend[column + '_' + str(period)] = trend[column].shift(period)\n",
      "C:\\Users\\denis\\AppData\\Local\\Temp\\ipykernel_16276\\2594479708.py:4: PerformanceWarning: DataFrame is highly fragmented.  This is usually the result of calling `frame.insert` many times, which has poor performance.  Consider joining all columns at once using pd.concat(axis=1) instead. To get a de-fragmented frame, use `newframe = frame.copy()`\n",
      "  trend[column + '_' + str(period)] = trend[column].shift(period)\n",
      "C:\\Users\\denis\\AppData\\Local\\Temp\\ipykernel_16276\\2594479708.py:4: PerformanceWarning: DataFrame is highly fragmented.  This is usually the result of calling `frame.insert` many times, which has poor performance.  Consider joining all columns at once using pd.concat(axis=1) instead. To get a de-fragmented frame, use `newframe = frame.copy()`\n",
      "  trend[column + '_' + str(period)] = trend[column].shift(period)\n",
      "C:\\Users\\denis\\AppData\\Local\\Temp\\ipykernel_16276\\2594479708.py:4: PerformanceWarning: DataFrame is highly fragmented.  This is usually the result of calling `frame.insert` many times, which has poor performance.  Consider joining all columns at once using pd.concat(axis=1) instead. To get a de-fragmented frame, use `newframe = frame.copy()`\n",
      "  trend[column + '_' + str(period)] = trend[column].shift(period)\n",
      "C:\\Users\\denis\\AppData\\Local\\Temp\\ipykernel_16276\\2594479708.py:4: PerformanceWarning: DataFrame is highly fragmented.  This is usually the result of calling `frame.insert` many times, which has poor performance.  Consider joining all columns at once using pd.concat(axis=1) instead. To get a de-fragmented frame, use `newframe = frame.copy()`\n",
      "  trend[column + '_' + str(period)] = trend[column].shift(period)\n",
      "C:\\Users\\denis\\AppData\\Local\\Temp\\ipykernel_16276\\2594479708.py:4: PerformanceWarning: DataFrame is highly fragmented.  This is usually the result of calling `frame.insert` many times, which has poor performance.  Consider joining all columns at once using pd.concat(axis=1) instead. To get a de-fragmented frame, use `newframe = frame.copy()`\n",
      "  trend[column + '_' + str(period)] = trend[column].shift(period)\n",
      "C:\\Users\\denis\\AppData\\Local\\Temp\\ipykernel_16276\\2594479708.py:4: PerformanceWarning: DataFrame is highly fragmented.  This is usually the result of calling `frame.insert` many times, which has poor performance.  Consider joining all columns at once using pd.concat(axis=1) instead. To get a de-fragmented frame, use `newframe = frame.copy()`\n",
      "  trend[column + '_' + str(period)] = trend[column].shift(period)\n",
      "C:\\Users\\denis\\AppData\\Local\\Temp\\ipykernel_16276\\2594479708.py:4: PerformanceWarning: DataFrame is highly fragmented.  This is usually the result of calling `frame.insert` many times, which has poor performance.  Consider joining all columns at once using pd.concat(axis=1) instead. To get a de-fragmented frame, use `newframe = frame.copy()`\n",
      "  trend[column + '_' + str(period)] = trend[column].shift(period)\n",
      "C:\\Users\\denis\\AppData\\Local\\Temp\\ipykernel_16276\\2594479708.py:4: PerformanceWarning: DataFrame is highly fragmented.  This is usually the result of calling `frame.insert` many times, which has poor performance.  Consider joining all columns at once using pd.concat(axis=1) instead. To get a de-fragmented frame, use `newframe = frame.copy()`\n",
      "  trend[column + '_' + str(period)] = trend[column].shift(period)\n",
      "C:\\Users\\denis\\AppData\\Local\\Temp\\ipykernel_16276\\2594479708.py:4: PerformanceWarning: DataFrame is highly fragmented.  This is usually the result of calling `frame.insert` many times, which has poor performance.  Consider joining all columns at once using pd.concat(axis=1) instead. To get a de-fragmented frame, use `newframe = frame.copy()`\n",
      "  trend[column + '_' + str(period)] = trend[column].shift(period)\n"
     ]
    },
    {
     "name": "stderr",
     "output_type": "stream",
     "text": [
      "C:\\Users\\denis\\AppData\\Local\\Temp\\ipykernel_16276\\2594479708.py:4: PerformanceWarning: DataFrame is highly fragmented.  This is usually the result of calling `frame.insert` many times, which has poor performance.  Consider joining all columns at once using pd.concat(axis=1) instead. To get a de-fragmented frame, use `newframe = frame.copy()`\n",
      "  trend[column + '_' + str(period)] = trend[column].shift(period)\n",
      "C:\\Users\\denis\\AppData\\Local\\Temp\\ipykernel_16276\\2594479708.py:4: PerformanceWarning: DataFrame is highly fragmented.  This is usually the result of calling `frame.insert` many times, which has poor performance.  Consider joining all columns at once using pd.concat(axis=1) instead. To get a de-fragmented frame, use `newframe = frame.copy()`\n",
      "  trend[column + '_' + str(period)] = trend[column].shift(period)\n",
      "C:\\Users\\denis\\AppData\\Local\\Temp\\ipykernel_16276\\2594479708.py:4: PerformanceWarning: DataFrame is highly fragmented.  This is usually the result of calling `frame.insert` many times, which has poor performance.  Consider joining all columns at once using pd.concat(axis=1) instead. To get a de-fragmented frame, use `newframe = frame.copy()`\n",
      "  trend[column + '_' + str(period)] = trend[column].shift(period)\n",
      "C:\\Users\\denis\\AppData\\Local\\Temp\\ipykernel_16276\\2594479708.py:4: PerformanceWarning: DataFrame is highly fragmented.  This is usually the result of calling `frame.insert` many times, which has poor performance.  Consider joining all columns at once using pd.concat(axis=1) instead. To get a de-fragmented frame, use `newframe = frame.copy()`\n",
      "  trend[column + '_' + str(period)] = trend[column].shift(period)\n",
      "C:\\Users\\denis\\AppData\\Local\\Temp\\ipykernel_16276\\2594479708.py:4: PerformanceWarning: DataFrame is highly fragmented.  This is usually the result of calling `frame.insert` many times, which has poor performance.  Consider joining all columns at once using pd.concat(axis=1) instead. To get a de-fragmented frame, use `newframe = frame.copy()`\n",
      "  trend[column + '_' + str(period)] = trend[column].shift(period)\n",
      "C:\\Users\\denis\\AppData\\Local\\Temp\\ipykernel_16276\\2594479708.py:4: PerformanceWarning: DataFrame is highly fragmented.  This is usually the result of calling `frame.insert` many times, which has poor performance.  Consider joining all columns at once using pd.concat(axis=1) instead. To get a de-fragmented frame, use `newframe = frame.copy()`\n",
      "  trend[column + '_' + str(period)] = trend[column].shift(period)\n",
      "C:\\Users\\denis\\AppData\\Local\\Temp\\ipykernel_16276\\2594479708.py:4: PerformanceWarning: DataFrame is highly fragmented.  This is usually the result of calling `frame.insert` many times, which has poor performance.  Consider joining all columns at once using pd.concat(axis=1) instead. To get a de-fragmented frame, use `newframe = frame.copy()`\n",
      "  trend[column + '_' + str(period)] = trend[column].shift(period)\n",
      "C:\\Users\\denis\\AppData\\Local\\Temp\\ipykernel_16276\\2594479708.py:4: PerformanceWarning: DataFrame is highly fragmented.  This is usually the result of calling `frame.insert` many times, which has poor performance.  Consider joining all columns at once using pd.concat(axis=1) instead. To get a de-fragmented frame, use `newframe = frame.copy()`\n",
      "  trend[column + '_' + str(period)] = trend[column].shift(period)\n",
      "C:\\Users\\denis\\AppData\\Local\\Temp\\ipykernel_16276\\2594479708.py:4: PerformanceWarning: DataFrame is highly fragmented.  This is usually the result of calling `frame.insert` many times, which has poor performance.  Consider joining all columns at once using pd.concat(axis=1) instead. To get a de-fragmented frame, use `newframe = frame.copy()`\n",
      "  trend[column + '_' + str(period)] = trend[column].shift(period)\n",
      "C:\\Users\\denis\\AppData\\Local\\Temp\\ipykernel_16276\\2594479708.py:4: PerformanceWarning: DataFrame is highly fragmented.  This is usually the result of calling `frame.insert` many times, which has poor performance.  Consider joining all columns at once using pd.concat(axis=1) instead. To get a de-fragmented frame, use `newframe = frame.copy()`\n",
      "  trend[column + '_' + str(period)] = trend[column].shift(period)\n",
      "C:\\Users\\denis\\AppData\\Local\\Temp\\ipykernel_16276\\2594479708.py:4: PerformanceWarning: DataFrame is highly fragmented.  This is usually the result of calling `frame.insert` many times, which has poor performance.  Consider joining all columns at once using pd.concat(axis=1) instead. To get a de-fragmented frame, use `newframe = frame.copy()`\n",
      "  trend[column + '_' + str(period)] = trend[column].shift(period)\n",
      "C:\\Users\\denis\\AppData\\Local\\Temp\\ipykernel_16276\\2594479708.py:4: PerformanceWarning: DataFrame is highly fragmented.  This is usually the result of calling `frame.insert` many times, which has poor performance.  Consider joining all columns at once using pd.concat(axis=1) instead. To get a de-fragmented frame, use `newframe = frame.copy()`\n",
      "  trend[column + '_' + str(period)] = trend[column].shift(period)\n",
      "C:\\Users\\denis\\AppData\\Local\\Temp\\ipykernel_16276\\2594479708.py:4: PerformanceWarning: DataFrame is highly fragmented.  This is usually the result of calling `frame.insert` many times, which has poor performance.  Consider joining all columns at once using pd.concat(axis=1) instead. To get a de-fragmented frame, use `newframe = frame.copy()`\n",
      "  trend[column + '_' + str(period)] = trend[column].shift(period)\n",
      "C:\\Users\\denis\\AppData\\Local\\Temp\\ipykernel_16276\\2594479708.py:4: PerformanceWarning: DataFrame is highly fragmented.  This is usually the result of calling `frame.insert` many times, which has poor performance.  Consider joining all columns at once using pd.concat(axis=1) instead. To get a de-fragmented frame, use `newframe = frame.copy()`\n",
      "  trend[column + '_' + str(period)] = trend[column].shift(period)\n",
      "C:\\Users\\denis\\AppData\\Local\\Temp\\ipykernel_16276\\2594479708.py:4: PerformanceWarning: DataFrame is highly fragmented.  This is usually the result of calling `frame.insert` many times, which has poor performance.  Consider joining all columns at once using pd.concat(axis=1) instead. To get a de-fragmented frame, use `newframe = frame.copy()`\n",
      "  trend[column + '_' + str(period)] = trend[column].shift(period)\n",
      "C:\\Users\\denis\\AppData\\Local\\Temp\\ipykernel_16276\\2594479708.py:4: PerformanceWarning: DataFrame is highly fragmented.  This is usually the result of calling `frame.insert` many times, which has poor performance.  Consider joining all columns at once using pd.concat(axis=1) instead. To get a de-fragmented frame, use `newframe = frame.copy()`\n",
      "  trend[column + '_' + str(period)] = trend[column].shift(period)\n",
      "C:\\Users\\denis\\AppData\\Local\\Temp\\ipykernel_16276\\2594479708.py:4: PerformanceWarning: DataFrame is highly fragmented.  This is usually the result of calling `frame.insert` many times, which has poor performance.  Consider joining all columns at once using pd.concat(axis=1) instead. To get a de-fragmented frame, use `newframe = frame.copy()`\n",
      "  trend[column + '_' + str(period)] = trend[column].shift(period)\n",
      "C:\\Users\\denis\\AppData\\Local\\Temp\\ipykernel_16276\\2594479708.py:4: PerformanceWarning: DataFrame is highly fragmented.  This is usually the result of calling `frame.insert` many times, which has poor performance.  Consider joining all columns at once using pd.concat(axis=1) instead. To get a de-fragmented frame, use `newframe = frame.copy()`\n",
      "  trend[column + '_' + str(period)] = trend[column].shift(period)\n",
      "C:\\Users\\denis\\AppData\\Local\\Temp\\ipykernel_16276\\2594479708.py:4: PerformanceWarning: DataFrame is highly fragmented.  This is usually the result of calling `frame.insert` many times, which has poor performance.  Consider joining all columns at once using pd.concat(axis=1) instead. To get a de-fragmented frame, use `newframe = frame.copy()`\n",
      "  trend[column + '_' + str(period)] = trend[column].shift(period)\n",
      "C:\\Users\\denis\\AppData\\Local\\Temp\\ipykernel_16276\\2594479708.py:4: PerformanceWarning: DataFrame is highly fragmented.  This is usually the result of calling `frame.insert` many times, which has poor performance.  Consider joining all columns at once using pd.concat(axis=1) instead. To get a de-fragmented frame, use `newframe = frame.copy()`\n",
      "  trend[column + '_' + str(period)] = trend[column].shift(period)\n",
      "C:\\Users\\denis\\AppData\\Local\\Temp\\ipykernel_16276\\2594479708.py:4: PerformanceWarning: DataFrame is highly fragmented.  This is usually the result of calling `frame.insert` many times, which has poor performance.  Consider joining all columns at once using pd.concat(axis=1) instead. To get a de-fragmented frame, use `newframe = frame.copy()`\n",
      "  trend[column + '_' + str(period)] = trend[column].shift(period)\n",
      "C:\\Users\\denis\\AppData\\Local\\Temp\\ipykernel_16276\\2594479708.py:4: PerformanceWarning: DataFrame is highly fragmented.  This is usually the result of calling `frame.insert` many times, which has poor performance.  Consider joining all columns at once using pd.concat(axis=1) instead. To get a de-fragmented frame, use `newframe = frame.copy()`\n",
      "  trend[column + '_' + str(period)] = trend[column].shift(period)\n",
      "C:\\Users\\denis\\AppData\\Local\\Temp\\ipykernel_16276\\2594479708.py:4: PerformanceWarning: DataFrame is highly fragmented.  This is usually the result of calling `frame.insert` many times, which has poor performance.  Consider joining all columns at once using pd.concat(axis=1) instead. To get a de-fragmented frame, use `newframe = frame.copy()`\n",
      "  trend[column + '_' + str(period)] = trend[column].shift(period)\n",
      "C:\\Users\\denis\\AppData\\Local\\Temp\\ipykernel_16276\\2594479708.py:4: PerformanceWarning: DataFrame is highly fragmented.  This is usually the result of calling `frame.insert` many times, which has poor performance.  Consider joining all columns at once using pd.concat(axis=1) instead. To get a de-fragmented frame, use `newframe = frame.copy()`\n",
      "  trend[column + '_' + str(period)] = trend[column].shift(period)\n",
      "C:\\Users\\denis\\AppData\\Local\\Temp\\ipykernel_16276\\2594479708.py:4: PerformanceWarning: DataFrame is highly fragmented.  This is usually the result of calling `frame.insert` many times, which has poor performance.  Consider joining all columns at once using pd.concat(axis=1) instead. To get a de-fragmented frame, use `newframe = frame.copy()`\n",
      "  trend[column + '_' + str(period)] = trend[column].shift(period)\n",
      "C:\\Users\\denis\\AppData\\Local\\Temp\\ipykernel_16276\\2594479708.py:4: PerformanceWarning: DataFrame is highly fragmented.  This is usually the result of calling `frame.insert` many times, which has poor performance.  Consider joining all columns at once using pd.concat(axis=1) instead. To get a de-fragmented frame, use `newframe = frame.copy()`\n",
      "  trend[column + '_' + str(period)] = trend[column].shift(period)\n",
      "C:\\Users\\denis\\AppData\\Local\\Temp\\ipykernel_16276\\2594479708.py:4: PerformanceWarning: DataFrame is highly fragmented.  This is usually the result of calling `frame.insert` many times, which has poor performance.  Consider joining all columns at once using pd.concat(axis=1) instead. To get a de-fragmented frame, use `newframe = frame.copy()`\n",
      "  trend[column + '_' + str(period)] = trend[column].shift(period)\n",
      "C:\\Users\\denis\\AppData\\Local\\Temp\\ipykernel_16276\\2594479708.py:4: PerformanceWarning: DataFrame is highly fragmented.  This is usually the result of calling `frame.insert` many times, which has poor performance.  Consider joining all columns at once using pd.concat(axis=1) instead. To get a de-fragmented frame, use `newframe = frame.copy()`\n",
      "  trend[column + '_' + str(period)] = trend[column].shift(period)\n",
      "C:\\Users\\denis\\AppData\\Local\\Temp\\ipykernel_16276\\2594479708.py:4: PerformanceWarning: DataFrame is highly fragmented.  This is usually the result of calling `frame.insert` many times, which has poor performance.  Consider joining all columns at once using pd.concat(axis=1) instead. To get a de-fragmented frame, use `newframe = frame.copy()`\n",
      "  trend[column + '_' + str(period)] = trend[column].shift(period)\n",
      "C:\\Users\\denis\\AppData\\Local\\Temp\\ipykernel_16276\\2594479708.py:4: PerformanceWarning: DataFrame is highly fragmented.  This is usually the result of calling `frame.insert` many times, which has poor performance.  Consider joining all columns at once using pd.concat(axis=1) instead. To get a de-fragmented frame, use `newframe = frame.copy()`\n",
      "  trend[column + '_' + str(period)] = trend[column].shift(period)\n",
      "C:\\Users\\denis\\AppData\\Local\\Temp\\ipykernel_16276\\2594479708.py:4: PerformanceWarning: DataFrame is highly fragmented.  This is usually the result of calling `frame.insert` many times, which has poor performance.  Consider joining all columns at once using pd.concat(axis=1) instead. To get a de-fragmented frame, use `newframe = frame.copy()`\n",
      "  trend[column + '_' + str(period)] = trend[column].shift(period)\n",
      "C:\\Users\\denis\\AppData\\Local\\Temp\\ipykernel_16276\\2594479708.py:4: PerformanceWarning: DataFrame is highly fragmented.  This is usually the result of calling `frame.insert` many times, which has poor performance.  Consider joining all columns at once using pd.concat(axis=1) instead. To get a de-fragmented frame, use `newframe = frame.copy()`\n",
      "  trend[column + '_' + str(period)] = trend[column].shift(period)\n",
      "C:\\Users\\denis\\AppData\\Local\\Temp\\ipykernel_16276\\2594479708.py:4: PerformanceWarning: DataFrame is highly fragmented.  This is usually the result of calling `frame.insert` many times, which has poor performance.  Consider joining all columns at once using pd.concat(axis=1) instead. To get a de-fragmented frame, use `newframe = frame.copy()`\n",
      "  trend[column + '_' + str(period)] = trend[column].shift(period)\n",
      "C:\\Users\\denis\\AppData\\Local\\Temp\\ipykernel_16276\\2594479708.py:4: PerformanceWarning: DataFrame is highly fragmented.  This is usually the result of calling `frame.insert` many times, which has poor performance.  Consider joining all columns at once using pd.concat(axis=1) instead. To get a de-fragmented frame, use `newframe = frame.copy()`\n",
      "  trend[column + '_' + str(period)] = trend[column].shift(period)\n",
      "C:\\Users\\denis\\AppData\\Local\\Temp\\ipykernel_16276\\2594479708.py:4: PerformanceWarning: DataFrame is highly fragmented.  This is usually the result of calling `frame.insert` many times, which has poor performance.  Consider joining all columns at once using pd.concat(axis=1) instead. To get a de-fragmented frame, use `newframe = frame.copy()`\n",
      "  trend[column + '_' + str(period)] = trend[column].shift(period)\n",
      "C:\\Users\\denis\\AppData\\Local\\Temp\\ipykernel_16276\\2594479708.py:4: PerformanceWarning: DataFrame is highly fragmented.  This is usually the result of calling `frame.insert` many times, which has poor performance.  Consider joining all columns at once using pd.concat(axis=1) instead. To get a de-fragmented frame, use `newframe = frame.copy()`\n",
      "  trend[column + '_' + str(period)] = trend[column].shift(period)\n",
      "C:\\Users\\denis\\AppData\\Local\\Temp\\ipykernel_16276\\2594479708.py:4: PerformanceWarning: DataFrame is highly fragmented.  This is usually the result of calling `frame.insert` many times, which has poor performance.  Consider joining all columns at once using pd.concat(axis=1) instead. To get a de-fragmented frame, use `newframe = frame.copy()`\n",
      "  trend[column + '_' + str(period)] = trend[column].shift(period)\n",
      "C:\\Users\\denis\\AppData\\Local\\Temp\\ipykernel_16276\\2594479708.py:4: PerformanceWarning: DataFrame is highly fragmented.  This is usually the result of calling `frame.insert` many times, which has poor performance.  Consider joining all columns at once using pd.concat(axis=1) instead. To get a de-fragmented frame, use `newframe = frame.copy()`\n",
      "  trend[column + '_' + str(period)] = trend[column].shift(period)\n",
      "C:\\Users\\denis\\AppData\\Local\\Temp\\ipykernel_16276\\2594479708.py:4: PerformanceWarning: DataFrame is highly fragmented.  This is usually the result of calling `frame.insert` many times, which has poor performance.  Consider joining all columns at once using pd.concat(axis=1) instead. To get a de-fragmented frame, use `newframe = frame.copy()`\n",
      "  trend[column + '_' + str(period)] = trend[column].shift(period)\n",
      "C:\\Users\\denis\\AppData\\Local\\Temp\\ipykernel_16276\\2594479708.py:4: PerformanceWarning: DataFrame is highly fragmented.  This is usually the result of calling `frame.insert` many times, which has poor performance.  Consider joining all columns at once using pd.concat(axis=1) instead. To get a de-fragmented frame, use `newframe = frame.copy()`\n",
      "  trend[column + '_' + str(period)] = trend[column].shift(period)\n",
      "C:\\Users\\denis\\AppData\\Local\\Temp\\ipykernel_16276\\2594479708.py:4: PerformanceWarning: DataFrame is highly fragmented.  This is usually the result of calling `frame.insert` many times, which has poor performance.  Consider joining all columns at once using pd.concat(axis=1) instead. To get a de-fragmented frame, use `newframe = frame.copy()`\n",
      "  trend[column + '_' + str(period)] = trend[column].shift(period)\n",
      "C:\\Users\\denis\\AppData\\Local\\Temp\\ipykernel_16276\\2594479708.py:4: PerformanceWarning: DataFrame is highly fragmented.  This is usually the result of calling `frame.insert` many times, which has poor performance.  Consider joining all columns at once using pd.concat(axis=1) instead. To get a de-fragmented frame, use `newframe = frame.copy()`\n",
      "  trend[column + '_' + str(period)] = trend[column].shift(period)\n",
      "C:\\Users\\denis\\AppData\\Local\\Temp\\ipykernel_16276\\2594479708.py:4: PerformanceWarning: DataFrame is highly fragmented.  This is usually the result of calling `frame.insert` many times, which has poor performance.  Consider joining all columns at once using pd.concat(axis=1) instead. To get a de-fragmented frame, use `newframe = frame.copy()`\n",
      "  trend[column + '_' + str(period)] = trend[column].shift(period)\n",
      "C:\\Users\\denis\\AppData\\Local\\Temp\\ipykernel_16276\\2594479708.py:4: PerformanceWarning: DataFrame is highly fragmented.  This is usually the result of calling `frame.insert` many times, which has poor performance.  Consider joining all columns at once using pd.concat(axis=1) instead. To get a de-fragmented frame, use `newframe = frame.copy()`\n",
      "  trend[column + '_' + str(period)] = trend[column].shift(period)\n",
      "C:\\Users\\denis\\AppData\\Local\\Temp\\ipykernel_16276\\2594479708.py:4: PerformanceWarning: DataFrame is highly fragmented.  This is usually the result of calling `frame.insert` many times, which has poor performance.  Consider joining all columns at once using pd.concat(axis=1) instead. To get a de-fragmented frame, use `newframe = frame.copy()`\n",
      "  trend[column + '_' + str(period)] = trend[column].shift(period)\n",
      "C:\\Users\\denis\\AppData\\Local\\Temp\\ipykernel_16276\\2594479708.py:4: PerformanceWarning: DataFrame is highly fragmented.  This is usually the result of calling `frame.insert` many times, which has poor performance.  Consider joining all columns at once using pd.concat(axis=1) instead. To get a de-fragmented frame, use `newframe = frame.copy()`\n",
      "  trend[column + '_' + str(period)] = trend[column].shift(period)\n",
      "C:\\Users\\denis\\AppData\\Local\\Temp\\ipykernel_16276\\2594479708.py:4: PerformanceWarning: DataFrame is highly fragmented.  This is usually the result of calling `frame.insert` many times, which has poor performance.  Consider joining all columns at once using pd.concat(axis=1) instead. To get a de-fragmented frame, use `newframe = frame.copy()`\n",
      "  trend[column + '_' + str(period)] = trend[column].shift(period)\n",
      "C:\\Users\\denis\\AppData\\Local\\Temp\\ipykernel_16276\\2594479708.py:4: PerformanceWarning: DataFrame is highly fragmented.  This is usually the result of calling `frame.insert` many times, which has poor performance.  Consider joining all columns at once using pd.concat(axis=1) instead. To get a de-fragmented frame, use `newframe = frame.copy()`\n",
      "  trend[column + '_' + str(period)] = trend[column].shift(period)\n",
      "C:\\Users\\denis\\AppData\\Local\\Temp\\ipykernel_16276\\2594479708.py:4: PerformanceWarning: DataFrame is highly fragmented.  This is usually the result of calling `frame.insert` many times, which has poor performance.  Consider joining all columns at once using pd.concat(axis=1) instead. To get a de-fragmented frame, use `newframe = frame.copy()`\n",
      "  trend[column + '_' + str(period)] = trend[column].shift(period)\n",
      "C:\\Users\\denis\\AppData\\Local\\Temp\\ipykernel_16276\\2594479708.py:4: PerformanceWarning: DataFrame is highly fragmented.  This is usually the result of calling `frame.insert` many times, which has poor performance.  Consider joining all columns at once using pd.concat(axis=1) instead. To get a de-fragmented frame, use `newframe = frame.copy()`\n",
      "  trend[column + '_' + str(period)] = trend[column].shift(period)\n",
      "C:\\Users\\denis\\AppData\\Local\\Temp\\ipykernel_16276\\2594479708.py:4: PerformanceWarning: DataFrame is highly fragmented.  This is usually the result of calling `frame.insert` many times, which has poor performance.  Consider joining all columns at once using pd.concat(axis=1) instead. To get a de-fragmented frame, use `newframe = frame.copy()`\n",
      "  trend[column + '_' + str(period)] = trend[column].shift(period)\n",
      "C:\\Users\\denis\\AppData\\Local\\Temp\\ipykernel_16276\\2594479708.py:4: PerformanceWarning: DataFrame is highly fragmented.  This is usually the result of calling `frame.insert` many times, which has poor performance.  Consider joining all columns at once using pd.concat(axis=1) instead. To get a de-fragmented frame, use `newframe = frame.copy()`\n",
      "  trend[column + '_' + str(period)] = trend[column].shift(period)\n",
      "C:\\Users\\denis\\AppData\\Local\\Temp\\ipykernel_16276\\2594479708.py:4: PerformanceWarning: DataFrame is highly fragmented.  This is usually the result of calling `frame.insert` many times, which has poor performance.  Consider joining all columns at once using pd.concat(axis=1) instead. To get a de-fragmented frame, use `newframe = frame.copy()`\n",
      "  trend[column + '_' + str(period)] = trend[column].shift(period)\n",
      "C:\\Users\\denis\\AppData\\Local\\Temp\\ipykernel_16276\\2594479708.py:4: PerformanceWarning: DataFrame is highly fragmented.  This is usually the result of calling `frame.insert` many times, which has poor performance.  Consider joining all columns at once using pd.concat(axis=1) instead. To get a de-fragmented frame, use `newframe = frame.copy()`\n",
      "  trend[column + '_' + str(period)] = trend[column].shift(period)\n",
      "C:\\Users\\denis\\AppData\\Local\\Temp\\ipykernel_16276\\2594479708.py:4: PerformanceWarning: DataFrame is highly fragmented.  This is usually the result of calling `frame.insert` many times, which has poor performance.  Consider joining all columns at once using pd.concat(axis=1) instead. To get a de-fragmented frame, use `newframe = frame.copy()`\n",
      "  trend[column + '_' + str(period)] = trend[column].shift(period)\n",
      "C:\\Users\\denis\\AppData\\Local\\Temp\\ipykernel_16276\\2594479708.py:4: PerformanceWarning: DataFrame is highly fragmented.  This is usually the result of calling `frame.insert` many times, which has poor performance.  Consider joining all columns at once using pd.concat(axis=1) instead. To get a de-fragmented frame, use `newframe = frame.copy()`\n",
      "  trend[column + '_' + str(period)] = trend[column].shift(period)\n",
      "C:\\Users\\denis\\AppData\\Local\\Temp\\ipykernel_16276\\2594479708.py:4: PerformanceWarning: DataFrame is highly fragmented.  This is usually the result of calling `frame.insert` many times, which has poor performance.  Consider joining all columns at once using pd.concat(axis=1) instead. To get a de-fragmented frame, use `newframe = frame.copy()`\n",
      "  trend[column + '_' + str(period)] = trend[column].shift(period)\n",
      "C:\\Users\\denis\\AppData\\Local\\Temp\\ipykernel_16276\\2594479708.py:4: PerformanceWarning: DataFrame is highly fragmented.  This is usually the result of calling `frame.insert` many times, which has poor performance.  Consider joining all columns at once using pd.concat(axis=1) instead. To get a de-fragmented frame, use `newframe = frame.copy()`\n",
      "  trend[column + '_' + str(period)] = trend[column].shift(period)\n",
      "C:\\Users\\denis\\AppData\\Local\\Temp\\ipykernel_16276\\2594479708.py:4: PerformanceWarning: DataFrame is highly fragmented.  This is usually the result of calling `frame.insert` many times, which has poor performance.  Consider joining all columns at once using pd.concat(axis=1) instead. To get a de-fragmented frame, use `newframe = frame.copy()`\n",
      "  trend[column + '_' + str(period)] = trend[column].shift(period)\n",
      "C:\\Users\\denis\\AppData\\Local\\Temp\\ipykernel_16276\\2594479708.py:4: PerformanceWarning: DataFrame is highly fragmented.  This is usually the result of calling `frame.insert` many times, which has poor performance.  Consider joining all columns at once using pd.concat(axis=1) instead. To get a de-fragmented frame, use `newframe = frame.copy()`\n",
      "  trend[column + '_' + str(period)] = trend[column].shift(period)\n",
      "C:\\Users\\denis\\AppData\\Local\\Temp\\ipykernel_16276\\2594479708.py:4: PerformanceWarning: DataFrame is highly fragmented.  This is usually the result of calling `frame.insert` many times, which has poor performance.  Consider joining all columns at once using pd.concat(axis=1) instead. To get a de-fragmented frame, use `newframe = frame.copy()`\n",
      "  trend[column + '_' + str(period)] = trend[column].shift(period)\n",
      "C:\\Users\\denis\\AppData\\Local\\Temp\\ipykernel_16276\\2594479708.py:4: PerformanceWarning: DataFrame is highly fragmented.  This is usually the result of calling `frame.insert` many times, which has poor performance.  Consider joining all columns at once using pd.concat(axis=1) instead. To get a de-fragmented frame, use `newframe = frame.copy()`\n",
      "  trend[column + '_' + str(period)] = trend[column].shift(period)\n",
      "C:\\Users\\denis\\AppData\\Local\\Temp\\ipykernel_16276\\2594479708.py:4: PerformanceWarning: DataFrame is highly fragmented.  This is usually the result of calling `frame.insert` many times, which has poor performance.  Consider joining all columns at once using pd.concat(axis=1) instead. To get a de-fragmented frame, use `newframe = frame.copy()`\n",
      "  trend[column + '_' + str(period)] = trend[column].shift(period)\n",
      "C:\\Users\\denis\\AppData\\Local\\Temp\\ipykernel_16276\\2594479708.py:4: PerformanceWarning: DataFrame is highly fragmented.  This is usually the result of calling `frame.insert` many times, which has poor performance.  Consider joining all columns at once using pd.concat(axis=1) instead. To get a de-fragmented frame, use `newframe = frame.copy()`\n",
      "  trend[column + '_' + str(period)] = trend[column].shift(period)\n",
      "C:\\Users\\denis\\AppData\\Local\\Temp\\ipykernel_16276\\2594479708.py:4: PerformanceWarning: DataFrame is highly fragmented.  This is usually the result of calling `frame.insert` many times, which has poor performance.  Consider joining all columns at once using pd.concat(axis=1) instead. To get a de-fragmented frame, use `newframe = frame.copy()`\n",
      "  trend[column + '_' + str(period)] = trend[column].shift(period)\n",
      "C:\\Users\\denis\\AppData\\Local\\Temp\\ipykernel_16276\\2594479708.py:4: PerformanceWarning: DataFrame is highly fragmented.  This is usually the result of calling `frame.insert` many times, which has poor performance.  Consider joining all columns at once using pd.concat(axis=1) instead. To get a de-fragmented frame, use `newframe = frame.copy()`\n",
      "  trend[column + '_' + str(period)] = trend[column].shift(period)\n",
      "C:\\Users\\denis\\AppData\\Local\\Temp\\ipykernel_16276\\2594479708.py:4: PerformanceWarning: DataFrame is highly fragmented.  This is usually the result of calling `frame.insert` many times, which has poor performance.  Consider joining all columns at once using pd.concat(axis=1) instead. To get a de-fragmented frame, use `newframe = frame.copy()`\n",
      "  trend[column + '_' + str(period)] = trend[column].shift(period)\n",
      "C:\\Users\\denis\\AppData\\Local\\Temp\\ipykernel_16276\\2594479708.py:4: PerformanceWarning: DataFrame is highly fragmented.  This is usually the result of calling `frame.insert` many times, which has poor performance.  Consider joining all columns at once using pd.concat(axis=1) instead. To get a de-fragmented frame, use `newframe = frame.copy()`\n",
      "  trend[column + '_' + str(period)] = trend[column].shift(period)\n",
      "C:\\Users\\denis\\AppData\\Local\\Temp\\ipykernel_16276\\2594479708.py:4: PerformanceWarning: DataFrame is highly fragmented.  This is usually the result of calling `frame.insert` many times, which has poor performance.  Consider joining all columns at once using pd.concat(axis=1) instead. To get a de-fragmented frame, use `newframe = frame.copy()`\n",
      "  trend[column + '_' + str(period)] = trend[column].shift(period)\n",
      "C:\\Users\\denis\\AppData\\Local\\Temp\\ipykernel_16276\\2594479708.py:4: PerformanceWarning: DataFrame is highly fragmented.  This is usually the result of calling `frame.insert` many times, which has poor performance.  Consider joining all columns at once using pd.concat(axis=1) instead. To get a de-fragmented frame, use `newframe = frame.copy()`\n",
      "  trend[column + '_' + str(period)] = trend[column].shift(period)\n",
      "C:\\Users\\denis\\AppData\\Local\\Temp\\ipykernel_16276\\2594479708.py:4: PerformanceWarning: DataFrame is highly fragmented.  This is usually the result of calling `frame.insert` many times, which has poor performance.  Consider joining all columns at once using pd.concat(axis=1) instead. To get a de-fragmented frame, use `newframe = frame.copy()`\n",
      "  trend[column + '_' + str(period)] = trend[column].shift(period)\n",
      "C:\\Users\\denis\\AppData\\Local\\Temp\\ipykernel_16276\\2594479708.py:4: PerformanceWarning: DataFrame is highly fragmented.  This is usually the result of calling `frame.insert` many times, which has poor performance.  Consider joining all columns at once using pd.concat(axis=1) instead. To get a de-fragmented frame, use `newframe = frame.copy()`\n",
      "  trend[column + '_' + str(period)] = trend[column].shift(period)\n",
      "C:\\Users\\denis\\AppData\\Local\\Temp\\ipykernel_16276\\2594479708.py:4: PerformanceWarning: DataFrame is highly fragmented.  This is usually the result of calling `frame.insert` many times, which has poor performance.  Consider joining all columns at once using pd.concat(axis=1) instead. To get a de-fragmented frame, use `newframe = frame.copy()`\n",
      "  trend[column + '_' + str(period)] = trend[column].shift(period)\n",
      "C:\\Users\\denis\\AppData\\Local\\Temp\\ipykernel_16276\\2594479708.py:4: PerformanceWarning: DataFrame is highly fragmented.  This is usually the result of calling `frame.insert` many times, which has poor performance.  Consider joining all columns at once using pd.concat(axis=1) instead. To get a de-fragmented frame, use `newframe = frame.copy()`\n",
      "  trend[column + '_' + str(period)] = trend[column].shift(period)\n",
      "C:\\Users\\denis\\AppData\\Local\\Temp\\ipykernel_16276\\2594479708.py:4: PerformanceWarning: DataFrame is highly fragmented.  This is usually the result of calling `frame.insert` many times, which has poor performance.  Consider joining all columns at once using pd.concat(axis=1) instead. To get a de-fragmented frame, use `newframe = frame.copy()`\n",
      "  trend[column + '_' + str(period)] = trend[column].shift(period)\n",
      "C:\\Users\\denis\\AppData\\Local\\Temp\\ipykernel_16276\\2594479708.py:4: PerformanceWarning: DataFrame is highly fragmented.  This is usually the result of calling `frame.insert` many times, which has poor performance.  Consider joining all columns at once using pd.concat(axis=1) instead. To get a de-fragmented frame, use `newframe = frame.copy()`\n",
      "  trend[column + '_' + str(period)] = trend[column].shift(period)\n",
      "C:\\Users\\denis\\AppData\\Local\\Temp\\ipykernel_16276\\2594479708.py:4: PerformanceWarning: DataFrame is highly fragmented.  This is usually the result of calling `frame.insert` many times, which has poor performance.  Consider joining all columns at once using pd.concat(axis=1) instead. To get a de-fragmented frame, use `newframe = frame.copy()`\n",
      "  trend[column + '_' + str(period)] = trend[column].shift(period)\n",
      "C:\\Users\\denis\\AppData\\Local\\Temp\\ipykernel_16276\\2594479708.py:4: PerformanceWarning: DataFrame is highly fragmented.  This is usually the result of calling `frame.insert` many times, which has poor performance.  Consider joining all columns at once using pd.concat(axis=1) instead. To get a de-fragmented frame, use `newframe = frame.copy()`\n",
      "  trend[column + '_' + str(period)] = trend[column].shift(period)\n",
      "C:\\Users\\denis\\AppData\\Local\\Temp\\ipykernel_16276\\2594479708.py:4: PerformanceWarning: DataFrame is highly fragmented.  This is usually the result of calling `frame.insert` many times, which has poor performance.  Consider joining all columns at once using pd.concat(axis=1) instead. To get a de-fragmented frame, use `newframe = frame.copy()`\n",
      "  trend[column + '_' + str(period)] = trend[column].shift(period)\n",
      "C:\\Users\\denis\\AppData\\Local\\Temp\\ipykernel_16276\\2594479708.py:4: PerformanceWarning: DataFrame is highly fragmented.  This is usually the result of calling `frame.insert` many times, which has poor performance.  Consider joining all columns at once using pd.concat(axis=1) instead. To get a de-fragmented frame, use `newframe = frame.copy()`\n",
      "  trend[column + '_' + str(period)] = trend[column].shift(period)\n",
      "C:\\Users\\denis\\AppData\\Local\\Temp\\ipykernel_16276\\2594479708.py:4: PerformanceWarning: DataFrame is highly fragmented.  This is usually the result of calling `frame.insert` many times, which has poor performance.  Consider joining all columns at once using pd.concat(axis=1) instead. To get a de-fragmented frame, use `newframe = frame.copy()`\n",
      "  trend[column + '_' + str(period)] = trend[column].shift(period)\n",
      "C:\\Users\\denis\\AppData\\Local\\Temp\\ipykernel_16276\\2594479708.py:4: PerformanceWarning: DataFrame is highly fragmented.  This is usually the result of calling `frame.insert` many times, which has poor performance.  Consider joining all columns at once using pd.concat(axis=1) instead. To get a de-fragmented frame, use `newframe = frame.copy()`\n",
      "  trend[column + '_' + str(period)] = trend[column].shift(period)\n",
      "C:\\Users\\denis\\AppData\\Local\\Temp\\ipykernel_16276\\2594479708.py:4: PerformanceWarning: DataFrame is highly fragmented.  This is usually the result of calling `frame.insert` many times, which has poor performance.  Consider joining all columns at once using pd.concat(axis=1) instead. To get a de-fragmented frame, use `newframe = frame.copy()`\n",
      "  trend[column + '_' + str(period)] = trend[column].shift(period)\n",
      "C:\\Users\\denis\\AppData\\Local\\Temp\\ipykernel_16276\\2594479708.py:4: PerformanceWarning: DataFrame is highly fragmented.  This is usually the result of calling `frame.insert` many times, which has poor performance.  Consider joining all columns at once using pd.concat(axis=1) instead. To get a de-fragmented frame, use `newframe = frame.copy()`\n",
      "  trend[column + '_' + str(period)] = trend[column].shift(period)\n",
      "C:\\Users\\denis\\AppData\\Local\\Temp\\ipykernel_16276\\2594479708.py:4: PerformanceWarning: DataFrame is highly fragmented.  This is usually the result of calling `frame.insert` many times, which has poor performance.  Consider joining all columns at once using pd.concat(axis=1) instead. To get a de-fragmented frame, use `newframe = frame.copy()`\n",
      "  trend[column + '_' + str(period)] = trend[column].shift(period)\n",
      "C:\\Users\\denis\\AppData\\Local\\Temp\\ipykernel_16276\\2594479708.py:4: PerformanceWarning: DataFrame is highly fragmented.  This is usually the result of calling `frame.insert` many times, which has poor performance.  Consider joining all columns at once using pd.concat(axis=1) instead. To get a de-fragmented frame, use `newframe = frame.copy()`\n",
      "  trend[column + '_' + str(period)] = trend[column].shift(period)\n",
      "C:\\Users\\denis\\AppData\\Local\\Temp\\ipykernel_16276\\2594479708.py:4: PerformanceWarning: DataFrame is highly fragmented.  This is usually the result of calling `frame.insert` many times, which has poor performance.  Consider joining all columns at once using pd.concat(axis=1) instead. To get a de-fragmented frame, use `newframe = frame.copy()`\n",
      "  trend[column + '_' + str(period)] = trend[column].shift(period)\n",
      "C:\\Users\\denis\\AppData\\Local\\Temp\\ipykernel_16276\\2594479708.py:4: PerformanceWarning: DataFrame is highly fragmented.  This is usually the result of calling `frame.insert` many times, which has poor performance.  Consider joining all columns at once using pd.concat(axis=1) instead. To get a de-fragmented frame, use `newframe = frame.copy()`\n",
      "  trend[column + '_' + str(period)] = trend[column].shift(period)\n",
      "C:\\Users\\denis\\AppData\\Local\\Temp\\ipykernel_16276\\2594479708.py:4: PerformanceWarning: DataFrame is highly fragmented.  This is usually the result of calling `frame.insert` many times, which has poor performance.  Consider joining all columns at once using pd.concat(axis=1) instead. To get a de-fragmented frame, use `newframe = frame.copy()`\n",
      "  trend[column + '_' + str(period)] = trend[column].shift(period)\n",
      "C:\\Users\\denis\\AppData\\Local\\Temp\\ipykernel_16276\\2594479708.py:4: PerformanceWarning: DataFrame is highly fragmented.  This is usually the result of calling `frame.insert` many times, which has poor performance.  Consider joining all columns at once using pd.concat(axis=1) instead. To get a de-fragmented frame, use `newframe = frame.copy()`\n",
      "  trend[column + '_' + str(period)] = trend[column].shift(period)\n",
      "C:\\Users\\denis\\AppData\\Local\\Temp\\ipykernel_16276\\2594479708.py:4: PerformanceWarning: DataFrame is highly fragmented.  This is usually the result of calling `frame.insert` many times, which has poor performance.  Consider joining all columns at once using pd.concat(axis=1) instead. To get a de-fragmented frame, use `newframe = frame.copy()`\n",
      "  trend[column + '_' + str(period)] = trend[column].shift(period)\n",
      "C:\\Users\\denis\\AppData\\Local\\Temp\\ipykernel_16276\\2594479708.py:4: PerformanceWarning: DataFrame is highly fragmented.  This is usually the result of calling `frame.insert` many times, which has poor performance.  Consider joining all columns at once using pd.concat(axis=1) instead. To get a de-fragmented frame, use `newframe = frame.copy()`\n",
      "  trend[column + '_' + str(period)] = trend[column].shift(period)\n",
      "C:\\Users\\denis\\AppData\\Local\\Temp\\ipykernel_16276\\2594479708.py:4: PerformanceWarning: DataFrame is highly fragmented.  This is usually the result of calling `frame.insert` many times, which has poor performance.  Consider joining all columns at once using pd.concat(axis=1) instead. To get a de-fragmented frame, use `newframe = frame.copy()`\n",
      "  trend[column + '_' + str(period)] = trend[column].shift(period)\n",
      "C:\\Users\\denis\\AppData\\Local\\Temp\\ipykernel_16276\\2594479708.py:4: PerformanceWarning: DataFrame is highly fragmented.  This is usually the result of calling `frame.insert` many times, which has poor performance.  Consider joining all columns at once using pd.concat(axis=1) instead. To get a de-fragmented frame, use `newframe = frame.copy()`\n",
      "  trend[column + '_' + str(period)] = trend[column].shift(period)\n",
      "C:\\Users\\denis\\AppData\\Local\\Temp\\ipykernel_16276\\2594479708.py:4: PerformanceWarning: DataFrame is highly fragmented.  This is usually the result of calling `frame.insert` many times, which has poor performance.  Consider joining all columns at once using pd.concat(axis=1) instead. To get a de-fragmented frame, use `newframe = frame.copy()`\n",
      "  trend[column + '_' + str(period)] = trend[column].shift(period)\n",
      "C:\\Users\\denis\\AppData\\Local\\Temp\\ipykernel_16276\\2594479708.py:4: PerformanceWarning: DataFrame is highly fragmented.  This is usually the result of calling `frame.insert` many times, which has poor performance.  Consider joining all columns at once using pd.concat(axis=1) instead. To get a de-fragmented frame, use `newframe = frame.copy()`\n",
      "  trend[column + '_' + str(period)] = trend[column].shift(period)\n",
      "C:\\Users\\denis\\AppData\\Local\\Temp\\ipykernel_16276\\2594479708.py:4: PerformanceWarning: DataFrame is highly fragmented.  This is usually the result of calling `frame.insert` many times, which has poor performance.  Consider joining all columns at once using pd.concat(axis=1) instead. To get a de-fragmented frame, use `newframe = frame.copy()`\n",
      "  trend[column + '_' + str(period)] = trend[column].shift(period)\n",
      "C:\\Users\\denis\\AppData\\Local\\Temp\\ipykernel_16276\\2594479708.py:4: PerformanceWarning: DataFrame is highly fragmented.  This is usually the result of calling `frame.insert` many times, which has poor performance.  Consider joining all columns at once using pd.concat(axis=1) instead. To get a de-fragmented frame, use `newframe = frame.copy()`\n",
      "  trend[column + '_' + str(period)] = trend[column].shift(period)\n",
      "C:\\Users\\denis\\AppData\\Local\\Temp\\ipykernel_16276\\2594479708.py:4: PerformanceWarning: DataFrame is highly fragmented.  This is usually the result of calling `frame.insert` many times, which has poor performance.  Consider joining all columns at once using pd.concat(axis=1) instead. To get a de-fragmented frame, use `newframe = frame.copy()`\n",
      "  trend[column + '_' + str(period)] = trend[column].shift(period)\n",
      "C:\\Users\\denis\\AppData\\Local\\Temp\\ipykernel_16276\\2594479708.py:4: PerformanceWarning: DataFrame is highly fragmented.  This is usually the result of calling `frame.insert` many times, which has poor performance.  Consider joining all columns at once using pd.concat(axis=1) instead. To get a de-fragmented frame, use `newframe = frame.copy()`\n",
      "  trend[column + '_' + str(period)] = trend[column].shift(period)\n",
      "C:\\Users\\denis\\AppData\\Local\\Temp\\ipykernel_16276\\2594479708.py:4: PerformanceWarning: DataFrame is highly fragmented.  This is usually the result of calling `frame.insert` many times, which has poor performance.  Consider joining all columns at once using pd.concat(axis=1) instead. To get a de-fragmented frame, use `newframe = frame.copy()`\n",
      "  trend[column + '_' + str(period)] = trend[column].shift(period)\n",
      "C:\\Users\\denis\\AppData\\Local\\Temp\\ipykernel_16276\\2594479708.py:4: PerformanceWarning: DataFrame is highly fragmented.  This is usually the result of calling `frame.insert` many times, which has poor performance.  Consider joining all columns at once using pd.concat(axis=1) instead. To get a de-fragmented frame, use `newframe = frame.copy()`\n",
      "  trend[column + '_' + str(period)] = trend[column].shift(period)\n",
      "C:\\Users\\denis\\AppData\\Local\\Temp\\ipykernel_16276\\2594479708.py:4: PerformanceWarning: DataFrame is highly fragmented.  This is usually the result of calling `frame.insert` many times, which has poor performance.  Consider joining all columns at once using pd.concat(axis=1) instead. To get a de-fragmented frame, use `newframe = frame.copy()`\n",
      "  trend[column + '_' + str(period)] = trend[column].shift(period)\n",
      "C:\\Users\\denis\\AppData\\Local\\Temp\\ipykernel_16276\\2594479708.py:4: PerformanceWarning: DataFrame is highly fragmented.  This is usually the result of calling `frame.insert` many times, which has poor performance.  Consider joining all columns at once using pd.concat(axis=1) instead. To get a de-fragmented frame, use `newframe = frame.copy()`\n",
      "  trend[column + '_' + str(period)] = trend[column].shift(period)\n",
      "C:\\Users\\denis\\AppData\\Local\\Temp\\ipykernel_16276\\2594479708.py:4: PerformanceWarning: DataFrame is highly fragmented.  This is usually the result of calling `frame.insert` many times, which has poor performance.  Consider joining all columns at once using pd.concat(axis=1) instead. To get a de-fragmented frame, use `newframe = frame.copy()`\n",
      "  trend[column + '_' + str(period)] = trend[column].shift(period)\n",
      "C:\\Users\\denis\\AppData\\Local\\Temp\\ipykernel_16276\\2594479708.py:4: PerformanceWarning: DataFrame is highly fragmented.  This is usually the result of calling `frame.insert` many times, which has poor performance.  Consider joining all columns at once using pd.concat(axis=1) instead. To get a de-fragmented frame, use `newframe = frame.copy()`\n",
      "  trend[column + '_' + str(period)] = trend[column].shift(period)\n",
      "C:\\Users\\denis\\AppData\\Local\\Temp\\ipykernel_16276\\2594479708.py:4: PerformanceWarning: DataFrame is highly fragmented.  This is usually the result of calling `frame.insert` many times, which has poor performance.  Consider joining all columns at once using pd.concat(axis=1) instead. To get a de-fragmented frame, use `newframe = frame.copy()`\n",
      "  trend[column + '_' + str(period)] = trend[column].shift(period)\n",
      "C:\\Users\\denis\\AppData\\Local\\Temp\\ipykernel_16276\\2594479708.py:4: PerformanceWarning: DataFrame is highly fragmented.  This is usually the result of calling `frame.insert` many times, which has poor performance.  Consider joining all columns at once using pd.concat(axis=1) instead. To get a de-fragmented frame, use `newframe = frame.copy()`\n",
      "  trend[column + '_' + str(period)] = trend[column].shift(period)\n",
      "C:\\Users\\denis\\AppData\\Local\\Temp\\ipykernel_16276\\2594479708.py:4: PerformanceWarning: DataFrame is highly fragmented.  This is usually the result of calling `frame.insert` many times, which has poor performance.  Consider joining all columns at once using pd.concat(axis=1) instead. To get a de-fragmented frame, use `newframe = frame.copy()`\n",
      "  trend[column + '_' + str(period)] = trend[column].shift(period)\n",
      "C:\\Users\\denis\\AppData\\Local\\Temp\\ipykernel_16276\\2594479708.py:4: PerformanceWarning: DataFrame is highly fragmented.  This is usually the result of calling `frame.insert` many times, which has poor performance.  Consider joining all columns at once using pd.concat(axis=1) instead. To get a de-fragmented frame, use `newframe = frame.copy()`\n",
      "  trend[column + '_' + str(period)] = trend[column].shift(period)\n",
      "C:\\Users\\denis\\AppData\\Local\\Temp\\ipykernel_16276\\2594479708.py:4: PerformanceWarning: DataFrame is highly fragmented.  This is usually the result of calling `frame.insert` many times, which has poor performance.  Consider joining all columns at once using pd.concat(axis=1) instead. To get a de-fragmented frame, use `newframe = frame.copy()`\n",
      "  trend[column + '_' + str(period)] = trend[column].shift(period)\n",
      "C:\\Users\\denis\\AppData\\Local\\Temp\\ipykernel_16276\\2594479708.py:4: PerformanceWarning: DataFrame is highly fragmented.  This is usually the result of calling `frame.insert` many times, which has poor performance.  Consider joining all columns at once using pd.concat(axis=1) instead. To get a de-fragmented frame, use `newframe = frame.copy()`\n",
      "  trend[column + '_' + str(period)] = trend[column].shift(period)\n",
      "C:\\Users\\denis\\AppData\\Local\\Temp\\ipykernel_16276\\2594479708.py:4: PerformanceWarning: DataFrame is highly fragmented.  This is usually the result of calling `frame.insert` many times, which has poor performance.  Consider joining all columns at once using pd.concat(axis=1) instead. To get a de-fragmented frame, use `newframe = frame.copy()`\n",
      "  trend[column + '_' + str(period)] = trend[column].shift(period)\n",
      "C:\\Users\\denis\\AppData\\Local\\Temp\\ipykernel_16276\\2594479708.py:4: PerformanceWarning: DataFrame is highly fragmented.  This is usually the result of calling `frame.insert` many times, which has poor performance.  Consider joining all columns at once using pd.concat(axis=1) instead. To get a de-fragmented frame, use `newframe = frame.copy()`\n",
      "  trend[column + '_' + str(period)] = trend[column].shift(period)\n",
      "C:\\Users\\denis\\AppData\\Local\\Temp\\ipykernel_16276\\2594479708.py:4: PerformanceWarning: DataFrame is highly fragmented.  This is usually the result of calling `frame.insert` many times, which has poor performance.  Consider joining all columns at once using pd.concat(axis=1) instead. To get a de-fragmented frame, use `newframe = frame.copy()`\n",
      "  trend[column + '_' + str(period)] = trend[column].shift(period)\n",
      "C:\\Users\\denis\\AppData\\Local\\Temp\\ipykernel_16276\\2594479708.py:4: PerformanceWarning: DataFrame is highly fragmented.  This is usually the result of calling `frame.insert` many times, which has poor performance.  Consider joining all columns at once using pd.concat(axis=1) instead. To get a de-fragmented frame, use `newframe = frame.copy()`\n",
      "  trend[column + '_' + str(period)] = trend[column].shift(period)\n",
      "C:\\Users\\denis\\AppData\\Local\\Temp\\ipykernel_16276\\2594479708.py:4: PerformanceWarning: DataFrame is highly fragmented.  This is usually the result of calling `frame.insert` many times, which has poor performance.  Consider joining all columns at once using pd.concat(axis=1) instead. To get a de-fragmented frame, use `newframe = frame.copy()`\n",
      "  trend[column + '_' + str(period)] = trend[column].shift(period)\n",
      "C:\\Users\\denis\\AppData\\Local\\Temp\\ipykernel_16276\\2594479708.py:4: PerformanceWarning: DataFrame is highly fragmented.  This is usually the result of calling `frame.insert` many times, which has poor performance.  Consider joining all columns at once using pd.concat(axis=1) instead. To get a de-fragmented frame, use `newframe = frame.copy()`\n",
      "  trend[column + '_' + str(period)] = trend[column].shift(period)\n",
      "C:\\Users\\denis\\AppData\\Local\\Temp\\ipykernel_16276\\2594479708.py:4: PerformanceWarning: DataFrame is highly fragmented.  This is usually the result of calling `frame.insert` many times, which has poor performance.  Consider joining all columns at once using pd.concat(axis=1) instead. To get a de-fragmented frame, use `newframe = frame.copy()`\n",
      "  trend[column + '_' + str(period)] = trend[column].shift(period)\n",
      "C:\\Users\\denis\\AppData\\Local\\Temp\\ipykernel_16276\\2594479708.py:4: PerformanceWarning: DataFrame is highly fragmented.  This is usually the result of calling `frame.insert` many times, which has poor performance.  Consider joining all columns at once using pd.concat(axis=1) instead. To get a de-fragmented frame, use `newframe = frame.copy()`\n",
      "  trend[column + '_' + str(period)] = trend[column].shift(period)\n",
      "C:\\Users\\denis\\AppData\\Local\\Temp\\ipykernel_16276\\2594479708.py:4: PerformanceWarning: DataFrame is highly fragmented.  This is usually the result of calling `frame.insert` many times, which has poor performance.  Consider joining all columns at once using pd.concat(axis=1) instead. To get a de-fragmented frame, use `newframe = frame.copy()`\n",
      "  trend[column + '_' + str(period)] = trend[column].shift(period)\n",
      "C:\\Users\\denis\\AppData\\Local\\Temp\\ipykernel_16276\\2594479708.py:4: PerformanceWarning: DataFrame is highly fragmented.  This is usually the result of calling `frame.insert` many times, which has poor performance.  Consider joining all columns at once using pd.concat(axis=1) instead. To get a de-fragmented frame, use `newframe = frame.copy()`\n",
      "  trend[column + '_' + str(period)] = trend[column].shift(period)\n",
      "C:\\Users\\denis\\AppData\\Local\\Temp\\ipykernel_16276\\2594479708.py:4: PerformanceWarning: DataFrame is highly fragmented.  This is usually the result of calling `frame.insert` many times, which has poor performance.  Consider joining all columns at once using pd.concat(axis=1) instead. To get a de-fragmented frame, use `newframe = frame.copy()`\n",
      "  trend[column + '_' + str(period)] = trend[column].shift(period)\n",
      "C:\\Users\\denis\\AppData\\Local\\Temp\\ipykernel_16276\\2594479708.py:4: PerformanceWarning: DataFrame is highly fragmented.  This is usually the result of calling `frame.insert` many times, which has poor performance.  Consider joining all columns at once using pd.concat(axis=1) instead. To get a de-fragmented frame, use `newframe = frame.copy()`\n",
      "  trend[column + '_' + str(period)] = trend[column].shift(period)\n",
      "C:\\Users\\denis\\AppData\\Local\\Temp\\ipykernel_16276\\2594479708.py:4: PerformanceWarning: DataFrame is highly fragmented.  This is usually the result of calling `frame.insert` many times, which has poor performance.  Consider joining all columns at once using pd.concat(axis=1) instead. To get a de-fragmented frame, use `newframe = frame.copy()`\n",
      "  trend[column + '_' + str(period)] = trend[column].shift(period)\n",
      "C:\\Users\\denis\\AppData\\Local\\Temp\\ipykernel_16276\\2594479708.py:4: PerformanceWarning: DataFrame is highly fragmented.  This is usually the result of calling `frame.insert` many times, which has poor performance.  Consider joining all columns at once using pd.concat(axis=1) instead. To get a de-fragmented frame, use `newframe = frame.copy()`\n",
      "  trend[column + '_' + str(period)] = trend[column].shift(period)\n",
      "C:\\Users\\denis\\AppData\\Local\\Temp\\ipykernel_16276\\2594479708.py:4: PerformanceWarning: DataFrame is highly fragmented.  This is usually the result of calling `frame.insert` many times, which has poor performance.  Consider joining all columns at once using pd.concat(axis=1) instead. To get a de-fragmented frame, use `newframe = frame.copy()`\n",
      "  trend[column + '_' + str(period)] = trend[column].shift(period)\n",
      "C:\\Users\\denis\\AppData\\Local\\Temp\\ipykernel_16276\\2594479708.py:4: PerformanceWarning: DataFrame is highly fragmented.  This is usually the result of calling `frame.insert` many times, which has poor performance.  Consider joining all columns at once using pd.concat(axis=1) instead. To get a de-fragmented frame, use `newframe = frame.copy()`\n",
      "  trend[column + '_' + str(period)] = trend[column].shift(period)\n",
      "C:\\Users\\denis\\AppData\\Local\\Temp\\ipykernel_16276\\2594479708.py:4: PerformanceWarning: DataFrame is highly fragmented.  This is usually the result of calling `frame.insert` many times, which has poor performance.  Consider joining all columns at once using pd.concat(axis=1) instead. To get a de-fragmented frame, use `newframe = frame.copy()`\n",
      "  trend[column + '_' + str(period)] = trend[column].shift(period)\n",
      "C:\\Users\\denis\\AppData\\Local\\Temp\\ipykernel_16276\\2594479708.py:4: PerformanceWarning: DataFrame is highly fragmented.  This is usually the result of calling `frame.insert` many times, which has poor performance.  Consider joining all columns at once using pd.concat(axis=1) instead. To get a de-fragmented frame, use `newframe = frame.copy()`\n",
      "  trend[column + '_' + str(period)] = trend[column].shift(period)\n",
      "C:\\Users\\denis\\AppData\\Local\\Temp\\ipykernel_16276\\2594479708.py:4: PerformanceWarning: DataFrame is highly fragmented.  This is usually the result of calling `frame.insert` many times, which has poor performance.  Consider joining all columns at once using pd.concat(axis=1) instead. To get a de-fragmented frame, use `newframe = frame.copy()`\n",
      "  trend[column + '_' + str(period)] = trend[column].shift(period)\n",
      "C:\\Users\\denis\\AppData\\Local\\Temp\\ipykernel_16276\\2594479708.py:4: PerformanceWarning: DataFrame is highly fragmented.  This is usually the result of calling `frame.insert` many times, which has poor performance.  Consider joining all columns at once using pd.concat(axis=1) instead. To get a de-fragmented frame, use `newframe = frame.copy()`\n",
      "  trend[column + '_' + str(period)] = trend[column].shift(period)\n",
      "C:\\Users\\denis\\AppData\\Local\\Temp\\ipykernel_16276\\2594479708.py:4: PerformanceWarning: DataFrame is highly fragmented.  This is usually the result of calling `frame.insert` many times, which has poor performance.  Consider joining all columns at once using pd.concat(axis=1) instead. To get a de-fragmented frame, use `newframe = frame.copy()`\n",
      "  trend[column + '_' + str(period)] = trend[column].shift(period)\n",
      "C:\\Users\\denis\\AppData\\Local\\Temp\\ipykernel_16276\\2594479708.py:4: PerformanceWarning: DataFrame is highly fragmented.  This is usually the result of calling `frame.insert` many times, which has poor performance.  Consider joining all columns at once using pd.concat(axis=1) instead. To get a de-fragmented frame, use `newframe = frame.copy()`\n",
      "  trend[column + '_' + str(period)] = trend[column].shift(period)\n",
      "C:\\Users\\denis\\AppData\\Local\\Temp\\ipykernel_16276\\2594479708.py:4: PerformanceWarning: DataFrame is highly fragmented.  This is usually the result of calling `frame.insert` many times, which has poor performance.  Consider joining all columns at once using pd.concat(axis=1) instead. To get a de-fragmented frame, use `newframe = frame.copy()`\n",
      "  trend[column + '_' + str(period)] = trend[column].shift(period)\n",
      "C:\\Users\\denis\\AppData\\Local\\Temp\\ipykernel_16276\\2594479708.py:4: PerformanceWarning: DataFrame is highly fragmented.  This is usually the result of calling `frame.insert` many times, which has poor performance.  Consider joining all columns at once using pd.concat(axis=1) instead. To get a de-fragmented frame, use `newframe = frame.copy()`\n",
      "  trend[column + '_' + str(period)] = trend[column].shift(period)\n",
      "C:\\Users\\denis\\AppData\\Local\\Temp\\ipykernel_16276\\2594479708.py:4: PerformanceWarning: DataFrame is highly fragmented.  This is usually the result of calling `frame.insert` many times, which has poor performance.  Consider joining all columns at once using pd.concat(axis=1) instead. To get a de-fragmented frame, use `newframe = frame.copy()`\n",
      "  trend[column + '_' + str(period)] = trend[column].shift(period)\n",
      "C:\\Users\\denis\\AppData\\Local\\Temp\\ipykernel_16276\\2594479708.py:4: PerformanceWarning: DataFrame is highly fragmented.  This is usually the result of calling `frame.insert` many times, which has poor performance.  Consider joining all columns at once using pd.concat(axis=1) instead. To get a de-fragmented frame, use `newframe = frame.copy()`\n",
      "  trend[column + '_' + str(period)] = trend[column].shift(period)\n",
      "C:\\Users\\denis\\AppData\\Local\\Temp\\ipykernel_16276\\2594479708.py:4: PerformanceWarning: DataFrame is highly fragmented.  This is usually the result of calling `frame.insert` many times, which has poor performance.  Consider joining all columns at once using pd.concat(axis=1) instead. To get a de-fragmented frame, use `newframe = frame.copy()`\n",
      "  trend[column + '_' + str(period)] = trend[column].shift(period)\n",
      "C:\\Users\\denis\\AppData\\Local\\Temp\\ipykernel_16276\\2594479708.py:4: PerformanceWarning: DataFrame is highly fragmented.  This is usually the result of calling `frame.insert` many times, which has poor performance.  Consider joining all columns at once using pd.concat(axis=1) instead. To get a de-fragmented frame, use `newframe = frame.copy()`\n",
      "  trend[column + '_' + str(period)] = trend[column].shift(period)\n",
      "C:\\Users\\denis\\AppData\\Local\\Temp\\ipykernel_16276\\2594479708.py:4: PerformanceWarning: DataFrame is highly fragmented.  This is usually the result of calling `frame.insert` many times, which has poor performance.  Consider joining all columns at once using pd.concat(axis=1) instead. To get a de-fragmented frame, use `newframe = frame.copy()`\n",
      "  trend[column + '_' + str(period)] = trend[column].shift(period)\n",
      "C:\\Users\\denis\\AppData\\Local\\Temp\\ipykernel_16276\\2594479708.py:4: PerformanceWarning: DataFrame is highly fragmented.  This is usually the result of calling `frame.insert` many times, which has poor performance.  Consider joining all columns at once using pd.concat(axis=1) instead. To get a de-fragmented frame, use `newframe = frame.copy()`\n",
      "  trend[column + '_' + str(period)] = trend[column].shift(period)\n",
      "C:\\Users\\denis\\AppData\\Local\\Temp\\ipykernel_16276\\2594479708.py:4: PerformanceWarning: DataFrame is highly fragmented.  This is usually the result of calling `frame.insert` many times, which has poor performance.  Consider joining all columns at once using pd.concat(axis=1) instead. To get a de-fragmented frame, use `newframe = frame.copy()`\n",
      "  trend[column + '_' + str(period)] = trend[column].shift(period)\n"
     ]
    }
   ],
   "source": [
    "for column in ('btc_bnb_ratio', 'btc_eth_ratio', 'eth_bnb_ratio'):\n",
    "    # создание столбцов shift\n",
    "    for period in range(-PERIOD, (PERIOD+1)):\n",
    "        trend[column + '_' + str(period)] = trend[column].shift(period)\n",
    "    # получение среднего по столбцам  shift\n",
    "    trend[column + '_mean'] = trend[[column + '_' + str(x) for x in range(-PERIOD, (PERIOD+1))]].mean(axis=1)\n",
    "    # удаление столбцов shift\n",
    "    trend = trend.drop(columns = [column + '_' + str(x) for x in range(-PERIOD, (PERIOD+1))])"
   ]
  },
  {
   "cell_type": "raw",
   "id": "761e9875",
   "metadata": {},
   "source": [
    "fig, ax = plt.subplots()\n",
    "sns.lineplot(data=trend, x='server_time', y ='btc_eth_ratio_mean', ax=ax)\n",
    "sns.lineplot(data=trend, x='server_time', y ='btc_bnb_ratio_mean', ax=ax)\n",
    "sns.lineplot(data=trend, x='server_time', y ='eth_bnb_ratio_mean', ax=ax)\n",
    "plt.title('Trend')\n",
    "plt.show()"
   ]
  },
  {
   "cell_type": "markdown",
   "id": "47224b9a",
   "metadata": {},
   "source": [
    "#### mean delta"
   ]
  },
  {
   "cell_type": "code",
   "execution_count": 8,
   "id": "e7ac5866",
   "metadata": {},
   "outputs": [],
   "source": [
    "trend['btc_eth_ratio_mean_delta'] = trend['btc_eth_ratio_mean'] - trend['btc_eth_ratio_mean'].shift(1)\n",
    "trend['btc_bnb_ratio_mean_delta'] = trend['btc_bnb_ratio_mean'] - trend['btc_bnb_ratio_mean'].shift(1)\n",
    "trend['eth_bnb_ratio_mean_delta'] = trend['eth_bnb_ratio_mean'] - trend['eth_bnb_ratio_mean'].shift(1)"
   ]
  },
  {
   "cell_type": "raw",
   "id": "b628907e",
   "metadata": {},
   "source": [
    "sns.histplot(data=trend, x=\"btc_eth_ratio_mean_delta\", kde=True, bins=100)\n",
    "plt.title('Delta trend hist')\n",
    "plt.show()"
   ]
  },
  {
   "cell_type": "markdown",
   "id": "594bb5bd",
   "metadata": {},
   "source": [
    "### buy, sell"
   ]
  },
  {
   "cell_type": "markdown",
   "id": "23e2a771",
   "metadata": {},
   "source": [
    "#### Минимумы и максимумы среднего"
   ]
  },
  {
   "cell_type": "code",
   "execution_count": 9,
   "id": "1d64ab25",
   "metadata": {},
   "outputs": [],
   "source": [
    "for column in ('btc_eth_ratio_mean_delta', 'btc_bnb_ratio_mean_delta', 'eth_bnb_ratio_mean_delta'):\n",
    "    sign = np.sign(trend[column])\n",
    "    column = '_'.join(column.split('_')[:-1])\n",
    "    trend[column + '_min'] = ((sign*2+np.roll(sign,1)) == 1).astype('int')\n",
    "    trend[column + '_max'] = ((sign*2+np.roll(sign,1)) == -1).astype('int')"
   ]
  },
  {
   "cell_type": "markdown",
   "id": "29ccd421",
   "metadata": {},
   "source": [
    "#### Выбор локальных минимумов."
   ]
  },
  {
   "cell_type": "code",
   "execution_count": 10,
   "id": "b2111ba9",
   "metadata": {
    "scrolled": true
   },
   "outputs": [
    {
     "name": "stdout",
     "output_type": "stream",
     "text": [
      "CPU times: total: 23.7 s\n",
      "Wall time: 21.7 s\n"
     ]
    }
   ],
   "source": [
    "%%time\n",
    "for column in ('btc_eth_ratio_mean_min', 'btc_bnb_ratio_mean_min', 'eth_bnb_ratio_mean_min'):\n",
    "\n",
    "    list_idx = trend[trend[column] == 1]['numeric_index'].values\n",
    "    for idx in list_idx:\n",
    "#         print(idx)\n",
    "        index_min = trend[trend['numeric_index'] == idx].index\n",
    "        idx_range = range(idx-PERIOD, idx+PERIOD)\n",
    "#         print(index_min)\n",
    "        range_table = trend.query('numeric_index in @idx_range')['_'.join(column.split('_')[:-2])]\n",
    "        range_table_min = range_table.min()\n",
    "        index_buy = range_table[range_table == range_table_min].index\n",
    "#         print(index_buy)\n",
    "        trend.loc[index_min, column] = 0\n",
    "        trend.loc[index_buy, column] = 1"
   ]
  },
  {
   "cell_type": "markdown",
   "id": "112f8c32",
   "metadata": {},
   "source": [
    "#### Выбор локальных максимумов."
   ]
  },
  {
   "cell_type": "code",
   "execution_count": 11,
   "id": "4c26338d",
   "metadata": {},
   "outputs": [
    {
     "name": "stdout",
     "output_type": "stream",
     "text": [
      "CPU times: total: 24.1 s\n",
      "Wall time: 22.5 s\n"
     ]
    }
   ],
   "source": [
    "%%time\n",
    "for column in ('btc_eth_ratio_mean_max', 'btc_bnb_ratio_mean_max', 'eth_bnb_ratio_mean_max'):\n",
    "\n",
    "    list_idx = trend[trend[column] == 1]['numeric_index'].values\n",
    "    for idx in list_idx:\n",
    "#         print(idx)\n",
    "        index_max = trend[trend['numeric_index'] == idx].index\n",
    "        idx_range = range(idx-PERIOD, idx+PERIOD)\n",
    "#         print(index_max)\n",
    "        range_table = trend.query('numeric_index in @idx_range')['_'.join(column.split('_')[:-2])]\n",
    "        range_table_max = range_table.max()\n",
    "        index_sell = range_table[range_table == range_table_max].index\n",
    "#         print(index_sell)\n",
    "        trend.loc[index_max, column] = 0\n",
    "        trend.loc[index_sell, column] = 1"
   ]
  },
  {
   "cell_type": "markdown",
   "id": "e834a93d",
   "metadata": {},
   "source": [
    "#### Профит каждой сделки"
   ]
  },
  {
   "cell_type": "code",
   "execution_count": 12,
   "id": "97ede69e",
   "metadata": {},
   "outputs": [],
   "source": [
    "for column in ('btc_bnb', 'btc_eth', 'eth_bnb'):\n",
    "    trend[column + '_deal'] = trend[column + '_ratio_mean_min'] + trend[column + '_ratio_mean_max']\n",
    "    trend[column + '_profit'] = abs(trend[trend[column + '_deal'] == 1][column + '_ratio'] - trend[trend[column + '_deal'] == 1][column + '_ratio'].shift(-1))"
   ]
  },
  {
   "cell_type": "markdown",
   "id": "cfab9e03",
   "metadata": {},
   "source": [
    "#### Более одной продажи (двойные сделки)"
   ]
  },
  {
   "cell_type": "code",
   "execution_count": 13,
   "id": "b1bf86c0",
   "metadata": {},
   "outputs": [],
   "source": [
    "trend['duble_buy'] = (trend['btc_bnb_deal']+\n",
    "                      trend['btc_eth_deal']+\n",
    "                      trend['eth_bnb_deal'])>1"
   ]
  },
  {
   "cell_type": "markdown",
   "id": "d09ffd08",
   "metadata": {},
   "source": [
    "#### Устранение двойных сделок"
   ]
  },
  {
   "cell_type": "code",
   "execution_count": 14,
   "id": "68689802",
   "metadata": {},
   "outputs": [],
   "source": [
    "trend['btc_bnb_profit'] = trend['btc_bnb_deal']*trend['btc_bnb_profit']\n",
    "trend['btc_eth_profit'] = trend['btc_eth_deal']*trend['btc_eth_profit']\n",
    "trend['eth_bnb_profit'] = trend['eth_bnb_deal']*trend['eth_bnb_profit']\n",
    "\n",
    "trend['profit_max'] = trend[trend['duble_buy']][['btc_bnb_profit','btc_eth_profit','eth_bnb_profit']].idxmax(axis=1)\n",
    "\n",
    "trend.loc[trend['profit_max'] == 'btc_bnb_profit',['btc_eth_ratio_mean_min', 'btc_eth_ratio_mean_max','eth_bnb_ratio_mean_min','eth_bnb_ratio_mean_max']] = 0\n",
    "trend.loc[trend['profit_max'] == 'btc_eth_profit',['btc_bnb_ratio_mean_min', 'btc_bnb_ratio_mean_max','eth_bnb_ratio_mean_min','eth_bnb_ratio_mean_max']] = 0\n",
    "trend.loc[trend['profit_max'] == 'eth_bnb_profit',['btc_eth_ratio_mean_min', 'btc_eth_ratio_mean_max','btc_bnb_ratio_mean_min','btc_bnb_ratio_mean_max']] = 0"
   ]
  },
  {
   "cell_type": "code",
   "execution_count": 15,
   "id": "38147f58",
   "metadata": {},
   "outputs": [],
   "source": [
    "columns = ['btc_bnb', 'btc_eth', 'eth_bnb']\n",
    "for column in columns:\n",
    "\n",
    "    # Подтягиваем покупку и продажу к цене, для удобства отображения на графике и оценки сделок\n",
    "    trend[column + '_min_price'] = trend[column + '_ratio_mean_min']*trend[column + '_ratio']\n",
    "    trend[column + '_max_price'] = trend[column + '_ratio_mean_max']*trend[column + '_ratio']    "
   ]
  },
  {
   "cell_type": "code",
   "execution_count": 16,
   "id": "1939174d",
   "metadata": {},
   "outputs": [
    {
     "data": {
      "image/png": "[encoded data removed]",
      "text/plain": [
       "<Figure size 640x480 with 1 Axes>"
      ]
     },
     "metadata": {},
     "output_type": "display_data"
    }
   ],
   "source": [
    "fig, ax = plt.subplots()\n",
    "# sns.lineplot(data=trend[48000:50000], x='server_time', y ='btc_bnb_ratio', ax=ax)\n",
    "# sns.lineplot(data=trend[48000:50000], x='server_time', y ='btc_bnb_ratio_mean', ax=ax)\n",
    "# sns.scatterplot(data=trend[48000:50000], x='server_time', y ='btc_bnb_min_price', ax=ax, color='green')\n",
    "# sns.scatterplot(data=trend[48000:50000], x='server_time', y ='btc_bnb_max_price', ax=ax, color='red')\n",
    "sns.lineplot(data=trend[:6000], x='server_time', y ='btc_bnb_ratio', ax=ax)\n",
    "sns.lineplot(data=trend[:6000], x='server_time', y ='btc_bnb_ratio_mean', ax=ax)\n",
    "sns.scatterplot(data=trend[:6000], x='server_time', y ='btc_bnb_min_price', ax=ax, color='green')\n",
    "sns.scatterplot(data=trend[:6000], x='server_time', y ='btc_bnb_max_price', ax=ax, color='red')\n",
    "plt.title('Features')\n",
    "plt.ylim([0.98, 1.02])\n",
    "plt.show()"
   ]
  },
  {
   "cell_type": "markdown",
   "id": "de4e0c94",
   "metadata": {},
   "source": [
    "#### Устранение подряд идущих одинаковых сделок (продажа и покупка должны чередоваться)"
   ]
  },
  {
   "cell_type": "code",
   "execution_count": 17,
   "id": "b1159230",
   "metadata": {},
   "outputs": [
    {
     "name": "stderr",
     "output_type": "stream",
     "text": [
      "C:\\Users\\denis\\AppData\\Local\\Temp\\ipykernel_16276\\571222238.py:16: SettingWithCopyWarning: \n",
      "A value is trying to be set on a copy of a slice from a DataFrame\n",
      "\n",
      "See the caveats in the documentation: https://pandas.pydata.org/pandas-docs/stable/user_guide/indexing.html#returning-a-view-versus-a-copy\n",
      "  min_price.loc[min_price == 0] =10\n",
      "C:\\Users\\denis\\AppData\\Local\\Temp\\ipykernel_16276\\571222238.py:16: SettingWithCopyWarning: \n",
      "A value is trying to be set on a copy of a slice from a DataFrame\n",
      "\n",
      "See the caveats in the documentation: https://pandas.pydata.org/pandas-docs/stable/user_guide/indexing.html#returning-a-view-versus-a-copy\n",
      "  min_price.loc[min_price == 0] =10\n",
      "C:\\Users\\denis\\AppData\\Local\\Temp\\ipykernel_16276\\571222238.py:16: SettingWithCopyWarning: \n",
      "A value is trying to be set on a copy of a slice from a DataFrame\n",
      "\n",
      "See the caveats in the documentation: https://pandas.pydata.org/pandas-docs/stable/user_guide/indexing.html#returning-a-view-versus-a-copy\n",
      "  min_price.loc[min_price == 0] =10\n"
     ]
    }
   ],
   "source": [
    "columns = ['btc_bnb', 'btc_eth', 'eth_bnb']\n",
    "for column in columns:\n",
    "\n",
    "\n",
    "    # выделение локальных максимумов через разницу со сдвигами +- 1, обе разницы должны быть положительными\n",
    "    max_price = trend[(trend[column + '_max_price'] - trend[column + '_min_price']) !=0][column + '_max_price']\n",
    "    max_price_true = (max_price-max_price.shift(-1) > 0) & (max_price-max_price.shift(1) > 0)\n",
    "    trend[column + '_max_price'] = (trend[column + '_max_price']*max_price_true).fillna(0)\n",
    "    trend[column + '_ratio_mean_max'] = max_price_true\n",
    "    trend[column + '_ratio_mean_max'] = trend[column + '_ratio_mean_max'].fillna(0).astype('int')\n",
    "\n",
    "\n",
    "    # выделение локальных минимумов через разницу со сдвигами +- 1, обе разницы должны быть отрицательными.\n",
    "    # предварительно 0 заменяем на 10, заведомо больше максимумов.\n",
    "    min_price = trend[(trend[column + '_max_price'] - trend[column + '_min_price']) !=0][column + '_min_price']\n",
    "    min_price.loc[min_price == 0] =10\n",
    "    min_price_true = (min_price-min_price.shift(-1) < 0) & (min_price-min_price.shift(1) < 0)\n",
    "    trend[column + '_min_price'] = (trend[column + '_min_price']*min_price_true).fillna(0)\n",
    "    trend[column + '_ratio_mean_min'] = min_price_true\n",
    "    trend[column + '_ratio_mean_min'] = trend[column + '_ratio_mean_min'].fillna(0).astype('int')\n",
    "\n",
    "del max_price, max_price_true, min_price, min_price_true"
   ]
  },
  {
   "cell_type": "markdown",
   "id": "e898fc7f",
   "metadata": {},
   "source": [
    "#### Перенос целей в максимумы между минимумами, и минимумы между максимами."
   ]
  },
  {
   "cell_type": "code",
   "execution_count": 18,
   "id": "15548da9",
   "metadata": {},
   "outputs": [
    {
     "name": "stderr",
     "output_type": "stream",
     "text": [
      "C:\\Users\\denis\\AppData\\Local\\Temp\\ipykernel_16276\\1742788990.py:11: SettingWithCopyWarning: \n",
      "A value is trying to be set on a copy of a slice from a DataFrame\n",
      "\n",
      "See the caveats in the documentation: https://pandas.pydata.org/pandas-docs/stable/user_guide/indexing.html#returning-a-view-versus-a-copy\n",
      "  trend[column + '_ratio_mean_max'].loc[max_index] = 1\n",
      "C:\\Users\\denis\\AppData\\Local\\Temp\\ipykernel_16276\\1742788990.py:21: SettingWithCopyWarning: \n",
      "A value is trying to be set on a copy of a slice from a DataFrame\n",
      "\n",
      "See the caveats in the documentation: https://pandas.pydata.org/pandas-docs/stable/user_guide/indexing.html#returning-a-view-versus-a-copy\n",
      "  trend[column + '_ratio_mean_min'].loc[min_index] = 1\n"
     ]
    }
   ],
   "source": [
    "columns = ['btc_bnb', 'btc_eth', 'eth_bnb']\n",
    "\n",
    "for column in columns:\n",
    "    min_index = trend[trend[column + '_ratio_mean_min'] == 1].index\n",
    "    trend[column + '_ratio_mean_max'] = 0\n",
    "    index_previus = trend[:].index[0]\n",
    "    \n",
    "    for index in min_index:\n",
    "        temp = trend.loc[index_previus:index][column + '_ratio']\n",
    "        max_index = temp[temp == temp.max()].index\n",
    "        trend[column + '_ratio_mean_max'].loc[max_index] = 1\n",
    "        index_previus = index\n",
    "    \n",
    "    max_index = trend[trend[column + '_ratio_mean_max'] == 1].index\n",
    "    trend[column + '_ratio_mean_min'] = 0\n",
    "    index_previus = trend[:].index[0]\n",
    "    \n",
    "    for index in max_index:\n",
    "        temp = trend.loc[index_previus:index][column + '_ratio']\n",
    "        min_index = temp[temp == temp.min()].index\n",
    "        trend[column + '_ratio_mean_min'].loc[min_index] = 1\n",
    "        index_previus = index    "
   ]
  },
  {
   "cell_type": "markdown",
   "id": "b071cadd",
   "metadata": {},
   "source": [
    "#### График"
   ]
  },
  {
   "cell_type": "code",
   "execution_count": 19,
   "id": "2e3c30c8",
   "metadata": {},
   "outputs": [
    {
     "data": {
      "image/png": "[encoded data removed]",
      "text/plain": [
       "<Figure size 640x480 with 1 Axes>"
      ]
     },
     "metadata": {},
     "output_type": "display_data"
    }
   ],
   "source": [
    "fig, ax = plt.subplots()\n",
    "# sns.lineplot(data=trend[48000:50000], x='server_time', y ='btc_bnb_ratio', ax=ax)\n",
    "# sns.lineplot(data=trend[48000:50000], x='server_time', y ='btc_bnb_ratio_mean', ax=ax)\n",
    "# sns.scatterplot(data=trend[48000:50000], x='server_time', y ='btc_bnb_min_price', ax=ax, color='green')\n",
    "# sns.scatterplot(data=trend[48000:50000], x='server_time', y ='btc_bnb_max_price', ax=ax, color='red')\n",
    "sns.lineplot(data=trend[10000:16000], x='server_time', y ='btc_bnb_ratio', ax=ax)\n",
    "sns.lineplot(data=trend[10000:16000], x='server_time', y ='btc_bnb_ratio_mean', ax=ax)\n",
    "sns.scatterplot(data=trend[10000:16000], x='server_time', y ='btc_bnb_min_price', ax=ax, color='green')\n",
    "sns.scatterplot(data=trend[10000:16000], x='server_time', y ='btc_bnb_max_price', ax=ax, color='red')\n",
    "plt.title('Features')\n",
    "plt.ylim([0.98, 1.02])\n",
    "plt.show()"
   ]
  },
  {
   "cell_type": "markdown",
   "id": "932aa509",
   "metadata": {},
   "source": [
    "### not_buy"
   ]
  },
  {
   "cell_type": "code",
   "execution_count": 20,
   "id": "05ac8d14",
   "metadata": {},
   "outputs": [],
   "source": [
    "trend['not_buy'] = ((trend['btc_bnb_ratio_mean_min']+\n",
    "                     trend['btc_bnb_ratio_mean_max']+\n",
    "                     trend['btc_eth_ratio_mean_min']+\n",
    "                     trend['btc_eth_ratio_mean_max']+\n",
    "                     trend['eth_bnb_ratio_mean_min']+\n",
    "                     trend['eth_bnb_ratio_mean_max']) == 0).astype('int')"
   ]
  },
  {
   "cell_type": "markdown",
   "id": "00ecbacf",
   "metadata": {},
   "source": [
    "### Обрезка датафрейма с верху и низу на PERIOD"
   ]
  },
  {
   "cell_type": "code",
   "execution_count": 21,
   "id": "e9d6ca70",
   "metadata": {},
   "outputs": [],
   "source": [
    "trend = trend.iloc[PERIOD+1:-PERIOD-1]"
   ]
  },
  {
   "cell_type": "code",
   "execution_count": 22,
   "id": "7e8e5b00",
   "metadata": {},
   "outputs": [
    {
     "data": {
      "text/plain": [
       "(76523, 40)"
      ]
     },
     "execution_count": 22,
     "metadata": {},
     "output_type": "execute_result"
    }
   ],
   "source": [
    "trend.shape"
   ]
  },
  {
   "cell_type": "markdown",
   "id": "f737b231",
   "metadata": {},
   "source": [
    "### Распределение классов"
   ]
  },
  {
   "cell_type": "code",
   "execution_count": 23,
   "id": "9c140a7c",
   "metadata": {},
   "outputs": [
    {
     "data": {
      "text/plain": [
       "btc_bnb_ratio_mean_min     0.325392\n",
       "btc_bnb_ratio_mean_max     0.325392\n",
       "btc_eth_ratio_mean_min     0.241757\n",
       "btc_eth_ratio_mean_max     0.243064\n",
       "eth_bnb_ratio_mean_min     0.312324\n",
       "eth_bnb_ratio_mean_max     0.307097\n",
       "not_buy                   98.342982\n",
       "dtype: float64"
      ]
     },
     "execution_count": 23,
     "metadata": {},
     "output_type": "execute_result"
    }
   ],
   "source": [
    "trend[['btc_bnb_ratio_mean_min',\n",
    "       'btc_bnb_ratio_mean_max',\n",
    "       'btc_eth_ratio_mean_min',\n",
    "       'btc_eth_ratio_mean_max',\n",
    "       'eth_bnb_ratio_mean_min',\n",
    "       'eth_bnb_ratio_mean_max',\n",
    "       'not_buy']].sum()*100/trend.shape[0]"
   ]
  },
  {
   "cell_type": "raw",
   "id": "e0805138",
   "metadata": {},
   "source": [
    "btc_bnb_ratio_mean_min     0.928314\n",
    "btc_bnb_ratio_mean_max     0.954100\n",
    "btc_eth_ratio_mean_min     0.593089\n",
    "btc_eth_ratio_mean_max     0.593089\n",
    "eth_bnb_ratio_mean_min     0.541516\n",
    "eth_bnb_ratio_mean_max     0.593089\n",
    "not_buy                   95.822589"
   ]
  },
  {
   "cell_type": "code",
   "execution_count": 24,
   "id": "8aa8aa55",
   "metadata": {},
   "outputs": [
    {
     "data": {
      "text/plain": [
       "(76523, 40)"
      ]
     },
     "execution_count": 24,
     "metadata": {},
     "output_type": "execute_result"
    }
   ],
   "source": [
    "trend.shape"
   ]
  },
  {
   "cell_type": "markdown",
   "id": "70346476",
   "metadata": {},
   "source": [
    "## Создание признаков методом отжига?"
   ]
  },
  {
   "cell_type": "markdown",
   "id": "dfcc2b93",
   "metadata": {},
   "source": [
    "## PyTorch"
   ]
  },
  {
   "cell_type": "markdown",
   "id": "72840ae3",
   "metadata": {},
   "source": [
    "### Выделение признаков"
   ]
  },
  {
   "cell_type": "markdown",
   "id": "b117fdd6",
   "metadata": {},
   "source": [
    "#### Признаковые поля StandardScaler, MinMaxScaler, DeltaMaxMin\n",
    "StandardScaler (trend - trend.mean) / trend.std\n",
    "\n",
    "MinMaxScaler  delta / (delta.max - delta.min)"
   ]
  },
  {
   "cell_type": "code",
   "execution_count": 25,
   "id": "665d26f5",
   "metadata": {},
   "outputs": [
    {
     "data": {
      "text/plain": [
       "(76523, 3)"
      ]
     },
     "execution_count": 25,
     "metadata": {},
     "output_type": "execute_result"
    }
   ],
   "source": [
    "X_temp = trend[['BTC/BNB','BTC/ETH','ETH/BNB']] \n",
    "X_temp.shape"
   ]
  },
  {
   "cell_type": "code",
   "execution_count": 26,
   "id": "fe54b197",
   "metadata": {
    "scrolled": false
   },
   "outputs": [
    {
     "name": "stderr",
     "output_type": "stream",
     "text": [
      "100%|███████████████████████████████████████████████████████████████████████████| 76299/76299 [02:17<00:00, 556.91it/s]\n"
     ]
    }
   ],
   "source": [
    "X_scaled = list()\n",
    "X_delta_maxmin = list()\n",
    "\n",
    "#scaler = StandardScaler()\n",
    "scaler = MinMaxScaler()\n",
    "\n",
    "for i in tqdm(range(FEATURES_LENGHT, X_temp.shape[0])):\n",
    "    \n",
    "    X_trend = X_temp.iloc[i-FEATURES_LENGHT+1:i+1]\n",
    "    X_delta = X_trend.max()-X_trend.min()\n",
    "    X_delta_maxmin.append(X_delta)\n",
    "    X_scaled.append(scaler.fit_transform(X_trend).T)\n",
    "\n",
    "X_scaled = np.array(X_scaled)\n",
    "X_delta_maxmin = np.array(X_delta_maxmin)"
   ]
  },
  {
   "cell_type": "code",
   "execution_count": 27,
   "id": "62d12276",
   "metadata": {},
   "outputs": [
    {
     "data": {
      "text/plain": [
       "((76299, 3, 224), (76299, 3))"
      ]
     },
     "execution_count": 27,
     "metadata": {},
     "output_type": "execute_result"
    }
   ],
   "source": [
    "X_scaled.shape, X_delta_maxmin.shape"
   ]
  },
  {
   "cell_type": "code",
   "execution_count": 28,
   "id": "69c007c5",
   "metadata": {},
   "outputs": [],
   "source": [
    "np.save('binance_features/nparray_X_scaled', X_scaled, allow_pickle=True, fix_imports=True)\n",
    "np.save('binance_features/nparray_X_delta_maxmin', X_delta_maxmin, allow_pickle=True, fix_imports=True)"
   ]
  },
  {
   "cell_type": "raw",
   "id": "1b75ade3",
   "metadata": {},
   "source": [
    "X_scaled = np.load('binance_features/nparray2_norm_PERIOD_100_FEATURES_LENGHT_224.npy', mmap_mode=None, allow_pickle=False, fix_imports=True, encoding='ASCII')"
   ]
  },
  {
   "cell_type": "markdown",
   "id": "6d05d0c6",
   "metadata": {},
   "source": [
    "#### Целевая функция"
   ]
  },
  {
   "cell_type": "markdown",
   "id": "b898ae94",
   "metadata": {},
   "source": [
    "y\n",
    "\n",
    "- not_buy - 0\n",
    "- btc_bnb_ratio_mean_min - 1\t\n",
    "- btc_bnb_ratio_mean_max - 2\t\n",
    "- btc_eth_ratio_mean_min - 3\n",
    "- btc_eth_ratio_mean_max - 4\t\n",
    "- eth_bnb_ratio_mean_min - 5\t\n",
    "- eth_bnb_ratio_mean_max - 6"
   ]
  },
  {
   "cell_type": "code",
   "execution_count": 29,
   "id": "2ad3808f",
   "metadata": {},
   "outputs": [],
   "source": [
    "Y = trend[['btc_bnb_ratio_mean_min','btc_bnb_ratio_mean_max','btc_eth_ratio_mean_min','btc_eth_ratio_mean_max','eth_bnb_ratio_mean_min','eth_bnb_ratio_mean_max','not_buy']]\n",
    "\n",
    "Y=Y.rename(\n",
    "    columns={\n",
    "        'not_buy':'0',\n",
    "        'btc_bnb_ratio_mean_min':'1',\n",
    "        'btc_bnb_ratio_mean_max':'2',\n",
    "        'btc_eth_ratio_mean_min':'3',\n",
    "        'btc_eth_ratio_mean_max':'4',\n",
    "        'eth_bnb_ratio_mean_min':'5',\n",
    "        'eth_bnb_ratio_mean_max':'6'        \n",
    "    }\n",
    ")\n",
    "\n",
    "y = Y.idxmax(axis=1)[FEATURES_LENGHT:]"
   ]
  },
  {
   "cell_type": "code",
   "execution_count": 30,
   "id": "7ea06491",
   "metadata": {},
   "outputs": [
    {
     "name": "stdout",
     "output_type": "stream",
     "text": [
      "(76299, 3, 224) (76299,)\n"
     ]
    }
   ],
   "source": [
    "print(X_scaled.shape, y.shape)"
   ]
  },
  {
   "cell_type": "markdown",
   "id": "04593dd7",
   "metadata": {},
   "source": [
    "##### Проверка соответствия признаков разметке."
   ]
  },
  {
   "cell_type": "code",
   "execution_count": 31,
   "id": "55abae56",
   "metadata": {},
   "outputs": [],
   "source": [
    "X_scaled_trend = X_scaled[:,:,-1]"
   ]
  },
  {
   "cell_type": "code",
   "execution_count": 32,
   "id": "f5f9d93f",
   "metadata": {},
   "outputs": [],
   "source": [
    "y_trend = (y.astype('int') == 6).astype('int')"
   ]
  },
  {
   "cell_type": "code",
   "execution_count": 33,
   "id": "ca8e4662",
   "metadata": {},
   "outputs": [
    {
     "data": {
      "image/png": "[encoded data removed]",
      "text/plain": [
       "<Figure size 640x480 with 1 Axes>"
      ]
     },
     "metadata": {},
     "output_type": "display_data"
    }
   ],
   "source": [
    "fig, ax = plt.subplots()\n",
    "sns.lineplot(data=X_scaled_trend[10950:11000,2], ax=ax)\n",
    "sns.scatterplot(data=y_trend[10950:11000], ax=ax, color='green')\n",
    "\n",
    "plt.show()"
   ]
  },
  {
   "cell_type": "code",
   "execution_count": 34,
   "id": "fe1ed755",
   "metadata": {},
   "outputs": [
    {
     "data": {
      "text/plain": [
       "((76299, 3, 224), (76299, 3), (76299,))"
      ]
     },
     "execution_count": 34,
     "metadata": {},
     "output_type": "execute_result"
    }
   ],
   "source": [
    "X_scaled.shape, X_delta_maxmin.shape, y.shape"
   ]
  },
  {
   "cell_type": "code",
   "execution_count": 35,
   "id": "8b6a77ca",
   "metadata": {},
   "outputs": [],
   "source": [
    "X_valid = X_scaled[:4603]\n",
    "X_scaled = X_scaled[4603:]\n",
    "X_delta_maxmin_valid = X_delta_maxmin[:4603]\n",
    "X_delta_maxmin = X_delta_maxmin[4603:]\n",
    "y_valid = y[:4603]\n",
    "y = y[4603:]"
   ]
  },
  {
   "cell_type": "code",
   "execution_count": 36,
   "id": "c0988360",
   "metadata": {},
   "outputs": [
    {
     "data": {
      "text/plain": [
       "((71696, 3, 224), (71696, 3), (71696,))"
      ]
     },
     "execution_count": 36,
     "metadata": {},
     "output_type": "execute_result"
    }
   ],
   "source": [
    "X_scaled.shape, X_delta_maxmin.shape, y.shape"
   ]
  },
  {
   "cell_type": "markdown",
   "id": "c1039115",
   "metadata": {},
   "source": [
    "##### Устранение дисбаланса целевой функции"
   ]
  },
  {
   "cell_type": "code",
   "execution_count": 37,
   "id": "aa2f9b0e",
   "metadata": {},
   "outputs": [
    {
     "name": "stdout",
     "output_type": "stream",
     "text": [
      "['0' '1' '2' '3' '4' '5' '6'] [70506   233   233   171   170   201   182]\n"
     ]
    }
   ],
   "source": [
    "values, counts = np.unique(y, return_counts=True)\n",
    "print(values, counts)"
   ]
  },
  {
   "cell_type": "code",
   "execution_count": 38,
   "id": "30294d43",
   "metadata": {},
   "outputs": [],
   "source": [
    "i, = np.where(y == '1')\n",
    "X_1 = X_scaled[i]\n",
    "X_delta_1 = X_delta_maxmin[i]\n",
    "y_1 = y[i]\n",
    "i, = np.where(y == '2')\n",
    "X_2 = X_scaled[i]\n",
    "X_delta_2 = X_delta_maxmin[i]\n",
    "y_2 = y[i]\n",
    "i, = np.where(y == '3')\n",
    "X_3 = X_scaled[i]\n",
    "X_delta_3 = X_delta_maxmin[i]\n",
    "y_3 = y[i]\n",
    "i, = np.where(y == '4')\n",
    "X_4 = X_scaled[i]\n",
    "X_delta_4 = X_delta_maxmin[i]\n",
    "y_4 = y[i]\n",
    "i, = np.where(y == '5')\n",
    "X_5 = X_scaled[i]\n",
    "X_delta_5 = X_delta_maxmin[i]\n",
    "y_5 = y[i]\n",
    "i, = np.where(y == '6')\n",
    "X_6 = X_scaled[i]\n",
    "X_delta_6 = X_delta_maxmin[i]\n",
    "y_6 = y[i]"
   ]
  },
  {
   "cell_type": "code",
   "execution_count": 39,
   "id": "3053bed8",
   "metadata": {},
   "outputs": [
    {
     "name": "stderr",
     "output_type": "stream",
     "text": [
      "100%|████████████████████████████████████████████████████████████████████████████████| 200/200 [00:41<00:00,  4.81it/s]\n"
     ]
    }
   ],
   "source": [
    "for i in tqdm(range(200)):\n",
    "    X_scaled = np.concatenate((X_scaled, X_1, X_2, X_3, X_4, X_5, X_6), axis=0)\n",
    "    X_delta_maxmin = np.concatenate((X_delta_maxmin, X_delta_1, X_delta_2, X_delta_3, X_delta_4, X_delta_5, X_delta_6), axis=0)\n",
    "    y = np.concatenate((y, y_1, y_2, y_3, y_4, y_5, y_6), axis=0)"
   ]
  },
  {
   "cell_type": "code",
   "execution_count": 40,
   "id": "f8905177",
   "metadata": {},
   "outputs": [
    {
     "data": {
      "text/plain": [
       "(309696, 3, 224)"
      ]
     },
     "execution_count": 40,
     "metadata": {},
     "output_type": "execute_result"
    }
   ],
   "source": [
    "X_scaled.shape"
   ]
  },
  {
   "cell_type": "code",
   "execution_count": 41,
   "id": "6c4c4125",
   "metadata": {},
   "outputs": [
    {
     "name": "stdout",
     "output_type": "stream",
     "text": [
      "['0' '1' '2' '3' '4' '5' '6'] [70506 46833 46833 34371 34170 40401 36582]\n"
     ]
    }
   ],
   "source": [
    "values, counts = np.unique(y, return_counts=True)\n",
    "print(values, counts)"
   ]
  },
  {
   "cell_type": "code",
   "execution_count": 42,
   "id": "e4d66ab9",
   "metadata": {},
   "outputs": [
    {
     "name": "stdout",
     "output_type": "stream",
     "text": [
      "(309696, 3, 224) (309696, 3) (309696,)\n"
     ]
    }
   ],
   "source": [
    "print(X_scaled.shape, X_delta_maxmin.shape, y.shape)"
   ]
  },
  {
   "cell_type": "code",
   "execution_count": 43,
   "id": "7ee9a682",
   "metadata": {},
   "outputs": [
    {
     "name": "stdout",
     "output_type": "stream",
     "text": [
      "X memory usage 1.7 GB\n"
     ]
    }
   ],
   "source": [
    "print(f'X memory usage {(X_scaled.nbytes/1_000_000_000):.1f} GB')"
   ]
  },
  {
   "cell_type": "markdown",
   "id": "8ca685f5",
   "metadata": {},
   "source": [
    "#### Перемешивание признаков"
   ]
  },
  {
   "cell_type": "code",
   "execution_count": 44,
   "id": "8bfa2641",
   "metadata": {},
   "outputs": [],
   "source": [
    "for i in range (10):\n",
    "    X_scaled, X_delta_maxmin, y = shuffle(X_scaled, X_delta_maxmin, y, random_state=RANDOM*i)"
   ]
  },
  {
   "cell_type": "markdown",
   "id": "217a8342",
   "metadata": {},
   "source": [
    "### Загрузчики данных Модель 1"
   ]
  },
  {
   "cell_type": "code",
   "execution_count": 45,
   "id": "b1b30e2c",
   "metadata": {},
   "outputs": [],
   "source": [
    "X_tensor = torch.tensor(X_scaled.astype('float32'))\n",
    "X_delta_maxmin_tensor = torch.tensor(X_delta_maxmin.astype('float32'))\n",
    "y_tensor = torch.tensor(y.astype('int')).type(torch.LongTensor)\n",
    "X_valid_tensor = torch.tensor(X_valid.astype('float32'))\n",
    "X_delta_maxmin_valid_tensor = torch.tensor(X_delta_maxmin_valid.astype('float32'))\n",
    "y_valid_tensor = torch.tensor(y_valid.astype('int')).type(torch.LongTensor)\n",
    "\n",
    "train = data_utils.TensorDataset(X_tensor, X_delta_maxmin_tensor, y_tensor)\n",
    "train_loader = data_utils.DataLoader(train, batch_size=BATCH_SIZE, shuffle=False)"
   ]
  },
  {
   "cell_type": "code",
   "execution_count": 46,
   "id": "9e4fe8f6",
   "metadata": {},
   "outputs": [
    {
     "data": {
      "text/plain": [
       "(torch.Size([309696, 3, 224]), torch.Size([309696, 3]), torch.Size([309696]))"
      ]
     },
     "execution_count": 46,
     "metadata": {},
     "output_type": "execute_result"
    }
   ],
   "source": [
    "X_tensor.shape, X_delta_maxmin_tensor.shape, y_tensor.shape"
   ]
  },
  {
   "cell_type": "code",
   "execution_count": 47,
   "id": "f80aad54",
   "metadata": {},
   "outputs": [
    {
     "name": "stdout",
     "output_type": "stream",
     "text": [
      "torch.Size([4603, 3, 224]) torch.Size([4603, 3]) torch.Size([4603])\n"
     ]
    }
   ],
   "source": [
    "X_valid_tensor = X_valid_tensor.to('cuda')\n",
    "X_delta_maxmin_valid_tensor = X_delta_maxmin_valid_tensor.to('cuda')\n",
    "y_valid_tensor = y_valid_tensor.to('cuda')\n",
    "print(X_valid_tensor.shape, X_delta_maxmin_valid_tensor.shape, y_valid_tensor.shape)"
   ]
  },
  {
   "cell_type": "code",
   "execution_count": 48,
   "id": "67f6a6fe",
   "metadata": {},
   "outputs": [],
   "source": [
    "dataiter = iter(train_loader)\n",
    "images, df, labels = dataiter.next()"
   ]
  },
  {
   "cell_type": "markdown",
   "id": "96bfdf57",
   "metadata": {},
   "source": [
    "### Модель 1"
   ]
  },
  {
   "cell_type": "markdown",
   "id": "17630cc8",
   "metadata": {},
   "source": [
    "#### Конструктор модели 1"
   ]
  },
  {
   "cell_type": "raw",
   "id": "2bf7549a",
   "metadata": {},
   "source": [
    "dataiter = iter(train_loader)\n",
    "q1, q2, a = dataiter.next()\n",
    "print(q1.shape, q2.shape, a.shape)"
   ]
  },
  {
   "cell_type": "raw",
   "id": "462f7ae3",
   "metadata": {},
   "source": [
    "conv1 = nn.Conv1d(3, 9, 3)\n",
    "images = conv1(q1)\n",
    "images.shape"
   ]
  },
  {
   "cell_type": "raw",
   "id": "1b27bec0",
   "metadata": {},
   "source": [
    "pool = nn.MaxPool1d(3)\n",
    "images = pool(images)\n",
    "images.shape"
   ]
  },
  {
   "cell_type": "raw",
   "id": "327cb81d",
   "metadata": {},
   "source": [
    "conv2 = nn.Conv1d(9, 18, 3)\n",
    "images = conv2(images)\n",
    "images.shape"
   ]
  },
  {
   "cell_type": "raw",
   "id": "b5c6c333",
   "metadata": {},
   "source": [
    "pool = nn.MaxPool1d(3)\n",
    "images = pool(images)\n",
    "images.shape"
   ]
  },
  {
   "cell_type": "raw",
   "id": "873f023c",
   "metadata": {},
   "source": [
    "conv3 = nn.Conv1d(18, 36, 3)\n",
    "images = conv3(images)\n",
    "images.shape"
   ]
  },
  {
   "cell_type": "raw",
   "id": "2b6a67f2",
   "metadata": {},
   "source": [
    "pool = nn.MaxPool1d(3)\n",
    "images = pool(images)\n",
    "images.shape"
   ]
  },
  {
   "cell_type": "raw",
   "id": "b7f78c0a",
   "metadata": {},
   "source": [
    "images = torch.flatten(images, start_dim=1)\n",
    "images.shape"
   ]
  },
  {
   "cell_type": "raw",
   "id": "887aace4",
   "metadata": {},
   "source": [
    "fc1 = nn.Linear(252, 120)\n",
    "images = fc1(images)\n",
    "images.shape"
   ]
  },
  {
   "cell_type": "code",
   "execution_count": 49,
   "id": "c8a99a3c",
   "metadata": {},
   "outputs": [],
   "source": [
    "class Net_1(nn.Module):\n",
    "    def __init__(self):\n",
    "        super(Net_1,self).__init__()\n",
    "        self.conv1 = nn.Conv1d(3, 9, 3)\n",
    "        self.pool = nn.MaxPool1d(3)\n",
    "        self.conv2 = nn.Conv1d(9, 18, 3)\n",
    "        self.conv3 = nn.Conv1d(18, 36, 3)\n",
    "        self.fc1 = nn.Linear(252, 60)\n",
    "        self.fc2 = nn.Linear(63, 14)\n",
    "        self.fc3 = nn.Linear(14, 7)\n",
    "        self.sm = nn.Softmax(dim=1)\n",
    "\n",
    "    def forward(self, x, x_delta):\n",
    "        x = self.pool(F.relu(self.conv1(x)))\n",
    "        x = self.pool(F.relu(self.conv2(x)))\n",
    "        x = self.pool(F.relu(self.conv3(x)))\n",
    "        x = torch.flatten(x, start_dim=1)\n",
    "        x = F.relu(self.fc1(x))\n",
    "        x = torch.cat((x, x_delta), 1)\n",
    "        x = F.relu(self.fc2(x))\n",
    "        x = self.fc3(x)\n",
    "        return x\n",
    "    \n",
    "    def inference(self, x, x_delta):\n",
    "        x = self.forward(x, x_delta)\n",
    "        x = self.sm(x)\n",
    "        return x"
   ]
  },
  {
   "cell_type": "code",
   "execution_count": 50,
   "id": "13418796",
   "metadata": {},
   "outputs": [],
   "source": [
    "net_1 = Net_1().to('cuda')"
   ]
  },
  {
   "cell_type": "markdown",
   "id": "bf32c319",
   "metadata": {},
   "source": [
    "#### Обучение модели 1"
   ]
  },
  {
   "cell_type": "code",
   "execution_count": 51,
   "id": "b3ba445b",
   "metadata": {
    "scrolled": false
   },
   "outputs": [
    {
     "name": "stdout",
     "output_type": "stream",
     "text": [
      "Epoch: 0, loss: 1.922, accuracy: 0.829\n",
      "Epoch: 2, loss: 1.751, accuracy: 0.533\n",
      "Epoch: 4, loss: 1.695, accuracy: 0.469\n",
      "Epoch: 6, loss: 1.645, accuracy: 0.447\n",
      "Epoch: 8, loss: 1.586, accuracy: 0.424\n",
      "Epoch: 10, loss: 1.526, accuracy: 0.415\n",
      "Epoch: 12, loss: 1.468, accuracy: 0.402\n",
      "Epoch: 14, loss: 1.412, accuracy: 0.387\n",
      "Epoch: 16, loss: 1.363, accuracy: 0.381\n",
      "Epoch: 18, loss: 1.319, accuracy: 0.369\n",
      "Epoch: 20, loss: 1.274, accuracy: 0.357\n",
      "Epoch: 22, loss: 1.230, accuracy: 0.356\n",
      "Epoch: 24, loss: 1.188, accuracy: 0.355\n",
      "Epoch: 26, loss: 1.144, accuracy: 0.353\n",
      "Epoch: 28, loss: 1.099, accuracy: 0.353\n",
      "Epoch: 30, loss: 1.056, accuracy: 0.354\n",
      "Epoch: 32, loss: 1.015, accuracy: 0.358\n",
      "Epoch: 34, loss: 0.977, accuracy: 0.366\n",
      "Epoch: 36, loss: 0.941, accuracy: 0.375\n",
      "Epoch: 38, loss: 0.907, accuracy: 0.381\n",
      "Epoch: 40, loss: 0.875, accuracy: 0.391\n",
      "Epoch: 42, loss: 0.846, accuracy: 0.403\n"
     ]
    },
    {
     "ename": "KeyboardInterrupt",
     "evalue": "",
     "output_type": "error",
     "traceback": [
      "\u001b[1;31m---------------------------------------------------------------------------\u001b[0m",
      "\u001b[1;31mKeyboardInterrupt\u001b[0m                         Traceback (most recent call last)",
      "File \u001b[1;32m<timed exec>:6\u001b[0m, in \u001b[0;36m<module>\u001b[1;34m\u001b[0m\n",
      "File \u001b[1;32m~\\anaconda3\\envs\\python_3_10_4_torch\\lib\\site-packages\\torch\\utils\\data\\dataloader.py:681\u001b[0m, in \u001b[0;36m_BaseDataLoaderIter.__next__\u001b[1;34m(self)\u001b[0m\n\u001b[0;32m    678\u001b[0m \u001b[38;5;28;01mif\u001b[39;00m \u001b[38;5;28mself\u001b[39m\u001b[38;5;241m.\u001b[39m_sampler_iter \u001b[38;5;129;01mis\u001b[39;00m \u001b[38;5;28;01mNone\u001b[39;00m:\n\u001b[0;32m    679\u001b[0m     \u001b[38;5;66;03m# TODO(https://github.com/pytorch/pytorch/issues/76750)\u001b[39;00m\n\u001b[0;32m    680\u001b[0m     \u001b[38;5;28mself\u001b[39m\u001b[38;5;241m.\u001b[39m_reset()  \u001b[38;5;66;03m# type: ignore[call-arg]\u001b[39;00m\n\u001b[1;32m--> 681\u001b[0m data \u001b[38;5;241m=\u001b[39m \u001b[38;5;28;43mself\u001b[39;49m\u001b[38;5;241;43m.\u001b[39;49m\u001b[43m_next_data\u001b[49m\u001b[43m(\u001b[49m\u001b[43m)\u001b[49m\n\u001b[0;32m    682\u001b[0m \u001b[38;5;28mself\u001b[39m\u001b[38;5;241m.\u001b[39m_num_yielded \u001b[38;5;241m+\u001b[39m\u001b[38;5;241m=\u001b[39m \u001b[38;5;241m1\u001b[39m\n\u001b[0;32m    683\u001b[0m \u001b[38;5;28;01mif\u001b[39;00m \u001b[38;5;28mself\u001b[39m\u001b[38;5;241m.\u001b[39m_dataset_kind \u001b[38;5;241m==\u001b[39m _DatasetKind\u001b[38;5;241m.\u001b[39mIterable \u001b[38;5;129;01mand\u001b[39;00m \\\n\u001b[0;32m    684\u001b[0m         \u001b[38;5;28mself\u001b[39m\u001b[38;5;241m.\u001b[39m_IterableDataset_len_called \u001b[38;5;129;01mis\u001b[39;00m \u001b[38;5;129;01mnot\u001b[39;00m \u001b[38;5;28;01mNone\u001b[39;00m \u001b[38;5;129;01mand\u001b[39;00m \\\n\u001b[0;32m    685\u001b[0m         \u001b[38;5;28mself\u001b[39m\u001b[38;5;241m.\u001b[39m_num_yielded \u001b[38;5;241m>\u001b[39m \u001b[38;5;28mself\u001b[39m\u001b[38;5;241m.\u001b[39m_IterableDataset_len_called:\n",
      "File \u001b[1;32m~\\anaconda3\\envs\\python_3_10_4_torch\\lib\\site-packages\\torch\\utils\\data\\dataloader.py:721\u001b[0m, in \u001b[0;36m_SingleProcessDataLoaderIter._next_data\u001b[1;34m(self)\u001b[0m\n\u001b[0;32m    719\u001b[0m \u001b[38;5;28;01mdef\u001b[39;00m \u001b[38;5;21m_next_data\u001b[39m(\u001b[38;5;28mself\u001b[39m):\n\u001b[0;32m    720\u001b[0m     index \u001b[38;5;241m=\u001b[39m \u001b[38;5;28mself\u001b[39m\u001b[38;5;241m.\u001b[39m_next_index()  \u001b[38;5;66;03m# may raise StopIteration\u001b[39;00m\n\u001b[1;32m--> 721\u001b[0m     data \u001b[38;5;241m=\u001b[39m \u001b[38;5;28;43mself\u001b[39;49m\u001b[38;5;241;43m.\u001b[39;49m\u001b[43m_dataset_fetcher\u001b[49m\u001b[38;5;241;43m.\u001b[39;49m\u001b[43mfetch\u001b[49m\u001b[43m(\u001b[49m\u001b[43mindex\u001b[49m\u001b[43m)\u001b[49m  \u001b[38;5;66;03m# may raise StopIteration\u001b[39;00m\n\u001b[0;32m    722\u001b[0m     \u001b[38;5;28;01mif\u001b[39;00m \u001b[38;5;28mself\u001b[39m\u001b[38;5;241m.\u001b[39m_pin_memory:\n\u001b[0;32m    723\u001b[0m         data \u001b[38;5;241m=\u001b[39m _utils\u001b[38;5;241m.\u001b[39mpin_memory\u001b[38;5;241m.\u001b[39mpin_memory(data, \u001b[38;5;28mself\u001b[39m\u001b[38;5;241m.\u001b[39m_pin_memory_device)\n",
      "File \u001b[1;32m~\\anaconda3\\envs\\python_3_10_4_torch\\lib\\site-packages\\torch\\utils\\data\\_utils\\fetch.py:52\u001b[0m, in \u001b[0;36m_MapDatasetFetcher.fetch\u001b[1;34m(self, possibly_batched_index)\u001b[0m\n\u001b[0;32m     50\u001b[0m \u001b[38;5;28;01melse\u001b[39;00m:\n\u001b[0;32m     51\u001b[0m     data \u001b[38;5;241m=\u001b[39m \u001b[38;5;28mself\u001b[39m\u001b[38;5;241m.\u001b[39mdataset[possibly_batched_index]\n\u001b[1;32m---> 52\u001b[0m \u001b[38;5;28;01mreturn\u001b[39;00m \u001b[38;5;28;43mself\u001b[39;49m\u001b[38;5;241;43m.\u001b[39;49m\u001b[43mcollate_fn\u001b[49m\u001b[43m(\u001b[49m\u001b[43mdata\u001b[49m\u001b[43m)\u001b[49m\n",
      "File \u001b[1;32m~\\anaconda3\\envs\\python_3_10_4_torch\\lib\\site-packages\\torch\\utils\\data\\_utils\\collate.py:175\u001b[0m, in \u001b[0;36mdefault_collate\u001b[1;34m(batch)\u001b[0m\n\u001b[0;32m    172\u001b[0m transposed \u001b[38;5;241m=\u001b[39m \u001b[38;5;28mlist\u001b[39m(\u001b[38;5;28mzip\u001b[39m(\u001b[38;5;241m*\u001b[39mbatch))  \u001b[38;5;66;03m# It may be accessed twice, so we use a list.\u001b[39;00m\n\u001b[0;32m    174\u001b[0m \u001b[38;5;28;01mif\u001b[39;00m \u001b[38;5;28misinstance\u001b[39m(elem, \u001b[38;5;28mtuple\u001b[39m):\n\u001b[1;32m--> 175\u001b[0m     \u001b[38;5;28;01mreturn\u001b[39;00m [default_collate(samples) \u001b[38;5;28;01mfor\u001b[39;00m samples \u001b[38;5;129;01min\u001b[39;00m transposed]  \u001b[38;5;66;03m# Backwards compatibility.\u001b[39;00m\n\u001b[0;32m    176\u001b[0m \u001b[38;5;28;01melse\u001b[39;00m:\n\u001b[0;32m    177\u001b[0m     \u001b[38;5;28;01mtry\u001b[39;00m:\n",
      "File \u001b[1;32m~\\anaconda3\\envs\\python_3_10_4_torch\\lib\\site-packages\\torch\\utils\\data\\_utils\\collate.py:175\u001b[0m, in \u001b[0;36m<listcomp>\u001b[1;34m(.0)\u001b[0m\n\u001b[0;32m    172\u001b[0m transposed \u001b[38;5;241m=\u001b[39m \u001b[38;5;28mlist\u001b[39m(\u001b[38;5;28mzip\u001b[39m(\u001b[38;5;241m*\u001b[39mbatch))  \u001b[38;5;66;03m# It may be accessed twice, so we use a list.\u001b[39;00m\n\u001b[0;32m    174\u001b[0m \u001b[38;5;28;01mif\u001b[39;00m \u001b[38;5;28misinstance\u001b[39m(elem, \u001b[38;5;28mtuple\u001b[39m):\n\u001b[1;32m--> 175\u001b[0m     \u001b[38;5;28;01mreturn\u001b[39;00m [\u001b[43mdefault_collate\u001b[49m\u001b[43m(\u001b[49m\u001b[43msamples\u001b[49m\u001b[43m)\u001b[49m \u001b[38;5;28;01mfor\u001b[39;00m samples \u001b[38;5;129;01min\u001b[39;00m transposed]  \u001b[38;5;66;03m# Backwards compatibility.\u001b[39;00m\n\u001b[0;32m    176\u001b[0m \u001b[38;5;28;01melse\u001b[39;00m:\n\u001b[0;32m    177\u001b[0m     \u001b[38;5;28;01mtry\u001b[39;00m:\n",
      "File \u001b[1;32m~\\anaconda3\\envs\\python_3_10_4_torch\\lib\\site-packages\\torch\\utils\\data\\_utils\\collate.py:141\u001b[0m, in \u001b[0;36mdefault_collate\u001b[1;34m(batch)\u001b[0m\n\u001b[0;32m    139\u001b[0m         storage \u001b[38;5;241m=\u001b[39m elem\u001b[38;5;241m.\u001b[39mstorage()\u001b[38;5;241m.\u001b[39m_new_shared(numel, device\u001b[38;5;241m=\u001b[39melem\u001b[38;5;241m.\u001b[39mdevice)\n\u001b[0;32m    140\u001b[0m         out \u001b[38;5;241m=\u001b[39m elem\u001b[38;5;241m.\u001b[39mnew(storage)\u001b[38;5;241m.\u001b[39mresize_(\u001b[38;5;28mlen\u001b[39m(batch), \u001b[38;5;241m*\u001b[39m\u001b[38;5;28mlist\u001b[39m(elem\u001b[38;5;241m.\u001b[39msize()))\n\u001b[1;32m--> 141\u001b[0m     \u001b[38;5;28;01mreturn\u001b[39;00m \u001b[43mtorch\u001b[49m\u001b[38;5;241;43m.\u001b[39;49m\u001b[43mstack\u001b[49m\u001b[43m(\u001b[49m\u001b[43mbatch\u001b[49m\u001b[43m,\u001b[49m\u001b[43m \u001b[49m\u001b[38;5;241;43m0\u001b[39;49m\u001b[43m,\u001b[49m\u001b[43m \u001b[49m\u001b[43mout\u001b[49m\u001b[38;5;241;43m=\u001b[39;49m\u001b[43mout\u001b[49m\u001b[43m)\u001b[49m\n\u001b[0;32m    142\u001b[0m \u001b[38;5;28;01melif\u001b[39;00m elem_type\u001b[38;5;241m.\u001b[39m\u001b[38;5;18m__module__\u001b[39m \u001b[38;5;241m==\u001b[39m \u001b[38;5;124m'\u001b[39m\u001b[38;5;124mnumpy\u001b[39m\u001b[38;5;124m'\u001b[39m \u001b[38;5;129;01mand\u001b[39;00m elem_type\u001b[38;5;241m.\u001b[39m\u001b[38;5;18m__name__\u001b[39m \u001b[38;5;241m!=\u001b[39m \u001b[38;5;124m'\u001b[39m\u001b[38;5;124mstr_\u001b[39m\u001b[38;5;124m'\u001b[39m \\\n\u001b[0;32m    143\u001b[0m         \u001b[38;5;129;01mand\u001b[39;00m elem_type\u001b[38;5;241m.\u001b[39m\u001b[38;5;18m__name__\u001b[39m \u001b[38;5;241m!=\u001b[39m \u001b[38;5;124m'\u001b[39m\u001b[38;5;124mstring_\u001b[39m\u001b[38;5;124m'\u001b[39m:\n\u001b[0;32m    144\u001b[0m     \u001b[38;5;28;01mif\u001b[39;00m elem_type\u001b[38;5;241m.\u001b[39m\u001b[38;5;18m__name__\u001b[39m \u001b[38;5;241m==\u001b[39m \u001b[38;5;124m'\u001b[39m\u001b[38;5;124mndarray\u001b[39m\u001b[38;5;124m'\u001b[39m \u001b[38;5;129;01mor\u001b[39;00m elem_type\u001b[38;5;241m.\u001b[39m\u001b[38;5;18m__name__\u001b[39m \u001b[38;5;241m==\u001b[39m \u001b[38;5;124m'\u001b[39m\u001b[38;5;124mmemmap\u001b[39m\u001b[38;5;124m'\u001b[39m:\n\u001b[0;32m    145\u001b[0m         \u001b[38;5;66;03m# array of string classes and object\u001b[39;00m\n",
      "\u001b[1;31mKeyboardInterrupt\u001b[0m: "
     ]
    }
   ],
   "source": [
    "%%time\n",
    "\n",
    "loss_fn = nn.CrossEntropyLoss()\n",
    "optimizer = optim.Adam(net_1.parameters(), lr=0.0001)\n",
    "\n",
    "for epoch in range(EPOCH):\n",
    "    loss_array = np.array([], dtype=float)\n",
    "    for i, batch in enumerate(train_loader):\n",
    "        optimizer.zero_grad()\n",
    "        X_batch, X_delta_batch, y_batch = batch\n",
    "        X_batch = X_batch.to('cuda')\n",
    "        X_delta_batch = X_delta_batch.to('cuda')\n",
    "        y_batch = y_batch.to('cuda')\n",
    "        output = net_1.forward(X_batch, X_delta_batch)\n",
    "#         print(output, output.shape, output.type())\n",
    "#         print(y_batch, y_batch.shape, y_batch.type())\n",
    "        loss =loss_fn(output, y_batch)\n",
    "        loss.backward()\n",
    "        optimizer.step()\n",
    "        loss_array = np.append(loss_array, loss.to('cpu').detach().numpy())\n",
    "    if epoch % 2 == 0:\n",
    "        predict = torch.argmax(net_1.inference(X_valid_tensor, X_delta_maxmin_valid_tensor), dim=1)\n",
    "        good = (predict == y_valid_tensor).sum()\n",
    "        accuracy = good/y_valid_tensor.shape[0]\n",
    "        print(f'Epoch: {epoch}, loss: {loss_array.mean():.3f}, accuracy: {accuracy:.3f}')"
   ]
  },
  {
   "cell_type": "raw",
   "id": "9a8d1f5d",
   "metadata": {},
   "source": [
    "torch.save(net_1, 'model_1')"
   ]
  },
  {
   "cell_type": "raw",
   "id": "1974c3e4",
   "metadata": {},
   "source": [
    "net_1 = torch.load('model_1')"
   ]
  },
  {
   "cell_type": "code",
   "execution_count": 52,
   "id": "0a927682",
   "metadata": {},
   "outputs": [
    {
     "name": "stdout",
     "output_type": "stream",
     "text": [
      "tensor(0.4097, device='cuda:0')\n"
     ]
    }
   ],
   "source": [
    "predict = torch.argmax(net_1.inference(X_valid_tensor, X_delta_maxmin_valid_tensor), dim=1)\n",
    "good = (predict == y_valid_tensor).sum()\n",
    "accuracy = good/y_valid_tensor.shape[0]\n",
    "print(accuracy)"
   ]
  },
  {
   "cell_type": "markdown",
   "id": "2968a202",
   "metadata": {},
   "source": [
    "### Загрузчики данных Модель 2"
   ]
  },
  {
   "cell_type": "code",
   "execution_count": 53,
   "id": "258d2a2d",
   "metadata": {},
   "outputs": [],
   "source": [
    "X_tensor = torch.tensor(X_scaled.astype('float32'))\n",
    "X_delta_maxmin_tensor = torch.tensor(X_delta_maxmin.astype('float32'))\n",
    "y_tensor = torch.tensor(y.astype('int')).type(torch.LongTensor)\n",
    "X_valid_tensor = torch.tensor(X_valid.astype('float32'))\n",
    "X_delta_maxmin_valid_tensor = torch.tensor(X_delta_maxmin_valid.astype('float32'))\n",
    "y_valid_tensor = torch.tensor(y_valid.astype('int')).type(torch.LongTensor)\n",
    "\n",
    "train = data_utils.TensorDataset(X_tensor, X_delta_maxmin_tensor, y_tensor)\n",
    "train_loader = data_utils.DataLoader(train, batch_size=BATCH_SIZE, shuffle=False)"
   ]
  },
  {
   "cell_type": "code",
   "execution_count": 54,
   "id": "76967850",
   "metadata": {},
   "outputs": [
    {
     "name": "stdout",
     "output_type": "stream",
     "text": [
      "torch.Size([4603, 3, 224]) torch.Size([4603, 3]) torch.Size([4603])\n"
     ]
    }
   ],
   "source": [
    "X_valid_tensor = X_valid_tensor.to('cuda')\n",
    "X_delta_maxmin_valid_tensor = X_delta_maxmin_valid_tensor.to('cuda')\n",
    "y_valid_tensor = y_valid_tensor.to('cuda')\n",
    "print(X_valid_tensor.shape, X_delta_maxmin_valid_tensor.shape, y_valid_tensor.shape)"
   ]
  },
  {
   "cell_type": "markdown",
   "id": "ef05aeb6",
   "metadata": {},
   "source": [
    "### Модель 2"
   ]
  },
  {
   "cell_type": "markdown",
   "id": "a8e2fab3",
   "metadata": {},
   "source": [
    "#### Конструктор модели 2"
   ]
  },
  {
   "cell_type": "raw",
   "id": "85015c58",
   "metadata": {},
   "source": [
    "dataiter = iter(train_loader)\n",
    "images, x, labels = dataiter.next()\n",
    "print(images.shape, labels.shape)"
   ]
  },
  {
   "cell_type": "raw",
   "id": "0535c8dc",
   "metadata": {},
   "source": [
    "conv1 = nn.Conv1d(3, 18, 5)\n",
    "images = conv1(images)\n",
    "images.shape"
   ]
  },
  {
   "cell_type": "raw",
   "id": "b25a3fbc",
   "metadata": {},
   "source": [
    "pool = nn.MaxPool1d(3)\n",
    "images = pool(images)\n",
    "images.shape"
   ]
  },
  {
   "cell_type": "raw",
   "id": "7c9f43cc",
   "metadata": {},
   "source": [
    "conv2 = nn.Conv1d(18, 72, 3)\n",
    "images = conv2(images)\n",
    "images.shape"
   ]
  },
  {
   "cell_type": "raw",
   "id": "eb7e4eaa",
   "metadata": {},
   "source": [
    "pool = nn.MaxPool1d(3)\n",
    "images = pool(images)\n",
    "images.shape"
   ]
  },
  {
   "cell_type": "raw",
   "id": "c8f7aa53",
   "metadata": {},
   "source": [
    "conv3 = nn.Conv1d(72, 36, 3)\n",
    "images = conv3(images)\n",
    "images.shape"
   ]
  },
  {
   "cell_type": "raw",
   "id": "11ae0f58",
   "metadata": {},
   "source": [
    "pool = nn.MaxPool1d(3)\n",
    "images = pool(images)\n",
    "images.shape"
   ]
  },
  {
   "cell_type": "raw",
   "id": "538fa9b1",
   "metadata": {},
   "source": [
    "images = torch.flatten(images, start_dim=1)\n",
    "images.shape"
   ]
  },
  {
   "cell_type": "raw",
   "id": "0d567cac",
   "metadata": {},
   "source": [
    "fc1 = nn.Linear(252, 120)\n",
    "images = fc1(images)\n",
    "images.shape"
   ]
  },
  {
   "cell_type": "code",
   "execution_count": 55,
   "id": "6bf0b238",
   "metadata": {},
   "outputs": [],
   "source": [
    "class Net_2(nn.Module):\n",
    "    def __init__(self):\n",
    "        super(Net_2,self).__init__()\n",
    "        self.conv1 = nn.Conv1d(3, 18, 5)\n",
    "        self.pool = nn.MaxPool1d(3)\n",
    "        self.conv2 = nn.Conv1d(18, 72, 3)\n",
    "        self.conv3 = nn.Conv1d(72, 36, 3)\n",
    "        self.fc1 = nn.Linear(252, 60)\n",
    "        self.fc2 = nn.Linear(63, 14)\n",
    "        self.fc3 = nn.Linear(14, 7)\n",
    "        self.sm = nn.Softmax(dim=1)\n",
    "\n",
    "    def forward(self, x, x_delta):\n",
    "        x = self.pool(F.relu(self.conv1(x)))\n",
    "        x = self.pool(F.relu(self.conv2(x)))\n",
    "        x = self.pool(F.relu(self.conv3(x)))\n",
    "        x = torch.flatten(x, start_dim=1)\n",
    "        x = F.relu(self.fc1(x))\n",
    "        x = torch.cat((x, x_delta), 1)\n",
    "        x = F.relu(self.fc2(x))\n",
    "        x = self.fc3(x)\n",
    "        return x\n",
    "    \n",
    "    def inference(self, x, x_delta):\n",
    "        x = self.forward(x, x_delta)\n",
    "        x = self.sm(x)\n",
    "        return x"
   ]
  },
  {
   "cell_type": "code",
   "execution_count": 56,
   "id": "73246ff2",
   "metadata": {},
   "outputs": [],
   "source": [
    "net_2 = Net_2().to('cuda')"
   ]
  },
  {
   "cell_type": "markdown",
   "id": "778313c9",
   "metadata": {},
   "source": [
    "#### Обучение модели 2"
   ]
  },
  {
   "cell_type": "code",
   "execution_count": 57,
   "id": "a41d52c6",
   "metadata": {},
   "outputs": [
    {
     "ename": "KeyboardInterrupt",
     "evalue": "",
     "output_type": "error",
     "traceback": [
      "\u001b[1;31m---------------------------------------------------------------------------\u001b[0m",
      "\u001b[1;31mKeyboardInterrupt\u001b[0m                         Traceback (most recent call last)",
      "File \u001b[1;32m<timed exec>:16\u001b[0m, in \u001b[0;36m<module>\u001b[1;34m\u001b[0m\n",
      "File \u001b[1;32m~\\anaconda3\\envs\\python_3_10_4_torch\\lib\\site-packages\\torch\\_tensor.py:396\u001b[0m, in \u001b[0;36mTensor.backward\u001b[1;34m(self, gradient, retain_graph, create_graph, inputs)\u001b[0m\n\u001b[0;32m    387\u001b[0m \u001b[38;5;28;01mif\u001b[39;00m has_torch_function_unary(\u001b[38;5;28mself\u001b[39m):\n\u001b[0;32m    388\u001b[0m     \u001b[38;5;28;01mreturn\u001b[39;00m handle_torch_function(\n\u001b[0;32m    389\u001b[0m         Tensor\u001b[38;5;241m.\u001b[39mbackward,\n\u001b[0;32m    390\u001b[0m         (\u001b[38;5;28mself\u001b[39m,),\n\u001b[1;32m   (...)\u001b[0m\n\u001b[0;32m    394\u001b[0m         create_graph\u001b[38;5;241m=\u001b[39mcreate_graph,\n\u001b[0;32m    395\u001b[0m         inputs\u001b[38;5;241m=\u001b[39minputs)\n\u001b[1;32m--> 396\u001b[0m \u001b[43mtorch\u001b[49m\u001b[38;5;241;43m.\u001b[39;49m\u001b[43mautograd\u001b[49m\u001b[38;5;241;43m.\u001b[39;49m\u001b[43mbackward\u001b[49m\u001b[43m(\u001b[49m\u001b[38;5;28;43mself\u001b[39;49m\u001b[43m,\u001b[49m\u001b[43m \u001b[49m\u001b[43mgradient\u001b[49m\u001b[43m,\u001b[49m\u001b[43m \u001b[49m\u001b[43mretain_graph\u001b[49m\u001b[43m,\u001b[49m\u001b[43m \u001b[49m\u001b[43mcreate_graph\u001b[49m\u001b[43m,\u001b[49m\u001b[43m \u001b[49m\u001b[43minputs\u001b[49m\u001b[38;5;241;43m=\u001b[39;49m\u001b[43minputs\u001b[49m\u001b[43m)\u001b[49m\n",
      "File \u001b[1;32m~\\anaconda3\\envs\\python_3_10_4_torch\\lib\\site-packages\\torch\\autograd\\__init__.py:173\u001b[0m, in \u001b[0;36mbackward\u001b[1;34m(tensors, grad_tensors, retain_graph, create_graph, grad_variables, inputs)\u001b[0m\n\u001b[0;32m    168\u001b[0m     retain_graph \u001b[38;5;241m=\u001b[39m create_graph\n\u001b[0;32m    170\u001b[0m \u001b[38;5;66;03m# The reason we repeat same the comment below is that\u001b[39;00m\n\u001b[0;32m    171\u001b[0m \u001b[38;5;66;03m# some Python versions print out the first line of a multi-line function\u001b[39;00m\n\u001b[0;32m    172\u001b[0m \u001b[38;5;66;03m# calls in the traceback and some print out the last line\u001b[39;00m\n\u001b[1;32m--> 173\u001b[0m \u001b[43mVariable\u001b[49m\u001b[38;5;241;43m.\u001b[39;49m\u001b[43m_execution_engine\u001b[49m\u001b[38;5;241;43m.\u001b[39;49m\u001b[43mrun_backward\u001b[49m\u001b[43m(\u001b[49m\u001b[43m  \u001b[49m\u001b[38;5;66;43;03m# Calls into the C++ engine to run the backward pass\u001b[39;49;00m\n\u001b[0;32m    174\u001b[0m \u001b[43m    \u001b[49m\u001b[43mtensors\u001b[49m\u001b[43m,\u001b[49m\u001b[43m \u001b[49m\u001b[43mgrad_tensors_\u001b[49m\u001b[43m,\u001b[49m\u001b[43m \u001b[49m\u001b[43mretain_graph\u001b[49m\u001b[43m,\u001b[49m\u001b[43m \u001b[49m\u001b[43mcreate_graph\u001b[49m\u001b[43m,\u001b[49m\u001b[43m \u001b[49m\u001b[43minputs\u001b[49m\u001b[43m,\u001b[49m\n\u001b[0;32m    175\u001b[0m \u001b[43m    \u001b[49m\u001b[43mallow_unreachable\u001b[49m\u001b[38;5;241;43m=\u001b[39;49m\u001b[38;5;28;43;01mTrue\u001b[39;49;00m\u001b[43m,\u001b[49m\u001b[43m \u001b[49m\u001b[43maccumulate_grad\u001b[49m\u001b[38;5;241;43m=\u001b[39;49m\u001b[38;5;28;43;01mTrue\u001b[39;49;00m\u001b[43m)\u001b[49m\n",
      "\u001b[1;31mKeyboardInterrupt\u001b[0m: "
     ]
    }
   ],
   "source": [
    "%%time\n",
    "\n",
    "loss_fn = nn.CrossEntropyLoss()\n",
    "optimizer = optim.Adam(net_2.parameters(), lr=0.0001)\n",
    "\n",
    "for epoch in range(EPOCH):\n",
    "    loss_array = np.array([], dtype=float)\n",
    "    for i, batch in enumerate(train_loader):\n",
    "        optimizer.zero_grad()\n",
    "        X_batch, X_delta_batch, y_batch = batch\n",
    "        X_batch = X_batch.to('cuda')\n",
    "        X_delta_batch = X_delta_batch.to('cuda')\n",
    "        y_batch = y_batch.to('cuda')\n",
    "        output = net_2.forward(X_batch, X_delta_batch)\n",
    "#         print(output, output.shape, output.type())\n",
    "#         print(y_batch, y_batch.shape, y_batch.type())\n",
    "        loss =loss_fn(output, y_batch)\n",
    "        loss.backward()\n",
    "        optimizer.step()\n",
    "        loss_array = np.append(loss_array, loss.to('cpu').detach().numpy())\n",
    "    if epoch % 2 == 0:\n",
    "        predict = torch.argmax(net_2.inference(X_valid_tensor, X_delta_maxmin_valid_tensor), dim=1)\n",
    "        good = (predict == y_valid_tensor).sum()\n",
    "        accuracy = good/y_valid_tensor.shape[0]\n",
    "        print(f'Epoch: {epoch}, loss: {loss_array.mean():.3f}, accuracy: {accuracy:.3f}')"
   ]
  },
  {
   "cell_type": "raw",
   "id": "3b448b42",
   "metadata": {},
   "source": [
    "torch.save(net_2, 'model_2')"
   ]
  },
  {
   "cell_type": "raw",
   "id": "c944aa07",
   "metadata": {},
   "source": [
    "net_2 = torch.load('model_2')"
   ]
  },
  {
   "cell_type": "code",
   "execution_count": 58,
   "id": "bb25ff9d",
   "metadata": {},
   "outputs": [
    {
     "name": "stdout",
     "output_type": "stream",
     "text": [
      "tensor(0.9839, device='cuda:0')\n"
     ]
    }
   ],
   "source": [
    "predict = torch.argmax(net_2.inference(X_valid_tensor, X_delta_maxmin_valid_tensor), dim=1)\n",
    "good = (predict == y_valid_tensor).sum()\n",
    "accuracy = good/y_valid_tensor.shape[0]\n",
    "print(accuracy)"
   ]
  },
  {
   "cell_type": "markdown",
   "id": "51b4756a",
   "metadata": {},
   "source": [
    "## Проверка модели при продаже на тестовых данных"
   ]
  },
  {
   "cell_type": "code",
   "execution_count": 59,
   "id": "71059325",
   "metadata": {},
   "outputs": [],
   "source": [
    "trend_test = pd.read_csv('binance_features/BTC_ETH_BNB_train_7.csv', sep=';', names=['BTC/USTD','ETH/USTD','BNB/USTD', 'server_time'])\n",
    "trend_test['server_time'] = trend_test['server_time'].apply(lambda x: datetime.utcfromtimestamp(int(str(x)[:10])).strftime('%Y-%m-%d %H:%M:%S'))\n",
    "trend_test['server_time'] = pd.to_datetime(trend_test['server_time'])\n",
    "trend_test = trend_test.set_index('server_time')\n",
    "trend_test = trend_test[:]"
   ]
  },
  {
   "cell_type": "code",
   "execution_count": 60,
   "id": "99d18bf0",
   "metadata": {},
   "outputs": [],
   "source": [
    "trend_test['BTC/BNB'] = trend_test['BTC/USTD']/trend_test['BNB/USTD']\n",
    "trend_test['BTC/ETH'] = trend_test['BTC/USTD']/trend_test['ETH/USTD']\n",
    "trend_test['ETH/BNB'] = trend_test['ETH/USTD']/trend_test['BNB/USTD']"
   ]
  },
  {
   "cell_type": "raw",
   "id": "b6051bda",
   "metadata": {},
   "source": [
    "trend_test['BTC/BNB'] = 1/trend_test['BNB/BTC']\n",
    "trend_test['BTC/ETH'] = 1/trend_test['ETH/BTC']\n",
    "trend_test['ETH/BNB'] = 1/trend_test['BNB/ETH']"
   ]
  },
  {
   "cell_type": "markdown",
   "id": "2bb870d6",
   "metadata": {},
   "source": [
    "### Проверка модели 1"
   ]
  },
  {
   "cell_type": "markdown",
   "id": "4a4a860a",
   "metadata": {},
   "source": [
    "`coin_byu` - словарь для валюты:\n",
    " - `name` - название валюты,\n",
    " - `quantity` - количество на счёте,\n",
    " - `price_usdt` - текущая цена в долларах.\n",
    " \n",
    "`trade_result` - DataFrame статистики по торгам:\n",
    " - `server_time` - время сервера,\n",
    " - `btc_in_usdt` - количество BTC  в колшельке определённое в долларах,\n",
    " - `bnb_in_usdt` - количество BNB  в колшельке определённое в долларах,\n",
    " - `eth_in_usdt` - количество ETH  в колшельке определённое в долларах,\n",
    " - `fee_usdt` - размер комиссии со сделки определённой в долларах,\n",
    " - `predict` - предсказание по сделке (0, 1, 2, 3, 4, 5, 6)\n",
    " - `predict_proba` - вероятность предсказания по сделке,\n",
    " - `price` - стоимость в паре (валюта покупки/ валюта продажи),\n",
    " - `profit_function` - прибыль со сделки в долларах вычесленная в функции,\n",
    " - `quantity_in_usdt` - размер кошелька в долларах,\n",
    " - `profit_in_usdt` - прибыль со сделки в долларах вычесленная как разность размера кошелька после сделки и до сделки,\n",
    " - `BTC/USTD` - стоимость в паре,\n",
    " - `trade` - выполнена сделка  (0, 1, 2, 3, 4, 5, 6)."
   ]
  },
  {
   "cell_type": "markdown",
   "id": "bbeddaa2",
   "metadata": {},
   "source": [
    "Функция выполнения сделки."
   ]
  },
  {
   "cell_type": "code",
   "execution_count": 61,
   "id": "1fc42566",
   "metadata": {},
   "outputs": [],
   "source": [
    "# coin_buy = {'name': 'BTC','quantity': 21, 'price_usdt': 19275, 'last_trade': {'operation':'buy', 'coin':'ETH', price:'737'}}\n",
    "\n",
    "def buy(coin_buy, coin_sell, price, proba):\n",
    "    \n",
    "    all_coin_in_usdt_before = coin_buy['quantity']*coin_buy['price_usdt'] + coin_sell['quantity']*coin_sell['price_usdt']\n",
    "    \n",
    "    coin_sell_part = proba * np.clip((coin_sell['quantity']*coin_sell['price_usdt'])\n",
    "                                        /(coin_buy['quantity']*coin_buy['price_usdt']), 0, 0.1) * coin_sell['quantity']\n",
    "    coin_buy_part = coin_sell_part / price\n",
    "    fee = FEE * coin_buy_part\n",
    "    coin_sell_out = coin_sell['quantity'] - coin_sell_part\n",
    "    coin_buy_out = coin_buy['quantity'] + coin_buy_part - fee\n",
    "    \n",
    "    all_coin_in_usdt_after = coin_buy_out*coin_buy['price_usdt'] + coin_sell_out*coin_sell['price_usdt']\n",
    "    profit = all_coin_in_usdt_after - all_coin_in_usdt_before\n",
    "    \n",
    "    # условие для совершения сделки\n",
    "    # 1) таже пара торгуется по цене если есть прибыль относительно комиссии,\n",
    "    # 2) другая пара,\n",
    "    # 3) другая сделка (не покупка)\n",
    "    \n",
    "#     if ((coin_buy['last_trade']['operation'] == 'buy') and\n",
    "#         (coin_buy['last_trade']['coin'] == coin_sell['name']) and\n",
    "#         (coin_buy['last_trade']['price']-price > fee*5)) or (coin_buy['last_trade']['operation'] == 'sell') or (coin_buy['last_trade']['coin'] != coin_sell['name']):\n",
    "    if profit> -2:   \n",
    "\n",
    "        coin_buy['last_trade']['operation'] = 'buy'\n",
    "        coin_buy['last_trade']['coin'] = coin_sell['name']\n",
    "        coin_buy['last_trade']['price'] = price\n",
    "        coin_sell['last_trade']['operation'] = 'sell'\n",
    "        \n",
    "        status = 1\n",
    "    else:\n",
    "        coin_buy_out = coin_buy['quantity']\n",
    "        coin_sell_out = coin_sell['quantity']\n",
    "        status = 0\n",
    "        profit = 0\n",
    "        fee = 0\n",
    "    return coin_buy_out, coin_sell_out, fee*coin_buy['price_usdt'], profit, status\n",
    "    \n"
   ]
  },
  {
   "cell_type": "markdown",
   "id": "cedd9966",
   "metadata": {},
   "source": [
    "Функция проверки баланса в кошелке.\n",
    " - На входе словари валют кошелька. \n",
    " - На выходе состояние: 0 - пропорции в норме, 1 - нужно покупать BTC, 2 - нужно покупать BNB, 3 - нужно покупать ETH."
   ]
  },
  {
   "cell_type": "code",
   "execution_count": 62,
   "id": "ecfd87a5",
   "metadata": {},
   "outputs": [],
   "source": [
    "def check_proportion(btc, bnb, eth):\n",
    "    limit = 0.2 # допустимый минимум доли валюты в кошельке\n",
    "    coin_quantity_in_usdt = pd.Series(data=[btc['quantity']*btc['price_usdt'],\n",
    "                                             bnb['quantity']*bnb['price_usdt'],\n",
    "                                             eth['quantity']*eth['price_usdt']],\n",
    "                                      index=[1, 2, 3]).sort_values()\n",
    "    limit_quantity_in_usdt = coin_quantity_in_usdt.sum() * limit\n",
    "    \n",
    "    if coin_quantity_in_usdt.values[0] > limit_quantity_in_usdt:\n",
    "        flag = 0\n",
    "    else:\n",
    "        flag = coin_quantity_in_usdt.index[0]    \n",
    "    \n",
    "    return 0 # 0- пропорции в норме, 1 - нужно покупать BTC, 2 - нужно покупать BNB, 3 - нужно покупать ETH"
   ]
  },
  {
   "cell_type": "markdown",
   "id": "3b577422",
   "metadata": {},
   "source": [
    "Поток данных организую в цикле, каждый цикл - имитация считывания в интервале 5 сек с сервака."
   ]
  },
  {
   "cell_type": "code",
   "execution_count": 63,
   "id": "4f7336cb",
   "metadata": {
    "scrolled": true
   },
   "outputs": [
    {
     "name": "stderr",
     "output_type": "stream",
     "text": [
      "1072it [00:02, 447.03it/s]\n"
     ]
    },
    {
     "ename": "KeyboardInterrupt",
     "evalue": "",
     "output_type": "error",
     "traceback": [
      "\u001b[1;31m---------------------------------------------------------------------------\u001b[0m",
      "\u001b[1;31mKeyboardInterrupt\u001b[0m                         Traceback (most recent call last)",
      "Input \u001b[1;32mIn [63]\u001b[0m, in \u001b[0;36m<cell line: 21>\u001b[1;34m()\u001b[0m\n\u001b[0;32m     28\u001b[0m     \u001b[38;5;66;03m# условие достаточного количества признаков для предсказания\u001b[39;00m\n\u001b[0;32m     29\u001b[0m     \u001b[38;5;28;01mif\u001b[39;00m feattures_step_transp\u001b[38;5;241m.\u001b[39mshape[\u001b[38;5;241m1\u001b[39m] \u001b[38;5;241m==\u001b[39m FEATURES_LENGHT:\n\u001b[0;32m     30\u001b[0m \n\u001b[0;32m     31\u001b[0m \u001b[38;5;66;03m#         X_trend = X_temp.iloc[i-FEATURES_LENGHT+1:i+1]\u001b[39;00m\n\u001b[1;32m   (...)\u001b[0m\n\u001b[0;32m     35\u001b[0m         \n\u001b[0;32m     36\u001b[0m         \u001b[38;5;66;03m#features = ((feattures_step_transp.T - feattures_step_transp.mean(axis=1))/feattures_step_transp.std(axis=1)).T\u001b[39;00m\n\u001b[1;32m---> 37\u001b[0m         features \u001b[38;5;241m=\u001b[39m \u001b[43mscaler\u001b[49m\u001b[38;5;241;43m.\u001b[39;49m\u001b[43mfit_transform\u001b[49m\u001b[43m(\u001b[49m\u001b[43mfeattures_step_transp\u001b[49m\u001b[38;5;241;43m.\u001b[39;49m\u001b[43mT\u001b[49m\u001b[43m)\u001b[49m\u001b[38;5;241m.\u001b[39mT\n\u001b[0;32m     38\u001b[0m         features \u001b[38;5;241m=\u001b[39m np\u001b[38;5;241m.\u001b[39mexpand_dims(features, axis\u001b[38;5;241m=\u001b[39m\u001b[38;5;241m0\u001b[39m)\n\u001b[0;32m     39\u001b[0m         features \u001b[38;5;241m=\u001b[39m torch\u001b[38;5;241m.\u001b[39mtensor(features\u001b[38;5;241m.\u001b[39mastype(\u001b[38;5;124m'\u001b[39m\u001b[38;5;124mfloat32\u001b[39m\u001b[38;5;124m'\u001b[39m))\n",
      "File \u001b[1;32m~\\anaconda3\\envs\\python_3_10_4_torch\\lib\\site-packages\\sklearn\\base.py:867\u001b[0m, in \u001b[0;36mTransformerMixin.fit_transform\u001b[1;34m(self, X, y, **fit_params)\u001b[0m\n\u001b[0;32m    863\u001b[0m \u001b[38;5;66;03m# non-optimized default implementation; override when a better\u001b[39;00m\n\u001b[0;32m    864\u001b[0m \u001b[38;5;66;03m# method is possible for a given clustering algorithm\u001b[39;00m\n\u001b[0;32m    865\u001b[0m \u001b[38;5;28;01mif\u001b[39;00m y \u001b[38;5;129;01mis\u001b[39;00m \u001b[38;5;28;01mNone\u001b[39;00m:\n\u001b[0;32m    866\u001b[0m     \u001b[38;5;66;03m# fit method of arity 1 (unsupervised transformation)\u001b[39;00m\n\u001b[1;32m--> 867\u001b[0m     \u001b[38;5;28;01mreturn\u001b[39;00m \u001b[38;5;28mself\u001b[39m\u001b[38;5;241m.\u001b[39mfit(X, \u001b[38;5;241m*\u001b[39m\u001b[38;5;241m*\u001b[39mfit_params)\u001b[38;5;241m.\u001b[39mtransform(X)\n\u001b[0;32m    868\u001b[0m \u001b[38;5;28;01melse\u001b[39;00m:\n\u001b[0;32m    869\u001b[0m     \u001b[38;5;66;03m# fit method of arity 2 (supervised transformation)\u001b[39;00m\n\u001b[0;32m    870\u001b[0m     \u001b[38;5;28;01mreturn\u001b[39;00m \u001b[38;5;28mself\u001b[39m\u001b[38;5;241m.\u001b[39mfit(X, y, \u001b[38;5;241m*\u001b[39m\u001b[38;5;241m*\u001b[39mfit_params)\u001b[38;5;241m.\u001b[39mtransform(X)\n",
      "File \u001b[1;32m~\\anaconda3\\envs\\python_3_10_4_torch\\lib\\site-packages\\sklearn\\preprocessing\\_data.py:420\u001b[0m, in \u001b[0;36mMinMaxScaler.fit\u001b[1;34m(self, X, y)\u001b[0m\n\u001b[0;32m    418\u001b[0m \u001b[38;5;66;03m# Reset internal state before fitting\u001b[39;00m\n\u001b[0;32m    419\u001b[0m \u001b[38;5;28mself\u001b[39m\u001b[38;5;241m.\u001b[39m_reset()\n\u001b[1;32m--> 420\u001b[0m \u001b[38;5;28;01mreturn\u001b[39;00m \u001b[38;5;28;43mself\u001b[39;49m\u001b[38;5;241;43m.\u001b[39;49m\u001b[43mpartial_fit\u001b[49m\u001b[43m(\u001b[49m\u001b[43mX\u001b[49m\u001b[43m,\u001b[49m\u001b[43m \u001b[49m\u001b[43my\u001b[49m\u001b[43m)\u001b[49m\n",
      "File \u001b[1;32m~\\anaconda3\\envs\\python_3_10_4_torch\\lib\\site-packages\\sklearn\\preprocessing\\_data.py:464\u001b[0m, in \u001b[0;36mMinMaxScaler.partial_fit\u001b[1;34m(self, X, y)\u001b[0m\n\u001b[0;32m    456\u001b[0m first_pass \u001b[38;5;241m=\u001b[39m \u001b[38;5;129;01mnot\u001b[39;00m \u001b[38;5;28mhasattr\u001b[39m(\u001b[38;5;28mself\u001b[39m, \u001b[38;5;124m\"\u001b[39m\u001b[38;5;124mn_samples_seen_\u001b[39m\u001b[38;5;124m\"\u001b[39m)\n\u001b[0;32m    457\u001b[0m X \u001b[38;5;241m=\u001b[39m \u001b[38;5;28mself\u001b[39m\u001b[38;5;241m.\u001b[39m_validate_data(\n\u001b[0;32m    458\u001b[0m     X,\n\u001b[0;32m    459\u001b[0m     reset\u001b[38;5;241m=\u001b[39mfirst_pass,\n\u001b[0;32m    460\u001b[0m     dtype\u001b[38;5;241m=\u001b[39mFLOAT_DTYPES,\n\u001b[0;32m    461\u001b[0m     force_all_finite\u001b[38;5;241m=\u001b[39m\u001b[38;5;124m\"\u001b[39m\u001b[38;5;124mallow-nan\u001b[39m\u001b[38;5;124m\"\u001b[39m,\n\u001b[0;32m    462\u001b[0m )\n\u001b[1;32m--> 464\u001b[0m data_min \u001b[38;5;241m=\u001b[39m \u001b[43mnp\u001b[49m\u001b[38;5;241;43m.\u001b[39;49m\u001b[43mnanmin\u001b[49m\u001b[43m(\u001b[49m\u001b[43mX\u001b[49m\u001b[43m,\u001b[49m\u001b[43m \u001b[49m\u001b[43maxis\u001b[49m\u001b[38;5;241;43m=\u001b[39;49m\u001b[38;5;241;43m0\u001b[39;49m\u001b[43m)\u001b[49m\n\u001b[0;32m    465\u001b[0m data_max \u001b[38;5;241m=\u001b[39m np\u001b[38;5;241m.\u001b[39mnanmax(X, axis\u001b[38;5;241m=\u001b[39m\u001b[38;5;241m0\u001b[39m)\n\u001b[0;32m    467\u001b[0m \u001b[38;5;28;01mif\u001b[39;00m first_pass:\n",
      "File \u001b[1;32m<__array_function__ internals>:5\u001b[0m, in \u001b[0;36mnanmin\u001b[1;34m(*args, **kwargs)\u001b[0m\n",
      "File \u001b[1;32m~\\anaconda3\\envs\\python_3_10_4_torch\\lib\\site-packages\\numpy\\lib\\nanfunctions.py:319\u001b[0m, in \u001b[0;36mnanmin\u001b[1;34m(a, axis, out, keepdims)\u001b[0m\n\u001b[0;32m    315\u001b[0m     kwargs[\u001b[38;5;124m'\u001b[39m\u001b[38;5;124mkeepdims\u001b[39m\u001b[38;5;124m'\u001b[39m] \u001b[38;5;241m=\u001b[39m keepdims\n\u001b[0;32m    316\u001b[0m \u001b[38;5;28;01mif\u001b[39;00m \u001b[38;5;28mtype\u001b[39m(a) \u001b[38;5;129;01mis\u001b[39;00m np\u001b[38;5;241m.\u001b[39mndarray \u001b[38;5;129;01mand\u001b[39;00m a\u001b[38;5;241m.\u001b[39mdtype \u001b[38;5;241m!=\u001b[39m np\u001b[38;5;241m.\u001b[39mobject_:\n\u001b[0;32m    317\u001b[0m     \u001b[38;5;66;03m# Fast, but not safe for subclasses of ndarray, or object arrays,\u001b[39;00m\n\u001b[0;32m    318\u001b[0m     \u001b[38;5;66;03m# which do not implement isnan (gh-9009), or fmin correctly (gh-8975)\u001b[39;00m\n\u001b[1;32m--> 319\u001b[0m     res \u001b[38;5;241m=\u001b[39m np\u001b[38;5;241m.\u001b[39mfmin\u001b[38;5;241m.\u001b[39mreduce(a, axis\u001b[38;5;241m=\u001b[39maxis, out\u001b[38;5;241m=\u001b[39mout, \u001b[38;5;241m*\u001b[39m\u001b[38;5;241m*\u001b[39mkwargs)\n\u001b[0;32m    320\u001b[0m     \u001b[38;5;28;01mif\u001b[39;00m np\u001b[38;5;241m.\u001b[39misnan(res)\u001b[38;5;241m.\u001b[39many():\n\u001b[0;32m    321\u001b[0m         warnings\u001b[38;5;241m.\u001b[39mwarn(\u001b[38;5;124m\"\u001b[39m\u001b[38;5;124mAll-NaN slice encountered\u001b[39m\u001b[38;5;124m\"\u001b[39m, \u001b[38;5;167;01mRuntimeWarning\u001b[39;00m,\n\u001b[0;32m    322\u001b[0m                       stacklevel\u001b[38;5;241m=\u001b[39m\u001b[38;5;241m3\u001b[39m)\n",
      "\u001b[1;31mKeyboardInterrupt\u001b[0m: "
     ]
    }
   ],
   "source": [
    "btc = {'name': 'BTC', 'quantity': 100/19275, 'price_usdt': 19275, 'last_trade': {'operation':'sell', 'coin':'ETH', 'price':0}}\n",
    "bnb = {'name': 'BNB', 'quantity': 100/275, 'price_usdt': 275, 'last_trade': {'operation':'sell', 'coin':'ETH', 'price':0}}\n",
    "eth = {'name': 'ETH', 'quantity': 100/1306, 'price_usdt': 1306, 'last_trade': {'operation':'sell', 'coin':'ETH', 'price':0}}\n",
    "\n",
    "btc_in_usdt = btc['quantity']*btc['price_usdt']\n",
    "bnb_in_usdt = bnb['quantity']*bnb['price_usdt']\n",
    "eth_in_usdt = eth['quantity']*eth['price_usdt']\n",
    "\n",
    "time = trend_test.index[FEATURES_LENGHT-1]\n",
    "columns_result = ['server_time','btc_in_usdt', 'bnb_in_usdt', 'eth_in_usdt', 'fee_usdt', 'predict', 'predict_proba', 'price', 'profit_function', 'trade']\n",
    "data = dict(zip(columns_result,[[time],[btc_in_usdt], [bnb_in_usdt], [eth_in_usdt], [0], [0], [0], [0], [0], [0]]))\n",
    "trade_result = pd.DataFrame(data)\n",
    "\n",
    "features_step = np.expand_dims(trend_test[['BTC/BNB','BTC/ETH','ETH/BNB']].iloc[0].values, axis=0)\n",
    "predicts = np.zeros(0)\n",
    "predicts_proba = np.zeros(0)\n",
    "\n",
    "\n",
    "net_1 = net_1.to('cpu')\n",
    "\n",
    "for step in tqdm(trend_test[['BTC/BNB','BTC/ETH','ETH/BNB']].iloc[1:].iterrows()):\n",
    "    time = step[0]\n",
    "    step = step[1:][0]\n",
    "    step_exp = np.expand_dims(step, axis=0)\n",
    "    features_step = np.append(features_step, step_exp, axis=0)\n",
    "    feattures_step_transp = features_step[-FEATURES_LENGHT:].T\n",
    "    \n",
    "    # условие достаточного количества признаков для предсказания\n",
    "    if feattures_step_transp.shape[1] == FEATURES_LENGHT:\n",
    "\n",
    "#         X_trend = X_temp.iloc[i-FEATURES_LENGHT+1:i+1]\n",
    "#         X_delta = X_trend.max()-X_trend.min()\n",
    "#         X_delta_maxmin.append(X_delta)\n",
    "#         X_scaled.append(scaler.fit_transform(X_trend).T)\n",
    "        \n",
    "        #features = ((feattures_step_transp.T - feattures_step_transp.mean(axis=1))/feattures_step_transp.std(axis=1)).T\n",
    "        features = scaler.fit_transform(feattures_step_transp.T).T\n",
    "        features = np.expand_dims(features, axis=0)\n",
    "        features = torch.tensor(features.astype('float32'))\n",
    "        features_delta_maxmin = feattures_step_transp.max(axis=1)-feattures_step_transp.min(axis=1)\n",
    "        features_delta_maxmin = np.expand_dims(features_delta_maxmin, axis=0)\n",
    "        features_delta_maxmin = torch.tensor(features_delta_maxmin.astype('float32'))\n",
    "        predict_proba = net_1.inference(features, features_delta_maxmin)\n",
    "        predict = torch.argmax(predict_proba, dim=1).detach().item()\n",
    "        predict_proba = predict_proba.max().detach().item()\n",
    "        \n",
    "        # проверка пропорции валют в кошельке\n",
    "        check_proportion_result = check_proportion(btc, bnb, eth)\n",
    "        \n",
    "#         print('----------------------------------------------------')\n",
    "#         print('check_proportion_result',check_proportion_result)\n",
    "#         print('btc', btc['quantity']*btc['price_usdt'])\n",
    "#         print('bnb', bnb['quantity']*bnb['price_usdt'])\n",
    "#         print('eth', eth['quantity']*eth['price_usdt'])\n",
    "        \n",
    "        \n",
    "        # действия с валютой\n",
    "        if predict == 0:\n",
    "            fee_usdt = 0\n",
    "            price = 0\n",
    "            profit = 0\n",
    "            status = 0\n",
    "        \n",
    "        # 0- пропорции в норме, 1 - нужно покупать BTC, 2 - нужно покупать BNB, 3 - нужно покупать ETH\n",
    "        \n",
    "        if predict == 1 and check_proportion_result in [0, 1]: # btc_bnb_buy\n",
    "            price = step[0]\n",
    "            btc['quantity'], bnb['quantity'], fee_usdt, profit, status = buy(btc, bnb, price, predict_proba)\n",
    "#             print('btc_bnb_buy')\n",
    "            \n",
    "        if predict == 2  and check_proportion_result in [0, 2]: # btc_bnb_sell\n",
    "            price = 1/step[0]\n",
    "            bnb['quantity'], btc['quantity'], fee_usdt, profit, status = buy(bnb, btc, price, predict_proba) \n",
    "#             print('btc_bnb_sell')\n",
    "            \n",
    "        if predict == 3 and check_proportion_result in [0, 1]: # btc_eth_buy\n",
    "            price = step[1]\n",
    "            btc['quantity'], eth['quantity'], fee_usdt, profit, status = buy(btc, eth, price, predict_proba)\n",
    "#             print('btc_eth_buy')\n",
    "            \n",
    "        if predict == 4  and check_proportion_result in [0, 3]: # btc_eth_sell\n",
    "            price = 1/step[1]\n",
    "            eth['quantity'], btc['quantity'], fee_usdt, profit, status = buy(eth, btc, price, predict_proba)\n",
    "#             print('btc_eth_sell')\n",
    "            \n",
    "        if predict == 5  and check_proportion_result in [0, 3]: # eth_bnb_buy\n",
    "            price = step[2]\n",
    "            eth['quantity'], bnb['quantity'], fee_usdt, profit, status = buy(eth, bnb, price, predict_proba)\n",
    "#             print('eth_bnb_buy')\n",
    "            \n",
    "        if predict == 6  and check_proportion_result in [0, 2]: # eth_bnb_sell\n",
    "            price = 1/step[2]\n",
    "            bnb['quantity'], eth['quantity'], fee_usdt, profit, status = buy(bnb, eth, price, predict_proba)\n",
    "#             print('eth_bnb_sell')\n",
    "        \n",
    "        btc_in_usdt = btc['quantity']*btc['price_usdt']\n",
    "        bnb_in_usdt = bnb['quantity']*bnb['price_usdt']\n",
    "        eth_in_usdt = eth['quantity']*eth['price_usdt']\n",
    "        \n",
    "        data = dict(zip(columns_result,[[time],[btc_in_usdt], [bnb_in_usdt], [eth_in_usdt], [fee_usdt], [predict], [predict_proba], [price], [profit], [status*predict]]))\n",
    "        current_result = pd.DataFrame(data)\n",
    "        trade_result = pd.concat([trade_result, current_result])     \n",
    "\n",
    "trade_result = trade_result[1:].set_index('server_time')"
   ]
  },
  {
   "cell_type": "code",
   "execution_count": null,
   "id": "783e79f1",
   "metadata": {},
   "outputs": [],
   "source": [
    "trade_result = pd.merge(trade_result, trend_test, on='server_time')\n",
    "trade_result['quantity_in_usdt'] = trade_result[['btc_in_usdt','bnb_in_usdt','eth_in_usdt']].sum(axis=1)\n",
    "trade_result['profit_in_usdt'] = trade_result['quantity_in_usdt'] - trade_result['quantity_in_usdt'].shift(1) "
   ]
  },
  {
   "cell_type": "markdown",
   "id": "b9673b66",
   "metadata": {},
   "source": [
    "#### Общие статистики после торгов"
   ]
  },
  {
   "cell_type": "code",
   "execution_count": null,
   "id": "f292e459",
   "metadata": {},
   "outputs": [],
   "source": [
    "print('Usdt after trade :', trade_result['quantity_in_usdt'][-1])\n",
    "print('Sum all fee in usdt:', trade_result['fee_usdt'].sum())\n",
    "print('Sum all profit in usdt > 0:', trade_result[trade_result['profit_in_usdt'] > 0]['profit_in_usdt'].sum())\n",
    "print('Sum all profit in usdt <= 0:', trade_result[trade_result['profit_in_usdt'] <= 0]['profit_in_usdt'].sum())"
   ]
  },
  {
   "cell_type": "markdown",
   "id": "e4adff41",
   "metadata": {},
   "source": [
    "#### Изменение объёма валют в кошельке"
   ]
  },
  {
   "cell_type": "code",
   "execution_count": null,
   "id": "e3fc45b8",
   "metadata": {},
   "outputs": [],
   "source": [
    "print(f'Распределение валют после торгов в USDT:\\n',\n",
    "      f'BTC - {trade_result[\"btc_in_usdt\"][-1]:.4f}\\n BNB - {trade_result[\"bnb_in_usdt\"][-1]:.4f}\\n ETH - {trade_result[\"eth_in_usdt\"][-1]:.4f}\\n')\n",
    "\n",
    "columns = ['btc_in_usdt','bnb_in_usdt','eth_in_usdt']\n",
    "\n",
    "for column in columns:\n",
    "    sns.lineplot(data=trade_result, x=\"server_time\", y=column)\n",
    "    plt.title('Изменение объёма ' + column)\n",
    "    plt.show()"
   ]
  },
  {
   "cell_type": "code",
   "execution_count": null,
   "id": "ea36c8e6",
   "metadata": {},
   "outputs": [],
   "source": [
    "sns.lineplot(data=trade_result, x=\"server_time\", y=\"quantity_in_usdt\")\n",
    "plt.title('Изменение объёма кошельлка в долларах')\n",
    "plt.show()"
   ]
  },
  {
   "cell_type": "markdown",
   "id": "1df89135",
   "metadata": {},
   "source": [
    "#### Распределение операций за время торгов"
   ]
  },
  {
   "cell_type": "raw",
   "id": "4329cc9b",
   "metadata": {},
   "source": [
    "- not_buy - 0\n",
    "- btc_bnb_buy - 1\t\n",
    "- btc_bnb_sell - 2\t\n",
    "- btc_eth_buy - 3\n",
    "- btc_eth_sell - 4\t\n",
    "- eth_bnb_buy - 5\t\n",
    "- eth_bnb_sell - 6"
   ]
  },
  {
   "cell_type": "code",
   "execution_count": null,
   "id": "67805c31",
   "metadata": {},
   "outputs": [],
   "source": [
    "trade_result.groupby('predict')['price'].count()"
   ]
  },
  {
   "cell_type": "code",
   "execution_count": null,
   "id": "6ae253fb",
   "metadata": {},
   "outputs": [],
   "source": [
    "trade_result.groupby('trade')['price'].count()"
   ]
  },
  {
   "cell_type": "code",
   "execution_count": null,
   "id": "46a65ad2",
   "metadata": {},
   "outputs": [],
   "source": [
    "interval_cols = trade_result.columns\n",
    "phik_overview = pd.DataFrame(trade_result, columns=interval_cols).phik_matrix(interval_cols=interval_cols)\n",
    "\n",
    "\n",
    "plot_correlation_matrix(phik_overview.values, \n",
    "                        x_labels=phik_overview.columns, \n",
    "                        y_labels=phik_overview.index, \n",
    "                        vmin=0, vmax=1, color_map=\"Greens\", \n",
    "                        title=r\"correlation $\\phi_K$\", \n",
    "                        fontsize_factor=1, \n",
    "                        figsize=(10, 10))\n",
    "plt.tight_layout()"
   ]
  },
  {
   "cell_type": "code",
   "execution_count": null,
   "id": "9c2df9a1",
   "metadata": {},
   "outputs": [],
   "source": [
    "sns.lineplot(data=trade_result, x=\"server_time\", y=\"profit_in_usdt\")"
   ]
  },
  {
   "cell_type": "code",
   "execution_count": null,
   "id": "2f4067ae",
   "metadata": {},
   "outputs": [],
   "source": [
    "sns.lineplot(data=trade_result, x=\"server_time\", y=\"fee_usdt\")"
   ]
  },
  {
   "cell_type": "code",
   "execution_count": null,
   "id": "d853b82c",
   "metadata": {},
   "outputs": [],
   "source": [
    "sns.histplot(data=trade_result[abs(trade_result['profit_in_usdt']) > 0.001], x=\"profit_in_usdt\", bins = 1000)"
   ]
  },
  {
   "cell_type": "markdown",
   "id": "9fd1d1d1",
   "metadata": {},
   "source": [
    "#### Продажи на тренде."
   ]
  },
  {
   "cell_type": "code",
   "execution_count": null,
   "id": "e6f82892",
   "metadata": {},
   "outputs": [],
   "source": [
    "trade_result['BTC/BNB_buy_price'] = trade_result['BTC/BNB']*(trade_result['trade'] == 1)\n",
    "trade_result['BTC/BNB_sell_price'] = trade_result['BTC/BNB']*(trade_result['trade'] == 2)\n",
    "trade_result['BTC/ETH_buy_price'] = trade_result['BTC/ETH']*(trade_result['trade'] == 3)\n",
    "trade_result['BTC/ETH_sell_price'] = trade_result['BTC/ETH']*(trade_result['trade'] == 4)\n",
    "trade_result['ETH/BNB_buy_price'] = trade_result['ETH/BNB']*(trade_result['trade'] == 5)\n",
    "trade_result['ETH/BNB_sell_price'] = trade_result['ETH/BNB']*(trade_result['trade'] == 6)"
   ]
  },
  {
   "cell_type": "code",
   "execution_count": null,
   "id": "39729147",
   "metadata": {},
   "outputs": [],
   "source": [
    "range_trade_begin = 20_000\n",
    "range_trade_end = 22_000\n",
    "columns = ['BTC/BNB','BTC/ETH','ETH/BNB']\n",
    "\n",
    "for column in columns:\n",
    "    fig, ax = plt.subplots()\n",
    "    sns.lineplot(data=trade_result[range_trade_begin:range_trade_end], x='server_time', y =column, ax=ax)\n",
    "    sns.scatterplot(data=trade_result[range_trade_begin:range_trade_end], x='server_time', y =column + '_buy_price', ax=ax, color='green')\n",
    "    sns.scatterplot(data=trade_result[range_trade_begin:range_trade_end], x='server_time', y =column + '_sell_price', ax=ax, color='red')\n",
    "    plt.title(column + ' buy sell')\n",
    "    plt.ylim([trade_result[column][range_trade_begin:range_trade_end].min(), trade_result[column][range_trade_begin:range_trade_end].max()])\n",
    "    plt.show()"
   ]
  },
  {
   "cell_type": "markdown",
   "id": "c85175cb",
   "metadata": {},
   "source": [
    "### Проверка модели 2"
   ]
  },
  {
   "cell_type": "markdown",
   "id": "bbfa519f",
   "metadata": {},
   "source": [
    "Функции: buy, check_proportion используются аналогично модели 1 (описаны там).\n",
    "\n",
    "Поток данных организую в цикле, каждый цикл - имитация считывания в интервале 5 сек с сервака."
   ]
  },
  {
   "cell_type": "code",
   "execution_count": null,
   "id": "d91e002e",
   "metadata": {},
   "outputs": [],
   "source": [
    "btc = {'name': 'BTC', 'quantity': 100/19275, 'price_usdt': 19275, 'last_trade': {'operation':'sell', 'coin':'ETH', 'price':0}}\n",
    "bnb = {'name': 'BNB', 'quantity': 100/275, 'price_usdt': 275, 'last_trade': {'operation':'sell', 'coin':'ETH', 'price':0}}\n",
    "eth = {'name': 'ETH', 'quantity': 100/1306, 'price_usdt': 1306, 'last_trade': {'operation':'sell', 'coin':'ETH', 'price':0}}\n",
    "\n",
    "btc_in_usdt = btc['quantity']*btc['price_usdt']\n",
    "bnb_in_usdt = bnb['quantity']*bnb['price_usdt']\n",
    "eth_in_usdt = eth['quantity']*eth['price_usdt']\n",
    "\n",
    "time = trend_test.index[FEATURES_LENGHT-1]\n",
    "columns_result = ['server_time','btc_in_usdt', 'bnb_in_usdt', 'eth_in_usdt', 'fee_usdt', 'predict', 'predict_proba', 'price', 'profit_function', 'trade']\n",
    "data = dict(zip(columns_result,[[time],[btc_in_usdt], [bnb_in_usdt], [eth_in_usdt], [0], [0], [0], [0], [0], [0]]))\n",
    "trade_result = pd.DataFrame(data)\n",
    "\n",
    "features_step = np.expand_dims(trend_test[['BTC/BNB','BTC/ETH','ETH/BNB']].iloc[0].values, axis=0)\n",
    "predicts = np.zeros(0)\n",
    "predicts_proba = np.zeros(0)\n",
    "\n",
    "\n",
    "net_2 = net_2.to('cpu')\n",
    "\n",
    "for step in tqdm(trend_test[['BTC/BNB','BTC/ETH','ETH/BNB']].iloc[1:].iterrows()):\n",
    "    time = step[0]\n",
    "    step = step[1:][0]\n",
    "    step_exp = np.expand_dims(step, axis=0)\n",
    "    features_step = np.append(features_step, step_exp, axis=0)\n",
    "    feattures_step_transp = features_step[-FEATURES_LENGHT:].T\n",
    "    \n",
    "    # условие достаточного количества признаков для предсказания\n",
    "    if feattures_step_transp.shape[1] == FEATURES_LENGHT:\n",
    "\n",
    "#         X_trend = X_temp.iloc[i-FEATURES_LENGHT+1:i+1]\n",
    "#         X_delta = X_trend.max()-X_trend.min()\n",
    "#         X_delta_maxmin.append(X_delta)\n",
    "#         X_scaled.append(scaler.fit_transform(X_trend).T)\n",
    "        \n",
    "        #features = ((feattures_step_transp.T - feattures_step_transp.mean(axis=1))/feattures_step_transp.std(axis=1)).T\n",
    "        features = scaler.fit_transform(feattures_step_transp.T).T\n",
    "        features = np.expand_dims(features, axis=0)\n",
    "        features = torch.tensor(features.astype('float32'))\n",
    "        features_delta_maxmin = feattures_step_transp.max(axis=1)-feattures_step_transp.min(axis=1)\n",
    "        features_delta_maxmin = np.expand_dims(features_delta_maxmin, axis=0)\n",
    "        features_delta_maxmin = torch.tensor(features_delta_maxmin.astype('float32'))\n",
    "        predict_proba = net_2.inference(features, features_delta_maxmin)\n",
    "        predict = torch.argmax(predict_proba, dim=1).detach().item()\n",
    "        predict_proba = predict_proba.max().detach().item()\n",
    "        \n",
    "        # проверка пропорции валют в кошельке\n",
    "        check_proportion_result = check_proportion(btc, bnb, eth)\n",
    "        \n",
    "#         print('----------------------------------------------------')\n",
    "#         print('check_proportion_result',check_proportion_result)\n",
    "#         print('btc', btc['quantity']*btc['price_usdt'])\n",
    "#         print('bnb', bnb['quantity']*bnb['price_usdt'])\n",
    "#         print('eth', eth['quantity']*eth['price_usdt'])\n",
    "        \n",
    "        \n",
    "        # действия с валютой\n",
    "        if predict == 0:\n",
    "            fee_usdt = 0\n",
    "            price = 0\n",
    "            profit = 0\n",
    "            status = 0\n",
    "        \n",
    "        # 0- пропорции в норме, 1 - нужно покупать BTC, 2 - нужно покупать BNB, 3 - нужно покупать ETH\n",
    "        \n",
    "        if predict == 1 and check_proportion_result in [0, 1]: # btc_bnb_buy\n",
    "            price = step[0]\n",
    "            btc['quantity'], bnb['quantity'], fee_usdt, profit, status = buy(btc, bnb, price, predict_proba)\n",
    "#             print('btc_bnb_buy')\n",
    "            \n",
    "        if predict == 2  and check_proportion_result in [0, 2]: # btc_bnb_sell\n",
    "            price = 1/step[0]\n",
    "            bnb['quantity'], btc['quantity'], fee_usdt, profit, status = buy(bnb, btc, price, predict_proba) \n",
    "#             print('btc_bnb_sell')\n",
    "            \n",
    "        if predict == 3 and check_proportion_result in [0, 1]: # btc_eth_buy\n",
    "            price = step[1]\n",
    "            btc['quantity'], eth['quantity'], fee_usdt, profit, status = buy(btc, eth, price, predict_proba)\n",
    "#             print('btc_eth_buy')\n",
    "            \n",
    "        if predict == 4  and check_proportion_result in [0, 3]: # btc_eth_sell\n",
    "            price = 1/step[1]\n",
    "            eth['quantity'], btc['quantity'], fee_usdt, profit, status = buy(eth, btc, price, predict_proba)\n",
    "#             print('btc_eth_sell')\n",
    "            \n",
    "        if predict == 5  and check_proportion_result in [0, 3]: # eth_bnb_buy\n",
    "            price = step[2]\n",
    "            eth['quantity'], bnb['quantity'], fee_usdt, profit, status = buy(eth, bnb, price, predict_proba)\n",
    "#             print('eth_bnb_buy')\n",
    "            \n",
    "        if predict == 6  and check_proportion_result in [0, 2]: # eth_bnb_sell\n",
    "            price = 1/step[2]\n",
    "            bnb['quantity'], eth['quantity'], fee_usdt, profit, status = buy(bnb, eth, price, predict_proba)\n",
    "#             print('eth_bnb_sell')\n",
    "        \n",
    "        btc_in_usdt = btc['quantity']*btc['price_usdt']\n",
    "        bnb_in_usdt = bnb['quantity']*bnb['price_usdt']\n",
    "        eth_in_usdt = eth['quantity']*eth['price_usdt']\n",
    "        \n",
    "        data = dict(zip(columns_result,[[time],[btc_in_usdt], [bnb_in_usdt], [eth_in_usdt], [fee_usdt], [predict], [predict_proba], [price], [profit], [status*predict]]))\n",
    "        current_result = pd.DataFrame(data)\n",
    "        trade_result = pd.concat([trade_result, current_result])     \n",
    "\n",
    "trade_result = trade_result[1:].set_index('server_time')"
   ]
  },
  {
   "cell_type": "code",
   "execution_count": null,
   "id": "3ff8f7c3",
   "metadata": {},
   "outputs": [],
   "source": [
    "trade_result = pd.merge(trade_result, trend_test, on='server_time')\n",
    "trade_result['quantity_in_usdt'] = trade_result[['btc_in_usdt','bnb_in_usdt','eth_in_usdt']].sum(axis=1)\n",
    "trade_result['profit_in_usdt'] = trade_result['quantity_in_usdt'] - trade_result['quantity_in_usdt'].shift(1) "
   ]
  },
  {
   "cell_type": "markdown",
   "id": "8732e955",
   "metadata": {},
   "source": [
    "#### Общие статистики после торгов"
   ]
  },
  {
   "cell_type": "code",
   "execution_count": null,
   "id": "4e7af9e7",
   "metadata": {},
   "outputs": [],
   "source": [
    "print('Usdt after trade :', trade_result['quantity_in_usdt'][-1])\n",
    "print('Sum all fee in usdt:', trade_result['fee_usdt'].sum())\n",
    "print('Sum all profit in usdt > 0:', trade_result[trade_result['profit_in_usdt'] > 0]['profit_in_usdt'].sum())\n",
    "print('Sum all profit in usdt <= 0:', trade_result[trade_result['profit_in_usdt'] <= 0]['profit_in_usdt'].sum())"
   ]
  },
  {
   "cell_type": "markdown",
   "id": "99525bdc",
   "metadata": {},
   "source": [
    "#### Изменение объёма валют в кошельке"
   ]
  },
  {
   "cell_type": "code",
   "execution_count": null,
   "id": "ca2e074b",
   "metadata": {},
   "outputs": [],
   "source": [
    "print(f'Распределение валют после торгов в USDT:\\n',\n",
    "      f'BTC - {trade_result[\"btc_in_usdt\"][-1]:.4f}\\n BNB - {trade_result[\"bnb_in_usdt\"][-1]:.4f}\\n ETH - {trade_result[\"eth_in_usdt\"][-1]:.4f}\\n')\n",
    "\n",
    "columns = ['btc_in_usdt','bnb_in_usdt','eth_in_usdt']\n",
    "\n",
    "for column in columns:\n",
    "    sns.lineplot(data=trade_result, x=\"server_time\", y=column)\n",
    "    plt.title('Изменение объёма ' + column)\n",
    "    plt.show()"
   ]
  },
  {
   "cell_type": "code",
   "execution_count": null,
   "id": "ce5dc570",
   "metadata": {},
   "outputs": [],
   "source": [
    "sns.lineplot(data=trade_result, x=\"server_time\", y=\"quantity_in_usdt\")\n",
    "plt.title('Изменение объёма кошельлка в долларах')\n",
    "plt.show()"
   ]
  },
  {
   "cell_type": "markdown",
   "id": "af583f48",
   "metadata": {},
   "source": [
    "#### Распределение операций за время торгов"
   ]
  },
  {
   "cell_type": "raw",
   "id": "ba726c5d",
   "metadata": {},
   "source": [
    "- not_buy - 0\n",
    "- btc_bnb_buy - 1\t\n",
    "- btc_bnb_sell - 2\t\n",
    "- btc_eth_buy - 3\n",
    "- btc_eth_sell - 4\t\n",
    "- eth_bnb_buy - 5\t\n",
    "- eth_bnb_sell - 6"
   ]
  },
  {
   "cell_type": "code",
   "execution_count": null,
   "id": "69440a97",
   "metadata": {},
   "outputs": [],
   "source": [
    "trade_result.groupby('predict')['price'].count()"
   ]
  },
  {
   "cell_type": "code",
   "execution_count": null,
   "id": "c8de2c9e",
   "metadata": {},
   "outputs": [],
   "source": [
    "trade_result.groupby('trade')['price'].count()"
   ]
  },
  {
   "cell_type": "code",
   "execution_count": null,
   "id": "46ca1851",
   "metadata": {},
   "outputs": [],
   "source": [
    "interval_cols = trade_result.columns\n",
    "phik_overview = pd.DataFrame(trade_result, columns=interval_cols).phik_matrix(interval_cols=interval_cols)\n",
    "\n",
    "\n",
    "plot_correlation_matrix(phik_overview.values, \n",
    "                        x_labels=phik_overview.columns, \n",
    "                        y_labels=phik_overview.index, \n",
    "                        vmin=0, vmax=1, color_map=\"Greens\", \n",
    "                        title=r\"correlation $\\phi_K$\", \n",
    "                        fontsize_factor=1, \n",
    "                        figsize=(10, 10))\n",
    "plt.tight_layout()"
   ]
  },
  {
   "cell_type": "code",
   "execution_count": null,
   "id": "c0c2ba6b",
   "metadata": {},
   "outputs": [],
   "source": [
    "sns.lineplot(data=trade_result, x=\"server_time\", y=\"profit_in_usdt\")"
   ]
  },
  {
   "cell_type": "code",
   "execution_count": null,
   "id": "6d3c0eb1",
   "metadata": {},
   "outputs": [],
   "source": [
    "sns.lineplot(data=trade_result, x=\"server_time\", y=\"fee_usdt\")"
   ]
  },
  {
   "cell_type": "code",
   "execution_count": null,
   "id": "d7e76d90",
   "metadata": {},
   "outputs": [],
   "source": [
    "sns.histplot(data=trade_result[abs(trade_result['profit_in_usdt']) > 0.001], x=\"profit_in_usdt\", bins = 1000)"
   ]
  },
  {
   "cell_type": "markdown",
   "id": "4bbb3e6d",
   "metadata": {},
   "source": [
    "#### Продажи на тренде."
   ]
  },
  {
   "cell_type": "code",
   "execution_count": null,
   "id": "f9f56ce4",
   "metadata": {},
   "outputs": [],
   "source": [
    "trade_result['BTC/BNB_buy_price'] = trade_result['BTC/BNB']*(trade_result['trade'] == 1)\n",
    "trade_result['BTC/BNB_sell_price'] = trade_result['BTC/BNB']*(trade_result['trade'] == 2)\n",
    "trade_result['BTC/ETH_buy_price'] = trade_result['BTC/ETH']*(trade_result['trade'] == 3)\n",
    "trade_result['BTC/ETH_sell_price'] = trade_result['BTC/ETH']*(trade_result['trade'] == 4)\n",
    "trade_result['ETH/BNB_buy_price'] = trade_result['ETH/BNB']*(trade_result['trade'] == 5)\n",
    "trade_result['ETH/BNB_sell_price'] = trade_result['ETH/BNB']*(trade_result['trade'] == 6)"
   ]
  },
  {
   "cell_type": "code",
   "execution_count": null,
   "id": "1d11f079",
   "metadata": {},
   "outputs": [],
   "source": [
    "range_trade_begin = 20_000\n",
    "range_trade_end = 22_000\n",
    "columns = ['BTC/BNB','BTC/ETH','ETH/BNB']\n",
    "\n",
    "for column in columns:\n",
    "    fig, ax = plt.subplots()\n",
    "    sns.lineplot(data=trade_result[range_trade_begin:range_trade_end], x='server_time', y =column, ax=ax)\n",
    "    sns.scatterplot(data=trade_result[range_trade_begin:range_trade_end], x='server_time', y =column + '_buy_price', ax=ax, color='green')\n",
    "    sns.scatterplot(data=trade_result[range_trade_begin:range_trade_end], x='server_time', y =column + '_sell_price', ax=ax, color='red')\n",
    "    plt.title(column + ' buy sell')\n",
    "    plt.ylim([trade_result[column][range_trade_begin:range_trade_end].min(), trade_result[column][range_trade_begin:range_trade_end].max()])\n",
    "    plt.show()"
   ]
  },
  {
   "cell_type": "code",
   "execution_count": null,
   "id": "2b0c79e4",
   "metadata": {},
   "outputs": [],
   "source": []
  },
  {
   "cell_type": "code",
   "execution_count": null,
   "id": "51f61fd4",
   "metadata": {},
   "outputs": [],
   "source": []
  },
  {
   "cell_type": "code",
   "execution_count": null,
   "id": "d814868a",
   "metadata": {},
   "outputs": [],
   "source": []
  },
  {
   "cell_type": "code",
   "execution_count": null,
   "id": "a6d3bbc6",
   "metadata": {},
   "outputs": [],
   "source": []
  },
  {
   "cell_type": "code",
   "execution_count": null,
   "id": "d3001552",
   "metadata": {},
   "outputs": [],
   "source": []
  },
  {
   "cell_type": "code",
   "execution_count": null,
   "id": "bbf64018",
   "metadata": {},
   "outputs": [],
   "source": []
  }
 ],
 "metadata": {
  "kernelspec": {
   "display_name": "Python 3 (ipykernel)",
   "language": "python",
   "name": "python3"
  },
  "language_info": {
   "codemirror_mode": {
    "name": "ipython",
    "version": 3
   },
   "file_extension": ".py",
   "mimetype": "text/x-python",
   "name": "python",
   "nbconvert_exporter": "python",
   "pygments_lexer": "ipython3",
   "version": "3.10.4"
  },
  "toc": {
   "base_numbering": 1,
   "nav_menu": {},
   "number_sections": true,
   "sideBar": true,
   "skip_h1_title": true,
   "title_cell": "Table of Contents",
   "title_sidebar": "Contents",
   "toc_cell": false,
   "toc_position": {
    "height": "calc(100% - 180px)",
    "left": "10px",
    "top": "150px",
    "width": "341.293px"
   },
   "toc_section_display": true,
   "toc_window_display": true
  }
 },
 "nbformat": 4,
 "nbformat_minor": 5
}
