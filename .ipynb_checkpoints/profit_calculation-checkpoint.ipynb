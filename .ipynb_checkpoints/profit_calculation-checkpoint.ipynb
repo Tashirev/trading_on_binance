{
 "cells": [
  {
   "cell_type": "code",
   "execution_count": 63,
   "id": "ee9d4d22",
   "metadata": {},
   "outputs": [],
   "source": [
    "import pandas as pd\n",
    "import seaborn as sns"
   ]
  },
  {
   "cell_type": "code",
   "execution_count": 64,
   "id": "84b0b9c5",
   "metadata": {},
   "outputs": [],
   "source": [
    "start_volume = 100_000\n",
    "day_profit_percent = 0.1\n",
    "day_of_work = 30"
   ]
  },
  {
   "cell_type": "code",
   "execution_count": 65,
   "id": "8a599213",
   "metadata": {},
   "outputs": [
    {
     "data": {
      "text/plain": [
       "ticker        30.000000\n",
       "volume    103146.952664\n",
       "Name: 31, dtype: float64"
      ]
     },
     "execution_count": 65,
     "metadata": {},
     "output_type": "execute_result"
    }
   ],
   "source": [
    "trade = pd.DataFrame({'ticker': 0, 'volume': start_volume},index=[0])\n",
    "\n",
    "volume = start_volume\n",
    "for i in range(day_of_work+1):\n",
    "    volume = volume + volume*day_profit_percent/100\n",
    "    trade = pd.concat([trade, pd.DataFrame({'ticker': i, 'volume': volume},index=[i])], ignore_index=True)\n",
    "\n",
    "trade.iloc[-1]"
   ]
  },
  {
   "cell_type": "code",
   "execution_count": null,
   "id": "05eea6b1",
   "metadata": {},
   "outputs": [],
   "source": []
  }
 ],
 "metadata": {
  "kernelspec": {
   "display_name": "Python 3 (ipykernel)",
   "language": "python",
   "name": "python3"
  },
  "language_info": {
   "codemirror_mode": {
    "name": "ipython",
    "version": 3
   },
   "file_extension": ".py",
   "mimetype": "text/x-python",
   "name": "python",
   "nbconvert_exporter": "python",
   "pygments_lexer": "ipython3",
   "version": "3.10.4"
  },
  "toc": {
   "base_numbering": 1,
   "nav_menu": {},
   "number_sections": true,
   "sideBar": true,
   "skip_h1_title": true,
   "title_cell": "Table of Contents",
   "title_sidebar": "Contents",
   "toc_cell": false,
   "toc_position": {},
   "toc_section_display": true,
   "toc_window_display": false
  }
 },
 "nbformat": 4,
 "nbformat_minor": 5
}
