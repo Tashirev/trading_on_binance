{
 "cells": [
  {
   "cell_type": "markdown",
   "id": "2691e855",
   "metadata": {},
   "source": [
    "## Импорты"
   ]
  },
  {
   "cell_type": "code",
   "execution_count": 1,
   "id": "aee27c47",
   "metadata": {},
   "outputs": [],
   "source": [
    "import pandas as pd\n",
    "import numpy as np\n",
    "import matplotlib.pyplot as plt\n",
    "import plotly.express as px\n",
    "import time\n",
    "from datetime import datetime\n",
    "\n",
    "from tqdm import tqdm\n",
    "\n",
    "from statsmodels.tsa.seasonal import seasonal_decompose\n",
    "\n",
    "from sklearn.preprocessing import StandardScaler\n",
    "\n",
    "import phik\n",
    "from phik.report import plot_correlation_matrix\n",
    "from phik import report\n",
    "\n",
    "import seaborn as sns\n",
    "\n",
    "import torch\n",
    "import torchvision\n",
    "import torchvision.transforms as transforms\n",
    "import torch.nn as nn\n",
    "import torch.nn.functional as F\n",
    "import torch.utils.data as data_utils\n",
    "import torch.optim as optim\n",
    "\n",
    "pd.set_option(\"display.max_columns\", None)\n",
    "RANDOM = 1111\n",
    "PERIOD = 50\n",
    "FEATURES_LENGHT = 224\n",
    "BATCH_SIZE = 512\n",
    "EPOCH = 3000\n",
    "FEE = 0.001"
   ]
  },
  {
   "cell_type": "markdown",
   "id": "819ba178",
   "metadata": {},
   "source": [
    "# Создание признаков"
   ]
  },
  {
   "cell_type": "markdown",
   "id": "65a05235",
   "metadata": {},
   "source": [
    "## Считывание данных из файла"
   ]
  },
  {
   "cell_type": "code",
   "execution_count": 2,
   "id": "938b7685",
   "metadata": {},
   "outputs": [],
   "source": [
    "trend = pd.read_csv('binance_features/BTC_ETH_BNB_ok.csv', sep=';', names=['BTC/USTD','ETH/USTD','BNB/USTD', 'server_time'])\n",
    "trend['server_time'] = trend['server_time'].apply(lambda x: datetime.utcfromtimestamp(int(str(x)[:10])).strftime('%Y-%m-%d %H:%M:%S'))\n",
    "trend['server_time'] = pd.to_datetime(trend['server_time'])\n",
    "trend = trend.set_index('server_time')\n",
    "trend['numeric_index'] = range(trend.shape[0])"
   ]
  },
  {
   "cell_type": "markdown",
   "id": "76443d7c",
   "metadata": {},
   "source": [
    "## Получение среза по датам"
   ]
  },
  {
   "cell_type": "raw",
   "id": "7f58b908",
   "metadata": {},
   "source": [
    "trend = trend[(trend.index >= datetime(2022, 7, 17)) & (trend.index < datetime(2022, 7, 18))]"
   ]
  },
  {
   "cell_type": "markdown",
   "id": "92521973",
   "metadata": {},
   "source": [
    "## Создание признаков"
   ]
  },
  {
   "cell_type": "markdown",
   "id": "d4247b32",
   "metadata": {},
   "source": [
    "### 'BTC/BNB', 'BTC/ETH', 'ETH/BNB'"
   ]
  },
  {
   "cell_type": "code",
   "execution_count": 3,
   "id": "ffbe4b1d",
   "metadata": {},
   "outputs": [],
   "source": [
    "trend['BTC/BNB'] = trend['BTC/USTD']/trend['BNB/USTD']\n",
    "trend['BTC/ETH'] = trend['BTC/USTD']/trend['ETH/USTD']\n",
    "trend['ETH/BNB'] = trend['ETH/USTD']/trend['BNB/USTD']"
   ]
  },
  {
   "cell_type": "markdown",
   "id": "2e229e3e",
   "metadata": {},
   "source": [
    "#### delta BASE"
   ]
  },
  {
   "cell_type": "code",
   "execution_count": 4,
   "id": "002ba082",
   "metadata": {},
   "outputs": [],
   "source": [
    "trend['BTC/ETH_delta'] = trend['BTC/ETH'] - trend['BTC/ETH'].shift(1)\n",
    "trend['BTC/BNB_delta'] = trend['BTC/BNB'] - trend['BTC/BNB'].shift(1)\n",
    "trend['ETH/BNB_delta'] = trend['ETH/BNB'] - trend['ETH/BNB'].shift(1)"
   ]
  },
  {
   "cell_type": "markdown",
   "id": "7d265fa4",
   "metadata": {},
   "source": [
    "### ratio"
   ]
  },
  {
   "cell_type": "code",
   "execution_count": 5,
   "id": "9ada5f64",
   "metadata": {},
   "outputs": [],
   "source": [
    "trend['btc_bnb_ratio'] = trend['BTC/BNB']/trend['BTC/BNB'][0]\n",
    "trend['btc_eth_ratio'] = trend['BTC/ETH']/trend['BTC/ETH'][0]\n",
    "trend['eth_bnb_ratio'] = trend['ETH/BNB']/trend['ETH/BNB'][0]"
   ]
  },
  {
   "cell_type": "markdown",
   "id": "58fdd633",
   "metadata": {},
   "source": [
    "### mean\n",
    " Среднее по количеству стобцов PERIOD * 2 + 1"
   ]
  },
  {
   "cell_type": "code",
   "execution_count": 6,
   "id": "a4b52355",
   "metadata": {},
   "outputs": [
    {
     "name": "stderr",
     "output_type": "stream",
     "text": [
      "C:\\Users\\denis\\AppData\\Local\\Temp\\ipykernel_4564\\2594479708.py:4: PerformanceWarning: DataFrame is highly fragmented.  This is usually the result of calling `frame.insert` many times, which has poor performance.  Consider joining all columns at once using pd.concat(axis=1) instead. To get a de-fragmented frame, use `newframe = frame.copy()`\n",
      "  trend[column + '_' + str(period)] = trend[column].shift(period)\n",
      "C:\\Users\\denis\\AppData\\Local\\Temp\\ipykernel_4564\\2594479708.py:4: PerformanceWarning: DataFrame is highly fragmented.  This is usually the result of calling `frame.insert` many times, which has poor performance.  Consider joining all columns at once using pd.concat(axis=1) instead. To get a de-fragmented frame, use `newframe = frame.copy()`\n",
      "  trend[column + '_' + str(period)] = trend[column].shift(period)\n",
      "C:\\Users\\denis\\AppData\\Local\\Temp\\ipykernel_4564\\2594479708.py:4: PerformanceWarning: DataFrame is highly fragmented.  This is usually the result of calling `frame.insert` many times, which has poor performance.  Consider joining all columns at once using pd.concat(axis=1) instead. To get a de-fragmented frame, use `newframe = frame.copy()`\n",
      "  trend[column + '_' + str(period)] = trend[column].shift(period)\n",
      "C:\\Users\\denis\\AppData\\Local\\Temp\\ipykernel_4564\\2594479708.py:4: PerformanceWarning: DataFrame is highly fragmented.  This is usually the result of calling `frame.insert` many times, which has poor performance.  Consider joining all columns at once using pd.concat(axis=1) instead. To get a de-fragmented frame, use `newframe = frame.copy()`\n",
      "  trend[column + '_' + str(period)] = trend[column].shift(period)\n",
      "C:\\Users\\denis\\AppData\\Local\\Temp\\ipykernel_4564\\2594479708.py:4: PerformanceWarning: DataFrame is highly fragmented.  This is usually the result of calling `frame.insert` many times, which has poor performance.  Consider joining all columns at once using pd.concat(axis=1) instead. To get a de-fragmented frame, use `newframe = frame.copy()`\n",
      "  trend[column + '_' + str(period)] = trend[column].shift(period)\n",
      "C:\\Users\\denis\\AppData\\Local\\Temp\\ipykernel_4564\\2594479708.py:4: PerformanceWarning: DataFrame is highly fragmented.  This is usually the result of calling `frame.insert` many times, which has poor performance.  Consider joining all columns at once using pd.concat(axis=1) instead. To get a de-fragmented frame, use `newframe = frame.copy()`\n",
      "  trend[column + '_' + str(period)] = trend[column].shift(period)\n",
      "C:\\Users\\denis\\AppData\\Local\\Temp\\ipykernel_4564\\2594479708.py:4: PerformanceWarning: DataFrame is highly fragmented.  This is usually the result of calling `frame.insert` many times, which has poor performance.  Consider joining all columns at once using pd.concat(axis=1) instead. To get a de-fragmented frame, use `newframe = frame.copy()`\n",
      "  trend[column + '_' + str(period)] = trend[column].shift(period)\n",
      "C:\\Users\\denis\\AppData\\Local\\Temp\\ipykernel_4564\\2594479708.py:4: PerformanceWarning: DataFrame is highly fragmented.  This is usually the result of calling `frame.insert` many times, which has poor performance.  Consider joining all columns at once using pd.concat(axis=1) instead. To get a de-fragmented frame, use `newframe = frame.copy()`\n",
      "  trend[column + '_' + str(period)] = trend[column].shift(period)\n",
      "C:\\Users\\denis\\AppData\\Local\\Temp\\ipykernel_4564\\2594479708.py:4: PerformanceWarning: DataFrame is highly fragmented.  This is usually the result of calling `frame.insert` many times, which has poor performance.  Consider joining all columns at once using pd.concat(axis=1) instead. To get a de-fragmented frame, use `newframe = frame.copy()`\n",
      "  trend[column + '_' + str(period)] = trend[column].shift(period)\n",
      "C:\\Users\\denis\\AppData\\Local\\Temp\\ipykernel_4564\\2594479708.py:4: PerformanceWarning: DataFrame is highly fragmented.  This is usually the result of calling `frame.insert` many times, which has poor performance.  Consider joining all columns at once using pd.concat(axis=1) instead. To get a de-fragmented frame, use `newframe = frame.copy()`\n",
      "  trend[column + '_' + str(period)] = trend[column].shift(period)\n",
      "C:\\Users\\denis\\AppData\\Local\\Temp\\ipykernel_4564\\2594479708.py:4: PerformanceWarning: DataFrame is highly fragmented.  This is usually the result of calling `frame.insert` many times, which has poor performance.  Consider joining all columns at once using pd.concat(axis=1) instead. To get a de-fragmented frame, use `newframe = frame.copy()`\n",
      "  trend[column + '_' + str(period)] = trend[column].shift(period)\n",
      "C:\\Users\\denis\\AppData\\Local\\Temp\\ipykernel_4564\\2594479708.py:4: PerformanceWarning: DataFrame is highly fragmented.  This is usually the result of calling `frame.insert` many times, which has poor performance.  Consider joining all columns at once using pd.concat(axis=1) instead. To get a de-fragmented frame, use `newframe = frame.copy()`\n",
      "  trend[column + '_' + str(period)] = trend[column].shift(period)\n",
      "C:\\Users\\denis\\AppData\\Local\\Temp\\ipykernel_4564\\2594479708.py:4: PerformanceWarning: DataFrame is highly fragmented.  This is usually the result of calling `frame.insert` many times, which has poor performance.  Consider joining all columns at once using pd.concat(axis=1) instead. To get a de-fragmented frame, use `newframe = frame.copy()`\n",
      "  trend[column + '_' + str(period)] = trend[column].shift(period)\n",
      "C:\\Users\\denis\\AppData\\Local\\Temp\\ipykernel_4564\\2594479708.py:4: PerformanceWarning: DataFrame is highly fragmented.  This is usually the result of calling `frame.insert` many times, which has poor performance.  Consider joining all columns at once using pd.concat(axis=1) instead. To get a de-fragmented frame, use `newframe = frame.copy()`\n",
      "  trend[column + '_' + str(period)] = trend[column].shift(period)\n",
      "C:\\Users\\denis\\AppData\\Local\\Temp\\ipykernel_4564\\2594479708.py:4: PerformanceWarning: DataFrame is highly fragmented.  This is usually the result of calling `frame.insert` many times, which has poor performance.  Consider joining all columns at once using pd.concat(axis=1) instead. To get a de-fragmented frame, use `newframe = frame.copy()`\n",
      "  trend[column + '_' + str(period)] = trend[column].shift(period)\n",
      "C:\\Users\\denis\\AppData\\Local\\Temp\\ipykernel_4564\\2594479708.py:4: PerformanceWarning: DataFrame is highly fragmented.  This is usually the result of calling `frame.insert` many times, which has poor performance.  Consider joining all columns at once using pd.concat(axis=1) instead. To get a de-fragmented frame, use `newframe = frame.copy()`\n",
      "  trend[column + '_' + str(period)] = trend[column].shift(period)\n",
      "C:\\Users\\denis\\AppData\\Local\\Temp\\ipykernel_4564\\2594479708.py:4: PerformanceWarning: DataFrame is highly fragmented.  This is usually the result of calling `frame.insert` many times, which has poor performance.  Consider joining all columns at once using pd.concat(axis=1) instead. To get a de-fragmented frame, use `newframe = frame.copy()`\n",
      "  trend[column + '_' + str(period)] = trend[column].shift(period)\n",
      "C:\\Users\\denis\\AppData\\Local\\Temp\\ipykernel_4564\\2594479708.py:4: PerformanceWarning: DataFrame is highly fragmented.  This is usually the result of calling `frame.insert` many times, which has poor performance.  Consider joining all columns at once using pd.concat(axis=1) instead. To get a de-fragmented frame, use `newframe = frame.copy()`\n",
      "  trend[column + '_' + str(period)] = trend[column].shift(period)\n"
     ]
    }
   ],
   "source": [
    "for column in ('btc_bnb_ratio', 'btc_eth_ratio', 'eth_bnb_ratio'):\n",
    "    # создание столбцов shift\n",
    "    for period in range(-PERIOD, (PERIOD+1)):\n",
    "        trend[column + '_' + str(period)] = trend[column].shift(period)\n",
    "    # получение среднего по столбцам  shift\n",
    "    trend[column + '_mean'] = trend[[column + '_' + str(x) for x in range(-PERIOD, (PERIOD+1))]].mean(axis=1)\n",
    "    # удаление столбцов shift\n",
    "    trend = trend.drop(columns = [column + '_' + str(x) for x in range(-PERIOD, (PERIOD+1))])"
   ]
  },
  {
   "cell_type": "raw",
   "id": "761e9875",
   "metadata": {},
   "source": [
    "fig, ax = plt.subplots()\n",
    "sns.lineplot(data=trend, x='server_time', y ='btc_eth_ratio_mean', ax=ax)\n",
    "sns.lineplot(data=trend, x='server_time', y ='btc_bnb_ratio_mean', ax=ax)\n",
    "sns.lineplot(data=trend, x='server_time', y ='eth_bnb_ratio_mean', ax=ax)\n",
    "plt.title('Trend')\n",
    "plt.show()"
   ]
  },
  {
   "cell_type": "markdown",
   "id": "47224b9a",
   "metadata": {},
   "source": [
    "#### mean delta"
   ]
  },
  {
   "cell_type": "code",
   "execution_count": 7,
   "id": "e7ac5866",
   "metadata": {},
   "outputs": [],
   "source": [
    "trend['btc_eth_ratio_mean_delta'] = trend['btc_eth_ratio_mean'] - trend['btc_eth_ratio_mean'].shift(1)\n",
    "trend['btc_bnb_ratio_mean_delta'] = trend['btc_bnb_ratio_mean'] - trend['btc_bnb_ratio_mean'].shift(1)\n",
    "trend['eth_bnb_ratio_mean_delta'] = trend['eth_bnb_ratio_mean'] - trend['eth_bnb_ratio_mean'].shift(1)"
   ]
  },
  {
   "cell_type": "raw",
   "id": "b628907e",
   "metadata": {},
   "source": [
    "sns.histplot(data=trend, x=\"btc_eth_ratio_mean_delta\", kde=True, bins=100)\n",
    "plt.title('Delta trend hist')\n",
    "plt.show()"
   ]
  },
  {
   "cell_type": "markdown",
   "id": "594bb5bd",
   "metadata": {},
   "source": [
    "### buy, sell"
   ]
  },
  {
   "cell_type": "markdown",
   "id": "23e2a771",
   "metadata": {},
   "source": [
    "#### Минимумы и максимумы среднего"
   ]
  },
  {
   "cell_type": "code",
   "execution_count": 8,
   "id": "1d64ab25",
   "metadata": {},
   "outputs": [],
   "source": [
    "for column in ('btc_eth_ratio_mean_delta', 'btc_bnb_ratio_mean_delta', 'eth_bnb_ratio_mean_delta'):\n",
    "    sign = np.sign(trend[column])\n",
    "    column = '_'.join(column.split('_')[:-1])\n",
    "    trend[column + '_min'] = ((sign*2+np.roll(sign,1)) == 1).astype('int')\n",
    "    trend[column + '_max'] = ((sign*2+np.roll(sign,1)) == -1).astype('int')"
   ]
  },
  {
   "cell_type": "markdown",
   "id": "29ccd421",
   "metadata": {},
   "source": [
    "#### Выбор локальных минимумов."
   ]
  },
  {
   "cell_type": "code",
   "execution_count": 9,
   "id": "b2111ba9",
   "metadata": {
    "scrolled": true
   },
   "outputs": [
    {
     "name": "stdout",
     "output_type": "stream",
     "text": [
      "CPU times: total: 33.2 s\n",
      "Wall time: 31.4 s\n"
     ]
    }
   ],
   "source": [
    "%%time\n",
    "for column in ('btc_eth_ratio_mean_min', 'btc_bnb_ratio_mean_min', 'eth_bnb_ratio_mean_min'):\n",
    "\n",
    "    list_idx = trend[trend[column] == 1]['numeric_index'].values\n",
    "    for idx in list_idx:\n",
    "#         print(idx)\n",
    "        index_min = trend[trend['numeric_index'] == idx].index\n",
    "        idx_range = range(idx-PERIOD, idx+PERIOD)\n",
    "#         print(index_min)\n",
    "        range_table = trend.query('numeric_index in @idx_range')['_'.join(column.split('_')[:-2])]\n",
    "        range_table_min = range_table.min()\n",
    "        index_buy = range_table[range_table == range_table_min].index\n",
    "#         print(index_buy)\n",
    "        trend.loc[index_min, column] = 0\n",
    "        trend.loc[index_buy, column] = 1"
   ]
  },
  {
   "cell_type": "markdown",
   "id": "112f8c32",
   "metadata": {},
   "source": [
    "#### Выбор локальных максимумов."
   ]
  },
  {
   "cell_type": "code",
   "execution_count": 10,
   "id": "4c26338d",
   "metadata": {},
   "outputs": [
    {
     "name": "stdout",
     "output_type": "stream",
     "text": [
      "CPU times: total: 33.2 s\n",
      "Wall time: 31.2 s\n"
     ]
    }
   ],
   "source": [
    "%%time\n",
    "for column in ('btc_eth_ratio_mean_max', 'btc_bnb_ratio_mean_max', 'eth_bnb_ratio_mean_max'):\n",
    "\n",
    "    list_idx = trend[trend[column] == 1]['numeric_index'].values\n",
    "    for idx in list_idx:\n",
    "#         print(idx)\n",
    "        index_max = trend[trend['numeric_index'] == idx].index\n",
    "        idx_range = range(idx-PERIOD, idx+PERIOD)\n",
    "#         print(index_max)\n",
    "        range_table = trend.query('numeric_index in @idx_range')['_'.join(column.split('_')[:-2])]\n",
    "        range_table_max = range_table.max()\n",
    "        index_sell = range_table[range_table == range_table_max].index\n",
    "#         print(index_sell)\n",
    "        trend.loc[index_max, column] = 0\n",
    "        trend.loc[index_sell, column] = 1"
   ]
  },
  {
   "cell_type": "markdown",
   "id": "e834a93d",
   "metadata": {},
   "source": [
    "#### Профит каждой сделки"
   ]
  },
  {
   "cell_type": "code",
   "execution_count": 11,
   "id": "97ede69e",
   "metadata": {},
   "outputs": [],
   "source": [
    "for column in ('btc_bnb', 'btc_eth', 'eth_bnb'):\n",
    "    trend[column + '_deal'] = trend[column + '_ratio_mean_min'] + trend[column + '_ratio_mean_max']\n",
    "    trend[column + '_profit'] = abs(trend[trend[column + '_deal'] == 1][column + '_ratio'] - trend[trend[column + '_deal'] == 1][column + '_ratio'].shift(-1))"
   ]
  },
  {
   "cell_type": "markdown",
   "id": "cfab9e03",
   "metadata": {},
   "source": [
    "#### Более одной продажи (двойные сделки)"
   ]
  },
  {
   "cell_type": "code",
   "execution_count": 12,
   "id": "b1bf86c0",
   "metadata": {},
   "outputs": [],
   "source": [
    "trend['duble_buy'] = (trend['btc_bnb_deal']+\n",
    "                      trend['btc_eth_deal']+\n",
    "                      trend['eth_bnb_deal'])>1"
   ]
  },
  {
   "cell_type": "markdown",
   "id": "d09ffd08",
   "metadata": {},
   "source": [
    "#### Устранение двойных сделок"
   ]
  },
  {
   "cell_type": "code",
   "execution_count": 13,
   "id": "68689802",
   "metadata": {},
   "outputs": [],
   "source": [
    "trend['btc_bnb_profit'] = trend['btc_bnb_deal']*trend['btc_bnb_profit']\n",
    "trend['btc_eth_profit'] = trend['btc_eth_deal']*trend['btc_eth_profit']\n",
    "trend['eth_bnb_profit'] = trend['eth_bnb_deal']*trend['eth_bnb_profit']\n",
    "\n",
    "trend['profit_max'] = trend[trend['duble_buy']][['btc_bnb_profit','btc_eth_profit','eth_bnb_profit']].idxmax(axis=1)\n",
    "\n",
    "trend.loc[trend['profit_max'] == 'btc_bnb_profit',['btc_eth_ratio_mean_min', 'btc_eth_ratio_mean_max','eth_bnb_ratio_mean_min','eth_bnb_ratio_mean_max']] = 0\n",
    "trend.loc[trend['profit_max'] == 'btc_eth_profit',['btc_bnb_ratio_mean_min', 'btc_bnb_ratio_mean_max','eth_bnb_ratio_mean_min','eth_bnb_ratio_mean_max']] = 0\n",
    "trend.loc[trend['profit_max'] == 'eth_bnb_profit',['btc_eth_ratio_mean_min', 'btc_eth_ratio_mean_max','btc_bnb_ratio_mean_min','btc_bnb_ratio_mean_max']] = 0"
   ]
  },
  {
   "cell_type": "markdown",
   "id": "b071cadd",
   "metadata": {},
   "source": [
    "#### График"
   ]
  },
  {
   "cell_type": "code",
   "execution_count": 14,
   "id": "6c526dc2",
   "metadata": {},
   "outputs": [],
   "source": [
    "trend['btc_bnb_min_price'] = trend['btc_bnb_ratio_mean_min']\n",
    "trend['btc_bnb_max_price'] = trend['btc_bnb_ratio_mean_max']\n",
    "trend.loc[trend['btc_bnb_min_price'] == 1, 'btc_bnb_min_price'] = trend['btc_bnb_ratio']\n",
    "trend.loc[trend['btc_bnb_max_price'] == 1, 'btc_bnb_max_price'] = trend['btc_bnb_ratio']"
   ]
  },
  {
   "cell_type": "code",
   "execution_count": 15,
   "id": "2e3c30c8",
   "metadata": {},
   "outputs": [
    {
     "data": {
      "image/png": "[encoded data removed]",
      "text/plain": [
       "<Figure size 640x480 with 1 Axes>"
      ]
     },
     "metadata": {},
     "output_type": "display_data"
    }
   ],
   "source": [
    "fig, ax = plt.subplots()\n",
    "sns.lineplot(data=trend[49800:50000], x='server_time', y ='btc_bnb_ratio', ax=ax)\n",
    "sns.lineplot(data=trend[49800:50000], x='server_time', y ='btc_bnb_ratio_mean', ax=ax)\n",
    "sns.scatterplot(data=trend[49800:50000], x='server_time', y ='btc_bnb_min_price', ax=ax, color='green')\n",
    "sns.scatterplot(data=trend[49800:50000], x='server_time', y ='btc_bnb_max_price', ax=ax, color='red')\n",
    "plt.title('Features')\n",
    "plt.ylim([0.965, 0.969])\n",
    "plt.show()"
   ]
  },
  {
   "cell_type": "markdown",
   "id": "932aa509",
   "metadata": {},
   "source": [
    "### not_buy"
   ]
  },
  {
   "cell_type": "code",
   "execution_count": 16,
   "id": "05ac8d14",
   "metadata": {},
   "outputs": [],
   "source": [
    "trend['not_buy'] = ((trend['btc_bnb_ratio_mean_min']+\n",
    "                     trend['btc_bnb_ratio_mean_max']+\n",
    "                     trend['btc_eth_ratio_mean_min']+\n",
    "                     trend['btc_eth_ratio_mean_max']+\n",
    "                     trend['eth_bnb_ratio_mean_min']+\n",
    "                     trend['eth_bnb_ratio_mean_max']) == 0).astype('int')"
   ]
  },
  {
   "cell_type": "markdown",
   "id": "00ecbacf",
   "metadata": {},
   "source": [
    "### Обрезка датафрейма с верху и низу на PERIOD"
   ]
  },
  {
   "cell_type": "code",
   "execution_count": 17,
   "id": "e9d6ca70",
   "metadata": {},
   "outputs": [],
   "source": [
    "trend = trend.iloc[PERIOD+1:-PERIOD-1]"
   ]
  },
  {
   "cell_type": "code",
   "execution_count": 18,
   "id": "7e8e5b00",
   "metadata": {},
   "outputs": [
    {
     "data": {
      "text/plain": [
       "(76663, 36)"
      ]
     },
     "execution_count": 18,
     "metadata": {},
     "output_type": "execute_result"
    }
   ],
   "source": [
    "trend.shape"
   ]
  },
  {
   "cell_type": "markdown",
   "id": "f737b231",
   "metadata": {},
   "source": [
    "### Распределение классов"
   ]
  },
  {
   "cell_type": "code",
   "execution_count": 19,
   "id": "9c140a7c",
   "metadata": {},
   "outputs": [
    {
     "data": {
      "text/plain": [
       "btc_bnb_ratio_mean_min      915\n",
       "btc_bnb_ratio_mean_max      880\n",
       "btc_eth_ratio_mean_min      613\n",
       "btc_eth_ratio_mean_max      589\n",
       "eth_bnb_ratio_mean_min      833\n",
       "eth_bnb_ratio_mean_max      783\n",
       "not_buy                   72050\n",
       "dtype: int64"
      ]
     },
     "execution_count": 19,
     "metadata": {},
     "output_type": "execute_result"
    }
   ],
   "source": [
    "trend[['btc_bnb_ratio_mean_min',\n",
    "       'btc_bnb_ratio_mean_max',\n",
    "       'btc_eth_ratio_mean_min',\n",
    "       'btc_eth_ratio_mean_max',\n",
    "       'eth_bnb_ratio_mean_min',\n",
    "       'eth_bnb_ratio_mean_max',\n",
    "       'not_buy']].sum()"
   ]
  },
  {
   "cell_type": "code",
   "execution_count": 20,
   "id": "8aa8aa55",
   "metadata": {},
   "outputs": [
    {
     "data": {
      "text/plain": [
       "(76663, 36)"
      ]
     },
     "execution_count": 20,
     "metadata": {},
     "output_type": "execute_result"
    }
   ],
   "source": [
    "trend.shape"
   ]
  },
  {
   "cell_type": "markdown",
   "id": "dfcc2b93",
   "metadata": {},
   "source": [
    "## PyTorch"
   ]
  },
  {
   "cell_type": "markdown",
   "id": "72840ae3",
   "metadata": {},
   "source": [
    "### Выделение признаков"
   ]
  },
  {
   "cell_type": "code",
   "execution_count": 21,
   "id": "5452657e",
   "metadata": {},
   "outputs": [
    {
     "name": "stderr",
     "output_type": "stream",
     "text": [
      " 13%|█████████▋                                                                  | 9794/76439 [00:47<09:08, 121.49it/s]"
     ]
    },
    {
     "name": "stdout",
     "output_type": "stream",
     "text": [
      "52.566528\n"
     ]
    },
    {
     "name": "stderr",
     "output_type": "stream",
     "text": [
      " 26%|███████████████████▋                                                        | 19781/76439 [03:01<14:53, 63.39it/s]"
     ]
    },
    {
     "name": "stdout",
     "output_type": "stream",
     "text": [
      "106.326528\n"
     ]
    },
    {
     "name": "stderr",
     "output_type": "stream",
     "text": [
      " 39%|█████████████████████████████▌                                              | 29785/76439 [06:42<18:35, 41.82it/s]"
     ]
    },
    {
     "name": "stdout",
     "output_type": "stream",
     "text": [
      "160.086528\n"
     ]
    },
    {
     "name": "stderr",
     "output_type": "stream",
     "text": [
      " 52%|███████████████████████████████████████▌                                    | 39783/76439 [11:49<19:20, 31.59it/s]"
     ]
    },
    {
     "name": "stdout",
     "output_type": "stream",
     "text": [
      "213.846528\n"
     ]
    },
    {
     "name": "stderr",
     "output_type": "stream",
     "text": [
      " 65%|█████████████████████████████████████████████████▍                          | 49782/76439 [18:21<17:13, 25.79it/s]"
     ]
    },
    {
     "name": "stdout",
     "output_type": "stream",
     "text": [
      "267.606528\n"
     ]
    },
    {
     "name": "stderr",
     "output_type": "stream",
     "text": [
      " 78%|███████████████████████████████████████████████████████████▍                | 59781/76439 [26:19<12:58, 21.39it/s]"
     ]
    },
    {
     "name": "stdout",
     "output_type": "stream",
     "text": [
      "321.366528\n"
     ]
    },
    {
     "name": "stderr",
     "output_type": "stream",
     "text": [
      " 91%|█████████████████████████████████████████████████████████████████████▍      | 69780/76439 [35:41<06:12, 17.87it/s]"
     ]
    },
    {
     "name": "stdout",
     "output_type": "stream",
     "text": [
      "375.126528\n"
     ]
    },
    {
     "name": "stderr",
     "output_type": "stream",
     "text": [
      "100%|████████████████████████████████████████████████████████████████████████████| 76439/76439 [42:43<00:00, 29.82it/s]"
     ]
    },
    {
     "name": "stdout",
     "output_type": "stream",
     "text": [
      "CPU times: total: 42min 52s\n",
      "Wall time: 42min 43s\n"
     ]
    },
    {
     "name": "stderr",
     "output_type": "stream",
     "text": [
      "\n"
     ]
    }
   ],
   "source": [
    "%%time\n",
    "\n",
    "# нулевая подложка\n",
    "X = np.zeros((1,3,FEATURES_LENGHT))\n",
    "\n",
    "# временный признаки, для формирования окончательного X\n",
    "X_temp = trend[['BTC/BNB_delta','BTC/ETH_delta','ETH/BNB_delta']]\n",
    "\n",
    "for i in tqdm(range(FEATURES_LENGHT, X_temp.shape[0])):\n",
    "    delta = X_temp.iloc[i-FEATURES_LENGHT+1:i+1]\n",
    "    X3 = delta / (delta.max()-delta.min())\n",
    "#    X3 = X_temp.iloc[i-FEATURES_LENGHT+1:i+1]/X_temp.iloc[i]\n",
    "    X2 = X3.T.values\n",
    "    X1 = np.expand_dims(X2, axis=0)\n",
    "    X = np.append(X, X1, axis=0)\n",
    "    if i % 10000 == 0:\n",
    "        print(X.nbytes/1_000_000)\n",
    "        \n",
    "# удаление нулевой подложки np.zeros\n",
    "X = X[1:]"
   ]
  },
  {
   "cell_type": "code",
   "execution_count": 22,
   "id": "e8eb83a4",
   "metadata": {},
   "outputs": [],
   "source": [
    "np.save('binance_features/nparray', X, allow_pickle=True, fix_imports=True)"
   ]
  },
  {
   "cell_type": "raw",
   "id": "8f7c1ffe",
   "metadata": {},
   "source": [
    "X = np.load('binance_features/nparray_PERIOD_6_FEATURES_LENGHT_224.npy', mmap_mode=None, allow_pickle=False, fix_imports=True, encoding='ASCII')"
   ]
  },
  {
   "cell_type": "markdown",
   "id": "b898ae94",
   "metadata": {},
   "source": [
    "y\n",
    "\n",
    "- not_buy - 0\n",
    "- btc_bnb_ratio_mean_min - 1\t\n",
    "- btc_bnb_ratio_mean_max - 2\t\n",
    "- btc_eth_ratio_mean_min - 3\n",
    "- btc_eth_ratio_mean_max - 4\t\n",
    "- eth_bnb_ratio_mean_min - 5\t\n",
    "- eth_bnb_ratio_mean_max - 6"
   ]
  },
  {
   "cell_type": "code",
   "execution_count": 23,
   "id": "2ad3808f",
   "metadata": {},
   "outputs": [],
   "source": [
    "Y = trend[['btc_bnb_ratio_mean_min','btc_bnb_ratio_mean_max','btc_eth_ratio_mean_min','btc_eth_ratio_mean_max','eth_bnb_ratio_mean_min','eth_bnb_ratio_mean_max','not_buy']]\n",
    "\n",
    "Y=Y.rename(\n",
    "    columns={\n",
    "        'not_buy':'0',\n",
    "        'btc_bnb_ratio_mean_min':'1',\n",
    "        'btc_bnb_ratio_mean_max':'2',\n",
    "        'btc_eth_ratio_mean_min':'3',\n",
    "        'btc_eth_ratio_mean_max':'4',\n",
    "        'eth_bnb_ratio_mean_min':'5',\n",
    "        'eth_bnb_ratio_mean_max':'6'        \n",
    "    }\n",
    ")\n",
    "\n",
    "y = Y.idxmax(axis=1)[FEATURES_LENGHT:]"
   ]
  },
  {
   "cell_type": "code",
   "execution_count": 24,
   "id": "7ea06491",
   "metadata": {},
   "outputs": [
    {
     "name": "stdout",
     "output_type": "stream",
     "text": [
      "(76439, 3, 224) (76439,)\n"
     ]
    }
   ],
   "source": [
    "print(X.shape, y.shape)"
   ]
  },
  {
   "cell_type": "markdown",
   "id": "217a8342",
   "metadata": {},
   "source": [
    "### Загрузчики данных"
   ]
  },
  {
   "cell_type": "code",
   "execution_count": 25,
   "id": "b1b30e2c",
   "metadata": {},
   "outputs": [],
   "source": [
    "X_tensor = torch.tensor(X.astype('float32'))\n",
    "y_tensor = torch.tensor(y.astype('int')).type(torch.LongTensor)\n",
    "\n",
    "train = data_utils.TensorDataset(X_tensor, y_tensor)\n",
    "train_loader = data_utils.DataLoader(train, batch_size=BATCH_SIZE, shuffle=False)"
   ]
  },
  {
   "cell_type": "code",
   "execution_count": 26,
   "id": "f80aad54",
   "metadata": {},
   "outputs": [
    {
     "name": "stdout",
     "output_type": "stream",
     "text": [
      "torch.Size([512, 3, 224]) torch.Size([512])\n"
     ]
    }
   ],
   "source": [
    "dataiter = iter(train_loader)\n",
    "\n",
    "images, labels = dataiter.next()\n",
    "images = images.to('cuda')\n",
    "labels = labels.to('cuda')\n",
    "print(images.shape, labels.shape)"
   ]
  },
  {
   "cell_type": "markdown",
   "id": "96bfdf57",
   "metadata": {},
   "source": [
    "### Модель 1"
   ]
  },
  {
   "cell_type": "markdown",
   "id": "17630cc8",
   "metadata": {},
   "source": [
    "#### Конструктор модели 1"
   ]
  },
  {
   "cell_type": "code",
   "execution_count": 27,
   "id": "c8a99a3c",
   "metadata": {},
   "outputs": [],
   "source": [
    "class Net_1(nn.Module):\n",
    "    def __init__(self):\n",
    "        super(Net_1,self).__init__()\n",
    "        self.conv1 = nn.Conv1d(3, 6, 3)\n",
    "        self.pool = nn.MaxPool1d(2)\n",
    "        self.conv2 = nn.Conv1d(6, 12, 2)\n",
    "        self.fc1 = nn.Linear(660, 120)\n",
    "        self.fc2 = nn.Linear(120, 84)\n",
    "        self.fc3 = nn.Linear(84, 7)\n",
    "        self.sm = nn.Softmax(dim=1)\n",
    "\n",
    "    def forward(self, x):\n",
    "        x = self.pool(F.relu(self.conv1(x)))\n",
    "        x = self.pool(F.relu(self.conv2(x)))\n",
    "        x = torch.flatten(x, start_dim=1)\n",
    "        x = F.relu(self.fc1(x))\n",
    "        x = F.relu(self.fc2(x))\n",
    "        x = self.fc3(x)\n",
    "        return x\n",
    "    \n",
    "    def inference(self, x):\n",
    "        x = self.forward(x)\n",
    "        x = self.sm(x)\n",
    "        return x"
   ]
  },
  {
   "cell_type": "code",
   "execution_count": 28,
   "id": "13418796",
   "metadata": {},
   "outputs": [],
   "source": [
    "net_1 = Net_1().to('cuda')"
   ]
  },
  {
   "cell_type": "markdown",
   "id": "bf32c319",
   "metadata": {},
   "source": [
    "#### Обучение модели 1"
   ]
  },
  {
   "cell_type": "code",
   "execution_count": 29,
   "id": "b3ba445b",
   "metadata": {},
   "outputs": [
    {
     "name": "stdout",
     "output_type": "stream",
     "text": [
      "Epoch: 0, loss: 1.500, accuracy: 0.951\n",
      "Epoch: 50, loss: 0.332, accuracy: 0.951\n",
      "Epoch: 100, loss: 0.295, accuracy: 0.951\n",
      "Epoch: 150, loss: 0.281, accuracy: 0.951\n",
      "Epoch: 200, loss: 0.274, accuracy: 0.951\n",
      "Epoch: 250, loss: 0.266, accuracy: 0.951\n",
      "Epoch: 300, loss: 0.253, accuracy: 0.951\n",
      "Epoch: 350, loss: 0.244, accuracy: 0.951\n",
      "Epoch: 400, loss: 0.237, accuracy: 0.951\n",
      "Epoch: 450, loss: 0.228, accuracy: 0.951\n",
      "Epoch: 500, loss: 0.219, accuracy: 0.953\n",
      "Epoch: 550, loss: 0.209, accuracy: 0.953\n",
      "Epoch: 600, loss: 0.197, accuracy: 0.953\n",
      "Epoch: 650, loss: 0.182, accuracy: 0.955\n",
      "Epoch: 700, loss: 0.163, accuracy: 0.961\n",
      "Epoch: 750, loss: 0.141, accuracy: 0.963\n",
      "Epoch: 800, loss: 0.118, accuracy: 0.971\n",
      "Epoch: 850, loss: 0.096, accuracy: 0.979\n",
      "Epoch: 900, loss: 0.077, accuracy: 0.986\n",
      "Epoch: 950, loss: 0.062, accuracy: 0.988\n",
      "Epoch: 1000, loss: 0.041, accuracy: 0.996\n",
      "Epoch: 1050, loss: 0.039, accuracy: 0.996\n",
      "Epoch: 1100, loss: 0.030, accuracy: 1.000\n",
      "Epoch: 1150, loss: 0.013, accuracy: 1.000\n",
      "Epoch: 1200, loss: 0.015, accuracy: 1.000\n",
      "Epoch: 1250, loss: 0.014, accuracy: 1.000\n",
      "Epoch: 1300, loss: 0.005, accuracy: 1.000\n",
      "Epoch: 1350, loss: 0.002, accuracy: 1.000\n",
      "Epoch: 1400, loss: 0.001, accuracy: 1.000\n",
      "Epoch: 1450, loss: 0.000, accuracy: 1.000\n",
      "Epoch: 1500, loss: 0.009, accuracy: 1.000\n",
      "Epoch: 1550, loss: 0.000, accuracy: 1.000\n",
      "Epoch: 1600, loss: 0.000, accuracy: 1.000\n",
      "Epoch: 1650, loss: 0.000, accuracy: 1.000\n",
      "Epoch: 1700, loss: 0.000, accuracy: 1.000\n",
      "Epoch: 1750, loss: 0.000, accuracy: 1.000\n",
      "Epoch: 1800, loss: 0.000, accuracy: 1.000\n",
      "Epoch: 1850, loss: 0.000, accuracy: 1.000\n",
      "Epoch: 1900, loss: 0.000, accuracy: 1.000\n",
      "Epoch: 1950, loss: 0.000, accuracy: 1.000\n",
      "Epoch: 2000, loss: 0.000, accuracy: 1.000\n",
      "Epoch: 2050, loss: 0.000, accuracy: 1.000\n",
      "Epoch: 2100, loss: 0.000, accuracy: 1.000\n",
      "Epoch: 2150, loss: 0.000, accuracy: 1.000\n",
      "Epoch: 2200, loss: 0.000, accuracy: 1.000\n",
      "Epoch: 2250, loss: 0.000, accuracy: 1.000\n",
      "Epoch: 2300, loss: 0.000, accuracy: 1.000\n",
      "Epoch: 2350, loss: 0.000, accuracy: 1.000\n",
      "Epoch: 2400, loss: 0.000, accuracy: 1.000\n",
      "Epoch: 2450, loss: 0.000, accuracy: 1.000\n",
      "Epoch: 2500, loss: 0.000, accuracy: 1.000\n",
      "Epoch: 2550, loss: 0.000, accuracy: 1.000\n",
      "Epoch: 2600, loss: 0.000, accuracy: 1.000\n",
      "Epoch: 2650, loss: 0.000, accuracy: 1.000\n",
      "Epoch: 2700, loss: 0.000, accuracy: 1.000\n",
      "Epoch: 2750, loss: 0.000, accuracy: 1.000\n",
      "Epoch: 2800, loss: 0.000, accuracy: 1.000\n",
      "Epoch: 2850, loss: 0.000, accuracy: 1.000\n",
      "Epoch: 2900, loss: 0.000, accuracy: 1.000\n",
      "Epoch: 2950, loss: 0.000, accuracy: 1.000\n",
      "CPU times: total: 55min 8s\n",
      "Wall time: 55min 6s\n"
     ]
    }
   ],
   "source": [
    "%%time\n",
    "\n",
    "loss_fn = nn.CrossEntropyLoss()\n",
    "optimizer = optim.Adam(net_1.parameters(), lr=0.0001)\n",
    "\n",
    "for epoch in range(EPOCH):\n",
    "    loss_array = np.array([], dtype=float)\n",
    "    for i, batch in enumerate(train_loader):\n",
    "        optimizer.zero_grad()\n",
    "        X_batch, y_batch = batch\n",
    "        X_batch = X_batch.to('cuda')\n",
    "        y_batch = y_batch.to('cuda')\n",
    "        output = net_1.forward(X_batch)\n",
    "#         print(output, output.shape, output.type())\n",
    "#         print(y_batch, y_batch.shape, y_batch.type())\n",
    "        loss =loss_fn(output, y_batch)\n",
    "        loss.backward()\n",
    "        optimizer.step()\n",
    "        loss_array = np.append(loss_array, loss.to('cpu').detach().numpy())\n",
    "    if epoch % 50 == 0:\n",
    "        predict = torch.argmax(net_1.inference(images), dim=1)\n",
    "        good = (predict == labels).sum()\n",
    "        accuracy = good/BATCH_SIZE\n",
    "        print(f'Epoch: {epoch}, loss: {loss_array.mean():.3f}, accuracy: {accuracy:.3f}')"
   ]
  },
  {
   "cell_type": "raw",
   "id": "9a8d1f5d",
   "metadata": {},
   "source": [
    "torch.save(net_1, 'model_1')"
   ]
  },
  {
   "cell_type": "raw",
   "id": "e61e35f8",
   "metadata": {},
   "source": [
    "net_1 = torch.load('model_1')"
   ]
  },
  {
   "cell_type": "code",
   "execution_count": 30,
   "id": "0a927682",
   "metadata": {},
   "outputs": [
    {
     "name": "stdout",
     "output_type": "stream",
     "text": [
      "tensor(1., device='cuda:0')\n"
     ]
    }
   ],
   "source": [
    "predict = torch.argmax(net_1.inference(images), dim=1)\n",
    "good = (predict == labels).sum()\n",
    "accuracy = good/BATCH_SIZE\n",
    "print(accuracy)"
   ]
  },
  {
   "cell_type": "markdown",
   "id": "ef05aeb6",
   "metadata": {},
   "source": [
    "### Модель 2"
   ]
  },
  {
   "cell_type": "markdown",
   "id": "a8e2fab3",
   "metadata": {},
   "source": [
    "#### Конструктор модели 2"
   ]
  },
  {
   "cell_type": "raw",
   "id": "9a4bd023",
   "metadata": {},
   "source": [
    "dataiter = iter(train_loader)\n",
    "images, labels = dataiter.next()\n",
    "print(images.shape, labels.shape)"
   ]
  },
  {
   "cell_type": "raw",
   "id": "0dd92193",
   "metadata": {},
   "source": [
    "conv1 = nn.Conv1d(3, 9, 3, stride=1, padding=2, padding_mode='replicate')\n",
    "images = conv1(images)\n",
    "images.shape"
   ]
  },
  {
   "cell_type": "raw",
   "id": "7b849c20",
   "metadata": {},
   "source": [
    "pool = nn.MaxPool1d(3)\n",
    "images = pool(images)\n",
    "images.shape"
   ]
  },
  {
   "cell_type": "raw",
   "id": "90423ae4",
   "metadata": {},
   "source": [
    "conv2 = nn.Conv1d(9, 18, 2, stride=1, padding=2, padding_mode='replicate')\n",
    "images = conv2(images)\n",
    "images.shape"
   ]
  },
  {
   "cell_type": "raw",
   "id": "165e3ef5",
   "metadata": {},
   "source": [
    "pool = nn.MaxPool1d(3)\n",
    "images = pool(images)\n",
    "images.shape"
   ]
  },
  {
   "cell_type": "raw",
   "id": "5040ae37",
   "metadata": {},
   "source": [
    "images = torch.flatten(images, start_dim=1)\n",
    "images.shape"
   ]
  },
  {
   "cell_type": "raw",
   "id": "f91f0b40",
   "metadata": {},
   "source": [
    "fc1 = nn.Linear(468, 120)\n",
    "images = fc1(images)\n",
    "images.shape"
   ]
  },
  {
   "cell_type": "code",
   "execution_count": 31,
   "id": "6bf0b238",
   "metadata": {},
   "outputs": [],
   "source": [
    "class Net_2(nn.Module):\n",
    "    def __init__(self):\n",
    "        super(Net_2,self).__init__()\n",
    "        self.conv1 = nn.Conv1d(3, 9, 3, stride=1, padding=2, padding_mode='replicate')\n",
    "        self.pool = nn.MaxPool1d(3)\n",
    "        self.conv2 = nn.Conv1d(9, 18, 2, stride=1, padding=2, padding_mode='replicate')\n",
    "        self.fc1 = nn.Linear(468, 120)\n",
    "        self.fc2 = nn.Linear(120, 84)\n",
    "        self.fc3 = nn.Linear(84, 7)\n",
    "        self.sm = nn.Softmax(dim=1)\n",
    "\n",
    "    def forward(self, x):\n",
    "        x = self.pool(F.relu(self.conv1(x)))\n",
    "        x = self.pool(F.relu(self.conv2(x)))\n",
    "        x = torch.flatten(x, start_dim=1)\n",
    "        x = F.relu(self.fc1(x))\n",
    "        x = F.relu(self.fc2(x))\n",
    "        x = self.fc3(x)\n",
    "        return x\n",
    "    \n",
    "    def inference(self, x):\n",
    "        x = self.forward(x)\n",
    "        x = self.sm(x)\n",
    "        return x"
   ]
  },
  {
   "cell_type": "code",
   "execution_count": 32,
   "id": "73246ff2",
   "metadata": {},
   "outputs": [],
   "source": [
    "net_2 = Net_2().to('cuda')"
   ]
  },
  {
   "cell_type": "markdown",
   "id": "778313c9",
   "metadata": {},
   "source": [
    "#### Обучение модели 2"
   ]
  },
  {
   "cell_type": "code",
   "execution_count": 33,
   "id": "a41d52c6",
   "metadata": {},
   "outputs": [
    {
     "name": "stdout",
     "output_type": "stream",
     "text": [
      "Epoch: 0, loss: 1.169, accuracy: 0.951\n",
      "Epoch: 50, loss: 0.278, accuracy: 0.951\n",
      "Epoch: 100, loss: 0.244, accuracy: 0.951\n",
      "Epoch: 150, loss: 0.237, accuracy: 0.951\n",
      "Epoch: 200, loss: 0.232, accuracy: 0.951\n",
      "Epoch: 250, loss: 0.227, accuracy: 0.951\n",
      "Epoch: 300, loss: 0.222, accuracy: 0.951\n",
      "Epoch: 350, loss: 0.216, accuracy: 0.951\n",
      "Epoch: 400, loss: 0.210, accuracy: 0.951\n",
      "Epoch: 450, loss: 0.202, accuracy: 0.953\n",
      "Epoch: 500, loss: 0.194, accuracy: 0.955\n",
      "Epoch: 550, loss: 0.185, accuracy: 0.955\n",
      "Epoch: 600, loss: 0.176, accuracy: 0.955\n",
      "Epoch: 650, loss: 0.166, accuracy: 0.955\n",
      "Epoch: 700, loss: 0.155, accuracy: 0.955\n",
      "Epoch: 750, loss: 0.144, accuracy: 0.959\n",
      "Epoch: 800, loss: 0.131, accuracy: 0.961\n",
      "Epoch: 850, loss: 0.118, accuracy: 0.967\n",
      "Epoch: 900, loss: 0.104, accuracy: 0.971\n",
      "Epoch: 950, loss: 0.090, accuracy: 0.977\n",
      "Epoch: 1000, loss: 0.077, accuracy: 0.980\n",
      "Epoch: 1050, loss: 0.064, accuracy: 0.988\n",
      "Epoch: 1100, loss: 0.077, accuracy: 0.990\n",
      "Epoch: 1150, loss: 0.045, accuracy: 0.996\n",
      "Epoch: 1200, loss: 0.034, accuracy: 0.998\n",
      "Epoch: 1250, loss: 0.036, accuracy: 0.996\n",
      "Epoch: 1300, loss: 0.018, accuracy: 1.000\n",
      "Epoch: 1350, loss: 0.021, accuracy: 1.000\n",
      "Epoch: 1400, loss: 0.010, accuracy: 1.000\n",
      "Epoch: 1450, loss: 0.006, accuracy: 1.000\n",
      "Epoch: 1500, loss: 0.012, accuracy: 1.000\n",
      "Epoch: 1550, loss: 0.008, accuracy: 1.000\n",
      "Epoch: 1600, loss: 0.008, accuracy: 1.000\n",
      "Epoch: 1650, loss: 0.001, accuracy: 1.000\n",
      "Epoch: 1700, loss: 0.001, accuracy: 1.000\n",
      "Epoch: 1750, loss: 0.001, accuracy: 1.000\n",
      "Epoch: 1800, loss: 0.000, accuracy: 1.000\n",
      "Epoch: 1850, loss: 0.000, accuracy: 1.000\n",
      "Epoch: 1900, loss: 0.000, accuracy: 1.000\n",
      "Epoch: 1950, loss: 0.000, accuracy: 1.000\n",
      "Epoch: 2000, loss: 0.000, accuracy: 1.000\n",
      "Epoch: 2050, loss: 0.000, accuracy: 1.000\n",
      "Epoch: 2100, loss: 0.000, accuracy: 1.000\n",
      "Epoch: 2150, loss: 0.000, accuracy: 1.000\n",
      "Epoch: 2200, loss: 0.000, accuracy: 1.000\n",
      "Epoch: 2250, loss: 0.000, accuracy: 1.000\n",
      "Epoch: 2300, loss: 0.000, accuracy: 1.000\n",
      "Epoch: 2350, loss: 0.000, accuracy: 1.000\n",
      "Epoch: 2400, loss: 0.000, accuracy: 1.000\n",
      "Epoch: 2450, loss: 0.000, accuracy: 1.000\n",
      "Epoch: 2500, loss: 0.000, accuracy: 1.000\n",
      "Epoch: 2550, loss: 0.000, accuracy: 1.000\n",
      "Epoch: 2600, loss: 0.000, accuracy: 1.000\n",
      "Epoch: 2650, loss: 0.000, accuracy: 1.000\n",
      "Epoch: 2700, loss: 0.000, accuracy: 1.000\n",
      "Epoch: 2750, loss: 0.000, accuracy: 1.000\n",
      "Epoch: 2800, loss: 0.000, accuracy: 1.000\n",
      "Epoch: 2850, loss: 0.000, accuracy: 1.000\n",
      "Epoch: 2900, loss: 0.000, accuracy: 1.000\n",
      "Epoch: 2950, loss: 0.000, accuracy: 1.000\n",
      "CPU times: total: 55min 15s\n",
      "Wall time: 55min 13s\n"
     ]
    }
   ],
   "source": [
    "%%time\n",
    "\n",
    "loss_fn = nn.CrossEntropyLoss()\n",
    "optimizer = optim.Adam(net_2.parameters(), lr=0.0001)\n",
    "\n",
    "for epoch in range(EPOCH):\n",
    "    loss_array = np.array([], dtype=float)\n",
    "    for i, batch in enumerate(train_loader):\n",
    "        optimizer.zero_grad()\n",
    "        X_batch, y_batch = batch\n",
    "        X_batch = X_batch.to('cuda')\n",
    "        y_batch = y_batch.to('cuda')\n",
    "        output = net_2.forward(X_batch)\n",
    "#         print(output, output.shape, output.type())\n",
    "#         print(y_batch, y_batch.shape, y_batch.type())\n",
    "        loss =loss_fn(output, y_batch)\n",
    "        loss.backward()\n",
    "        optimizer.step()\n",
    "        loss_array = np.append(loss_array, loss.to('cpu').detach().numpy())\n",
    "    if epoch % 50 == 0:\n",
    "        predict = torch.argmax(net_2.inference(images), dim=1)\n",
    "        good = (predict == labels).sum()\n",
    "        accuracy = good/BATCH_SIZE\n",
    "        print(f'Epoch: {epoch}, loss: {loss_array.mean():.3f}, accuracy: {accuracy:.3f}')"
   ]
  },
  {
   "cell_type": "raw",
   "id": "3b448b42",
   "metadata": {},
   "source": [
    "torch.save(net_2, 'model_2')"
   ]
  },
  {
   "cell_type": "raw",
   "id": "4ec83eec",
   "metadata": {},
   "source": [
    "net_2 = torch.load('model_2')"
   ]
  },
  {
   "cell_type": "code",
   "execution_count": 34,
   "id": "bb25ff9d",
   "metadata": {},
   "outputs": [
    {
     "name": "stdout",
     "output_type": "stream",
     "text": [
      "tensor(1., device='cuda:0')\n"
     ]
    }
   ],
   "source": [
    "predict = torch.argmax(net_2.inference(images), dim=1)\n",
    "good = (predict == labels).sum()\n",
    "accuracy = good/BATCH_SIZE\n",
    "print(accuracy)"
   ]
  },
  {
   "cell_type": "markdown",
   "id": "51b4756a",
   "metadata": {},
   "source": [
    "## Проверка модели при продаже на тестовых данных"
   ]
  },
  {
   "cell_type": "code",
   "execution_count": 45,
   "id": "71059325",
   "metadata": {},
   "outputs": [],
   "source": [
    "trend_test = pd.read_csv('binance_features/BTC_ETH_BNB_test.csv', sep=';', names=['BTC/USTD','ETH/USTD','BNB/USTD', 'server_time'])\n",
    "trend_test['server_time'] = trend_test['server_time'].apply(lambda x: datetime.utcfromtimestamp(int(str(x)[:10])).strftime('%Y-%m-%d %H:%M:%S'))\n",
    "trend_test['server_time'] = pd.to_datetime(trend_test['server_time'])\n",
    "trend_test = trend_test.set_index('server_time')"
   ]
  },
  {
   "cell_type": "code",
   "execution_count": 46,
   "id": "99d18bf0",
   "metadata": {},
   "outputs": [],
   "source": [
    "trend_test['BTC/BNB'] = trend_test['BTC/USTD']/trend_test['BNB/USTD']\n",
    "trend_test['BTC/ETH'] = trend_test['BTC/USTD']/trend_test['ETH/USTD']\n",
    "trend_test['ETH/BNB'] = trend_test['ETH/USTD']/trend_test['BNB/USTD']"
   ]
  },
  {
   "cell_type": "raw",
   "id": "b6051bda",
   "metadata": {},
   "source": [
    "trend_test['BTC/BNB'] = 1/trend_test['BNB/BTC']\n",
    "trend_test['BTC/ETH'] = 1/trend_test['ETH/BTC']\n",
    "trend_test['ETH/BNB'] = 1/trend_test['BNB/ETH']"
   ]
  },
  {
   "cell_type": "code",
   "execution_count": 47,
   "id": "d91e3b96",
   "metadata": {},
   "outputs": [
    {
     "data": {
      "text/html": [
       "<div>\n",
       "<style scoped>\n",
       "    .dataframe tbody tr th:only-of-type {\n",
       "        vertical-align: middle;\n",
       "    }\n",
       "\n",
       "    .dataframe tbody tr th {\n",
       "        vertical-align: top;\n",
       "    }\n",
       "\n",
       "    .dataframe thead th {\n",
       "        text-align: right;\n",
       "    }\n",
       "</style>\n",
       "<table border=\"1\" class=\"dataframe\">\n",
       "  <thead>\n",
       "    <tr style=\"text-align: right;\">\n",
       "      <th></th>\n",
       "      <th>BTC/USTD</th>\n",
       "      <th>ETH/USTD</th>\n",
       "      <th>BNB/USTD</th>\n",
       "      <th>BTC/BNB</th>\n",
       "      <th>BTC/ETH</th>\n",
       "      <th>ETH/BNB</th>\n",
       "    </tr>\n",
       "    <tr>\n",
       "      <th>server_time</th>\n",
       "      <th></th>\n",
       "      <th></th>\n",
       "      <th></th>\n",
       "      <th></th>\n",
       "      <th></th>\n",
       "      <th></th>\n",
       "    </tr>\n",
       "  </thead>\n",
       "  <tbody>\n",
       "    <tr>\n",
       "      <th>2022-08-14 05:36:38</th>\n",
       "      <td>24542.70</td>\n",
       "      <td>1989.48</td>\n",
       "      <td>327.5</td>\n",
       "      <td>74.939542</td>\n",
       "      <td>12.336239</td>\n",
       "      <td>6.074748</td>\n",
       "    </tr>\n",
       "    <tr>\n",
       "      <th>2022-08-14 05:36:45</th>\n",
       "      <td>24541.68</td>\n",
       "      <td>1989.48</td>\n",
       "      <td>327.5</td>\n",
       "      <td>74.936427</td>\n",
       "      <td>12.335726</td>\n",
       "      <td>6.074748</td>\n",
       "    </tr>\n",
       "    <tr>\n",
       "      <th>2022-08-14 05:36:52</th>\n",
       "      <td>24538.52</td>\n",
       "      <td>1989.03</td>\n",
       "      <td>327.4</td>\n",
       "      <td>74.949664</td>\n",
       "      <td>12.336928</td>\n",
       "      <td>6.075229</td>\n",
       "    </tr>\n",
       "    <tr>\n",
       "      <th>2022-08-14 05:36:59</th>\n",
       "      <td>24536.21</td>\n",
       "      <td>1988.87</td>\n",
       "      <td>327.4</td>\n",
       "      <td>74.942608</td>\n",
       "      <td>12.336759</td>\n",
       "      <td>6.074740</td>\n",
       "    </tr>\n",
       "    <tr>\n",
       "      <th>2022-08-14 05:37:06</th>\n",
       "      <td>24536.53</td>\n",
       "      <td>1989.01</td>\n",
       "      <td>327.3</td>\n",
       "      <td>74.966483</td>\n",
       "      <td>12.336052</td>\n",
       "      <td>6.077024</td>\n",
       "    </tr>\n",
       "    <tr>\n",
       "      <th>...</th>\n",
       "      <td>...</td>\n",
       "      <td>...</td>\n",
       "      <td>...</td>\n",
       "      <td>...</td>\n",
       "      <td>...</td>\n",
       "      <td>...</td>\n",
       "    </tr>\n",
       "    <tr>\n",
       "      <th>2022-08-19 13:56:41</th>\n",
       "      <td>21412.79</td>\n",
       "      <td>1690.02</td>\n",
       "      <td>282.3</td>\n",
       "      <td>75.851187</td>\n",
       "      <td>12.670140</td>\n",
       "      <td>5.986610</td>\n",
       "    </tr>\n",
       "    <tr>\n",
       "      <th>2022-08-19 13:56:48</th>\n",
       "      <td>21413.61</td>\n",
       "      <td>1689.86</td>\n",
       "      <td>282.3</td>\n",
       "      <td>75.854091</td>\n",
       "      <td>12.671825</td>\n",
       "      <td>5.986043</td>\n",
       "    </tr>\n",
       "    <tr>\n",
       "      <th>2022-08-19 13:56:54</th>\n",
       "      <td>21403.85</td>\n",
       "      <td>1689.00</td>\n",
       "      <td>282.2</td>\n",
       "      <td>75.846386</td>\n",
       "      <td>12.672499</td>\n",
       "      <td>5.985117</td>\n",
       "    </tr>\n",
       "    <tr>\n",
       "      <th>2022-08-19 13:57:01</th>\n",
       "      <td>21404.51</td>\n",
       "      <td>1689.10</td>\n",
       "      <td>282.3</td>\n",
       "      <td>75.821856</td>\n",
       "      <td>12.672139</td>\n",
       "      <td>5.983351</td>\n",
       "    </tr>\n",
       "    <tr>\n",
       "      <th>2022-08-19 13:57:08</th>\n",
       "      <td>21415.48</td>\n",
       "      <td>1690.11</td>\n",
       "      <td>282.4</td>\n",
       "      <td>75.833853</td>\n",
       "      <td>12.671057</td>\n",
       "      <td>5.984809</td>\n",
       "    </tr>\n",
       "  </tbody>\n",
       "</table>\n",
       "<p>73234 rows × 6 columns</p>\n",
       "</div>"
      ],
      "text/plain": [
       "                     BTC/USTD  ETH/USTD  BNB/USTD    BTC/BNB    BTC/ETH  \\\n",
       "server_time                                                               \n",
       "2022-08-14 05:36:38  24542.70   1989.48     327.5  74.939542  12.336239   \n",
       "2022-08-14 05:36:45  24541.68   1989.48     327.5  74.936427  12.335726   \n",
       "2022-08-14 05:36:52  24538.52   1989.03     327.4  74.949664  12.336928   \n",
       "2022-08-14 05:36:59  24536.21   1988.87     327.4  74.942608  12.336759   \n",
       "2022-08-14 05:37:06  24536.53   1989.01     327.3  74.966483  12.336052   \n",
       "...                       ...       ...       ...        ...        ...   \n",
       "2022-08-19 13:56:41  21412.79   1690.02     282.3  75.851187  12.670140   \n",
       "2022-08-19 13:56:48  21413.61   1689.86     282.3  75.854091  12.671825   \n",
       "2022-08-19 13:56:54  21403.85   1689.00     282.2  75.846386  12.672499   \n",
       "2022-08-19 13:57:01  21404.51   1689.10     282.3  75.821856  12.672139   \n",
       "2022-08-19 13:57:08  21415.48   1690.11     282.4  75.833853  12.671057   \n",
       "\n",
       "                      ETH/BNB  \n",
       "server_time                    \n",
       "2022-08-14 05:36:38  6.074748  \n",
       "2022-08-14 05:36:45  6.074748  \n",
       "2022-08-14 05:36:52  6.075229  \n",
       "2022-08-14 05:36:59  6.074740  \n",
       "2022-08-14 05:37:06  6.077024  \n",
       "...                       ...  \n",
       "2022-08-19 13:56:41  5.986610  \n",
       "2022-08-19 13:56:48  5.986043  \n",
       "2022-08-19 13:56:54  5.985117  \n",
       "2022-08-19 13:57:01  5.983351  \n",
       "2022-08-19 13:57:08  5.984809  \n",
       "\n",
       "[73234 rows x 6 columns]"
      ]
     },
     "execution_count": 47,
     "metadata": {},
     "output_type": "execute_result"
    }
   ],
   "source": [
    "trend_test"
   ]
  },
  {
   "cell_type": "markdown",
   "id": "2bb870d6",
   "metadata": {},
   "source": [
    "### Проверка модели 1"
   ]
  },
  {
   "cell_type": "code",
   "execution_count": 65,
   "id": "1fc42566",
   "metadata": {},
   "outputs": [],
   "source": [
    "coin_buy = {'name': 'BTC','quantity': 21, 'price_usdt': 19275}\n",
    "\n",
    "def buy(coin_buy, coin_sell, price, proba):\n",
    "\n",
    "    coin_sell_part = proba * np.clip((coin_sell['quantity']*coin_sell['price_usdt'])\n",
    "                                /(coin_buy['quantity']*coin_buy['price_usdt']), 0, 0.6) * coin_sell['quantity']\n",
    "    coin_buy_part = coin_sell_part / price\n",
    "    fee = FEE * coin_buy_part\n",
    "    coin_sell_out = coin_sell['quantity'] - coin_sell_part\n",
    "    coin_buy_out = coin_buy['quantity'] + coin_buy_part #- fee\n",
    "    \n",
    "    return coin_buy_out, coin_sell_out, 1\n",
    "    \n"
   ]
  },
  {
   "cell_type": "markdown",
   "id": "3b577422",
   "metadata": {},
   "source": [
    "Поток данных организую в цикле, каждый цикл - имитация считывания в интервале 5 сек с сервака."
   ]
  },
  {
   "cell_type": "code",
   "execution_count": 66,
   "id": "4f7336cb",
   "metadata": {},
   "outputs": [
    {
     "name": "stdout",
     "output_type": "stream",
     "text": [
      "USDT before traid: 300.0\n"
     ]
    },
    {
     "name": "stderr",
     "output_type": "stream",
     "text": [
      "73233it [02:15, 541.77it/s]"
     ]
    },
    {
     "name": "stdout",
     "output_type": "stream",
     "text": [
      "USDT after traid: 1055.85\n"
     ]
    },
    {
     "name": "stderr",
     "output_type": "stream",
     "text": [
      "\n"
     ]
    }
   ],
   "source": [
    "btc = {'name': 'BTC', 'quantity': 100/19275, 'price_usdt': 19275}\n",
    "bnb = {'name': 'BNB', 'quantity': 100/275, 'price_usdt': 275}\n",
    "eth = {'name': 'ETH', 'quantity': 100/1306, 'price_usdt': 1306}\n",
    "\n",
    "usdt = np.array([btc['quantity']*btc['price_usdt']+\n",
    "                 bnb['quantity']*bnb['price_usdt']+\n",
    "                 eth['quantity']*eth['price_usdt']])\n",
    "\n",
    "not_buy = 0\n",
    "not_buy_large_fee = 0\n",
    "btc_bnb_buy = 0\n",
    "btc_bnb_sell = 0\n",
    "btc_eth_buy = 0\n",
    "btc_eth_sell = 0\n",
    "eth_bnb_buy = 0\n",
    "eth_bnb_sell = 0\n",
    "\n",
    "\n",
    "step_prev = trend_test[['BTC/BNB','BTC/ETH','ETH/BNB']].iloc[0]\n",
    "features_delta = np.zeros((1,3))\n",
    "predicts = np.zeros(1)\n",
    "\n",
    "print(f'USDT before traid: {usdt[0]}')\n",
    "\n",
    "for step in tqdm(trend_test[['BTC/BNB','BTC/ETH','ETH/BNB']].iloc[1:].iterrows()):\n",
    "    step = step[1:][0]\n",
    "    delta = step - step_prev\n",
    "    delta_exp = np.expand_dims(delta, axis=0)\n",
    "    features_delta = np.append(features_delta, delta_exp, axis=0)\n",
    "    feattures_delta_transp = features_delta[-FEATURES_LENGHT:].T\n",
    "    step_prev = step\n",
    "    \n",
    "    # условие достаточного количества признаков для предсказания\n",
    "    if feattures_delta_transp.shape[1] == FEATURES_LENGHT:\n",
    "        max_min = feattures_delta_transp.max(axis=1) - feattures_delta_transp.min(axis=1)\n",
    "        features = np.divide(feattures_delta_transp.T, max_min).T\n",
    "        features = np.expand_dims(features, axis=0)\n",
    "        features = torch.tensor(features.astype('float32'))\n",
    "        features = features.to('cuda')\n",
    "        predict_proba = net_1.inference(features)\n",
    "        predict = torch.argmax(predict_proba, dim=1)\n",
    "        predicts = np.append(predicts, predict.to('cpu'), axis=0)\n",
    "        predict_proba = predict_proba.to('cpu').max().detach()\n",
    "        \n",
    "        # действия с валютой\n",
    "        if predict == 0:\n",
    "            not_buy += 1\n",
    "\n",
    "        if predict == 1: # btc_bnb_buy\n",
    "            \n",
    "            btc['quantity'], bnb['quantity'], status = buy(btc, bnb, step[0], predict_proba)\n",
    "            btc_bnb_buy += status\n",
    "            \n",
    "        if predict == 2: # btc_bnb_sell\n",
    "            \n",
    "            btc['quantity'], bnb['quantity'], status = buy(bnb, btc, step[0], predict_proba)\n",
    "            btc_bnb_sell += status            \n",
    "            \n",
    "        if predict == 3: # btc_eth_buy\n",
    "            \n",
    "            btc['quantity'], bnb['quantity'], status = buy(btc, eth, step[0], predict_proba)\n",
    "            btc_eth_buy += status\n",
    "            \n",
    "        if predict == 4: # btc_eth_sell\n",
    "            \n",
    "            btc['quantity'], bnb['quantity'], status = buy(eth, btc, step[0], predict_proba)\n",
    "            btc_eth_sell += status\n",
    "            \n",
    "        if predict == 5: # eth_bnb_buy\n",
    "            \n",
    "            btc['quantity'], bnb['quantity'], status = buy(eth, bnb, step[0], predict_proba)\n",
    "            eth_bnb_buy += status\n",
    "            \n",
    "        if predict == 6: # eth_bnb_sell\n",
    "            \n",
    "            btc['quantity'], bnb['quantity'], status = buy(bnb, eth, step[0], predict_proba)\n",
    "            eth_bnb_sell += status\n",
    "        \n",
    "        usdt = np.append(usdt, np.array([btc['quantity']*btc['price_usdt']+\n",
    "                                         bnb['quantity']*bnb['price_usdt']+\n",
    "                                         eth['quantity']*eth['price_usdt']]), axis=0)\n",
    "\n",
    "print(f'USDT after traid: {usdt[-1]:.2f}')"
   ]
  },
  {
   "cell_type": "code",
   "execution_count": 67,
   "id": "ec514334",
   "metadata": {
    "scrolled": true
   },
   "outputs": [
    {
     "name": "stdout",
     "output_type": "stream",
     "text": [
      "Распределение торговых сделок:\n",
      " Нет сделки - 68570\n",
      " btc_bnb_buy - 775\n",
      " btc_bnb_sell - 966\n",
      " btc_eth_buy - 589\n",
      " btc_eth_sell - 586\n",
      " eth_bnb_buy - 794\n",
      " eth_bnb_sell - 731\n",
      "Распределение валют после торгов:\n",
      " BTC - 947.4232\n",
      "BNB - 8.4227\n",
      "ETH - 100.0000\n",
      "\n"
     ]
    },
    {
     "data": {
      "image/png": "[encoded data removed]",
      "text/plain": [
       "<Figure size 640x480 with 1 Axes>"
      ]
     },
     "metadata": {},
     "output_type": "display_data"
    }
   ],
   "source": [
    "print(f'Распределение торговых сделок:\\n',\n",
    "      f'Нет сделки - {not_buy}\\n btc_bnb_buy - {btc_bnb_buy}\\n btc_bnb_sell - {btc_bnb_sell}\\n'\n",
    "      f' btc_eth_buy - {btc_eth_buy}\\n btc_eth_sell - {btc_eth_sell}\\n eth_bnb_buy - {eth_bnb_buy}\\n eth_bnb_sell - {eth_bnb_sell}')\n",
    "\n",
    "print(f'Распределение валют после торгов:\\n',\n",
    "      f'BTC - {btc[\"quantity\"]*btc[\"price_usdt\"]:.4f}\\n'\n",
    "      f'BNB - {bnb[\"quantity\"]*bnb[\"price_usdt\"]:.4f}\\n'\n",
    "      f'ETH - {eth[\"quantity\"]*eth[\"price_usdt\"]:.4f}\\n')\n",
    "\n",
    "\n",
    "plt.plot(usdt)\n",
    "plt.grid(visible=True)\n",
    "plt.show()"
   ]
  },
  {
   "cell_type": "raw",
   "id": "be8f816c",
   "metadata": {},
   "source": [
    "PERIOD = 3 \n",
    "FEATURES_LENGHT = 224\n",
    "EPOCH = 1500\n",
    "BATCH_SIZE = 256\n",
    "USDT before traid: 300.0\n",
    "USDT after traid: 471.93739124576615\n",
    "\n",
    "PERIOD = 6\n",
    "FEATURES_LENGHT = 224\n",
    "EPOCH = 1500\n",
    "BATCH_SIZE = 256\n",
    "USDT before traid: 300.0\n",
    "USDT after traid: 388.60\n",
    "\n",
    "PERIOD = 6\n",
    "FEATURES_LENGHT = 224\n",
    "EPOCH = 3000\n",
    "BATCH_SIZE = 512\n",
    "USDT before traid: 300.0\n",
    "USDT after traid: 366.37"
   ]
  },
  {
   "cell_type": "markdown",
   "id": "c85175cb",
   "metadata": {},
   "source": [
    "### Проверка модели 2"
   ]
  },
  {
   "cell_type": "markdown",
   "id": "bbfa519f",
   "metadata": {},
   "source": [
    "Поток данных организую в цикле, каждый цикл - имитация считывания в интервале 5 сек с сервака."
   ]
  },
  {
   "cell_type": "code",
   "execution_count": 50,
   "id": "d91e002e",
   "metadata": {},
   "outputs": [
    {
     "name": "stdout",
     "output_type": "stream",
     "text": [
      "USDT before traid: 300.0\n"
     ]
    },
    {
     "name": "stderr",
     "output_type": "stream",
     "text": [
      "73233it [01:42, 712.61it/s]"
     ]
    },
    {
     "name": "stdout",
     "output_type": "stream",
     "text": [
      "USDT after traid: 167.23\n"
     ]
    },
    {
     "name": "stderr",
     "output_type": "stream",
     "text": [
      "\n"
     ]
    }
   ],
   "source": [
    "btc = 100/19275\n",
    "bnb = 100/275\n",
    "eth = 100/1306\n",
    "usdt = np.array([btc*19275+bnb*275+eth*1306])\n",
    "not_buy = 0\n",
    "btc_bnb_buy = 0\n",
    "btc_bnb_sell = 0\n",
    "btc_eth_buy = 0\n",
    "btc_eth_sell = 0\n",
    "eth_bnb_buy = 0\n",
    "eth_bnb_sell = 0\n",
    "\n",
    "\n",
    "step_prev = trend_test[['BTC/BNB','BTC/ETH','ETH/BNB']].iloc[0]\n",
    "features_delta = np.zeros((1,3))\n",
    "predicts = np.zeros(1)\n",
    "\n",
    "print(f'USDT before traid: {usdt[0]}')\n",
    "\n",
    "for step in tqdm(trend_test[['BTC/BNB','BTC/ETH','ETH/BNB']].iloc[1:].iterrows()):\n",
    "    step = step[1:][0]\n",
    "    delta = step - step_prev\n",
    "    delta_exp = np.expand_dims(delta, axis=0)\n",
    "    features_delta = np.append(features_delta, delta_exp, axis=0)\n",
    "    feattures_delta_transp = features_delta[-FEATURES_LENGHT:].T\n",
    "    step_prev = step\n",
    "    \n",
    "    # условие достаточного количества признаков для предсказания\n",
    "    if feattures_delta_transp.shape[1] == FEATURES_LENGHT:\n",
    "        max_min = feattures_delta_transp.max(axis=1) - feattures_delta_transp.min(axis=1)\n",
    "        features = np.divide(feattures_delta_transp.T, max_min).T\n",
    "        features = np.expand_dims(features, axis=0)\n",
    "        features = torch.tensor(features.astype('float32'))\n",
    "        features = features.to('cuda')\n",
    "        predict_proba = net_2.inference(features)\n",
    "        predict = torch.argmax(predict_proba, dim=1)\n",
    "        predicts = np.append(predicts, predict.to('cpu'), axis=0)\n",
    "        predict_proba = predict_proba.to('cpu')\n",
    "        \n",
    "        # действия с валютой\n",
    "        if predict == 0:\n",
    "            not_buy += 1\n",
    "        elif predict == 1:\n",
    "            btc_bnb_buy += 1\n",
    "\n",
    "            bnb_sell = predict_proba.max().detach()*np.clip((bnb*275)/(btc*19275), 0, 0.6)*bnb\n",
    "            bnb = bnb - bnb_sell\n",
    "            btc = btc + 0.999*bnb_sell/step[0]\n",
    "            \n",
    "        elif predict == 2:\n",
    "            btc_bnb_sell += 1\n",
    "            \n",
    "            btc_sell = predict_proba.max().detach()*np.clip((btc*19275)/(bnb*275), 0, 0.6)*btc\n",
    "            btc = btc - btc_sell\n",
    "            bnb = bnb + 0.999*btc_sell * step[0]\n",
    "            \n",
    "        elif predict == 3:\n",
    "            btc_eth_buy += 1\n",
    "            \n",
    "            eth_sell = predict_proba.max().detach()*np.clip((eth*1306)/(btc*19275), 0, 0.6)*eth\n",
    "            eth = eth - eth_sell\n",
    "            btc = btc + 0.999*eth_sell/step[1]            \n",
    "            \n",
    "        elif predict == 4:\n",
    "            btc_eth_sell += 1\n",
    "            \n",
    "            btc_sell = predict_proba.max().detach()*np.clip((btc*19275)/(eth*1306), 0, 0.6)*btc\n",
    "            btc = btc - btc_sell\n",
    "            eth = eth + 0.999*btc_sell * step[1]\n",
    "            \n",
    "        elif predict == 5:\n",
    "            eth_bnb_buy += 1\n",
    "            \n",
    "            bnb_sell = predict_proba.max().detach()*np.clip((bnb*275)/(eth*1306), 0, 0.6)*bnb\n",
    "            bnb = bnb - bnb_sell\n",
    "            eth = eth + 0.999*bnb_sell/step[2]              \n",
    "            \n",
    "        elif predict == 6:\n",
    "            eth_bnb_sell += 1\n",
    "            \n",
    "            eth_sell = predict_proba.max().detach()*np.clip((eth*1306)/(bnb*275), 0, 0.6)*eth\n",
    "            eth = eth - eth_sell\n",
    "            bnb = bnb + 0.999*eth_sell * step[2]            \n",
    "            \n",
    "            \n",
    "        usdt = np.append(usdt, np.array([btc*19275+bnb*275+eth*1306]), axis=0)\n",
    "\n",
    "print(f'USDT after traid: {usdt[-1]:.2f}')"
   ]
  },
  {
   "cell_type": "code",
   "execution_count": 51,
   "id": "3ff8f7c3",
   "metadata": {},
   "outputs": [
    {
     "name": "stdout",
     "output_type": "stream",
     "text": [
      "Распределение торговых сделок:\n",
      " Нет сделки - 67660\n",
      " btc_bnb_buy - 1054\n",
      " btc_bnb_sell - 970\n",
      " btc_eth_buy - 674\n",
      " btc_eth_sell - 834\n",
      " eth_bnb_buy - 1062\n",
      " eth_bnb_sell - 757\n",
      "Распределение валют после торгов в USDT:\n",
      " BTC - 100.7869\n",
      " BNB - 20.7150\n",
      " ETH - 45.7274\n",
      "\n"
     ]
    },
    {
     "data": {
      "image/png": "[encoded data removed]",
      "text/plain": [
       "<Figure size 640x480 with 1 Axes>"
      ]
     },
     "metadata": {},
     "output_type": "display_data"
    }
   ],
   "source": [
    "print(f'Распределение торговых сделок:\\n',\n",
    "      f'Нет сделки - {not_buy}\\n btc_bnb_buy - {btc_bnb_buy}\\n btc_bnb_sell - {btc_bnb_sell}\\n'\n",
    "      f' btc_eth_buy - {btc_eth_buy}\\n btc_eth_sell - {btc_eth_sell}\\n eth_bnb_buy - {eth_bnb_buy}\\n eth_bnb_sell - {eth_bnb_sell}')\n",
    "\n",
    "print(f'Распределение валют после торгов в USDT:\\n',\n",
    "      f'BTC - {btc*19275:.4f}\\n BNB - {bnb*275:.4f}\\n ETH - {eth*1306:.4f}\\n')\n",
    "\n",
    "plt.plot(usdt)\n",
    "plt.grid(visible=True)\n",
    "plt.show()"
   ]
  },
  {
   "cell_type": "code",
   "execution_count": 52,
   "id": "1b522a52",
   "metadata": {},
   "outputs": [
    {
     "data": {
      "image/png": "[encoded data removed]",
      "text/plain": [
       "<Figure size 640x480 with 1 Axes>"
      ]
     },
     "metadata": {},
     "output_type": "display_data"
    }
   ],
   "source": [
    "plt.plot(trend_test['BTC/USTD'])\n",
    "plt.grid(visible=True)\n",
    "plt.show()"
   ]
  },
  {
   "cell_type": "raw",
   "id": "6874b28b",
   "metadata": {},
   "source": [
    "Распределение торговых сделок:\n",
    " Нет сделки - 50014\n",
    " btc_bnb_buy - 5113\n",
    " btc_bnb_sell - 2634\n",
    " btc_eth_buy - 2666\n",
    " btc_eth_sell - 3649\n",
    " eth_bnb_buy - 4301\n",
    " eth_bnb_sell - 4634\n",
    "Распределение валют после торгов в USDT:\n",
    " BTC - 363.9369\n",
    " BNB - 29.0470\n",
    " ETH - 37.4772\n",
    "USDT before traid: 300.0\n",
    "USDT after traid: 430.46"
   ]
  },
  {
   "cell_type": "code",
   "execution_count": null,
   "id": "ca2e074b",
   "metadata": {},
   "outputs": [],
   "source": []
  },
  {
   "cell_type": "code",
   "execution_count": null,
   "id": "7dfc15fa",
   "metadata": {},
   "outputs": [],
   "source": []
  }
 ],
 "metadata": {
  "kernelspec": {
   "display_name": "Python 3 (ipykernel)",
   "language": "python",
   "name": "python3"
  },
  "language_info": {
   "codemirror_mode": {
    "name": "ipython",
    "version": 3
   },
   "file_extension": ".py",
   "mimetype": "text/x-python",
   "name": "python",
   "nbconvert_exporter": "python",
   "pygments_lexer": "ipython3",
   "version": "3.10.4"
  },
  "toc": {
   "base_numbering": 1,
   "nav_menu": {},
   "number_sections": true,
   "sideBar": true,
   "skip_h1_title": true,
   "title_cell": "Table of Contents",
   "title_sidebar": "Contents",
   "toc_cell": false,
   "toc_position": {
    "height": "calc(100% - 180px)",
    "left": "10px",
    "top": "150px",
    "width": "341.306px"
   },
   "toc_section_display": true,
   "toc_window_display": true
  }
 },
 "nbformat": 4,
 "nbformat_minor": 5
}
