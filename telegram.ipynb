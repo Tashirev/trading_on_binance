{
 "cells": [
  {
   "cell_type": "code",
   "execution_count": 124,
   "id": "d611ed0f",
   "metadata": {},
   "outputs": [],
   "source": [
    "import requests"
   ]
  },
  {
   "cell_type": "code",
   "execution_count": 125,
   "id": "acaf8caf",
   "metadata": {},
   "outputs": [],
   "source": [
    "telegram_token = '2140610018:AAGEsQsolCFJfGpCJqct74Erjz1u8JTTNQk'"
   ]
  },
  {
   "cell_type": "code",
   "execution_count": 126,
   "id": "68af7de0",
   "metadata": {},
   "outputs": [],
   "source": [
    "def send_telegram(text, token, chat_id):\n",
    "\n",
    "    params = {\n",
    "        \"chat_id\": chat_id,\n",
    "        \"text\": text\n",
    "        }\n",
    "    url_req = f'https://api.telegram.org/bot{token}/sendMessage'\n",
    "    results = requests.get(url_req, params=params)\n",
    "    print(results.json())"
   ]
  },
  {
   "cell_type": "code",
   "execution_count": 127,
   "id": "e77c606d",
   "metadata": {},
   "outputs": [],
   "source": [
    "telegram_token = '2140610018:AAGEsQsolCFJfGpCJqct74Erjz1u8JTTNQk'\n",
    "bot_id = 1580412343"
   ]
  },
  {
   "cell_type": "code",
   "execution_count": 128,
   "id": "450e0275",
   "metadata": {},
   "outputs": [
    {
     "name": "stdout",
     "output_type": "stream",
     "text": [
      "{'ok': True, 'result': {'message_id': 470, 'from': {'id': 2140610018, 'is_bot': True, 'first_name': 'tashirevBot', 'username': 'tashirevBot'}, 'chat': {'id': 1580412343, 'first_name': 'D', 'last_name': 'T', 'username': 'medtd', 'type': 'private'}, 'date': 1675837395, 'text': 'Привет'}}\n"
     ]
    }
   ],
   "source": [
    "send_telegram('Привет', telegram_token, bot_id)"
   ]
  },
  {
   "cell_type": "code",
   "execution_count": 129,
   "id": "02314669",
   "metadata": {},
   "outputs": [
    {
     "ename": "SyntaxError",
     "evalue": "invalid syntax (3904780000.py, line 1)",
     "output_type": "error",
     "traceback": [
      "\u001b[1;36m  Input \u001b[1;32mIn [129]\u001b[1;36m\u001b[0m\n\u001b[1;33m    https://api.telegram.org/bot<bot_key>/getUpdates\u001b[0m\n\u001b[1;37m          ^\u001b[0m\n\u001b[1;31mSyntaxError\u001b[0m\u001b[1;31m:\u001b[0m invalid syntax\n"
     ]
    }
   ],
   "source": [
    "https://api.telegram.org/bot<bot_key>/getUpdates"
   ]
  },
  {
   "cell_type": "code",
   "execution_count": 132,
   "id": "0c77dba1",
   "metadata": {},
   "outputs": [],
   "source": [
    "results = requests.get('https://api.telegram.org/bot2140610018:AAGEsQsolCFJfGpCJqct74Erjz1u8JTTNQk/getUpdates')"
   ]
  },
  {
   "cell_type": "code",
   "execution_count": 133,
   "id": "06e04e28",
   "metadata": {},
   "outputs": [
    {
     "data": {
      "text/plain": [
       "{'update_id': 493836501,\n",
       " 'message': {'message_id': 471,\n",
       "  'from': {'id': 1580412343,\n",
       "   'is_bot': False,\n",
       "   'first_name': 'D',\n",
       "   'last_name': 'T',\n",
       "   'username': 'medtd',\n",
       "   'language_code': 'ru'},\n",
       "  'chat': {'id': 1580412343,\n",
       "   'first_name': 'D',\n",
       "   'last_name': 'T',\n",
       "   'username': 'medtd',\n",
       "   'type': 'private'},\n",
       "  'date': 1675837515,\n",
       "  'text': 'profit_fee_coef 0.4'}}"
      ]
     },
     "execution_count": 133,
     "metadata": {},
     "output_type": "execute_result"
    }
   ],
   "source": [
    "results.json()['result'][-1]"
   ]
  },
  {
   "cell_type": "code",
   "execution_count": 119,
   "id": "8069f215",
   "metadata": {},
   "outputs": [],
   "source": [
    "message_id = results.json()['result'][-1]['message']['message_id']"
   ]
  },
  {
   "cell_type": "code",
   "execution_count": 121,
   "id": "24bf00a4",
   "metadata": {},
   "outputs": [
    {
     "data": {
      "text/plain": [
       "int"
      ]
     },
     "execution_count": 121,
     "metadata": {},
     "output_type": "execute_result"
    }
   ],
   "source": [
    "type(message_id)"
   ]
  },
  {
   "cell_type": "code",
   "execution_count": 105,
   "id": "a8e25007",
   "metadata": {},
   "outputs": [],
   "source": [
    "text = results.json()['result'][-1]['message']['text'].split(' ', 10)"
   ]
  },
  {
   "cell_type": "code",
   "execution_count": 106,
   "id": "b5d674c5",
   "metadata": {},
   "outputs": [
    {
     "data": {
      "text/plain": [
       "2"
      ]
     },
     "execution_count": 106,
     "metadata": {},
     "output_type": "execute_result"
    }
   ],
   "source": [
    "len(text)"
   ]
  },
  {
   "cell_type": "code",
   "execution_count": 107,
   "id": "502cee95",
   "metadata": {},
   "outputs": [],
   "source": [
    "if (len(text)) == 2:\n",
    "    pass"
   ]
  },
  {
   "cell_type": "code",
   "execution_count": 108,
   "id": "44e29614",
   "metadata": {},
   "outputs": [],
   "source": [
    "word = text[0]"
   ]
  },
  {
   "cell_type": "code",
   "execution_count": 109,
   "id": "e6caabc0",
   "metadata": {},
   "outputs": [],
   "source": [
    "number = text[1]"
   ]
  },
  {
   "cell_type": "code",
   "execution_count": 110,
   "id": "43e701c0",
   "metadata": {},
   "outputs": [],
   "source": [
    "try:\n",
    "    number = float(number)\n",
    "except ValueError:\n",
    "    number = False"
   ]
  },
  {
   "cell_type": "code",
   "execution_count": 111,
   "id": "a9546920",
   "metadata": {},
   "outputs": [
    {
     "data": {
      "text/plain": [
       "123.0"
      ]
     },
     "execution_count": 111,
     "metadata": {},
     "output_type": "execute_result"
    }
   ],
   "source": [
    "number"
   ]
  },
  {
   "cell_type": "code",
   "execution_count": 115,
   "id": "a98c3b8a",
   "metadata": {},
   "outputs": [
    {
     "data": {
      "text/plain": [
       "False"
      ]
     },
     "execution_count": 115,
     "metadata": {},
     "output_type": "execute_result"
    }
   ],
   "source": [
    "type(number) == float"
   ]
  },
  {
   "cell_type": "code",
   "execution_count": null,
   "id": "eb969bb2",
   "metadata": {},
   "outputs": [],
   "source": []
  }
 ],
 "metadata": {
  "kernelspec": {
   "display_name": "Python 3 (ipykernel)",
   "language": "python",
   "name": "python3"
  },
  "language_info": {
   "codemirror_mode": {
    "name": "ipython",
    "version": 3
   },
   "file_extension": ".py",
   "mimetype": "text/x-python",
   "name": "python",
   "nbconvert_exporter": "python",
   "pygments_lexer": "ipython3",
   "version": "3.10.4"
  },
  "toc": {
   "base_numbering": 1,
   "nav_menu": {},
   "number_sections": true,
   "sideBar": true,
   "skip_h1_title": true,
   "title_cell": "Table of Contents",
   "title_sidebar": "Contents",
   "toc_cell": false,
   "toc_position": {},
   "toc_section_display": true,
   "toc_window_display": false
  }
 },
 "nbformat": 4,
 "nbformat_minor": 5
}
