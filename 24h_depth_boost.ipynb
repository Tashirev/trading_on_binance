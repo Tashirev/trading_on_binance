{
 "cells": [
  {
   "cell_type": "markdown",
   "id": "34d6b0af",
   "metadata": {
    "pycharm": {
     "name": "#%% md\n"
    }
   },
   "source": [
    "Модель  бустинга"
   ]
  },
  {
   "cell_type": "markdown",
   "id": "caaa3924",
   "metadata": {
    "pycharm": {
     "name": "#%% md\n"
    }
   },
   "source": [
    "## Импорты библиотек"
   ]
  },
  {
   "cell_type": "code",
   "execution_count": 1,
   "id": "a83ba7b4",
   "metadata": {
    "pycharm": {
     "name": "#%%\n"
    }
   },
   "outputs": [],
   "source": [
    "from develop.augmentation import aug_all\n",
    "from develop.create_labels import create_labels\n",
    "from develop.score import trade\n",
    "\n",
    "import json\n",
    "\n",
    "import pandas as pd\n",
    "import numpy as np\n",
    "import seaborn as sns\n",
    "import matplotlib.pyplot as plt\n",
    "\n",
    "from tqdm import tqdm\n",
    "\n",
    "from sqlalchemy import create_engine, Column, Integer, String, TIMESTAMP, ARRAY\n",
    "from sqlalchemy.ext.declarative import declarative_base\n",
    "from sqlalchemy.orm import sessionmaker\n",
    "from sklearn.preprocessing import StandardScaler, MinMaxScaler\n",
    "from sklearn.model_selection import train_test_split\n",
    "from sklearn.model_selection import cross_val_score\n",
    "\n",
    "from sklearn.utils import shuffle\n",
    "from sklearn.metrics import classification_report\n",
    "from sklearn.metrics import mean_squared_error, mean_absolute_error\n",
    "\n",
    "from sklearn.linear_model import LinearRegression, LogisticRegression\n",
    "from sklearn.linear_model import Lasso, Ridge\n",
    "from sklearn.ensemble import RandomForestRegressor, RandomForestClassifier\n",
    "\n",
    "from catboost import CatBoostRegressor\n",
    "from catboost import CatBoostClassifier\n",
    "\n",
    "from lightgbm import LGBMRegressor, LGBMClassifier\n",
    "\n",
    "\n",
    "pd.set_option(\"display.max_columns\", None)"
   ]
  },
  {
   "cell_type": "markdown",
   "id": "3ba3075d",
   "metadata": {
    "pycharm": {
     "name": "#%% md\n"
    }
   },
   "source": [
    "## Константы"
   ]
  },
  {
   "cell_type": "code",
   "execution_count": 2,
   "id": "70f5762f",
   "metadata": {
    "pycharm": {
     "name": "#%%\n"
    }
   },
   "outputs": [],
   "source": [
    "PAIRS_NAME = ['bnb_btc', 'eth_btc', 'bnb_eth','btc_usdt','eth_usdt','bnb_usdt']\n",
    "LABELS_NAME = [\n",
    "    'label',\n",
    "    'bnb_btc_min',\n",
    "    'bnb_btc_max',\n",
    "    'bnb_btc_min_max',\n",
    "    'eth_btc_min',\n",
    "    'eth_btc_max',\n",
    "    'eth_btc_min_max',\n",
    "    'bnb_eth_min',\n",
    "    'bnb_eth_max',\n",
    "    'bnb_eth_min_max',\n",
    "    'not_buy']"
   ]
  },
  {
   "cell_type": "markdown",
   "id": "65f283dc",
   "metadata": {
    "pycharm": {
     "name": "#%% md\n"
    }
   },
   "source": [
    "## Чтение данных"
   ]
  },
  {
   "cell_type": "code",
   "execution_count": 3,
   "id": "3ec1a0ce",
   "metadata": {
    "pycharm": {
     "name": "#%%\n"
    }
   },
   "outputs": [],
   "source": [
    "def config(service):\n",
    "    with open('develop/config_connect.json', 'r') as f:\n",
    "        config = json.load(f)\n",
    "    if service == 'binance':\n",
    "        config = config['binance']\n",
    "    if service == 'postgres':\n",
    "        config = config['postgres']\n",
    "\n",
    "    return config\n",
    "\n",
    "def config_model():\n",
    "    with open('develop/config_model.json', 'r') as f:\n",
    "        config_model = json.load(f)\n",
    "    random = config_model['RANDOM']\n",
    "    image_length = config_model['IMAGE_LENGTH']\n",
    "    features_length = config_model['FEATURES_LENGTH']\n",
    "    batch_size = config_model['BATCH_SIZE']\n",
    "    epoch = config_model['EPOCH']\n",
    "    fee = config_model['FEE']\n",
    "    slip_n = config_model['SLIP_N']\n",
    "\n",
    "    return random, image_length, features_length, batch_size, epoch, fee, slip_n\n",
    "\n",
    "RANDOM, IMAGE_LENGTH, FEATURES_LENGTH, BATCH_SIZE, EPOCH, FEE, SLIP_N = config_model()\n",
    "\n",
    "config_bin_dev = config('postgres')['binance']\n",
    "engine = create_engine(f\"postgresql+psycopg2://\"\n",
    "                       f\"{config_bin_dev['user_name']}:\"\n",
    "                       f\"{config_bin_dev['password']}@\"\n",
    "                       f\"{config_bin_dev['server']}/\"\n",
    "                       f\"{config_bin_dev['base_name']}\")\n",
    "\n",
    "ticker_price = pd.read_sql_table(table_name='ticker_price',\n",
    "                                    con=engine,\n",
    "                                    schema='public',\n",
    "                                    index_col='id_ticker',\n",
    "                                    columns=PAIRS_NAME)\n",
    "ticker_price = ticker_price.astype('float')\n",
    "ticker_price = ticker_price.sort_index()"
   ]
  },
  {
   "cell_type": "code",
   "execution_count": 4,
   "id": "e32846d6",
   "metadata": {
    "pycharm": {
     "name": "#%%\n"
    }
   },
   "outputs": [],
   "source": [
    "DEPTH = 10 # глубина стакана\n",
    "FEATURES_LENGTH = 10 # длинна феатурес"
   ]
  },
  {
   "cell_type": "code",
   "execution_count": 5,
   "id": "5e14e87f",
   "metadata": {
    "pycharm": {
     "name": "#%%\n"
    }
   },
   "outputs": [
    {
     "name": "stderr",
     "output_type": "stream",
     "text": [
      "100it [00:00, 774.14it/s]\n",
      "100it [00:00, 799.94it/s]\n",
      "100it [00:00, 806.63it/s]\n",
      "100it [00:00, 793.18it/s]\n",
      "100it [00:00, 797.77it/s]\n",
      "100it [00:00, 797.07it/s]\n"
     ]
    },
    {
     "name": "stdout",
     "output_type": "stream",
     "text": [
      "CPU times: total: 37.6 s\n",
      "Wall time: 4min 21s\n"
     ]
    }
   ],
   "source": [
    "%%time\n",
    "\n",
    "for table in ['bnb_btc_depth', 'bnb_eth_depth', 'eth_btc_depth', 'bnb_usdt_depth', 'btc_usdt_depth', 'eth_usdt_depth']:\n",
    "    table_chunk = pd.read_sql_table(table_name=table,\n",
    "                                      con=engine,\n",
    "                                      schema='public',\n",
    "                                      index_col='id_ticker',\n",
    "                                      chunksize=1\n",
    "                                     )\n",
    "    \n",
    "    table_list = list()\n",
    "\n",
    "    for i, chunk in tqdm(enumerate(table_chunk)):\n",
    "        data_df = pd.DataFrame(np.concatenate((np.array(chunk['bids'].iloc[0][:DEPTH])[:,1],\n",
    "                                                               np.array(chunk['asks'].iloc[0][:DEPTH])[:,1])),\n",
    "                                               columns = chunk.index).T.astype(float)\n",
    "        table_list.append(data_df)\n",
    "        if i == 100:\n",
    "            break\n",
    "\n",
    "    table_df = pd.concat(table_list).sort_index()\n",
    "    np.save('features/'+table+'_10_scaler', table_df, allow_pickle=True, fix_imports=True)\n",
    "    del table_chunk, table_list, table_df"
   ]
  },
  {
   "cell_type": "code",
   "execution_count": 8,
   "id": "04496c4e",
   "metadata": {
    "pycharm": {
     "name": "#%%\n"
    }
   },
   "outputs": [
    {
     "data": {
      "text/html": [
       "<div>\n",
       "<style scoped>\n",
       "    .dataframe tbody tr th:only-of-type {\n",
       "        vertical-align: middle;\n",
       "    }\n",
       "\n",
       "    .dataframe tbody tr th {\n",
       "        vertical-align: top;\n",
       "    }\n",
       "\n",
       "    .dataframe thead th {\n",
       "        text-align: right;\n",
       "    }\n",
       "</style>\n",
       "<table border=\"1\" class=\"dataframe\">\n",
       "  <thead>\n",
       "    <tr style=\"text-align: right;\">\n",
       "      <th></th>\n",
       "      <th>0</th>\n",
       "      <th>1</th>\n",
       "      <th>2</th>\n",
       "      <th>3</th>\n",
       "      <th>4</th>\n",
       "      <th>5</th>\n",
       "      <th>6</th>\n",
       "      <th>7</th>\n",
       "      <th>8</th>\n",
       "      <th>9</th>\n",
       "      <th>10</th>\n",
       "      <th>11</th>\n",
       "      <th>12</th>\n",
       "      <th>13</th>\n",
       "      <th>14</th>\n",
       "      <th>15</th>\n",
       "      <th>16</th>\n",
       "      <th>17</th>\n",
       "      <th>18</th>\n",
       "      <th>19</th>\n",
       "    </tr>\n",
       "    <tr>\n",
       "      <th>id_ticker</th>\n",
       "      <th></th>\n",
       "      <th></th>\n",
       "      <th></th>\n",
       "      <th></th>\n",
       "      <th></th>\n",
       "      <th></th>\n",
       "      <th></th>\n",
       "      <th></th>\n",
       "      <th></th>\n",
       "      <th></th>\n",
       "      <th></th>\n",
       "      <th></th>\n",
       "      <th></th>\n",
       "      <th></th>\n",
       "      <th></th>\n",
       "      <th></th>\n",
       "      <th></th>\n",
       "      <th></th>\n",
       "      <th></th>\n",
       "      <th></th>\n",
       "    </tr>\n",
       "  </thead>\n",
       "  <tbody>\n",
       "    <tr>\n",
       "      <th>100</th>\n",
       "      <td>6.3811</td>\n",
       "      <td>32.5267</td>\n",
       "      <td>32.0</td>\n",
       "      <td>2.6298</td>\n",
       "      <td>0.1767</td>\n",
       "      <td>0.678</td>\n",
       "      <td>1.2832</td>\n",
       "      <td>14.6437</td>\n",
       "      <td>1.217</td>\n",
       "      <td>1.075</td>\n",
       "      <td>8.2795</td>\n",
       "      <td>27.6038</td>\n",
       "      <td>0.028</td>\n",
       "      <td>0.1</td>\n",
       "      <td>0.08</td>\n",
       "      <td>0.1</td>\n",
       "      <td>0.6392</td>\n",
       "      <td>0.03</td>\n",
       "      <td>6.3411</td>\n",
       "      <td>0.7349</td>\n",
       "    </tr>\n",
       "  </tbody>\n",
       "</table>\n",
       "</div>"
      ],
      "text/plain": [
       "               0        1     2       3       4      5       6        7   \\\n",
       "id_ticker                                                                  \n",
       "100        6.3811  32.5267  32.0  2.6298  0.1767  0.678  1.2832  14.6437   \n",
       "\n",
       "              8      9       10       11     12   13    14   15      16    17  \\\n",
       "id_ticker                                                                       \n",
       "100        1.217  1.075  8.2795  27.6038  0.028  0.1  0.08  0.1  0.6392  0.03   \n",
       "\n",
       "               18      19  \n",
       "id_ticker                  \n",
       "100        6.3411  0.7349  "
      ]
     },
     "execution_count": 8,
     "metadata": {},
     "output_type": "execute_result"
    }
   ],
   "source": [
    "data_df"
   ]
  },
  {
   "cell_type": "code",
   "execution_count": 13,
   "id": "361456d9",
   "metadata": {
    "pycharm": {
     "name": "#%%\n"
    }
   },
   "outputs": [
    {
     "name": "stderr",
     "output_type": "stream",
     "text": [
      "1057106it [23:11, 759.55it/s]\n",
      "1057350it [23:45, 741.93it/s]\n",
      "1057598it [23:55, 736.72it/s]\n",
      "1057839it [23:49, 739.83it/s]\n",
      "1058081it [23:31, 749.75it/s]\n",
      "1058319it [23:41, 744.77it/s]\n"
     ]
    },
    {
     "name": "stdout",
     "output_type": "stream",
     "text": [
      "CPU times: total: 2h 27min 17s\n",
      "Wall time: 2h 30min 51s\n"
     ]
    }
   ],
   "source": [
    "%%time\n",
    "\n",
    "for table in ['bnb_btc_depth', 'bnb_eth_depth', 'eth_btc_depth', 'bnb_usdt_depth', 'btc_usdt_depth', 'eth_usdt_depth']:\n",
    "    table_chunk = pd.read_sql_table(table_name=table,\n",
    "                                      con=engine,\n",
    "                                      schema='public',\n",
    "                                      index_col='id_ticker',\n",
    "                                      chunksize=1\n",
    "                                     )\n",
    "    \n",
    "    table_list = list()\n",
    "\n",
    "    for i, chunk in tqdm(enumerate(table_chunk)):\n",
    "        table_list.append(pd.DataFrame(np.concatenate((np.array(chunk['bids'].iloc[0][:DEPTH])[:,1],\n",
    "                                                               np.array(chunk['asks'].iloc[0][:DEPTH])[:,1])),\n",
    "                                               columns = chunk.index).T.astype(float))\n",
    "\n",
    "    table_df = pd.concat(table_list).sort_index()\n",
    "    np.save('features/'+table+'_10_scaler', table_df, allow_pickle=True, fix_imports=True)\n",
    "    del table_chunk, table_list, table_df"
   ]
  },
  {
   "cell_type": "code",
   "execution_count": 10,
   "id": "aeb615cd",
   "metadata": {
    "pycharm": {
     "name": "#%%\n"
    }
   },
   "outputs": [],
   "source": [
    "bnb_btc_depth = np.load('features/bnb_btc_depth_10_scaler.npy', mmap_mode=None, allow_pickle=False, fix_imports=True, encoding='ASCII')\n",
    "bnb_eth_depth = np.load('features/bnb_eth_depth_10_scaler.npy', mmap_mode=None, allow_pickle=False, fix_imports=True, encoding='ASCII')\n",
    "eth_btc_depth = np.load('features/eth_btc_depth_10_scaler.npy', mmap_mode=None, allow_pickle=False, fix_imports=True, encoding='ASCII')\n",
    "bnb_usdt_depth = np.load('features/bnb_usdt_depth_10_scaler.npy', mmap_mode=None, allow_pickle=False, fix_imports=True, encoding='ASCII')\n",
    "btc_usdt_depth = np.load('features/btc_usdt_depth_10_scaler.npy', mmap_mode=None, allow_pickle=False, fix_imports=True, encoding='ASCII')\n",
    "eth_usdt_depth = np.load('features/eth_usdt_depth_10_scaler.npy', mmap_mode=None, allow_pickle=False, fix_imports=True, encoding='ASCII')"
   ]
  },
  {
   "cell_type": "code",
   "execution_count": 11,
   "id": "9fc06230",
   "metadata": {
    "pycharm": {
     "name": "#%%\n"
    }
   },
   "outputs": [
    {
     "data": {
      "text/plain": [
       "(101, 20)"
      ]
     },
     "execution_count": 11,
     "metadata": {},
     "output_type": "execute_result"
    }
   ],
   "source": [
    "bnb_btc_depth.shape"
   ]
  },
  {
   "cell_type": "code",
   "execution_count": 6,
   "id": "6840dc43",
   "metadata": {
    "pycharm": {
     "name": "#%%\n"
    }
   },
   "outputs": [
    {
     "name": "stdout",
     "output_type": "stream",
     "text": [
      "<class 'pandas.core.frame.DataFrame'>\n",
      "Int64Index: 1056148 entries, 1 to 1056148\n",
      "Data columns (total 6 columns):\n",
      " #   Column    Non-Null Count    Dtype  \n",
      "---  ------    --------------    -----  \n",
      " 0   bnb_btc   1056148 non-null  float64\n",
      " 1   eth_btc   1056148 non-null  float64\n",
      " 2   bnb_eth   1056148 non-null  float64\n",
      " 3   btc_usdt  1056148 non-null  float64\n",
      " 4   eth_usdt  1056148 non-null  float64\n",
      " 5   bnb_usdt  1056148 non-null  float64\n",
      "dtypes: float64(6)\n",
      "memory usage: 56.4 MB\n"
     ]
    },
    {
     "data": {
      "text/plain": [
       "None"
      ]
     },
     "metadata": {},
     "output_type": "display_data"
    },
    {
     "ename": "NameError",
     "evalue": "name 'bnb_btc_depth' is not defined",
     "output_type": "error",
     "traceback": [
      "\u001B[1;31m---------------------------------------------------------------------------\u001B[0m",
      "\u001B[1;31mNameError\u001B[0m                                 Traceback (most recent call last)",
      "Input \u001B[1;32mIn [6]\u001B[0m, in \u001B[0;36m<cell line: 3>\u001B[1;34m()\u001B[0m\n\u001B[0;32m      1\u001B[0m display(ticker_price\u001B[38;5;241m.\u001B[39minfo())\n\u001B[0;32m      2\u001B[0m \u001B[38;5;66;03m#display(bnb_btc_24hr.info())\u001B[39;00m\n\u001B[1;32m----> 3\u001B[0m \u001B[38;5;28mprint\u001B[39m(\u001B[43mbnb_btc_depth\u001B[49m\u001B[38;5;241m.\u001B[39mshape)\n\u001B[0;32m      4\u001B[0m \u001B[38;5;28mprint\u001B[39m(bnb_eth_depth\u001B[38;5;241m.\u001B[39mshape)\n\u001B[0;32m      5\u001B[0m \u001B[38;5;28mprint\u001B[39m(eth_btc_depth\u001B[38;5;241m.\u001B[39mshape)\n",
      "\u001B[1;31mNameError\u001B[0m: name 'bnb_btc_depth' is not defined"
     ]
    }
   ],
   "source": [
    "display(ticker_price.info())\n",
    "#display(bnb_btc_24hr.info())\n",
    "print(bnb_btc_depth.shape)\n",
    "print(bnb_eth_depth.shape)\n",
    "print(eth_btc_depth.shape)\n",
    "print(bnb_usdt_depth.shape)\n",
    "print(btc_usdt_depth.shape)\n",
    "print(eth_usdt_depth.shape)"
   ]
  },
  {
   "cell_type": "markdown",
   "id": "555ca178",
   "metadata": {
    "pycharm": {
     "name": "#%% md\n"
    }
   },
   "source": [
    "### Выравнивание таблиц по размеру наименьшей таблицы"
   ]
  },
  {
   "cell_type": "code",
   "execution_count": 7,
   "id": "24c64082",
   "metadata": {
    "pycharm": {
     "name": "#%%\n"
    }
   },
   "outputs": [],
   "source": [
    "tables_len = min([ticker_price.shape[0],\n",
    "                  bnb_btc_depth.shape[0],\n",
    "                  bnb_eth_depth.shape[0],\n",
    "                  eth_btc_depth.shape[0],\n",
    "                  bnb_usdt_depth.shape[0],\n",
    "                  btc_usdt_depth.shape[0],\n",
    "                  eth_usdt_depth.shape[0]])\n",
    "\n",
    "ticker_price = ticker_price[:tables_len]\n",
    "bnb_btc_depth = bnb_btc_depth[:tables_len]\n",
    "bnb_eth_depth = bnb_eth_depth[:tables_len]\n",
    "eth_btc_depth = eth_btc_depth[:tables_len]\n",
    "bnb_usdt_depth = bnb_usdt_depth[:tables_len]\n",
    "btc_usdt_depth = btc_usdt_depth[:tables_len]\n",
    "eth_usdt_depth = eth_usdt_depth[:tables_len]"
   ]
  },
  {
   "cell_type": "markdown",
   "id": "467a7790",
   "metadata": {
    "pycharm": {
     "name": "#%% md\n"
    }
   },
   "source": [
    "## Создание выборок"
   ]
  },
  {
   "cell_type": "markdown",
   "id": "ac8556e5",
   "metadata": {
    "pycharm": {
     "name": "#%% md\n"
    }
   },
   "source": [
    "### Выделение валидационной выборки"
   ]
  },
  {
   "cell_type": "raw",
   "id": "c9ada543",
   "metadata": {
    "pycharm": {
     "name": "#%% raw\n"
    }
   },
   "source": [
    "(ticker_price, ticker_price_valid) = train_test_split(ticker_price, test_size=0.50, random_state=RANDOM, shuffle=False)"
   ]
  },
  {
   "cell_type": "code",
   "execution_count": 8,
   "id": "5c2cdbea",
   "metadata": {
    "pycharm": {
     "name": "#%%\n"
    }
   },
   "outputs": [],
   "source": [
    "(ticker_price, ticker_price_valid,\n",
    " bnb_btc_depth, bnb_btc_depth_valid,\n",
    " bnb_eth_depth, bnb_eth_depth_valid,\n",
    " eth_btc_depth, eth_btc_depth_valid,\n",
    " bnb_usdt_depth, bnb_usdt_depth_valid,\n",
    " btc_usdt_depth, btc_usdt_depth_valid,\n",
    " eth_usdt_depth, eth_usdt_depth_valid) = train_test_split(ticker_price,\n",
    "                                                          bnb_btc_depth,\n",
    "                                                          bnb_eth_depth,\n",
    "                                                          eth_btc_depth,\n",
    "                                                          bnb_usdt_depth,\n",
    "                                                          btc_usdt_depth,\n",
    "                                                          eth_usdt_depth,\n",
    "                                                          test_size=0.50, random_state=RANDOM, shuffle=False)"
   ]
  },
  {
   "cell_type": "code",
   "execution_count": 9,
   "id": "09754873",
   "metadata": {
    "pycharm": {
     "name": "#%%\n"
    }
   },
   "outputs": [
    {
     "data": {
      "text/plain": [
       "((350000, 6),\n",
       " (350000, 20),\n",
       " (350000, 20),\n",
       " (350000, 20),\n",
       " (350000, 20),\n",
       " (350000, 20),\n",
       " (350000, 20))"
      ]
     },
     "execution_count": 9,
     "metadata": {},
     "output_type": "execute_result"
    }
   ],
   "source": [
    "(ticker_price.shape, \n",
    " bnb_btc_depth.shape, \n",
    " bnb_eth_depth.shape, \n",
    " eth_btc_depth.shape, \n",
    " bnb_usdt_depth.shape, \n",
    " btc_usdt_depth.shape, \n",
    " eth_usdt_depth.shape)"
   ]
  },
  {
   "cell_type": "code",
   "execution_count": 10,
   "id": "e7766012",
   "metadata": {
    "pycharm": {
     "name": "#%%\n"
    }
   },
   "outputs": [
    {
     "data": {
      "text/plain": [
       "((350001, 6),\n",
       " (350001, 20),\n",
       " (350001, 20),\n",
       " (350001, 20),\n",
       " (350001, 20),\n",
       " (350001, 20),\n",
       " (350001, 20))"
      ]
     },
     "execution_count": 10,
     "metadata": {},
     "output_type": "execute_result"
    }
   ],
   "source": [
    "(ticker_price_valid.shape, \n",
    " bnb_btc_depth_valid.shape, \n",
    " bnb_eth_depth_valid.shape, \n",
    " eth_btc_depth_valid.shape, \n",
    " bnb_usdt_depth_valid.shape, \n",
    " btc_usdt_depth_valid.shape, \n",
    " eth_usdt_depth_valid.shape)"
   ]
  },
  {
   "cell_type": "markdown",
   "id": "ce61e047",
   "metadata": {
    "pycharm": {
     "name": "#%% md\n"
    }
   },
   "source": [
    "## Создание признаков"
   ]
  },
  {
   "cell_type": "markdown",
   "id": "17d14b4f",
   "metadata": {
    "pycharm": {
     "name": "#%% md\n"
    }
   },
   "source": [
    "### Обучающая выборка"
   ]
  },
  {
   "cell_type": "markdown",
   "id": "adc00ba0",
   "metadata": {
    "pycharm": {
     "name": "#%% md\n"
    }
   },
   "source": [
    "#### Создание labels"
   ]
  },
  {
   "cell_type": "code",
   "execution_count": 11,
   "id": "9708ed8d",
   "metadata": {
    "scrolled": true,
    "pycharm": {
     "name": "#%%\n"
    }
   },
   "outputs": [
    {
     "name": "stderr",
     "output_type": "stream",
     "text": [
      "350000it [00:00, 2235684.60it/s]\n",
      "C:\\Users\\denis\\binance\\develop\\create_labels.py:53: SettingWithCopyWarning: \n",
      "A value is trying to be set on a copy of a slice from a DataFrame.\n",
      "Try using .loc[row_indexer,col_indexer] = value instead\n",
      "\n",
      "See the caveats in the documentation: https://pandas.pydata.org/pandas-docs/stable/user_guide/indexing.html#returning-a-view-versus-a-copy\n",
      "  pair_max[pair_name + '_max'] = 1\n",
      "C:\\Users\\denis\\binance\\develop\\create_labels.py:54: SettingWithCopyWarning: \n",
      "A value is trying to be set on a copy of a slice from a DataFrame.\n",
      "Try using .loc[row_indexer,col_indexer] = value instead\n",
      "\n",
      "See the caveats in the documentation: https://pandas.pydata.org/pandas-docs/stable/user_guide/indexing.html#returning-a-view-versus-a-copy\n",
      "  pair_min[pair_name + '_min'] = 1\n",
      "350000it [00:00, 2219637.96it/s]\n",
      "C:\\Users\\denis\\binance\\develop\\create_labels.py:53: SettingWithCopyWarning: \n",
      "A value is trying to be set on a copy of a slice from a DataFrame.\n",
      "Try using .loc[row_indexer,col_indexer] = value instead\n",
      "\n",
      "See the caveats in the documentation: https://pandas.pydata.org/pandas-docs/stable/user_guide/indexing.html#returning-a-view-versus-a-copy\n",
      "  pair_max[pair_name + '_max'] = 1\n",
      "C:\\Users\\denis\\binance\\develop\\create_labels.py:54: SettingWithCopyWarning: \n",
      "A value is trying to be set on a copy of a slice from a DataFrame.\n",
      "Try using .loc[row_indexer,col_indexer] = value instead\n",
      "\n",
      "See the caveats in the documentation: https://pandas.pydata.org/pandas-docs/stable/user_guide/indexing.html#returning-a-view-versus-a-copy\n",
      "  pair_min[pair_name + '_min'] = 1\n",
      "350000it [00:00, 2130512.79it/s]\n",
      "C:\\Users\\denis\\binance\\develop\\create_labels.py:53: SettingWithCopyWarning: \n",
      "A value is trying to be set on a copy of a slice from a DataFrame.\n",
      "Try using .loc[row_indexer,col_indexer] = value instead\n",
      "\n",
      "See the caveats in the documentation: https://pandas.pydata.org/pandas-docs/stable/user_guide/indexing.html#returning-a-view-versus-a-copy\n",
      "  pair_max[pair_name + '_max'] = 1\n",
      "C:\\Users\\denis\\binance\\develop\\create_labels.py:54: SettingWithCopyWarning: \n",
      "A value is trying to be set on a copy of a slice from a DataFrame.\n",
      "Try using .loc[row_indexer,col_indexer] = value instead\n",
      "\n",
      "See the caveats in the documentation: https://pandas.pydata.org/pandas-docs/stable/user_guide/indexing.html#returning-a-view-versus-a-copy\n",
      "  pair_min[pair_name + '_min'] = 1\n"
     ]
    }
   ],
   "source": [
    "labels = create_labels(ticker_price, FEE, SLIP_N)\n",
    "labels = labels['label'].values\n",
    "\n",
    "ticker_price = ticker_price[PAIRS_NAME]"
   ]
  },
  {
   "cell_type": "markdown",
   "id": "522086ec",
   "metadata": {
    "pycharm": {
     "name": "#%% md\n"
    }
   },
   "source": [
    "#### Создание targets\n",
    "Дельта роста цены."
   ]
  },
  {
   "cell_type": "code",
   "execution_count": 12,
   "id": "b1a83db8",
   "metadata": {
    "pycharm": {
     "name": "#%%\n"
    }
   },
   "outputs": [],
   "source": [
    "targets = (ticker_price[['bnb_btc','eth_btc','bnb_eth']].shift(-1) - ticker_price[['bnb_btc','eth_btc','bnb_eth']]) * 100_000 / ticker_price[['bnb_btc','eth_btc','bnb_eth']]"
   ]
  },
  {
   "cell_type": "code",
   "execution_count": 13,
   "id": "11e254c0",
   "metadata": {
    "pycharm": {
     "name": "#%%\n"
    }
   },
   "outputs": [
    {
     "data": {
      "text/plain": [
       "(350000, 3)"
      ]
     },
     "execution_count": 13,
     "metadata": {},
     "output_type": "execute_result"
    }
   ],
   "source": [
    "targets.shape"
   ]
  },
  {
   "cell_type": "markdown",
   "id": "60ef2159",
   "metadata": {
    "pycharm": {
     "name": "#%% md\n"
    }
   },
   "source": [
    "#### Создание features"
   ]
  },
  {
   "cell_type": "markdown",
   "id": "08ffda0c",
   "metadata": {
    "pycharm": {
     "name": "#%% md\n"
    }
   },
   "source": [
    "Стандартизация стакана."
   ]
  },
  {
   "cell_type": "code",
   "execution_count": 14,
   "id": "8a6a4dc8",
   "metadata": {
    "pycharm": {
     "name": "#%%\n"
    }
   },
   "outputs": [],
   "source": [
    "scaler_bnb_btc_depth = StandardScaler()\n",
    "bnb_btc_depth_scaled = scaler_bnb_btc_depth.fit_transform(bnb_btc_depth)\n",
    "\n",
    "scaler_bnb_eth_depth = StandardScaler()\n",
    "bnb_eth_depth_scaled = scaler_bnb_eth_depth.fit_transform(bnb_eth_depth)\n",
    "\n",
    "scaler_eth_btc_depth = StandardScaler()\n",
    "eth_btc_depth_scaled = scaler_eth_btc_depth.fit_transform(eth_btc_depth)\n",
    "\n",
    "scaler_bnb_usdt_depth = StandardScaler()\n",
    "bnb_usdt_depth_scaled = scaler_bnb_usdt_depth.fit_transform(bnb_usdt_depth)\n",
    "\n",
    "scaler_btc_usdt_depth = StandardScaler()\n",
    "btc_usdt_depth_scaled = scaler_btc_usdt_depth.fit_transform(btc_usdt_depth)\n",
    "\n",
    "scaler_eth_usdt_depth = StandardScaler()\n",
    "eth_usdt_depth_scaled = scaler_eth_usdt_depth.fit_transform(eth_usdt_depth)"
   ]
  },
  {
   "cell_type": "markdown",
   "id": "9b0e4ff9",
   "metadata": {
    "pycharm": {
     "name": "#%% md\n"
    }
   },
   "source": [
    "Объединение стакана."
   ]
  },
  {
   "cell_type": "code",
   "execution_count": 15,
   "id": "8ccf5637",
   "metadata": {
    "pycharm": {
     "name": "#%%\n"
    }
   },
   "outputs": [
    {
     "data": {
      "text/plain": [
       "(350000, 120)"
      ]
     },
     "execution_count": 15,
     "metadata": {},
     "output_type": "execute_result"
    }
   ],
   "source": [
    "depth_scaled = np.concatenate((bnb_btc_depth_scaled,\n",
    "                             bnb_eth_depth_scaled, \n",
    "                             eth_btc_depth_scaled,\n",
    "                             bnb_usdt_depth_scaled,\n",
    "                             btc_usdt_depth_scaled,\n",
    "                             eth_usdt_depth_scaled), axis=1)\n",
    "\n",
    "del bnb_btc_depth_scaled, bnb_eth_depth_scaled, eth_btc_depth_scaled, bnb_usdt_depth_scaled, btc_usdt_depth_scaled, eth_usdt_depth_scaled\n",
    "depth_scaled.shape"
   ]
  },
  {
   "cell_type": "markdown",
   "id": "406d321c",
   "metadata": {
    "pycharm": {
     "name": "#%% md\n"
    }
   },
   "source": [
    "Дельта масштабированная."
   ]
  },
  {
   "cell_type": "code",
   "execution_count": 16,
   "id": "4f0505c5",
   "metadata": {
    "pycharm": {
     "name": "#%%\n"
    }
   },
   "outputs": [],
   "source": [
    "ticker_price_delta_scaled = (ticker_price - ticker_price.shift(1)) * 100_000 / ticker_price"
   ]
  },
  {
   "cell_type": "code",
   "execution_count": 17,
   "id": "3b9b9c82",
   "metadata": {
    "pycharm": {
     "name": "#%%\n"
    }
   },
   "outputs": [
    {
     "name": "stderr",
     "output_type": "stream",
     "text": [
      "100%|███████████████████████████████████████████████████████████████████████| 349990/349990 [00:08<00:00, 41753.34it/s]\n"
     ]
    }
   ],
   "source": [
    "ticker_price_features_list = list()\n",
    "\n",
    "for i in tqdm(range(FEATURES_LENGTH, ticker_price_delta_scaled.shape[0])):\n",
    "    \n",
    "    feature = ticker_price_delta_scaled.iloc[i-FEATURES_LENGTH+1:i+1].values.flatten() # .iloc невключая i\n",
    "\n",
    "    \n",
    "    ticker_price_features_list.append(feature)\n",
    "\n",
    "\n",
    "ticker_price_features = np.array(ticker_price_features_list)\n",
    "\n",
    "del ticker_price_features_list, ticker_price_delta_scaled, feature"
   ]
  },
  {
   "cell_type": "code",
   "execution_count": 18,
   "id": "67232d3f",
   "metadata": {
    "pycharm": {
     "name": "#%%\n"
    }
   },
   "outputs": [],
   "source": [
    "depth_scaled = depth_scaled[FEATURES_LENGTH:]\n",
    "labels = labels[FEATURES_LENGTH:]\n",
    "targets = targets[FEATURES_LENGTH:]\n",
    "ticker_price = ticker_price[FEATURES_LENGTH:]"
   ]
  },
  {
   "cell_type": "markdown",
   "id": "952937b2",
   "metadata": {
    "pycharm": {
     "name": "#%% md\n"
    }
   },
   "source": [
    "Объединение признаков."
   ]
  },
  {
   "cell_type": "code",
   "execution_count": 19,
   "id": "d21eb563",
   "metadata": {
    "pycharm": {
     "name": "#%%\n"
    }
   },
   "outputs": [
    {
     "data": {
      "text/plain": [
       "(349990, 180)"
      ]
     },
     "execution_count": 19,
     "metadata": {},
     "output_type": "execute_result"
    }
   ],
   "source": [
    "features = np.concatenate((ticker_price_features, depth_scaled), axis=1)\n",
    "del ticker_price_features, depth_scaled\n",
    "features.shape"
   ]
  },
  {
   "cell_type": "markdown",
   "id": "87c37868",
   "metadata": {
    "pycharm": {
     "name": "#%% md\n"
    }
   },
   "source": [
    "Уадление последней строки с NaN  в targets."
   ]
  },
  {
   "cell_type": "code",
   "execution_count": 20,
   "id": "5c5b5224",
   "metadata": {
    "pycharm": {
     "name": "#%%\n"
    }
   },
   "outputs": [],
   "source": [
    "features = features[:-1]\n",
    "labels = labels[:-1]\n",
    "targets = targets[:-1]\n",
    "ticker_price = ticker_price[:-1]"
   ]
  },
  {
   "cell_type": "markdown",
   "id": "43a7dbff",
   "metadata": {
    "pycharm": {
     "name": "#%% md\n"
    }
   },
   "source": [
    "### Валидационная выборка"
   ]
  },
  {
   "cell_type": "markdown",
   "id": "df0e81bc",
   "metadata": {
    "pycharm": {
     "name": "#%% md\n"
    }
   },
   "source": [
    "#### Создание labels"
   ]
  },
  {
   "cell_type": "code",
   "execution_count": 21,
   "id": "fa708e21",
   "metadata": {
    "pycharm": {
     "name": "#%%\n"
    }
   },
   "outputs": [
    {
     "name": "stderr",
     "output_type": "stream",
     "text": [
      "350001it [00:00, 2389176.84it/s]\n",
      "C:\\Users\\denis\\binance\\develop\\create_labels.py:53: SettingWithCopyWarning: \n",
      "A value is trying to be set on a copy of a slice from a DataFrame.\n",
      "Try using .loc[row_indexer,col_indexer] = value instead\n",
      "\n",
      "See the caveats in the documentation: https://pandas.pydata.org/pandas-docs/stable/user_guide/indexing.html#returning-a-view-versus-a-copy\n",
      "  pair_max[pair_name + '_max'] = 1\n",
      "C:\\Users\\denis\\binance\\develop\\create_labels.py:54: SettingWithCopyWarning: \n",
      "A value is trying to be set on a copy of a slice from a DataFrame.\n",
      "Try using .loc[row_indexer,col_indexer] = value instead\n",
      "\n",
      "See the caveats in the documentation: https://pandas.pydata.org/pandas-docs/stable/user_guide/indexing.html#returning-a-view-versus-a-copy\n",
      "  pair_min[pair_name + '_min'] = 1\n",
      "350001it [00:00, 2272135.12it/s]\n",
      "C:\\Users\\denis\\binance\\develop\\create_labels.py:53: SettingWithCopyWarning: \n",
      "A value is trying to be set on a copy of a slice from a DataFrame.\n",
      "Try using .loc[row_indexer,col_indexer] = value instead\n",
      "\n",
      "See the caveats in the documentation: https://pandas.pydata.org/pandas-docs/stable/user_guide/indexing.html#returning-a-view-versus-a-copy\n",
      "  pair_max[pair_name + '_max'] = 1\n",
      "C:\\Users\\denis\\binance\\develop\\create_labels.py:54: SettingWithCopyWarning: \n",
      "A value is trying to be set on a copy of a slice from a DataFrame.\n",
      "Try using .loc[row_indexer,col_indexer] = value instead\n",
      "\n",
      "See the caveats in the documentation: https://pandas.pydata.org/pandas-docs/stable/user_guide/indexing.html#returning-a-view-versus-a-copy\n",
      "  pair_min[pair_name + '_min'] = 1\n",
      "350001it [00:00, 2100053.07it/s]\n",
      "C:\\Users\\denis\\binance\\develop\\create_labels.py:53: SettingWithCopyWarning: \n",
      "A value is trying to be set on a copy of a slice from a DataFrame.\n",
      "Try using .loc[row_indexer,col_indexer] = value instead\n",
      "\n",
      "See the caveats in the documentation: https://pandas.pydata.org/pandas-docs/stable/user_guide/indexing.html#returning-a-view-versus-a-copy\n",
      "  pair_max[pair_name + '_max'] = 1\n",
      "C:\\Users\\denis\\binance\\develop\\create_labels.py:54: SettingWithCopyWarning: \n",
      "A value is trying to be set on a copy of a slice from a DataFrame.\n",
      "Try using .loc[row_indexer,col_indexer] = value instead\n",
      "\n",
      "See the caveats in the documentation: https://pandas.pydata.org/pandas-docs/stable/user_guide/indexing.html#returning-a-view-versus-a-copy\n",
      "  pair_min[pair_name + '_min'] = 1\n"
     ]
    }
   ],
   "source": [
    "ticker_price_valid['id_ticker'] = range(1,ticker_price_valid.shape[0]+1)\n",
    "ticker_price_valid = ticker_price_valid.set_index('id_ticker')\n",
    "\n",
    "labels_valid = create_labels(ticker_price_valid, FEE, SLIP_N)['label'].values\n",
    "\n",
    "ticker_price_valid = ticker_price_valid[PAIRS_NAME]"
   ]
  },
  {
   "cell_type": "markdown",
   "id": "ad0207c8",
   "metadata": {
    "pycharm": {
     "name": "#%% md\n"
    }
   },
   "source": [
    "#### Создание targets"
   ]
  },
  {
   "cell_type": "markdown",
   "id": "47d435ff",
   "metadata": {
    "pycharm": {
     "name": "#%% md\n"
    }
   },
   "source": [
    "Дельта роста цены."
   ]
  },
  {
   "cell_type": "code",
   "execution_count": 22,
   "id": "e2f6b4a1",
   "metadata": {
    "pycharm": {
     "name": "#%%\n"
    }
   },
   "outputs": [],
   "source": [
    "targets_valid = (ticker_price_valid[['bnb_btc','eth_btc','bnb_eth']].shift(-1) - ticker_price_valid[['bnb_btc','eth_btc','bnb_eth']]) * 100_000 / ticker_price_valid[['bnb_btc','eth_btc','bnb_eth']]"
   ]
  },
  {
   "cell_type": "code",
   "execution_count": 23,
   "id": "2ccf13c6",
   "metadata": {
    "pycharm": {
     "name": "#%%\n"
    }
   },
   "outputs": [
    {
     "data": {
      "text/plain": [
       "(350001, 3)"
      ]
     },
     "execution_count": 23,
     "metadata": {},
     "output_type": "execute_result"
    }
   ],
   "source": [
    "targets_valid.shape"
   ]
  },
  {
   "cell_type": "markdown",
   "id": "6e672e5c",
   "metadata": {
    "pycharm": {
     "name": "#%% md\n"
    }
   },
   "source": [
    "#### Создание features"
   ]
  },
  {
   "cell_type": "markdown",
   "id": "3ae00b6c",
   "metadata": {
    "pycharm": {
     "name": "#%% md\n"
    }
   },
   "source": [
    "Стандартизация стакана."
   ]
  },
  {
   "cell_type": "code",
   "execution_count": 24,
   "id": "a687f778",
   "metadata": {
    "pycharm": {
     "name": "#%%\n"
    }
   },
   "outputs": [],
   "source": [
    "bnb_btc_depth_scaled_valid = scaler_bnb_btc_depth.transform(bnb_btc_depth_valid)\n",
    "\n",
    "bnb_eth_depth_scaled_valid = scaler_bnb_eth_depth.transform(bnb_eth_depth_valid)\n",
    "\n",
    "eth_btc_depth_scaled_valid = scaler_eth_btc_depth.transform(eth_btc_depth_valid)\n",
    "\n",
    "bnb_usdt_depth_scaled_valid = scaler_bnb_usdt_depth.transform(bnb_usdt_depth_valid)\n",
    "\n",
    "btc_usdt_depth_scaled_valid = scaler_btc_usdt_depth.transform(btc_usdt_depth_valid)\n",
    "\n",
    "eth_usdt_depth_scaled_valid = scaler_eth_usdt_depth.transform(eth_usdt_depth_valid)"
   ]
  },
  {
   "cell_type": "markdown",
   "id": "c9769df9",
   "metadata": {
    "pycharm": {
     "name": "#%% md\n"
    }
   },
   "source": [
    "Объединение стакана."
   ]
  },
  {
   "cell_type": "code",
   "execution_count": 25,
   "id": "fec147c4",
   "metadata": {
    "pycharm": {
     "name": "#%%\n"
    }
   },
   "outputs": [
    {
     "data": {
      "text/plain": [
       "(350001, 120)"
      ]
     },
     "execution_count": 25,
     "metadata": {},
     "output_type": "execute_result"
    }
   ],
   "source": [
    "depth_scaled_valid = np.concatenate((bnb_btc_depth_scaled_valid,\n",
    "                                     bnb_eth_depth_scaled_valid, \n",
    "                                     eth_btc_depth_scaled_valid,\n",
    "                                     bnb_usdt_depth_scaled_valid,\n",
    "                                     btc_usdt_depth_scaled_valid,\n",
    "                                     eth_usdt_depth_scaled_valid), axis=1)\n",
    "\n",
    "del bnb_btc_depth_scaled_valid, bnb_eth_depth_scaled_valid, eth_btc_depth_scaled_valid, bnb_usdt_depth_scaled_valid, btc_usdt_depth_scaled_valid, eth_usdt_depth_scaled_valid\n",
    "depth_scaled_valid.shape"
   ]
  },
  {
   "cell_type": "markdown",
   "id": "c4c49381",
   "metadata": {
    "pycharm": {
     "name": "#%% md\n"
    }
   },
   "source": [
    "Дельта масштабированная."
   ]
  },
  {
   "cell_type": "code",
   "execution_count": 26,
   "id": "88cd438e",
   "metadata": {
    "pycharm": {
     "name": "#%%\n"
    }
   },
   "outputs": [],
   "source": [
    "ticker_price_delta_scaled_valid = (ticker_price_valid - ticker_price_valid.shift(1)) * 100_000 / ticker_price_valid"
   ]
  },
  {
   "cell_type": "code",
   "execution_count": 27,
   "id": "2f0cd053",
   "metadata": {
    "pycharm": {
     "name": "#%%\n"
    }
   },
   "outputs": [
    {
     "name": "stderr",
     "output_type": "stream",
     "text": [
      "100%|███████████████████████████████████████████████████████████████████████| 349991/349991 [00:08<00:00, 41600.47it/s]\n"
     ]
    }
   ],
   "source": [
    "ticker_price_features_list_valid = list()\n",
    "\n",
    "for i in tqdm(range(FEATURES_LENGTH, ticker_price_delta_scaled_valid.shape[0])):\n",
    "    \n",
    "    feature = ticker_price_delta_scaled_valid.iloc[i-FEATURES_LENGTH+1:i+1].values.flatten() # .iloc невключая i\n",
    "\n",
    "    \n",
    "    ticker_price_features_list_valid.append(feature)\n",
    "\n",
    "\n",
    "ticker_price_features_valid = np.array(ticker_price_features_list_valid)\n",
    "\n",
    "del ticker_price_features_list_valid, ticker_price_delta_scaled_valid, feature"
   ]
  },
  {
   "cell_type": "code",
   "execution_count": 28,
   "id": "4edeb5aa",
   "metadata": {
    "pycharm": {
     "name": "#%%\n"
    }
   },
   "outputs": [],
   "source": [
    "depth_scaled_valid = depth_scaled_valid[FEATURES_LENGTH:]\n",
    "labels_valid = labels_valid[FEATURES_LENGTH:]\n",
    "targets_valid = targets_valid[FEATURES_LENGTH:]\n",
    "ticker_price_valid = ticker_price_valid[FEATURES_LENGTH:]"
   ]
  },
  {
   "cell_type": "markdown",
   "id": "6dbe9dca",
   "metadata": {
    "pycharm": {
     "name": "#%% md\n"
    }
   },
   "source": [
    "Объединение признаков."
   ]
  },
  {
   "cell_type": "code",
   "execution_count": 29,
   "id": "60adfa5f",
   "metadata": {
    "pycharm": {
     "name": "#%%\n"
    }
   },
   "outputs": [
    {
     "data": {
      "text/plain": [
       "(349991, 180)"
      ]
     },
     "execution_count": 29,
     "metadata": {},
     "output_type": "execute_result"
    }
   ],
   "source": [
    "features_valid = np.concatenate((ticker_price_features_valid, depth_scaled_valid), axis=1)\n",
    "\n",
    "del ticker_price_features_valid, depth_scaled_valid\n",
    "features_valid.shape"
   ]
  },
  {
   "cell_type": "markdown",
   "id": "c2a5ed3b",
   "metadata": {
    "pycharm": {
     "name": "#%% md\n"
    }
   },
   "source": [
    "Уадление последней строки с NaN  в targets."
   ]
  },
  {
   "cell_type": "code",
   "execution_count": 30,
   "id": "c8cf3447",
   "metadata": {
    "pycharm": {
     "name": "#%%\n"
    }
   },
   "outputs": [],
   "source": [
    "features_valid = features_valid[:-1]\n",
    "labels_valid = labels_valid[:-1]\n",
    "targets_valid = targets_valid[:-1]\n",
    "ticker_price_valid = ticker_price_valid[:-1]"
   ]
  },
  {
   "cell_type": "markdown",
   "id": "e9c918f5",
   "metadata": {
    "pycharm": {
     "name": "#%% md\n"
    }
   },
   "source": [
    "## Загрузчик данных"
   ]
  },
  {
   "cell_type": "markdown",
   "id": "783e8a69",
   "metadata": {
    "pycharm": {
     "name": "#%% md\n"
    }
   },
   "source": [
    "### Дисбаланс целевой функции для классификации"
   ]
  },
  {
   "cell_type": "code",
   "execution_count": 31,
   "id": "08674220",
   "metadata": {
    "pycharm": {
     "name": "#%%\n"
    }
   },
   "outputs": [
    {
     "name": "stdout",
     "output_type": "stream",
     "text": [
      "[0 1 2 3 4 5 6] [347429    461    465    261    257    562    554]\n"
     ]
    }
   ],
   "source": [
    "values, counts = np.unique(labels, return_counts=True)\n",
    "print(values, counts)"
   ]
  },
  {
   "cell_type": "code",
   "execution_count": 32,
   "id": "644c7fde",
   "metadata": {
    "pycharm": {
     "name": "#%%\n"
    }
   },
   "outputs": [
    {
     "name": "stderr",
     "output_type": "stream",
     "text": [
      "100%|████████████████████████████████████████████████████████████████████████████████████| 5/5 [00:00<00:00,  9.95it/s]\n"
     ]
    }
   ],
   "source": [
    "i, = np.where(labels == 1)\n",
    "features_1 = features[i]\n",
    "labels_1 = labels[i]\n",
    "i, = np.where(labels == 2)\n",
    "features_2 = features[i]\n",
    "labels_2 = labels[i]\n",
    "i, = np.where(labels == 3)\n",
    "features_3 = features[i]\n",
    "labels_3 = labels[i]\n",
    "i, = np.where(labels == 4)\n",
    "features_4 = features[i]\n",
    "labels_4 = labels[i]\n",
    "i, = np.where(labels == 5)\n",
    "features_5 = features[i]\n",
    "labels_5 = labels[i]\n",
    "i, = np.where(labels == 6)\n",
    "features_6 = features[i]\n",
    "labels_6 = labels[i]\n",
    "\n",
    "\n",
    "for i in tqdm(range(5)):\n",
    "   \n",
    " #    features = np.concatenate((features, features_3, features_4), axis=0)\n",
    " #    labels = np.concatenate((labels, labels_3, labels_4), axis=0)\n",
    "    features = np.concatenate((features, features_1, features_2, features_3, features_3, features_4, features_4, features_5, features_6), axis=0)\n",
    "    labels = np.concatenate((labels, labels_1, labels_2, labels_3, labels_3, labels_4, labels_4, labels_5, labels_6), axis=0)\n"
   ]
  },
  {
   "cell_type": "code",
   "execution_count": 33,
   "id": "44a0c5e8",
   "metadata": {
    "pycharm": {
     "name": "#%%\n"
    }
   },
   "outputs": [
    {
     "name": "stdout",
     "output_type": "stream",
     "text": [
      "[0 1 2 3 4 5 6] [347429   2766   2790   2871   2827   3372   3324]\n"
     ]
    }
   ],
   "source": [
    "values, counts = np.unique(labels, return_counts=True)\n",
    "print(values, counts)"
   ]
  },
  {
   "cell_type": "code",
   "execution_count": 34,
   "id": "849b4eec",
   "metadata": {
    "pycharm": {
     "name": "#%%\n"
    }
   },
   "outputs": [
    {
     "data": {
      "text/plain": [
       "((365379, 180), (349989, 3), (365379,))"
      ]
     },
     "execution_count": 34,
     "metadata": {},
     "output_type": "execute_result"
    }
   ],
   "source": [
    "features.shape, targets.shape, labels.shape"
   ]
  },
  {
   "cell_type": "code",
   "execution_count": 35,
   "id": "bc7c0ecf",
   "metadata": {
    "pycharm": {
     "name": "#%%\n"
    }
   },
   "outputs": [
    {
     "name": "stdout",
     "output_type": "stream",
     "text": [
      "features memory usage 0.5 GB\n"
     ]
    }
   ],
   "source": [
    "print(f'features memory usage {(features.nbytes/1_000_000_000):.1f} GB')"
   ]
  },
  {
   "cell_type": "markdown",
   "id": "5c2931bd",
   "metadata": {
    "pycharm": {
     "name": "#%% md\n"
    }
   },
   "source": [
    "### Перемешивание признаков"
   ]
  },
  {
   "cell_type": "code",
   "execution_count": 36,
   "id": "1792b534",
   "metadata": {
    "pycharm": {
     "name": "#%%\n"
    }
   },
   "outputs": [
    {
     "name": "stderr",
     "output_type": "stream",
     "text": [
      "100%|████████████████████████████████████████████████████████████████████████████████████| 2/2 [00:00<00:00,  5.38it/s]\n"
     ]
    }
   ],
   "source": [
    "for i in tqdm(range (2)):\n",
    "    features, labels = shuffle(features, labels, random_state=RANDOM*i)"
   ]
  },
  {
   "cell_type": "markdown",
   "id": "1516d1a3",
   "metadata": {
    "pycharm": {
     "name": "#%% md\n"
    }
   },
   "source": [
    "### DataLoader"
   ]
  },
  {
   "cell_type": "markdown",
   "id": "37903339",
   "metadata": {
    "pycharm": {
     "name": "#%% md\n"
    }
   },
   "source": [
    "#### train"
   ]
  },
  {
   "cell_type": "raw",
   "id": "8086bc03",
   "metadata": {
    "pycharm": {
     "name": "#%% raw\n"
    }
   },
   "source": [
    "X_tensor = torch.tensor(X_scaled.astype('float32'))\n",
    "#X_delta_maxmin_tensor = torch.tensor(X_delta_maxmin.astype('float32'))\n",
    "y_tensor = torch.tensor(labels).type(torch.LongTensor)\n",
    "\n",
    "#train = data_utils.TensorDataset(X_tensor, X_delta_maxmin_tensor, y_tensor)\n",
    "train = data_utils.TensorDataset(X_tensor, y_tensor)\n",
    "train_loader = data_utils.DataLoader(train, batch_size=BATCH_SIZE, shuffle=False)"
   ]
  },
  {
   "cell_type": "markdown",
   "id": "29e0e49c",
   "metadata": {
    "pycharm": {
     "name": "#%% md\n"
    }
   },
   "source": [
    "#### valid"
   ]
  },
  {
   "cell_type": "raw",
   "id": "40b05172",
   "metadata": {
    "pycharm": {
     "name": "#%% raw\n"
    }
   },
   "source": [
    "X_valid_tensor = torch.tensor(X_scaled_valid.astype('float32'))\n",
    "#X_delta_maxmin_valid_tensor = torch.tensor(X_delta_maxmin_valid.astype('float32')).to('cuda')\n",
    "y_valid_tensor = torch.tensor(labels_valid).type(torch.LongTensor)\n",
    "\n",
    "#valid = data_utils.TensorDataset(X_valid_tensor, X_delta_maxmin_valid_tensor, y_valid_tensor)\n",
    "valid = data_utils.TensorDataset(X_valid_tensor, y_valid_tensor)\n",
    "valid_loader = data_utils.DataLoader(valid, batch_size=512, shuffle=False)"
   ]
  },
  {
   "cell_type": "markdown",
   "id": "16db407a",
   "metadata": {
    "pycharm": {
     "name": "#%% md\n"
    }
   },
   "source": [
    "## Обрезка выборок для ускорения"
   ]
  },
  {
   "cell_type": "raw",
   "id": "dc97305e",
   "metadata": {
    "pycharm": {
     "name": "#%% raw\n"
    }
   },
   "source": [
    "features = features[:100_000]\n",
    "targets = targets[:100_000]\n",
    "labels = labels[:100_000]"
   ]
  },
  {
   "cell_type": "code",
   "execution_count": 37,
   "id": "2f6c4a53",
   "metadata": {
    "scrolled": true,
    "pycharm": {
     "name": "#%%\n"
    }
   },
   "outputs": [
    {
     "data": {
      "text/plain": [
       "bnb_btc    11.113691\n",
       "eth_btc     7.509982\n",
       "bnb_eth    13.810872\n",
       "dtype: float64"
      ]
     },
     "execution_count": 37,
     "metadata": {},
     "output_type": "execute_result"
    }
   ],
   "source": [
    "abs(targets).mean()"
   ]
  },
  {
   "cell_type": "code",
   "execution_count": 38,
   "id": "c643db09",
   "metadata": {
    "pycharm": {
     "name": "#%%\n"
    }
   },
   "outputs": [
    {
     "data": {
      "text/plain": [
       "bnb_btc    8.127511\n",
       "eth_btc    3.163396\n",
       "bnb_eth    9.839535\n",
       "dtype: float64"
      ]
     },
     "execution_count": 38,
     "metadata": {},
     "output_type": "execute_result"
    }
   ],
   "source": [
    "abs(targets_valid).mean()"
   ]
  },
  {
   "cell_type": "markdown",
   "id": "ba6b4739",
   "metadata": {
    "pycharm": {
     "name": "#%% md\n"
    }
   },
   "source": [
    "## Модель линейной регрессии c L1-регуляризацией (Lasso)"
   ]
  },
  {
   "cell_type": "markdown",
   "id": "ff65d80c",
   "metadata": {
    "pycharm": {
     "name": "#%% md\n"
    }
   },
   "source": [
    "### bnb_btc"
   ]
  },
  {
   "cell_type": "raw",
   "id": "80737ae7",
   "metadata": {
    "pycharm": {
     "name": "#%% raw\n"
    }
   },
   "source": [
    "%%time\n",
    "\n",
    "best_lasso_model = None\n",
    "best_score_rmse = 20000  # 20000 заведомо выше оценки\n",
    "\n",
    "for i_tol in range(60, 160,20):\n",
    "    for i_alpha in tqdm(range(1, 100, 20)):\n",
    "        lasso_model = Lasso(alpha=i_alpha*0.01, tol=i_tol*0.001, random_state=RANDOM)\n",
    "        lasso_model.fit(features, targets['bnb_btc'])\n",
    "        score_rmse = mean_squared_error(targets_valid['bnb_btc'], lasso_model.predict(features_valid)) ** 0.5\n",
    "        if score_rmse < best_score_rmse:\n",
    "            best_lasso_model = lasso_model\n",
    "            best_score_rmse = score_rmse\n",
    "        \n",
    "print(f'\\nЛучшая модель линейной регрессии L1: {best_lasso_model}\\n'\n",
    "      f'Значение RMSE полученное на валидации для лучшей линейной регрессии L1 : {best_score_rmse}')"
   ]
  },
  {
   "cell_type": "markdown",
   "id": "ce013c2c",
   "metadata": {
    "pycharm": {
     "name": "#%% md\n"
    }
   },
   "source": [
    "## Модель линейной регрессии c L2-регуляризацией (Ridge)"
   ]
  },
  {
   "cell_type": "markdown",
   "id": "6cf5546d",
   "metadata": {
    "pycharm": {
     "name": "#%% md\n"
    }
   },
   "source": [
    "### bnb_btc"
   ]
  },
  {
   "cell_type": "raw",
   "id": "3e7f6ce9",
   "metadata": {
    "pycharm": {
     "name": "#%% raw\n"
    }
   },
   "source": [
    "%%time\n",
    "\n",
    "best_ridge_model = None\n",
    "best_score_rmse = 20000  # 20000 заведомо выше оценки\n",
    "\n",
    "for i_tol in range(1, 100,20):\n",
    "    for i_alpha in tqdm(range(60, 160, 20)):\n",
    "        ridge_model = Ridge(alpha=i_alpha*0.01, tol=i_tol*0.00001, random_state=RANDOM)\n",
    "        ridge_model.fit(features, targets['bnb_btc'])\n",
    "        score_rmse = mean_squared_error(targets_valid['bnb_btc'], ridge_model.predict(features_valid)) ** 0.5\n",
    "        score_mae = mean_absolute_error(targets_valid['bnb_btc'], ridge_model.predict(features_valid))\n",
    "        if score_rmse < best_score_rmse:\n",
    "            best_ridge_model = ridge_model\n",
    "            best_score_rmse = score_rmse\n",
    "        print(f'mae = {score_mae}, rmse = {score_rmse}')\n",
    "        \n",
    "print(f'\\nЛучшая модель линейной регрессии L2: {best_ridge_model}\\n'\n",
    "      f'Значение RMSE полученное на валидации для лучшей линейной регрессии L2: {best_score_rmse}')"
   ]
  },
  {
   "cell_type": "raw",
   "id": "076d43b3",
   "metadata": {
    "pycharm": {
     "name": "#%% raw\n"
    }
   },
   "source": [
    "mae = 12.7, rmse = 26.4"
   ]
  },
  {
   "cell_type": "raw",
   "id": "9b9a61b6",
   "metadata": {
    "pycharm": {
     "name": "#%% raw\n"
    }
   },
   "source": [
    "predict = best_ridge_model.predict(features_valid)"
   ]
  },
  {
   "cell_type": "raw",
   "id": "5e5ae0a4",
   "metadata": {
    "pycharm": {
     "name": "#%% raw\n"
    }
   },
   "source": [
    "targets_valid['bnb_btc']"
   ]
  },
  {
   "cell_type": "raw",
   "id": "fa4d4236",
   "metadata": {
    "pycharm": {
     "name": "#%% raw\n"
    }
   },
   "source": [
    "sns.lineplot"
   ]
  },
  {
   "cell_type": "markdown",
   "id": "bcaab6cf",
   "metadata": {
    "pycharm": {
     "name": "#%% md\n"
    }
   },
   "source": [
    "## Случайный лес RandomForest"
   ]
  },
  {
   "cell_type": "markdown",
   "id": "dd145b60",
   "metadata": {
    "pycharm": {
     "name": "#%% md\n"
    }
   },
   "source": [
    "### bnb_btc"
   ]
  },
  {
   "cell_type": "raw",
   "id": "d64412dc",
   "metadata": {
    "pycharm": {
     "name": "#%% raw\n"
    }
   },
   "source": [
    "%%time\n",
    "\n",
    "best_forest_model = None\n",
    "best_score_rmse = 20000  # 20000 заведомо выше оценки\n",
    "\n",
    "for depth in tqdm(range(3,31, 3)):\n",
    "    forest_model = RandomForestRegressor(max_depth = depth, n_estimators=100, random_state=RANDOM, n_jobs=-1)\n",
    "    forest_model.fit(features, targets['bnb_btc'])\n",
    "    score_rmse = mean_squared_error(targets_valid['bnb_btc'], forest_model.predict(features_valid)) ** 0.5\n",
    "    if score_rmse < best_score_rmse:\n",
    "        best_forest_model = forest_model\n",
    "        best_score_rmse = score_rmse\n",
    "    print('******************')\n",
    "    print(f'depth {depth}')\n",
    "    print(f'score_rmse {score_rmse}')\n",
    "        \n",
    "print(f'\\nЛучшая модель случайного леса: {best_forest_model}\\n'\n",
    "      f'Значение RMSE полученное на валидации для лучшего случайного леса: {best_score_rmse}')"
   ]
  },
  {
   "cell_type": "markdown",
   "id": "3c1d74a9",
   "metadata": {
    "pycharm": {
     "name": "#%% md\n"
    }
   },
   "source": [
    "### eth_btc"
   ]
  },
  {
   "cell_type": "raw",
   "id": "a2fd443b",
   "metadata": {
    "pycharm": {
     "name": "#%% raw\n"
    }
   },
   "source": [
    "%%time\n",
    "\n",
    "best_forest_model = None\n",
    "best_score_rmse = 20000  # 20000 заведомо выше оценки\n",
    "\n",
    "for depth in tqdm(range(3,31, 3)):\n",
    "    forest_model = RandomForestRegressor(max_depth = depth, n_estimators=100, random_state=RANDOM, n_jobs=-1)\n",
    "    forest_model.fit(features, targets['eth_btc'])\n",
    "    score_rmse = mean_squared_error(targets_valid['eth_btc'], forest_model.predict(features_valid)) ** 0.5\n",
    "    if score_rmse < best_score_rmse:\n",
    "        best_forest_model = forest_model\n",
    "        best_score_rmse = score_rmse\n",
    "    print('******************')\n",
    "    print(f'depth {depth}')\n",
    "    print(f'score_rmse {score_rmse}')\n",
    "        \n",
    "print(f'\\nЛучшая модель случайного леса: {best_forest_model}\\n'\n",
    "      f'Значение RMSE полученное на валидации для лучшего случайного леса: {best_score_rmse}')"
   ]
  },
  {
   "cell_type": "markdown",
   "id": "59d0386b",
   "metadata": {
    "pycharm": {
     "name": "#%% md\n"
    }
   },
   "source": [
    "### bnb_eth"
   ]
  },
  {
   "cell_type": "raw",
   "id": "bf6d73a9",
   "metadata": {
    "pycharm": {
     "name": "#%% raw\n"
    }
   },
   "source": [
    "%%time\n",
    "\n",
    "best_forest_model = None\n",
    "best_score_rmse = 20000  # 20000 заведомо выше оценки\n",
    "\n",
    "for depth in tqdm(range(3,31, 3)):\n",
    "    forest_model = RandomForestRegressor(max_depth = depth, n_estimators=100, random_state=RANDOM, n_jobs=-1)\n",
    "    forest_model.fit(features, targets['bnb_eth'])\n",
    "    score_rmse = mean_squared_error(targets_valid['bnb_eth'], forest_model.predict(features_valid)) ** 0.5\n",
    "    if score_rmse < best_score_rmse:\n",
    "        best_forest_model = forest_model\n",
    "        best_score_rmse = score_rmse\n",
    "    print('******************')\n",
    "    print(f'depth {depth}')\n",
    "    print(f'score_rmse {score_rmse}')\n",
    "        \n",
    "print(f'\\nЛучшая модель случайного леса: {best_forest_model}\\n'\n",
    "      f'Значение RMSE полученное на валидации для лучшего случайного леса: {best_score_rmse}')"
   ]
  },
  {
   "cell_type": "markdown",
   "id": "ec2f1589",
   "metadata": {
    "pycharm": {
     "name": "#%% md\n"
    }
   },
   "source": [
    "## Модель CatBoostRegressor CPU"
   ]
  },
  {
   "cell_type": "markdown",
   "id": "bb6aba5e",
   "metadata": {
    "pycharm": {
     "name": "#%% md\n"
    }
   },
   "source": [
    "### bnb_btc"
   ]
  },
  {
   "cell_type": "raw",
   "id": "ed751827",
   "metadata": {
    "pycharm": {
     "name": "#%% raw\n"
    }
   },
   "source": [
    "%%time\n",
    "\n",
    "best_catb_cpu_model = None\n",
    "best_score_rmse = 30000  # 300 заведомо выше оценки\n",
    "\n",
    "for iterations in range(600, 601, 100):\n",
    "    for depth in tqdm(range(6, 7, 2)):\n",
    "        catb_cpu_model = CatBoostRegressor(iterations=iterations, \n",
    "                                       max_depth=depth, \n",
    "                                       learning_rate=1, \n",
    "                                       random_state=RANDOM, \n",
    "                                       verbose=False,\n",
    "                                       task_type=\"CPU\")\n",
    "        catb_cpu_model.fit(features, targets['bnb_btc'])\n",
    "        score_rmse = mean_squared_error(targets_valid['bnb_btc'], \n",
    "                                        catb_cpu_model.predict(features_valid)) ** 0.5\n",
    "        if score_rmse < best_score_rmse:\n",
    "            best_catb_cpu_model = catb_cpu_model\n",
    "            best_score_rmse = score_rmse\n",
    "        print('******************')\n",
    "        print(f'iterations {catb_cpu_model.get_all_params()[\"iterations\"]}, max_depth {catb_cpu_model.get_all_params()[\"depth\"]}')\n",
    "        print(f'score_rmse {score_rmse}')\n",
    "        \n",
    "print(f'\\nЛучшая модель CatBoostRegressor: {best_catb_cpu_model}\\n'\n",
    "      f'Значение RMSE полученное на валидации для лучшего CatBoostRegressor: {best_score_rmse}')"
   ]
  },
  {
   "cell_type": "markdown",
   "id": "36e4b8a1",
   "metadata": {
    "pycharm": {
     "name": "#%% md\n"
    }
   },
   "source": [
    "### GPU"
   ]
  },
  {
   "cell_type": "raw",
   "id": "4f950f6f",
   "metadata": {
    "pycharm": {
     "name": "#%% raw\n"
    }
   },
   "source": [
    "%%time\n",
    "\n",
    "best_catb_cpu_model = None\n",
    "best_score_rmse = 30000  # 300 заведомо выше оценки\n",
    "\n",
    "for iterations in range(600, 601, 100):\n",
    "    for depth in tqdm(range(6, 21, 2)):\n",
    "        catb_cpu_model = CatBoostRegressor(iterations=iterations, \n",
    "                                       max_depth=depth, \n",
    "                                       learning_rate=1, \n",
    "                                       random_state=RANDOM, \n",
    "                                       verbose=False,\n",
    "                                       task_type=\"GPU\")\n",
    "        catb_cpu_model.fit(features, targets['bnb_btc'])\n",
    "        score_rmse = mean_squared_error(targets_valid['bnb_btc'], \n",
    "                                        catb_cpu_model.predict(features_valid)) ** 0.5\n",
    "        if score_rmse < best_score_rmse:\n",
    "            best_catb_cpu_model = catb_cpu_model\n",
    "            best_score_rmse = score_rmse\n",
    "        print('******************')\n",
    "        print(f'iterations {catb_cpu_model.get_all_params()[\"iterations\"]}, max_depth {catb_cpu_model.get_all_params()[\"depth\"]}')\n",
    "        print(f'score_rmse {score_rmse}')\n",
    "        \n",
    "print(f'\\nЛучшая модель CatBoostRegressor: {best_catb_cpu_model}\\n'\n",
    "      f'Значение RMSE полученное на валидации для лучшего CatBoostRegressor: {best_score_rmse}')"
   ]
  },
  {
   "cell_type": "markdown",
   "id": "6e71d379",
   "metadata": {
    "pycharm": {
     "name": "#%% md\n"
    }
   },
   "source": [
    "### eth_btc"
   ]
  },
  {
   "cell_type": "raw",
   "id": "d810c5b2",
   "metadata": {
    "pycharm": {
     "name": "#%% raw\n"
    }
   },
   "source": [
    "%%time\n",
    "\n",
    "best_catb_cpu_model = None\n",
    "best_score_rmse = 300  # 300 заведомо выше оценки\n",
    "\n",
    "for iterations in range(600, 801, 100):\n",
    "    for depth in tqdm(range(6, 17, 2)):\n",
    "        catb_cpu_model = CatBoostRegressor(iterations=iterations, \n",
    "                                       max_depth=depth, \n",
    "                                       learning_rate=1, \n",
    "                                       random_state=RANDOM, \n",
    "                                       verbose=False,\n",
    "                                       task_type=\"CPU\")\n",
    "        catb_cpu_model.fit(features, targets['eth_btc'])\n",
    "        score_rmse = mean_squared_error(targets_valid['eth_btc'], \n",
    "                                        catb_cpu_model.predict(features_valid)) ** 0.5\n",
    "        if score_rmse < best_score_rmse:\n",
    "            best_catb_cpu_model = catb_cpu_model\n",
    "            best_score_rmse = score_rmse\n",
    "        \n",
    "print(f'\\nЛучшая модель CatBoostRegressor: {best_catb_cpu_model}\\n'\n",
    "      f'Значение RMSE полученное на валидации для лучшего CatBoostRegressor: {best_score_rmse}')"
   ]
  },
  {
   "cell_type": "markdown",
   "id": "66549eb9",
   "metadata": {
    "pycharm": {
     "name": "#%% md\n"
    }
   },
   "source": [
    "### bnb_eth"
   ]
  },
  {
   "cell_type": "raw",
   "id": "93f187a3",
   "metadata": {
    "pycharm": {
     "name": "#%% raw\n"
    }
   },
   "source": [
    "%%time\n",
    "\n",
    "best_catb_cpu_model = None\n",
    "best_score_rmse = 300  # 300 заведомо выше оценки\n",
    "\n",
    "for iterations in range(600, 801, 100):\n",
    "    for depth in tqdm(range(6, 17, 2)):\n",
    "        catb_cpu_model = CatBoostRegressor(iterations=iterations, \n",
    "                                       max_depth=depth, \n",
    "                                       learning_rate=1, \n",
    "                                       random_state=RANDOM, \n",
    "                                       verbose=False,\n",
    "                                       task_type=\"CPU\")\n",
    "        catb_cpu_model.fit(features, targets['bnb_eth'])\n",
    "        score_rmse = mean_squared_error(targets_valid['bnb_eth'], \n",
    "                                        catb_cpu_model.predict(features_valid)) ** 0.5\n",
    "        if score_rmse < best_score_rmse:\n",
    "            best_catb_cpu_model = catb_cpu_model\n",
    "            best_score_rmse = score_rmse\n",
    "        \n",
    "print(f'\\nЛучшая модель CatBoostRegressor: {best_catb_cpu_model}\\n'\n",
    "      f'Значение RMSE полученное на валидации для лучшего CatBoostRegressor: {best_score_rmse}')"
   ]
  },
  {
   "cell_type": "markdown",
   "id": "748ce601",
   "metadata": {
    "pycharm": {
     "name": "#%% md\n"
    }
   },
   "source": [
    "## Модель LGBMRegressor CPU"
   ]
  },
  {
   "cell_type": "markdown",
   "id": "63317b34",
   "metadata": {
    "pycharm": {
     "name": "#%% md\n"
    }
   },
   "source": [
    "### bnb_btc"
   ]
  },
  {
   "cell_type": "raw",
   "id": "db8904d6",
   "metadata": {
    "pycharm": {
     "name": "#%% raw\n"
    }
   },
   "source": [
    "%%time\n",
    "\n",
    "best_lgbm_cpu_model = None\n",
    "best_score_rmse = 300  # 300 заведомо выше оценки\n",
    "\n",
    "for iterations in range(600, 1001, 100):\n",
    "    for min_child_samples in range(10, 201, 10):\n",
    "        for depth in tqdm(range(6, 31, 5)):\n",
    "            lgbm_cpu_model = LGBMRegressor(n_estimators=iterations, \n",
    "                                       max_depth=depth, \n",
    "                                       #num_leaves=2**depth, \n",
    "                                       min_child_samples=min_child_samples, \n",
    "                                       random_state=RANDOM, \n",
    "                                       n_jobs=-1,\n",
    "                                       device='cpu')\n",
    "            lgbm_cpu_model.fit(features, targets['bnb_btc'])\n",
    "            score_rmse = mean_squared_error(targets_valid['bnb_btc'], \n",
    "                                            lgbm_cpu_model.predict(features_valid)) ** 0.5\n",
    "            if score_rmse < best_score_rmse:\n",
    "                best_lgbm_cpu_model = lgbm_cpu_model\n",
    "                best_score_rmse = score_rmse\n",
    "            print('******************')\n",
    "            print(f'n_estimators {lgbm_cpu_model.n_estimators}, min_child_samples {lgbm_cpu_model.min_child_samples}, max_depth {lgbm_cpu_model.max_depth}')\n",
    "            print(f'score_rmse {score_rmse}')\n",
    "        \n",
    "print(f'\\nЛучшая модель LGBMRegressor: {best_lgbm_cpu_model}\\n'\n",
    "      f'Значение RMSE полученное на валидации для лучшего LGBMRegressor: {best_score_rmse}')"
   ]
  },
  {
   "cell_type": "raw",
   "id": "a60685c3",
   "metadata": {
    "pycharm": {
     "name": "#%% raw\n"
    }
   },
   "source": [
    "n_estimators 1000, min_child_samples 200, max_depth 26\n",
    "score_rmse 26.29113145163282\n",
    "\n",
    "Лучшая модель LGBMRegressor: LGBMRegressor(device='cpu', max_depth=11, min_child_samples=50,\n",
    "              n_estimators=900, random_state=1111)\n",
    "Значение RMSE полученное на валидации для лучшего LGBMRegressor: 26.182509463110282\n",
    "CPU times: total: 2d 9h 13min 13s\n",
    "Wall time: 5h 20min 30s"
   ]
  },
  {
   "cell_type": "markdown",
   "id": "22264be4",
   "metadata": {
    "pycharm": {
     "name": "#%% md\n"
    }
   },
   "source": [
    "### GPU"
   ]
  },
  {
   "cell_type": "raw",
   "id": "12ca30c1",
   "metadata": {
    "pycharm": {
     "name": "#%% raw\n"
    }
   },
   "source": [
    "%%time\n",
    "\n",
    "best_lgbm_cpu_model = None\n",
    "best_score_rmse = 300  # 300 заведомо выше оценки\n",
    "\n",
    "for iterations in range(600, 601, 100):\n",
    "    for min_child_samples in range(100, 101, 10):\n",
    "        for depth in tqdm(range(6, 11, 2)):\n",
    "            lgbm_cpu_model = LGBMRegressor(n_estimators=iterations, \n",
    "                                       max_depth=depth, \n",
    "                                       num_leaves=2**depth, \n",
    "                                       min_child_samples=min_child_samples, \n",
    "                                       random_state=RANDOM, \n",
    "                                       n_jobs=-1,\n",
    "                                       device='gpu')\n",
    "            lgbm_cpu_model.fit(features, targets['bnb_btc'])\n",
    "            score_rmse = mean_squared_error(targets_valid['bnb_btc'], \n",
    "                                            lgbm_cpu_model.predict(features_valid)) ** 0.5\n",
    "            if score_rmse < best_score_rmse:\n",
    "                best_lgbm_cpu_model = lgbm_cpu_model\n",
    "                best_score_rmse = score_rmse\n",
    "            print('******************')\n",
    "            print(f'n_estimators {lgbm_cpu_model.n_estimators}, min_child_samples {lgbm_cpu_model.min_child_samples}, max_depth {lgbm_cpu_model.max_depth}')\n",
    "            print(f'score_rmse {score_rmse}')\n",
    "        \n",
    "print(f'\\nЛучшая модель LGBMRegressor: {best_lgbm_cpu_model}\\n'\n",
    "      f'Значение RMSE полученное на валидации для лучшего LGBMRegressor: {best_score_rmse}')"
   ]
  },
  {
   "cell_type": "markdown",
   "id": "57030563",
   "metadata": {
    "pycharm": {
     "name": "#%% md\n"
    }
   },
   "source": [
    "### eth_btc"
   ]
  },
  {
   "cell_type": "raw",
   "id": "d67bbe30",
   "metadata": {
    "pycharm": {
     "name": "#%% raw\n"
    }
   },
   "source": [
    "%%time\n",
    "\n",
    "best_lgbm_cpu_model = None\n",
    "best_score_rmse = 300  # 300 заведомо выше оценки\n",
    "\n",
    "for iterations in range(600, 1001, 100):\n",
    "    for min_child_samples in range(10, 201, 10):\n",
    "        for depth in tqdm(range(6, 31, 5)):\n",
    "            lgbm_cpu_model = LGBMRegressor(n_estimators=iterations, \n",
    "                                       max_depth=depth, \n",
    "                                       #num_leaves=2**depth, \n",
    "                                       min_child_samples=min_child_samples, \n",
    "                                       random_state=RANDOM, \n",
    "                                       n_jobs=-1,\n",
    "                                       device='cpu')\n",
    "            lgbm_cpu_model.fit(features, targets['eth_btc'])\n",
    "            score_rmse = mean_squared_error(targets_valid['eth_btc'], \n",
    "                                            lgbm_cpu_model.predict(features_valid)) ** 0.5\n",
    "            if score_rmse < best_score_rmse:\n",
    "                best_lgbm_cpu_model = lgbm_cpu_model\n",
    "                best_score_rmse = score_rmse\n",
    "            print('******************')\n",
    "            print(f'n_estimators {lgbm_cpu_model.n_estimators}, min_child_samples {lgbm_cpu_model.min_child_samples}, max_depth {lgbm_cpu_model.max_depth}')\n",
    "            print(f'score_rmse {score_rmse}')\n",
    "        \n",
    "print(f'\\nЛучшая модель LGBMRegressor: {best_lgbm_cpu_model}\\n'\n",
    "      f'Значение RMSE полученное на валидации для лучшего LGBMRegressor: {best_score_rmse}')"
   ]
  },
  {
   "cell_type": "raw",
   "id": "d7312946",
   "metadata": {
    "pycharm": {
     "name": "#%% raw\n"
    }
   },
   "source": [
    "Значение порядка score_rms 10."
   ]
  },
  {
   "cell_type": "markdown",
   "id": "2c62ad49",
   "metadata": {
    "pycharm": {
     "name": "#%% md\n"
    }
   },
   "source": [
    "### bnb_eth"
   ]
  },
  {
   "cell_type": "raw",
   "id": "c5058d82",
   "metadata": {
    "pycharm": {
     "name": "#%% raw\n"
    }
   },
   "source": [
    "%%time\n",
    "\n",
    "best_lgbm_cpu_model = None\n",
    "best_score_rmse = 300  # 300 заведомо выше оценки\n",
    "\n",
    "for iterations in range(600, 1001, 100):\n",
    "    for min_child_samples in range(10, 201, 10):\n",
    "        for depth in tqdm(range(6, 31, 5)):\n",
    "            lgbm_cpu_model = LGBMRegressor(n_estimators=iterations, \n",
    "                                       max_depth=depth, \n",
    "                                       #num_leaves=2**depth, \n",
    "                                       min_child_samples=min_child_samples, \n",
    "                                       random_state=RANDOM, \n",
    "                                       n_jobs=-1,\n",
    "                                       device='cpu')\n",
    "            lgbm_cpu_model.fit(features, targets['bnb_eth'])\n",
    "            score_rmse = mean_squared_error(targets_valid['bnb_eth'], \n",
    "                                            lgbm_cpu_model.predict(features_valid)) ** 0.5\n",
    "            if score_rmse < best_score_rmse:\n",
    "                best_lgbm_cpu_model = lgbm_cpu_model\n",
    "                best_score_rmse = score_rmse\n",
    "            print('******************')\n",
    "            print(f'n_estimators {lgbm_cpu_model.n_estimators}, min_child_samples {lgbm_cpu_model.min_child_samples}, max_depth {lgbm_cpu_model.max_depth}')\n",
    "            print(f'score_rmse {score_rmse}')\n",
    "        \n",
    "print(f'\\nЛучшая модель LGBMRegressor: {best_lgbm_cpu_model}\\n'\n",
    "      f'Значение RMSE полученное на валидации для лучшего LGBMRegressor: {best_score_rmse}')"
   ]
  },
  {
   "cell_type": "raw",
   "id": "bba63b5f",
   "metadata": {
    "pycharm": {
     "name": "#%% raw\n"
    }
   },
   "source": [
    "Значение порядка 31.7"
   ]
  },
  {
   "cell_type": "markdown",
   "id": "c3c08660",
   "metadata": {
    "pycharm": {
     "name": "#%% md\n"
    }
   },
   "source": [
    "## LogisticRegression"
   ]
  },
  {
   "cell_type": "code",
   "execution_count": 39,
   "id": "357882a2",
   "metadata": {
    "scrolled": false,
    "pycharm": {
     "name": "#%%\n"
    }
   },
   "outputs": [
    {
     "name": "stderr",
     "output_type": "stream",
     "text": [
      "  0%|                                                                                            | 0/1 [00:00<?, ?it/s]C:\\Users\\denis\\anaconda3\\envs\\python_3_10_4_torch\\lib\\site-packages\\sklearn\\linear_model\\_logistic.py:444: ConvergenceWarning: lbfgs failed to converge (status=1):\n",
      "STOP: TOTAL NO. of ITERATIONS REACHED LIMIT.\n",
      "\n",
      "Increase the number of iterations (max_iter) or scale the data as shown in:\n",
      "    https://scikit-learn.org/stable/modules/preprocessing.html\n",
      "Please also refer to the documentation for alternative solver options:\n",
      "    https://scikit-learn.org/stable/modules/linear_model.html#logistic-regression\n",
      "  n_iter_i = _check_optimize_result(\n"
     ]
    },
    {
     "name": "stdout",
     "output_type": "stream",
     "text": [
      "---***---***---***---***---***---***---***---***---***---***---***---***---\n",
      "Predict start\n",
      "C: 1.0\n",
      "Traid counts: 1237 1: 175 2: 104 3: 132 4: 97 5: 560 6: 169\n",
      "              precision    recall  f1-score   support\n",
      "\n",
      "           0       1.00      1.00      1.00    348690\n",
      "           1       0.17      0.10      0.13       278\n",
      "           2       0.18      0.07      0.10       270\n",
      "           3       0.05      0.07      0.05        90\n",
      "           4       0.05      0.05      0.05        91\n",
      "           5       0.06      0.12      0.08       286\n",
      "           6       0.18      0.11      0.14       285\n",
      "\n",
      "    accuracy                           0.99    349990\n",
      "   macro avg       0.24      0.22      0.22    349990\n",
      "weighted avg       0.99      0.99      0.99    349990\n",
      "\n",
      "-------------\n",
      "SLIP_N = 1\n",
      "Без торгов за счёт изменения курса с 300 usdt: 284.01171897876463\n",
      "Результат торгов с 300 usdt: 316.33394486879587\n",
      "Прибыль от 300 usdt за 100_000 тиков: 4.666974733219768\n",
      " \n"
     ]
    },
    {
     "data": {
      "image/png": "[encoded data removed]",
      "text/plain": [
       "<Figure size 640x480 with 1 Axes>"
      ]
     },
     "metadata": {},
     "output_type": "display_data"
    },
    {
     "name": "stdout",
     "output_type": "stream",
     "text": [
      "-------------\n",
      "SLIP_N = 2\n",
      "Без торгов за счёт изменения курса с 300 usdt: 284.01171897876463\n",
      "Результат торгов с 300 usdt: 306.22137622017385\n",
      "Прибыль от 300 usdt за 100_000 тиков: 1.7775868511025608\n",
      " \n"
     ]
    },
    {
     "data": {
      "image/png": "[encoded data removed]",
      "text/plain": [
       "<Figure size 640x480 with 1 Axes>"
      ]
     },
     "metadata": {},
     "output_type": "display_data"
    },
    {
     "name": "stdout",
     "output_type": "stream",
     "text": [
      "-------------\n",
      "SLIP_N = 3\n",
      "Без торгов за счёт изменения курса с 300 usdt: 284.01171897876463\n",
      "Результат торгов с 300 usdt: 302.1201699685495\n",
      "Прибыль от 300 usdt за 100_000 тиков: 0.6057801561614549\n",
      " \n"
     ]
    },
    {
     "data": {
      "image/png": "[encoded data removed]",
      "text/plain": [
       "<Figure size 640x480 with 1 Axes>"
      ]
     },
     "metadata": {},
     "output_type": "display_data"
    },
    {
     "name": "stdout",
     "output_type": "stream",
     "text": [
      "-------------\n",
      "SLIP_N = 4\n",
      "Без торгов за счёт изменения курса с 300 usdt: 284.01171897876463\n",
      "Результат торгов с 300 usdt: 301.15131573425657\n",
      "Прибыль от 300 usdt за 100_000 тиков: 0.32895675140906044\n",
      " \n"
     ]
    },
    {
     "data": {
      "image/png": "[encoded data removed]",
      "text/plain": [
       "<Figure size 640x480 with 1 Axes>"
      ]
     },
     "metadata": {},
     "output_type": "display_data"
    },
    {
     "data": {
      "image/png": "[encoded data removed]",
      "text/plain": [
       "<Figure size 640x480 with 1 Axes>"
      ]
     },
     "metadata": {},
     "output_type": "display_data"
    },
    {
     "data": {
      "image/png": "[encoded data removed]",
      "text/plain": [
       "<Figure size 640x480 with 1 Axes>"
      ]
     },
     "metadata": {},
     "output_type": "display_data"
    },
    {
     "data": {
      "image/png": "[encoded data removed]",
      "text/plain": [
       "<Figure size 640x480 with 1 Axes>"
      ]
     },
     "metadata": {},
     "output_type": "display_data"
    },
    {
     "name": "stderr",
     "output_type": "stream",
     "text": [
      "100%|████████████████████████████████████████████████████████████████████████████████████| 1/1 [00:52<00:00, 52.97s/it]"
     ]
    },
    {
     "name": "stdout",
     "output_type": "stream",
     "text": [
      "CPU times: total: 2min 41s\n",
      "Wall time: 53 s\n"
     ]
    },
    {
     "name": "stderr",
     "output_type": "stream",
     "text": [
      "\n"
     ]
    }
   ],
   "source": [
    "%%time\n",
    "\n",
    "C_list = list()\n",
    "traid_counts_list = list()\n",
    "profit_300_1_list = list()\n",
    "profit_300_2_list = list()\n",
    "profit_300_3_list = list()\n",
    "profit_300_4_list = list()\n",
    "\n",
    "ticker_price_valid_values = ticker_price_valid.values\n",
    "ticker_price_valid_fig = ticker_price_valid\n",
    "\n",
    "for C in tqdm(range(10,11)):\n",
    "    model_LR = LogisticRegression(C=C/10, solver='lbfgs', multi_class='auto', random_state=RANDOM)\n",
    "    model_LR.fit(features, labels)\n",
    "    \n",
    "    print('---***---***---***---***---***---***---***---***---***---***---***---***---')\n",
    "    print('Predict start')\n",
    "    predict = model_LR.predict(features_valid)\n",
    "\n",
    "    print(f'C: {C/10}')\n",
    "    C_list.append(C/10)\n",
    "    \n",
    "    traid_counts = (predict!=0).sum()\n",
    "    traid_counts_list.append(traid_counts)\n",
    "    print(f'Traid counts: {traid_counts}',\n",
    "          f'1: {(predict==1).sum()}',\n",
    "          f'2: {(predict==2).sum()}',\n",
    "          f'3: {(predict==3).sum()}',\n",
    "          f'4: {(predict==4).sum()}',\n",
    "          f'5: {(predict==5).sum()}',\n",
    "          f'6: {(predict==6).sum()}'\n",
    "         )\n",
    "    print(classification_report(labels_valid, predict))\n",
    "\n",
    "    for slip_n in range(1,5):\n",
    "        print(\"-------------\")\n",
    "        print(f'SLIP_N = {slip_n}')\n",
    "        trade_result, volume_not_trade = trade(ticker_price_valid.values, predict, FEE, slip_n)\n",
    "        trade_result = np.array(trade_result)\n",
    "        print(f'Без торгов за счёт изменения курса с 300 usdt: {volume_not_trade}')\n",
    "        print(f'Результат торгов с 300 usdt: {trade_result[-1]}')\n",
    "        profit_300 = (trade_result[-1]-300)*100_000/predict.shape[0]\n",
    "        if slip_n == 1:\n",
    "            profit_300_1_list.append(profit_300)\n",
    "        elif slip_n == 2:\n",
    "            profit_300_2_list.append(profit_300)\n",
    "        elif slip_n == 3:\n",
    "            profit_300_3_list.append(profit_300)\n",
    "        elif slip_n == 4:\n",
    "            profit_300_4_list.append(profit_300)\n",
    "        print(f'Прибыль от 300 usdt за 100_000 тиков: {profit_300}')\n",
    "        print(' ')\n",
    "        # отрисовка изменение объёма кошелька\n",
    "        sns.lineplot(x=range(trade_result.shape[0]),y=trade_result)\n",
    "        plt.show()\n",
    "    \n",
    "    # отрисовка сделок на тренде\n",
    "    x_len = predict.shape[0]\n",
    "      \n",
    "    ticker_price_valid_fig[PAIRS_NAME[0]+'_min'] = ticker_price_valid_values[:,0]*(predict == 1)\n",
    "    ticker_price_valid_fig[PAIRS_NAME[0]+'_max'] = ticker_price_valid_values[:,0]*(predict == 2)\n",
    "    ticker_price_valid_fig[PAIRS_NAME[1]+'_min'] = ticker_price_valid_values[:,1]*(predict == 3)\n",
    "    ticker_price_valid_fig[PAIRS_NAME[1]+'_max'] = ticker_price_valid_values[:,1]*(predict == 4)\n",
    "    ticker_price_valid_fig[PAIRS_NAME[2]+'_min'] = ticker_price_valid_values[:,2]*(predict == 5)\n",
    "    ticker_price_valid_fig[PAIRS_NAME[2]+'_max'] = ticker_price_valid_values[:,2]*(predict == 6)\n",
    "    ticker_price_valid_fig = ticker_price_valid_fig.replace(0, np.nan)\n",
    "        \n",
    "    for i, pair in enumerate(['bnb_btc','eth_btc','bnb_eth']):\n",
    "            \n",
    "        fig, ax = plt.subplots()\n",
    "        ax.plot(range(x_len),ticker_price_valid_values[:x_len,i])\n",
    "        #ax.plot(range(x_len),trade_result['bnb_btc_max'][:x_len])\n",
    "        sns.scatterplot(data=ticker_price_valid_fig[:x_len], x=range(x_len), y=pair+'_max', ax=ax, color='green')\n",
    "        sns.scatterplot(data=ticker_price_valid_fig[:x_len], x=range(x_len), y=pair+'_min', ax=ax, color='red')\n",
    "        #plt.ylim([ticker_price_valid_fig[pair+'_min'][:x_len].min(), ticker_price_valid_fig[pair+'_max'][:x_len].max()])\n",
    "        plt.show()\n",
    "\n",
    "trade_df = pd.DataFrame(data=[C_list, \n",
    "                              traid_counts_list, \n",
    "                              profit_300_1_list, \n",
    "                              profit_300_2_list, \n",
    "                              profit_300_3_list, \n",
    "                              profit_300_4_list]).T.rename(columns={0:'C',\n",
    "                                                                     1:'traid_counts',\n",
    "                                                                     2:'profit_300_1',\n",
    "                                                                     3:'profit_300_2',\n",
    "                                                                     4:'profit_300_3',\n",
    "                                                                     5:'profit_300_4'})"
   ]
  },
  {
   "cell_type": "code",
   "execution_count": 40,
   "id": "71ea92b5",
   "metadata": {
    "pycharm": {
     "name": "#%%\n"
    }
   },
   "outputs": [
    {
     "data": {
      "text/html": [
       "<div>\n",
       "<style scoped>\n",
       "    .dataframe tbody tr th:only-of-type {\n",
       "        vertical-align: middle;\n",
       "    }\n",
       "\n",
       "    .dataframe tbody tr th {\n",
       "        vertical-align: top;\n",
       "    }\n",
       "\n",
       "    .dataframe thead th {\n",
       "        text-align: right;\n",
       "    }\n",
       "</style>\n",
       "<table border=\"1\" class=\"dataframe\">\n",
       "  <thead>\n",
       "    <tr style=\"text-align: right;\">\n",
       "      <th></th>\n",
       "      <th>C</th>\n",
       "      <th>traid_counts</th>\n",
       "      <th>profit_300_1</th>\n",
       "      <th>profit_300_2</th>\n",
       "      <th>profit_300_3</th>\n",
       "      <th>profit_300_4</th>\n",
       "    </tr>\n",
       "  </thead>\n",
       "  <tbody>\n",
       "    <tr>\n",
       "      <th>0</th>\n",
       "      <td>1.0</td>\n",
       "      <td>1237.0</td>\n",
       "      <td>4.666975</td>\n",
       "      <td>1.777587</td>\n",
       "      <td>0.60578</td>\n",
       "      <td>0.328957</td>\n",
       "    </tr>\n",
       "  </tbody>\n",
       "</table>\n",
       "</div>"
      ],
      "text/plain": [
       "     C  traid_counts  profit_300_1  profit_300_2  profit_300_3  profit_300_4\n",
       "0  1.0        1237.0      4.666975      1.777587       0.60578      0.328957"
      ]
     },
     "execution_count": 40,
     "metadata": {},
     "output_type": "execute_result"
    }
   ],
   "source": [
    "trade_df"
   ]
  },
  {
   "cell_type": "code",
   "execution_count": 41,
   "id": "e389f2b1",
   "metadata": {
    "pycharm": {
     "name": "#%%\n"
    }
   },
   "outputs": [
    {
     "data": {
      "text/html": [
       "<div>\n",
       "<style scoped>\n",
       "    .dataframe tbody tr th:only-of-type {\n",
       "        vertical-align: middle;\n",
       "    }\n",
       "\n",
       "    .dataframe tbody tr th {\n",
       "        vertical-align: top;\n",
       "    }\n",
       "\n",
       "    .dataframe thead th {\n",
       "        text-align: right;\n",
       "    }\n",
       "</style>\n",
       "<table border=\"1\" class=\"dataframe\">\n",
       "  <thead>\n",
       "    <tr style=\"text-align: right;\">\n",
       "      <th></th>\n",
       "      <th>C</th>\n",
       "      <th>traid_counts</th>\n",
       "      <th>profit_300_1</th>\n",
       "      <th>profit_300_2</th>\n",
       "      <th>profit_300_3</th>\n",
       "      <th>profit_300_4</th>\n",
       "    </tr>\n",
       "  </thead>\n",
       "  <tbody>\n",
       "    <tr>\n",
       "      <th>0</th>\n",
       "      <td>1.0</td>\n",
       "      <td>1237.0</td>\n",
       "      <td>4.666975</td>\n",
       "      <td>1.777587</td>\n",
       "      <td>0.60578</td>\n",
       "      <td>0.328957</td>\n",
       "    </tr>\n",
       "  </tbody>\n",
       "</table>\n",
       "</div>"
      ],
      "text/plain": [
       "     C  traid_counts  profit_300_1  profit_300_2  profit_300_3  profit_300_4\n",
       "0  1.0        1237.0      4.666975      1.777587       0.60578      0.328957"
      ]
     },
     "execution_count": 41,
     "metadata": {},
     "output_type": "execute_result"
    }
   ],
   "source": [
    "trade_df[trade_df['profit_300_1'] == trade_df['profit_300_1'].max()]"
   ]
  },
  {
   "cell_type": "raw",
   "id": "d11924bd",
   "metadata": {
    "pycharm": {
     "name": "#%% raw\n"
    }
   },
   "source": [
    "*********************************\n",
    "len = 200_000 50/50\n",
    "DEPTH = отсутствует # глубина стакана\n",
    "FEATURES_LENGTH = 5 # длинна феатурес\n",
    "Дисбаланс 5\n",
    "solver='lbfgs'\n",
    "1.0\t1.0\t2890.0\t30.538028\t9.029184\t3.948239\t2.52645\n",
    "\n",
    "*********************************\n",
    "len = 200_000 50/50\n",
    "DEPTH = отсутствует # глубина стакана\n",
    "FEATURES_LENGTH = 50 # длинна феатурес\n",
    "Дисбаланс 5\n",
    "solver='lbfgs'\n",
    "1.0\t6311.0\t26.827111\t8.114075\t2.615329\t1.168952\n",
    "\n",
    "*********************************\n",
    "len = 200_000 50/50\n",
    "DEPTH = отсутствует # глубина стакана\n",
    "FEATURES_LENGTH = 20 # длинна феатурес\n",
    "Дисбаланс 5\n",
    "solver='lbfgs'\n",
    "1.0\t4295.0\t29.448676\t9.416048\t3.346739\t1.610322\n",
    "\n",
    "*********************************\n",
    "len = 200_000 50/50\n",
    "DEPTH = отсутствует # глубина стакана\n",
    "FEATURES_LENGTH = 10 # длинна феатурес\n",
    "Дисбаланс 5\n",
    "solver='lbfgs'\n",
    "1.0\t3378.0\t30.668337\t9.53739\t3.415917\t2.213362\n",
    "\n",
    "*********************************\n",
    "len = 200_000 50/50\n",
    "DEPTH = 1 # глубина стакана\n",
    "FEATURES_LENGTH = 10 # длинна феатурес\n",
    "Дисбаланс 5\n",
    "solver='lbfgs'\n",
    "1.0\t3690.0\t29.977242\t9.003515\t3.267972\t2.185915\n",
    "\n",
    "*********************************\n",
    "len = 200_000 50/50\n",
    "DEPTH = 2 # глубина стакана\n",
    "FEATURES_LENGTH = 10 # длинна феатурес\n",
    "Дисбаланс 5\n",
    "solver='lbfgs'\n",
    "1.0\t3749.0\t29.70545\t9.202252\t3.415883\t2.21334\n",
    "\n",
    "*********************************\n",
    "len = 200_000 50/50\n",
    "DEPTH = 3 # глубина стакана\n",
    "FEATURES_LENGTH = 10 # длинна феатурес\n",
    "Дисбаланс 5\n",
    "solver='lbfgs'\n",
    "1.0\t3613.0\t27.935637\t8.798317\t3.206191\t2.185915\n",
    "\n",
    "*********************************\n",
    "len = 200_000 50/50\n",
    "DEPTH = 4 # глубина стакана\n",
    "FEATURES_LENGTH = 10 # длинна феатурес\n",
    "Дисбаланс 5\n",
    "solver='lbfgs'\n",
    "1.0\t3629.0\t27.384486\t8.705425\t3.014393\t2.034769\n",
    "\n",
    "*********************************\n",
    "len = 200_000 50/50\n",
    "DEPTH = 5 # глубина стакана\n",
    "FEATURES_LENGTH = 10 # длинна феатурес\n",
    "Дисбаланс 5\n",
    "solver='lbfgs'\n",
    "1.0\t3608.0\t28.291427\t9.520638\t3.911044\t2.560453\n",
    "\n",
    "*********************************\n",
    "len = 200_000 50/50\n",
    "DEPTH = 6 # глубина стакана\n",
    "FEATURES_LENGTH = 10 # длинна феатурес\n",
    "Дисбаланс 5\n",
    "solver='lbfgs'\n",
    "1.0\t3644.0\t27.678535\t9.21321\t3.358007\t2.194642\n",
    "\n",
    "*********************************\n",
    "len = 200_000 50/50\n",
    "DEPTH = 7 # глубина стакана\n",
    "FEATURES_LENGTH = 10 # длинна феатурес\n",
    "Дисбаланс 5\n",
    "solver='lbfgs'\n",
    "1.0\t3600.0\t26.928969\t9.12368\t3.195894\t2.167218\n",
    "\n",
    "*********************************\n",
    "len = 200_000 50/50\n",
    "DEPTH = 8 # глубина стакана\n",
    "FEATURES_LENGTH = 10 # длинна феатурес\n",
    "Дисбаланс 5\n",
    "solver='lbfgs'\n",
    "1.0\t3616.0\t26.758845\t9.295703\t3.358007\t2.194642\n",
    "\n",
    "*********************************\n",
    "len = 200_000 50/50\n",
    "DEPTH = 9 # глубина стакана\n",
    "FEATURES_LENGTH = 10 # длинна феатурес\n",
    "Дисбаланс 5\n",
    "solver='lbfgs'\n",
    "1.0\t3652.0\t27.01029\t9.203677\t3.358007\t2.194642\n",
    "\n",
    "*********************************\n",
    "len = 200_000 50/50\n",
    "DEPTH = 10 # глубина стакана\n",
    "FEATURES_LENGTH = 10 # длинна феатурес\n",
    "Дисбаланс 5\n",
    "solver='lbfgs'\n",
    "1.0\t3717.0\t27.803203\t9.494017\t4.384186\t2.608551\n",
    "\n",
    "*********************************\n",
    "len = 200_000 50/50\n",
    "DEPTH = 11 # глубина стакана\n",
    "FEATURES_LENGTH = 10 # длинна феатурес\n",
    "Дисбаланс 5\n",
    "solver='lbfgs'\n",
    "1.0\t3719.0\t26.186395\t8.904068\t4.187532\t2.559081"
   ]
  },
  {
   "cell_type": "markdown",
   "id": "e6bc7f4f",
   "metadata": {
    "pycharm": {
     "name": "#%% md\n"
    }
   },
   "source": [
    "## LGBMClassifier"
   ]
  },
  {
   "cell_type": "raw",
   "id": "18a29e9e",
   "metadata": {
    "pycharm": {
     "name": "#%% raw\n"
    }
   },
   "source": [
    "%%time\n",
    "\n",
    "iterations_list = list()\n",
    "min_child_samples_list = list()\n",
    "depth_list = list()\n",
    "traid_counts_list = list()\n",
    "profit_300_1_list = list()\n",
    "profit_300_2_list = list()\n",
    "profit_300_3_list = list()\n",
    "profit_300_4_list = list()\n",
    "\n",
    "\n",
    "for iterations in range(2, 10, 3):\n",
    "    for min_child_samples in range(2, 31, 3):\n",
    "        for depth in tqdm(range(2, 31, 3)):\n",
    "            lgbm_classifier = LGBMClassifier(n_estimators=iterations, \n",
    "                                       max_depth=depth, \n",
    "                                       #num_leaves=2**depth, \n",
    "                                       min_child_samples=min_child_samples, \n",
    "                                       random_state=RANDOM, \n",
    "                                       n_jobs=-1,\n",
    "                                       device='cpu')\n",
    "            lgbm_classifier.fit(features, labels)\n",
    "    \n",
    "            print('---***---***---***---***---***---***---***---***---***---***---***---***---')\n",
    "            print('Predict start')\n",
    "            predict = lgbm_classifier.predict(features_valid)\n",
    "\n",
    "            print(f'iterations: {iterations}, min_child_samples: {min_child_samples}, depth: {depth}')\n",
    "            iterations_list.append(iterations)\n",
    "            min_child_samples_list.append(min_child_samples)\n",
    "            depth_list.append(depth)\n",
    "            traid_counts = (predict!=0).sum()\n",
    "            traid_counts_list.append(traid_counts)\n",
    "            print(f'Traid counts: {traid_counts}',\n",
    "                  f'1: {(predict==1).sum()}',\n",
    "                  f'2: {(predict==2).sum()}',\n",
    "                  f'3: {(predict==3).sum()}',\n",
    "                  f'4: {(predict==4).sum()}',\n",
    "                  f'5: {(predict==5).sum()}',\n",
    "                  f'6: {(predict==6).sum()}'\n",
    "                 )\n",
    "            print(classification_report(labels_valid, predict))\n",
    "\n",
    "            for slip_n in range(1,5):\n",
    "                print(\"-------------\")\n",
    "                print(f'SLIP_N = {slip_n}')\n",
    "                trade_result, volume_not_trade = trade(ticker_price_valid.values, predict, FEE, slip_n)\n",
    "                trade_result = np.array(trade_result)\n",
    "                print(f'Без торгов за счёт изменения курса с 300 usdt: {volume_not_trade}')\n",
    "                print(f'Результат торгов с 300 usdt: {trade_result[-1]}')\n",
    "                profit_300 = (trade_result[-1]-300)*100_000/predict.shape[0]\n",
    "                if slip_n == 1:\n",
    "                    profit_300_1_list.append(profit_300)\n",
    "                elif slip_n == 2:\n",
    "                    profit_300_2_list.append(profit_300)\n",
    "                elif slip_n == 3:\n",
    "                    profit_300_3_list.append(profit_300)\n",
    "                elif slip_n == 4:\n",
    "                    profit_300_4_list.append(profit_300)\n",
    "                print(f'Прибыль от 300 usdt за 100_000 тиков: {profit_300}')\n",
    "                print(' ')\n",
    "                #sns.lineplot(x=range(trade_result.shape[0]),y=trade_result)\n",
    "                #plt.show()\n",
    "\n",
    "trade_df = pd.DataFrame(data=[iterations_list, \n",
    "                              min_child_samples_list, \n",
    "                              depth_list, \n",
    "                              traid_counts_list, \n",
    "                              profit_300_1_list, \n",
    "                              profit_300_2_list, \n",
    "                              profit_300_3_list, \n",
    "                              profit_300_4_list]).T.rename(columns={0:'iterations',\n",
    "                                                                     1:'min_child_samples',\n",
    "                                                                     2:'depth',\n",
    "                                                                     3:'traid_counts',\n",
    "                                                                     4:'profit_300_1',\n",
    "                                                                     5:'profit_300_2',\n",
    "                                                                     6:'profit_300_3',\n",
    "                                                                     7:'profit_300_4'})"
   ]
  },
  {
   "cell_type": "code",
   "execution_count": 42,
   "id": "0f7d8faa",
   "metadata": {
    "pycharm": {
     "name": "#%%\n"
    }
   },
   "outputs": [
    {
     "data": {
      "text/html": [
       "<div>\n",
       "<style scoped>\n",
       "    .dataframe tbody tr th:only-of-type {\n",
       "        vertical-align: middle;\n",
       "    }\n",
       "\n",
       "    .dataframe tbody tr th {\n",
       "        vertical-align: top;\n",
       "    }\n",
       "\n",
       "    .dataframe thead th {\n",
       "        text-align: right;\n",
       "    }\n",
       "</style>\n",
       "<table border=\"1\" class=\"dataframe\">\n",
       "  <thead>\n",
       "    <tr style=\"text-align: right;\">\n",
       "      <th></th>\n",
       "      <th>C</th>\n",
       "      <th>traid_counts</th>\n",
       "      <th>profit_300_1</th>\n",
       "      <th>profit_300_2</th>\n",
       "      <th>profit_300_3</th>\n",
       "      <th>profit_300_4</th>\n",
       "    </tr>\n",
       "  </thead>\n",
       "  <tbody>\n",
       "    <tr>\n",
       "      <th>0</th>\n",
       "      <td>1.0</td>\n",
       "      <td>1237.0</td>\n",
       "      <td>4.666975</td>\n",
       "      <td>1.777587</td>\n",
       "      <td>0.60578</td>\n",
       "      <td>0.328957</td>\n",
       "    </tr>\n",
       "  </tbody>\n",
       "</table>\n",
       "</div>"
      ],
      "text/plain": [
       "     C  traid_counts  profit_300_1  profit_300_2  profit_300_3  profit_300_4\n",
       "0  1.0        1237.0      4.666975      1.777587       0.60578      0.328957"
      ]
     },
     "execution_count": 42,
     "metadata": {},
     "output_type": "execute_result"
    }
   ],
   "source": [
    "trade_df[trade_df['profit_300_1'] == trade_df['profit_300_1'].max()]"
   ]
  },
  {
   "cell_type": "raw",
   "id": "d6102482",
   "metadata": {
    "pycharm": {
     "name": "#%% raw\n"
    }
   },
   "source": [
    "*********************************\n",
    "DEPTH = 10 # глубина стакана\n",
    "FEATURES_LENGTH = 10 # длинна феатурес\n",
    "Дисбаланс 1\n",
    "\n",
    "iterations: 800, min_child_samples: 27, depth: 10\n",
    "2.43 1.78 1.18\n",
    "\n",
    "iterations: 800, min_child_samples: 27, depth: 8\n",
    "1.99\n",
    "\n",
    "iterations: 800, min_child_samples: 27, depth: 9\n",
    "1.95\n",
    "\n",
    "iterations: 800, min_child_samples: 27, depth: 10\n",
    "2.43\n",
    "\n",
    "iterations: 800, min_child_samples: 28, depth: 8\n",
    "2.78\n",
    "\n",
    "iterations: 800, min_child_samples: 28, depth: 10\n",
    "2.70\n",
    "\n",
    "iterations: 2, min_child_samples: 28, depth: 8\n",
    "7.14\n",
    "\n",
    "*********************************\n",
    "DEPTH = 10 # глубина стакана\n",
    "FEATURES_LENGTH = 10 # длинна феатурес\n",
    "Дисбаланс 0\n",
    "\n",
    "iterations: 3, min_child_samples: 29, depth: 6\n",
    "4.27\n",
    "\n",
    "iterations: 1, min_child_samples: 20, depth: 5\n",
    "iterations: 1, min_child_samples: 21, depth: 5\n",
    "iterations: 1, min_child_samples: 22, depth: 5\n",
    "5.39\n",
    "\n",
    "*********************************\n",
    "DEPTH = 10 # глубина стакана\n",
    "FEATURES_LENGTH = 10 # длинна феатурес\n",
    "Дисбаланс 2\n",
    "\n",
    "iterations: 1, min_child_samples: 19, depth: 4\n",
    "8.59"
   ]
  },
  {
   "cell_type": "markdown",
   "id": "1f2d3113",
   "metadata": {
    "pycharm": {
     "name": "#%% md\n"
    }
   },
   "source": [
    "## Проверка модели при продаже на тестовых данных"
   ]
  },
  {
   "cell_type": "markdown",
   "id": "957aba78",
   "metadata": {
    "pycharm": {
     "name": "#%% md\n"
    }
   },
   "source": [
    "### Предсказание на test"
   ]
  },
  {
   "cell_type": "code",
   "execution_count": 43,
   "id": "5350569e",
   "metadata": {
    "pycharm": {
     "name": "#%%\n"
    }
   },
   "outputs": [
    {
     "ename": "NameError",
     "evalue": "name 'ticker_price_test' is not defined",
     "output_type": "error",
     "traceback": [
      "\u001B[1;31m---------------------------------------------------------------------------\u001B[0m",
      "\u001B[1;31mNameError\u001B[0m                                 Traceback (most recent call last)",
      "Input \u001B[1;32mIn [43]\u001B[0m, in \u001B[0;36m<cell line: 1>\u001B[1;34m()\u001B[0m\n\u001B[1;32m----> 1\u001B[0m \u001B[43mticker_price_test\u001B[49m\u001B[38;5;241m.\u001B[39mshape, ticker_test\u001B[38;5;241m.\u001B[39mshape, labels_test\u001B[38;5;241m.\u001B[39mshape\n",
      "\u001B[1;31mNameError\u001B[0m: name 'ticker_price_test' is not defined"
     ]
    }
   ],
   "source": [
    "ticker_price_test.shape, ticker_test.shape, labels_test.shape"
   ]
  },
  {
   "cell_type": "raw",
   "id": "8ac4e55f",
   "metadata": {
    "pycharm": {
     "name": "#%% raw\n"
    }
   },
   "source": [
    "# подмена тестовых данных обучающими\n",
    "ticker_price_test = ticker_price[20000:40000]\n",
    "ticker_test = ticker[20000:40000]\n",
    "labels_test = labels[20000:40000]"
   ]
  },
  {
   "cell_type": "code",
   "execution_count": null,
   "id": "04dc715b",
   "metadata": {
    "pycharm": {
     "name": "#%%\n"
    }
   },
   "outputs": [],
   "source": [
    "X_scaled_test = list()\n",
    "X_delta_maxmin_test = list()\n",
    "\n",
    "#scaler = StandardScaler()\n",
    "scaler_X_trend = MinMaxScaler()\n",
    "\n",
    "for i in tqdm(range(FEATURES_LENGTH, ticker_price_test.shape[0])):\n",
    "    \n",
    "    X_trend_test = ticker_price_test.iloc[i-FEATURES_LENGTH:i] # .iloc невключая i\n",
    "    X_delta_test = X_trend_test.max()-X_trend_test.min()\n",
    "    X_delta_maxmin_test.append(X_delta_test)\n",
    "    X_scaled_test.append(scaler_X_trend.fit_transform(X_trend_test).T)\n",
    "\n",
    "X_scaled_test = np.array(X_scaled_test)\n",
    "X_delta_maxmin_test = np.array(X_delta_maxmin_test)"
   ]
  },
  {
   "cell_type": "raw",
   "id": "9332a2b4",
   "metadata": {
    "pycharm": {
     "name": "#%% raw\n"
    }
   },
   "source": [
    "X_delta_maxmin_test = scaler_X_delta_maxmin.fit_transform(X_delta_maxmin_test)"
   ]
  },
  {
   "cell_type": "code",
   "execution_count": null,
   "id": "e6db3aee",
   "metadata": {
    "pycharm": {
     "name": "#%%\n"
    }
   },
   "outputs": [],
   "source": [
    "y_trend_test = labels_test['label'].iloc[FEATURES_LENGTH-1:-1].values\n",
    "trend_test = ticker_price_test.iloc[FEATURES_LENGTH-1:-1].values"
   ]
  },
  {
   "cell_type": "raw",
   "id": "ad90068f",
   "metadata": {
    "pycharm": {
     "name": "#%% raw\n"
    }
   },
   "source": [
    "X_scaled_test.shape, X_delta_maxmin_test.shape, y_trend_test.shape, trend_test.shape"
   ]
  },
  {
   "cell_type": "raw",
   "id": "92cf02eb",
   "metadata": {
    "pycharm": {
     "name": "#%% raw\n"
    }
   },
   "source": [
    "X_scaled_test_tensor = torch.tensor(X_scaled_test.astype('float32')).to('cuda')\n",
    "X_delta_maxmin_test_tensor = torch.tensor(X_delta_maxmin_test.astype('float32')).to('cuda')"
   ]
  },
  {
   "cell_type": "raw",
   "id": "3ad60441",
   "metadata": {
    "pycharm": {
     "name": "#%% raw\n"
    }
   },
   "source": [
    "predict_test = torch.argmax(net_conv.inference(X_scaled_test_tensor, X_delta_maxmin_test_tensor), dim=1).to('cpu').detach().numpy()"
   ]
  },
  {
   "cell_type": "code",
   "execution_count": null,
   "id": "15c95555",
   "metadata": {
    "pycharm": {
     "name": "#%%\n"
    }
   },
   "outputs": [],
   "source": [
    "X_scaled_test = X_scaled_test[:,:6,-IMAGE_LENGTH:]\n",
    "X_scaled_test_tensor = torch.tensor(X_scaled_test.astype('float32'))"
   ]
  },
  {
   "cell_type": "code",
   "execution_count": null,
   "id": "9163b092",
   "metadata": {
    "pycharm": {
     "name": "#%%\n"
    }
   },
   "outputs": [],
   "source": [
    "predict_test = torch.argmax(res_net.to('cpu').inference(X_scaled_test_tensor), dim=1).detach().numpy()"
   ]
  },
  {
   "cell_type": "markdown",
   "id": "5a9b3450",
   "metadata": {
    "pycharm": {
     "name": "#%% md\n"
    }
   },
   "source": [
    "### Предсказание на графике"
   ]
  },
  {
   "cell_type": "code",
   "execution_count": null,
   "id": "39adc2c5",
   "metadata": {
    "pycharm": {
     "name": "#%%\n"
    }
   },
   "outputs": [],
   "source": [
    "predict_test_fig = predict_test"
   ]
  },
  {
   "cell_type": "code",
   "execution_count": null,
   "id": "0559da56",
   "metadata": {
    "pycharm": {
     "name": "#%%\n"
    }
   },
   "outputs": [],
   "source": [
    "trade_result = ticker_test.iloc[FEATURES_LENGTH-1:-1]"
   ]
  },
  {
   "cell_type": "code",
   "execution_count": null,
   "id": "e23913a7",
   "metadata": {
    "pycharm": {
     "name": "#%%\n"
    }
   },
   "outputs": [],
   "source": [
    "trade_result[PAIRS_NAME[0]+'_min'] = trend_test[:,0]*(predict_test_fig == 1)\n",
    "trade_result[PAIRS_NAME[0]+'_max'] = trend_test[:,0]*(predict_test_fig == 2)\n",
    "trade_result[PAIRS_NAME[1]+'_min'] = trend_test[:,1]*(predict_test_fig == 3)\n",
    "trade_result[PAIRS_NAME[1]+'_max'] = trend_test[:,1]*(predict_test_fig == 4)\n",
    "trade_result[PAIRS_NAME[2]+'_min'] = trend_test[:,2]*(predict_test_fig == 5)\n",
    "trade_result[PAIRS_NAME[2]+'_max'] = trend_test[:,2]*(predict_test_fig == 6)"
   ]
  },
  {
   "cell_type": "code",
   "execution_count": null,
   "id": "8da71683",
   "metadata": {
    "pycharm": {
     "name": "#%%\n"
    }
   },
   "outputs": [],
   "source": [
    "trade_result = trade_result.replace(0, np.nan)"
   ]
  },
  {
   "cell_type": "code",
   "execution_count": null,
   "id": "3503e03d",
   "metadata": {
    "pycharm": {
     "name": "#%%\n"
    }
   },
   "outputs": [],
   "source": [
    "x_len = 2000\n",
    "pair = 'bnb_btc'\n",
    "\n",
    "fig, ax = plt.subplots()\n",
    "ax.plot(range(x_len),trend_test[:x_len,0])\n",
    "#ax.plot(range(x_len),trade_result['bnb_btc_max'][:x_len])\n",
    "sns.scatterplot(data=trade_result[:x_len], x=range(x_len), y=pair+'_max', ax=ax, color='green')\n",
    "sns.scatterplot(data=trade_result[:x_len], x=range(x_len), y=pair+'_min', ax=ax, color='red')\n",
    "plt.ylim([trade_result[pair+'_min'][:x_len].min(), trade_result[pair+'_max'][:x_len].max()])\n",
    "plt.show()"
   ]
  },
  {
   "cell_type": "code",
   "execution_count": null,
   "id": "d39a277d",
   "metadata": {
    "pycharm": {
     "name": "#%%\n"
    }
   },
   "outputs": [],
   "source": [
    "trade_result['bnb_eth_max'].sum() - trade_result['bnb_eth_min'].sum()"
   ]
  },
  {
   "cell_type": "markdown",
   "id": "ff6dd705",
   "metadata": {
    "pycharm": {
     "name": "#%% md\n"
    }
   },
   "source": [
    "## Всякое"
   ]
  },
  {
   "cell_type": "markdown",
   "id": "d85717c8",
   "metadata": {
    "pycharm": {
     "name": "#%% md\n"
    }
   },
   "source": [
    "### Прибыль на валидационной выборке по разметке"
   ]
  },
  {
   "cell_type": "code",
   "execution_count": null,
   "id": "dc2e1b80",
   "metadata": {
    "pycharm": {
     "name": "#%%\n"
    }
   },
   "outputs": [],
   "source": [
    "ticker_price"
   ]
  },
  {
   "cell_type": "code",
   "execution_count": null,
   "id": "7f96d718",
   "metadata": {
    "pycharm": {
     "name": "#%%\n"
    }
   },
   "outputs": [],
   "source": [
    "labels['label'].values"
   ]
  },
  {
   "cell_type": "code",
   "execution_count": null,
   "id": "f9581fb9",
   "metadata": {
    "pycharm": {
     "name": "#%%\n"
    }
   },
   "outputs": [],
   "source": [
    "trade_result, volume_not_trade = trade(ticker_price.values, labels['label'].values, FEE, 1)\n",
    "trade_result = np.array(trade_result)\n",
    "print(f'Без торгов за счёт изменения курса с 300 usdt: {volume_not_trade}')\n",
    "print(f'Результат торгов с 300 usdt: {trade_result[-1]}')\n",
    "print(f'Прибыль от 300 usdt за 100_000 тиков: {(trade_result[-1]-300)*100_000/labels.shape[0]}')\n",
    "sns.lineplot(x=range(trade_result.shape[0]),y=trade_result)\n",
    "plt.show()"
   ]
  },
  {
   "cell_type": "code",
   "execution_count": null,
   "id": "2b3bc9c8",
   "metadata": {
    "pycharm": {
     "name": "#%%\n"
    }
   },
   "outputs": [],
   "source": []
  }
 ],
 "metadata": {
  "kernelspec": {
   "display_name": "Python 3 (ipykernel)",
   "language": "python",
   "name": "python3"
  },
  "language_info": {
   "codemirror_mode": {
    "name": "ipython",
    "version": 3
   },
   "file_extension": ".py",
   "mimetype": "text/x-python",
   "name": "python",
   "nbconvert_exporter": "python",
   "pygments_lexer": "ipython3",
   "version": "3.10.4"
  },
  "toc": {
   "base_numbering": 1,
   "nav_menu": {},
   "number_sections": true,
   "sideBar": true,
   "skip_h1_title": true,
   "title_cell": "Table of Contents",
   "title_sidebar": "Contents",
   "toc_cell": false,
   "toc_position": {
    "height": "calc(100% - 180px)",
    "left": "10px",
    "top": "150px",
    "width": "349.091px"
   },
   "toc_section_display": true,
   "toc_window_display": true
  }
 },
 "nbformat": 4,
 "nbformat_minor": 5
}